{
 "cells": [
  {
   "cell_type": "code",
   "execution_count": 1,
   "metadata": {
    "deletable": false,
    "editable": false
   },
   "outputs": [],
   "source": [
    "# Initialize Otter\n",
    "import otter\n",
    "grader = otter.Notebook(\"proj2.ipynb\")"
   ]
  },
  {
   "cell_type": "markdown",
   "metadata": {},
   "source": [
    "# Project 2: Query Performance\n",
    "## Due Date: Wednesday, October 9, 5:00 PM\n",
    "\n",
    "## Assignment Details\n",
    "In this project, we will explore how the database system optimizes query execution and how users can further tune the performance of their queries.\n",
    "\n",
    "This project works with the [Lahman's Baseball Database](http://seanlahman.com/), an open source collection of baseball statistics from 1871 to 2020. It contains a variety of data, like batting statistics, team stats, managerial records, Hall of Fame records, and much more.\n",
    "\n",
    "You may find this project's queries to be simpler than in Project 1. However, although the queries may not be as complex, we still expect you to spend ample time thinking through the effects of each of the methods, as reasoning about the tradeoff between different approaches is the goal of this assignment.\n",
    "\n",
    "**Note:** If at any point during the project, the internal state of the database or its tables have been modified in an undesirable way (i.e. a modification not resulting from the instructions of a question), restart your kernel and clear output and simply re-run the notebook as normal. This will shutdown your current connection to the database, which will prevent the issue of multiple connections to the database at any given point, and when re-running the notebook you will create a fresh database based on the provided Postgres dump.\n",
    "\n",
    "## Logistics & Scoring Breakdown\n",
    "\n",
    "- Each coding question has **both public tests and hidden tests**. Roughly 50% of your coding grade will be made up of your score on the public tests released to you, while the remaining 50% will be made up of unreleased hidden tests.\n",
    "- Public tests for multiple choice questions are for sanity check only (e.g. you are answering in the correct format). Partial credit will be awarded.\n",
    "- Free-response questions will be manually graded. Please answer thoughtfully and concisely in complete sentences, drawing from knowledge in lectures and from your inspection of query plans.\n",
    "\n",
    "This is an **individual project**. However, you’re welcome to collaborate with any other student in the class as long as it’s within the academic honesty guidelines.\n",
    "\n",
    "**Please see this [spreadsheet](https://docs.google.com/spreadsheets/d/1UPcOGt4gQwHRm1i6pEDlpjNe-1iT-r_-t5IYRYW7YpQ/edit?usp=sharing) for the points breakdown.**"
   ]
  },
  {
   "cell_type": "code",
   "execution_count": 2,
   "metadata": {},
   "outputs": [],
   "source": [
    "# Run this cell to set up imports\n",
    "import numpy as np\n",
    "import pandas as pd"
   ]
  },
  {
   "cell_type": "markdown",
   "metadata": {},
   "source": [
    "## Getting Connected\n",
    "Similar to Project 1, we will be using the `JupySQL` library to connect this notebook to a PostgreSQL database server on your JupyterHub account. Run the following cell to initiate the connection."
   ]
  },
  {
   "cell_type": "code",
   "execution_count": 3,
   "metadata": {},
   "outputs": [],
   "source": [
    "%reload_ext sql\n",
    "%sql postgresql://jovyan@127.0.0.1:5432/postgres"
   ]
  },
  {
   "cell_type": "code",
   "execution_count": 4,
   "metadata": {},
   "outputs": [],
   "source": [
    "# See full display\n",
    "%config SqlMagic.displaylimit = 50"
   ]
  },
  {
   "cell_type": "markdown",
   "metadata": {},
   "source": [
    "## Setting up the Database\n",
    "The following cell will create the `baseball` database (if needed), unzip the Postgres dump of the Lahman's Baseball Database, populate the `baseball` database with the desired tables and data, and finally display all databases associated with the Postgres instance. After running the cell, you should see the `baseball` database in the generated list of databases outputted by `%sql \\l`.\n",
    "\n",
    "**Note:** If you run into the **role does not exist**/**database does not exist** error the first time you run this cell, feel free to ignore it. It does not affect data import."
   ]
  },
  {
   "cell_type": "code",
   "execution_count": 5,
   "metadata": {},
   "outputs": [
    {
     "name": "stdout",
     "output_type": "stream",
     "text": [
      "Archive:  data/baseball.zip\n"
     ]
    }
   ],
   "source": [
    "!unzip -u data/baseball.zip -d data/"
   ]
  },
  {
   "cell_type": "code",
   "execution_count": 6,
   "metadata": {
    "scrolled": true
   },
   "outputs": [
    {
     "name": "stdout",
     "output_type": "stream",
     "text": [
      " pg_terminate_backend \n",
      "----------------------\n",
      "(0 rows)\n",
      "\n",
      "DROP DATABASE\n",
      "CREATE DATABASE\n",
      "SET\n",
      "SET\n",
      "SET\n",
      "SET\n",
      "SET\n",
      " set_config \n",
      "------------\n",
      " \n",
      "(1 row)\n",
      "\n",
      "SET\n",
      "SET\n",
      "SET\n",
      "SET\n",
      "SET\n",
      "SET\n",
      "CREATE TABLE\n",
      "CREATE TABLE\n",
      "CREATE TABLE\n",
      "CREATE TABLE\n",
      "CREATE TABLE\n",
      "CREATE TABLE\n",
      "CREATE TABLE\n",
      "CREATE TABLE\n",
      "CREATE TABLE\n",
      "CREATE TABLE\n",
      "CREATE TABLE\n",
      "CREATE TABLE\n",
      "CREATE TABLE\n",
      "CREATE TABLE\n",
      "CREATE TABLE\n",
      "CREATE TABLE\n",
      "CREATE TABLE\n",
      "CREATE TABLE\n",
      "CREATE TABLE\n",
      "CREATE TABLE\n",
      "CREATE TABLE\n",
      "CREATE TABLE\n",
      "CREATE TABLE\n",
      "CREATE TABLE\n",
      "CREATE TABLE\n",
      "CREATE TABLE\n",
      "CREATE TABLE\n",
      "COPY 5219\n",
      "COPY 104256\n",
      "COPY 179\n",
      "COPY 6236\n",
      "COPY 425\n",
      "COPY 6879\n",
      "COPY 104324\n",
      "COPY 13943\n",
      "COPY 17350\n",
      "COPY 138838\n",
      "COPY 12028\n",
      "COPY 31955\n",
      "COPY 13110\n",
      "COPY 4191\n",
      "COPY 3040\n",
      "COPY 3469\n",
      "COPY 93\n",
      "COPY 252\n",
      "COPY 19370\n",
      "COPY 45806\n",
      "COPY 5445\n",
      "COPY 26428\n",
      "COPY 1207\n",
      "COPY 325\n",
      "COPY 2865\n",
      "COPY 120\n",
      "COPY 52\n",
      "ALTER TABLE\n",
      "ALTER TABLE\n",
      "ALTER TABLE\n",
      "ALTER TABLE\n",
      "ALTER TABLE\n",
      "ALTER TABLE\n",
      "ALTER TABLE\n",
      "ALTER TABLE\n",
      "ALTER TABLE\n",
      "ALTER TABLE\n",
      "ALTER TABLE\n",
      "ALTER TABLE\n",
      "ALTER TABLE\n",
      "ALTER TABLE\n",
      "ALTER TABLE\n",
      "ALTER TABLE\n",
      "ALTER TABLE\n",
      "ALTER TABLE\n",
      "ALTER TABLE\n",
      "ALTER TABLE\n",
      "ALTER TABLE\n",
      "ALTER TABLE\n",
      "ALTER TABLE\n",
      "ALTER TABLE\n",
      "ALTER TABLE\n",
      "ALTER TABLE\n",
      "SET\n"
     ]
    }
   ],
   "source": [
    "!psql postgresql://jovyan@127.0.0.1:5432/baseball -c 'SELECT pg_terminate_backend(pg_stat_activity.pid) FROM pg_stat_activity WHERE datname = current_database()  AND pid <> pg_backend_pid();'\n",
    "!psql -h localhost -c 'DROP DATABASE IF EXISTS baseball'\n",
    "!psql -h localhost -c 'CREATE DATABASE baseball'\n",
    "!psql -h localhost -d baseball -f data/baseball.sql\n",
    "!psql -h localhost -c 'SET max_parallel_workers_per_gather = 0;'"
   ]
  },
  {
   "cell_type": "code",
   "execution_count": 7,
   "metadata": {},
   "outputs": [
    {
     "data": {
      "text/html": [
       "<span style=\"None\">Running query in &#x27;postgresql://jovyan@127.0.0.1:5432/postgres&#x27;</span>"
      ],
      "text/plain": [
       "Running query in 'postgresql://jovyan@127.0.0.1:5432/postgres'"
      ]
     },
     "metadata": {},
     "output_type": "display_data"
    },
    {
     "data": {
      "text/html": [
       "<table>\n",
       "    <thead>\n",
       "        <tr>\n",
       "            <th>Name</th>\n",
       "            <th>Owner</th>\n",
       "            <th>Encoding</th>\n",
       "            <th>Collate</th>\n",
       "            <th>Ctype</th>\n",
       "            <th>Access privileges</th>\n",
       "        </tr>\n",
       "    </thead>\n",
       "    <tbody>\n",
       "        <tr>\n",
       "            <td>baseball</td>\n",
       "            <td>jovyan</td>\n",
       "            <td>UTF8</td>\n",
       "            <td>en_US.utf8</td>\n",
       "            <td>en_US.utf8</td>\n",
       "            <td>None</td>\n",
       "        </tr>\n",
       "    </tbody>\n",
       "</table>"
      ],
      "text/plain": [
       "+----------+--------+----------+------------+------------+-------------------+\n",
       "|   Name   | Owner  | Encoding |  Collate   |   Ctype    | Access privileges |\n",
       "+----------+--------+----------+------------+------------+-------------------+\n",
       "| baseball | jovyan |   UTF8   | en_US.utf8 | en_US.utf8 |        None       |\n",
       "+----------+--------+----------+------------+------------+-------------------+"
      ]
     },
     "execution_count": 7,
     "metadata": {},
     "output_type": "execute_result"
    }
   ],
   "source": [
    "%sql \\l baseball"
   ]
  },
  {
   "cell_type": "markdown",
   "metadata": {},
   "source": [
    "Now, run the following cell to connect to the `baseball` database. There should be no errors after running the following cell."
   ]
  },
  {
   "cell_type": "code",
   "execution_count": 8,
   "metadata": {},
   "outputs": [
    {
     "data": {
      "text/html": [
       "<span style=\"None\">Connecting and switching to connection postgresql://jovyan@127.0.0.1:5432/baseball</span>"
      ],
      "text/plain": [
       "Connecting and switching to connection postgresql://jovyan@127.0.0.1:5432/baseball"
      ]
     },
     "metadata": {},
     "output_type": "display_data"
    }
   ],
   "source": [
    "%sql postgresql://jovyan@127.0.0.1:5432/baseball"
   ]
  },
  {
   "cell_type": "markdown",
   "metadata": {},
   "source": [
    "To ensure that the connection to the database has been established, let's try grabbing the first 5 rows from the `hall_of_fame` table."
   ]
  },
  {
   "cell_type": "code",
   "execution_count": 9,
   "metadata": {
    "scrolled": true
   },
   "outputs": [
    {
     "data": {
      "text/html": [
       "<span style=\"None\">Running query in &#x27;postgresql://jovyan@127.0.0.1:5432/baseball&#x27;</span>"
      ],
      "text/plain": [
       "Running query in 'postgresql://jovyan@127.0.0.1:5432/baseball'"
      ]
     },
     "metadata": {},
     "output_type": "display_data"
    },
    {
     "data": {
      "text/html": [
       "<span style=\"color: green\">5 rows affected.</span>"
      ],
      "text/plain": [
       "5 rows affected."
      ]
     },
     "metadata": {},
     "output_type": "display_data"
    },
    {
     "data": {
      "text/html": [
       "<table>\n",
       "    <thead>\n",
       "        <tr>\n",
       "            <th>player_id</th>\n",
       "            <th>year_id</th>\n",
       "            <th>voted_by</th>\n",
       "            <th>ballots</th>\n",
       "            <th>needed</th>\n",
       "            <th>votes</th>\n",
       "            <th>inducted</th>\n",
       "            <th>category</th>\n",
       "            <th>needed_note</th>\n",
       "        </tr>\n",
       "    </thead>\n",
       "    <tbody>\n",
       "        <tr>\n",
       "            <td>cobbty01</td>\n",
       "            <td>1936</td>\n",
       "            <td>BBWAA</td>\n",
       "            <td>226</td>\n",
       "            <td>170</td>\n",
       "            <td>222</td>\n",
       "            <td>Y</td>\n",
       "            <td>Player</td>\n",
       "            <td>None</td>\n",
       "        </tr>\n",
       "        <tr>\n",
       "            <td>ruthba01</td>\n",
       "            <td>1936</td>\n",
       "            <td>BBWAA</td>\n",
       "            <td>226</td>\n",
       "            <td>170</td>\n",
       "            <td>215</td>\n",
       "            <td>Y</td>\n",
       "            <td>Player</td>\n",
       "            <td>None</td>\n",
       "        </tr>\n",
       "        <tr>\n",
       "            <td>wagneho01</td>\n",
       "            <td>1936</td>\n",
       "            <td>BBWAA</td>\n",
       "            <td>226</td>\n",
       "            <td>170</td>\n",
       "            <td>215</td>\n",
       "            <td>Y</td>\n",
       "            <td>Player</td>\n",
       "            <td>None</td>\n",
       "        </tr>\n",
       "        <tr>\n",
       "            <td>mathech01</td>\n",
       "            <td>1936</td>\n",
       "            <td>BBWAA</td>\n",
       "            <td>226</td>\n",
       "            <td>170</td>\n",
       "            <td>205</td>\n",
       "            <td>Y</td>\n",
       "            <td>Player</td>\n",
       "            <td>None</td>\n",
       "        </tr>\n",
       "        <tr>\n",
       "            <td>johnswa01</td>\n",
       "            <td>1936</td>\n",
       "            <td>BBWAA</td>\n",
       "            <td>226</td>\n",
       "            <td>170</td>\n",
       "            <td>189</td>\n",
       "            <td>Y</td>\n",
       "            <td>Player</td>\n",
       "            <td>None</td>\n",
       "        </tr>\n",
       "    </tbody>\n",
       "</table>"
      ],
      "text/plain": [
       "+-----------+---------+----------+---------+--------+-------+----------+----------+-------------+\n",
       "| player_id | year_id | voted_by | ballots | needed | votes | inducted | category | needed_note |\n",
       "+-----------+---------+----------+---------+--------+-------+----------+----------+-------------+\n",
       "|  cobbty01 |   1936  |  BBWAA   |   226   |  170   |  222  |    Y     |  Player  |     None    |\n",
       "|  ruthba01 |   1936  |  BBWAA   |   226   |  170   |  215  |    Y     |  Player  |     None    |\n",
       "| wagneho01 |   1936  |  BBWAA   |   226   |  170   |  215  |    Y     |  Player  |     None    |\n",
       "| mathech01 |   1936  |  BBWAA   |   226   |  170   |  205  |    Y     |  Player  |     None    |\n",
       "| johnswa01 |   1936  |  BBWAA   |   226   |  170   |  189  |    Y     |  Player  |     None    |\n",
       "+-----------+---------+----------+---------+--------+-------+----------+----------+-------------+"
      ]
     },
     "execution_count": 9,
     "metadata": {},
     "output_type": "execute_result"
    }
   ],
   "source": [
    "%%sql\n",
    "SELECT * FROM hall_of_fame LIMIT 5;"
   ]
  },
  {
   "cell_type": "markdown",
   "metadata": {},
   "source": [
    "## Connect to the grader"
   ]
  },
  {
   "cell_type": "markdown",
   "metadata": {},
   "source": [
    "Run the following cell for grading purposes."
   ]
  },
  {
   "cell_type": "code",
   "execution_count": 10,
   "metadata": {},
   "outputs": [],
   "source": [
    "# Just run the following cell, no further action is needed.\n",
    "from data101_utils import GradingUtil\n",
    "grading_util = GradingUtil(\"proj2\")\n",
    "grading_util.prepare_autograder()"
   ]
  },
  {
   "cell_type": "markdown",
   "metadata": {},
   "source": [
    "<hr style=\"border: 5px solid #003262;\" />\n",
    "<hr style=\"border: 1px solid #fdb515;\" />\n"
   ]
  },
  {
   "cell_type": "markdown",
   "metadata": {},
   "source": [
    "## Table Descriptions\n",
    "\n",
    "In its entirety the [Lahman's Baseball Database](http://seanlahman.com/) contains 27 tables containing a variety of statistics for players, teams, games, schools, etc. For simplicity, this project will focus on a subset of the tables:\n",
    "\n",
    "* `appearances`: details on the positions each player appeared at\n",
    "* `batting`: batting statistics for each player\n",
    "* `college_playing`: list of players and the colleges they attended\n",
    "* `hall_of_fame`: Hall of Fame voting data\n",
    "* `people`: player information (name, date of birth, and biographical info)\n",
    "* `salaries`: player salary data\n",
    "* `schools`: list of colleges that players attended\n",
    "\n",
    "As a reminder from Project 1, the psql command `\\d <table_name>` is helpful for identifying the schema of a table.\n",
    "\n",
    "We **highly** encourage you open a Terminal in JupyterLab and connect to the database directly.\n",
    "\n",
    "```sh\n",
    "psql -h localhost -d baseball\n",
    "```\n",
    "\n",
    "...will drop you in a SQL interpreter. Remember you can use `\\?` for help!\n",
    "\n",
    "\n",
    "You may wish to review:\n",
    "* The [Assignment Tips Guide](https://data101.org/fa24/assignment-tips/)\n",
    "* The [Course Notes SQL Style Guide](https://data101.org/notes/appendix/sql-style.html)\n",
    "\n",
    "For example the command below allows you to view the schema of the `people` table:"
   ]
  },
  {
   "cell_type": "code",
   "execution_count": 11,
   "metadata": {},
   "outputs": [
    {
     "name": "stdout",
     "output_type": "stream",
     "text": [
      "                                  Table \"public.people\"\n",
      "    Column     |          Type          | Collation | Nullable |         Default         \n",
      "---------------+------------------------+-----------+----------+-------------------------\n",
      " player_id     | character varying(10)  |           | not null | NULL::character varying\n",
      " birth_year    | integer                |           |          | \n",
      " birth_month   | integer                |           |          | \n",
      " birthday      | integer                |           |          | \n",
      " birth_country | character varying(50)  |           |          | NULL::character varying\n",
      " birth_state   | character varying(50)  |           |          | NULL::character varying\n",
      " birth_city    | character varying(50)  |           |          | NULL::character varying\n",
      " death_year    | integer                |           |          | \n",
      " death_month   | integer                |           |          | \n",
      " death_day     | integer                |           |          | \n",
      " death_country | character varying(50)  |           |          | NULL::character varying\n",
      " death_state   | character varying(50)  |           |          | NULL::character varying\n",
      " death_city    | character varying(50)  |           |          | NULL::character varying\n",
      " name_first    | character varying(50)  |           |          | NULL::character varying\n",
      " name_last     | character varying(50)  |           |          | NULL::character varying\n",
      " name_given    | character varying(255) |           |          | NULL::character varying\n",
      " weight        | integer                |           |          | \n",
      " height        | double precision       |           |          | \n",
      " bats          | character varying(1)   |           |          | NULL::character varying\n",
      " throws        | character varying(1)   |           |          | NULL::character varying\n",
      " debut         | character varying(10)  |           |          | NULL::character varying\n",
      " final_game    | character varying(10)  |           |          | NULL::character varying\n",
      " retro_id      | character varying(9)   |           |          | NULL::character varying\n",
      " bbref_id      | character varying(9)   |           |          | NULL::character varying\n",
      "Indexes:\n",
      "    \"master_pkey\" PRIMARY KEY, btree (player_id)\n",
      "\n"
     ]
    }
   ],
   "source": [
    "!psql -h localhost -d baseball -c '\\d people';"
   ]
  },
  {
   "cell_type": "markdown",
   "metadata": {
    "jp-MarkdownHeadingCollapsed": true
   },
   "source": [
    "## A Bit About Baseball\n",
    "\n",
    "Intricate knowledge of baseball, baseball history, etc. is **not** required for this project. But a basic understanding of the game can be useful. If you'd like, you can check out the [Wikipedia entry for Major League Baseball](https://en.wikipedia.org/wiki/Major_League_Baseball). In practice, we'd encourage you to avoid coming to conclusions nor doing deep analysis with datasets where you don't have the full context, but for this assignment, the details of the sport are not the goal.\n",
    "\n",
    "You can also read more about the [Baseball Hall of Fame](https://en.wikipedia.org/wiki/List_of_members_of_the_Baseball_Hall_of_Fame). Baseball players who excel in the sport can be inducted into the Hall of Fame.\n",
    "\n",
    "Baseball, since its inception in the late 19th century, has had an incredible track record of keeping very detailed statistics about even minor aspects of the game. This makes it a fun study for a budding (or well-experienced) data scientist.\n",
    "\n",
    "**The Briefest of Background:**\n",
    "The game of baseball is played over 9 innings, between an 'offense' (a batter, and folks running around the bases) and 'defense' (a pitcher, catcher, basemen, and others). The objective, like most sportsball games, is to score the most points -- in this case, by the batter hitting the ball, and running around the bases. \n",
    "In each game, both the offense an defense have a chance to bat, where players get an \"at bat\" (`ab`) in the database. Each 'at bat' results in the player hitting a home run (and scoring), getting \"on base\" (where they can later try to run to home plate), or getting \"out\". After the offense gets 3 outs, their turn to score is over until the next inning. (There are many more rules than these... but that's enough to make sense of the data.)\n",
    "\n",
    "### A Bit About the Database\n",
    "\n",
    "To be quite honest, the schema of this database isn't our favorite. It is full of abbreivated column names, mixing data types, and seldom enforces primary or foreign key relationships. The horrors!! Nevertheless, real life ain't perfect, so we'll continue to learn how to explore and get comfortable with unknown schemas. A few general tips:\n",
    "\n",
    "* While foreign keys aren't enforced anything with an `_id` will have consistent values. (i.e. You can treat these like primary or foreign keys on tables.)\n",
    "* `year_id` is called an \"id\", but it is merely the calendar year in which an event occured.\n",
    "* Many of the game related attributes are ruthlessly abbreviated:\n",
    "    * `ab` is for _at bats_\n",
    "    * `g_` is for _game..._\n",
    "    * `hof` is for _hall of fame_\n",
    "    * Other examples (you don't need to know these, but may come across them):\n",
    "    * `lg` is for _league_\n",
    "    * `gp` is games played\n",
    "    * `1b`, `2b`, `3b`, `hb` refer to 1st, 2nd, 3rd and home base\n",
    "* In the hall of fame table `inducted` is a string value where `Y` means true\n",
    "     * ...but of course, you know that this really ought to be a boolean... \n",
    "\n",
    "Optionally: There is a [handy guide to an R package](https://cran.r-project.org/web/packages/Lahman/Lahman.pdf) of the Lahman Basebase db. Some of the table and column names are styled slightly differently, but this may provide additional context.\n",
    "\n",
    "---"
   ]
  },
  {
   "cell_type": "markdown",
   "metadata": {},
   "source": [
    "## Navigating the Notebook\n",
    "\n",
    "This notebook is very long! We **highly recommend using the table of contents feature** by clicking on the button with 3 dots and lines on the left sidebar."
   ]
  },
  {
   "cell_type": "markdown",
   "metadata": {},
   "source": [
    "<br><br>\n",
    "<hr style=\"border: 5px solid #003262;\" />\n",
    "<hr style=\"border: 1px solid #fdb515;\" />"
   ]
  },
  {
   "cell_type": "markdown",
   "metadata": {
    "deletable": false,
    "editable": false
   },
   "source": [
    "# Question 0: PostgreSQL Explain Analyze\n",
    "\n",
    "<div class=\"alert alert-block alert-danger\">\n",
    "Please read through this section carefully, as a vast majority of the project will require you to inspect query plans via interpreting the output of the <code>EXPLAIN ANALYZE</code> command.\n",
    "</div>\n",
    "\n",
    "Read through the following articles to see how you can interpret the output of `EXPLAIN ANALYZE`:\n",
    "\n",
    "1. Everything before \"Tools to interpret `EXPLAIN ANALYZE` output\" in [this article](https://www.cybertec-postgresql.com/en/how-to-interpret-postgresql-explain-analyze-output/)\n",
    "2. PostgreSQL [documentation 14.1.2](https://www.postgresql.org/docs/current/using-explain.html#USING-EXPLAIN-ANALYZE)\n",
    "\n",
    "<div class=\"alert alert-block alert-info\">    \n",
    "<b>Here are some key things to note for all question parts:</b>\n",
    "<ul>\n",
    "<li>When we ask you to identify the <b>query cost</b>, we are looking for the <b>total cost</b>.</li>\n",
    "    <ul>\n",
    "    <li>There are two cost values: the first is the <b>startup cost</b> (cost to return the first row) and the second is the <b>total cost</b> (cost to return all rows).</li>\n",
    "    <li>The unit for the estimated query cost is an arbitrary estimation of disk I/O (1 is the cost for reading an 8kB page during a sequential scan).</li>\n",
    "        <li>Feel free to round the query cost / time to the nearest integer, but we'll accept anything more exact.</li>\n",
    "    </ul>\n",
    "<li>When we ask you to identify the <b>query time</b>, we are looking for the <b>execution time</b> (in ms).</li>\n",
    "    <ul>\n",
    "        <li>We recognize that the execution time may vary between different cell executions, so the autograder will tolerate a reasonable range.</li>\n",
    "    </ul>\n",
    "</ul>\n",
    "</div>\n",
    "\n",
    "Now, inspect the query plan above by following the below steps:\n",
    "\n",
    "1. Run the query below (it's the same one from the screenshot)."
   ]
  },
  {
   "cell_type": "code",
   "execution_count": 12,
   "metadata": {
    "deletable": false,
    "editable": false
   },
   "outputs": [
    {
     "data": {
      "text/html": [
       "<span style=\"None\">Running query in &#x27;postgresql://jovyan@127.0.0.1:5432/baseball&#x27;</span>"
      ],
      "text/plain": [
       "Running query in 'postgresql://jovyan@127.0.0.1:5432/baseball'"
      ]
     },
     "metadata": {},
     "output_type": "display_data"
    },
    {
     "data": {
      "text/html": [
       "<span style=\"color: green\">17350 rows affected.</span>"
      ],
      "text/plain": [
       "17350 rows affected."
      ]
     },
     "metadata": {},
     "output_type": "display_data"
    }
   ],
   "source": [
    "%%sql --save query_0 result_0 <<\n",
    "SELECT *\n",
    "FROM people AS p\n",
    "INNER JOIN college_playing AS cp\n",
    "ON p.player_id = cp.player_id;"
   ]
  },
  {
   "cell_type": "markdown",
   "metadata": {
    "deletable": false,
    "editable": false
   },
   "source": [
    "2. Run the below cell to cache the query and view the first 3 rows."
   ]
  },
  {
   "cell_type": "code",
   "execution_count": 13,
   "metadata": {
    "deletable": false,
    "editable": false
   },
   "outputs": [
    {
     "data": {
      "text/html": [
       "<div>\n",
       "<style scoped>\n",
       "    .dataframe tbody tr th:only-of-type {\n",
       "        vertical-align: middle;\n",
       "    }\n",
       "\n",
       "    .dataframe tbody tr th {\n",
       "        vertical-align: top;\n",
       "    }\n",
       "\n",
       "    .dataframe thead th {\n",
       "        text-align: right;\n",
       "    }\n",
       "</style>\n",
       "<table border=\"1\" class=\"dataframe\">\n",
       "  <thead>\n",
       "    <tr style=\"text-align: right;\">\n",
       "      <th></th>\n",
       "      <th>player_id</th>\n",
       "      <th>birth_year</th>\n",
       "      <th>birth_month</th>\n",
       "      <th>birthday</th>\n",
       "      <th>birth_country</th>\n",
       "      <th>birth_state</th>\n",
       "      <th>birth_city</th>\n",
       "      <th>death_year</th>\n",
       "      <th>death_month</th>\n",
       "      <th>death_day</th>\n",
       "      <th>...</th>\n",
       "      <th>height</th>\n",
       "      <th>bats</th>\n",
       "      <th>throws</th>\n",
       "      <th>debut</th>\n",
       "      <th>final_game</th>\n",
       "      <th>retro_id</th>\n",
       "      <th>bbref_id</th>\n",
       "      <th>player_id</th>\n",
       "      <th>school_id</th>\n",
       "      <th>year_id</th>\n",
       "    </tr>\n",
       "  </thead>\n",
       "  <tbody>\n",
       "    <tr>\n",
       "      <th>0</th>\n",
       "      <td>aardsda01</td>\n",
       "      <td>1981</td>\n",
       "      <td>12.0</td>\n",
       "      <td>27.0</td>\n",
       "      <td>USA</td>\n",
       "      <td>CO</td>\n",
       "      <td>Denver</td>\n",
       "      <td>NaN</td>\n",
       "      <td>NaN</td>\n",
       "      <td>NaN</td>\n",
       "      <td>...</td>\n",
       "      <td>75.0</td>\n",
       "      <td>R</td>\n",
       "      <td>R</td>\n",
       "      <td>2004-04-06</td>\n",
       "      <td>2015-08-23</td>\n",
       "      <td>aardd001</td>\n",
       "      <td>aardsda01</td>\n",
       "      <td>aardsda01</td>\n",
       "      <td>pennst</td>\n",
       "      <td>2001</td>\n",
       "    </tr>\n",
       "    <tr>\n",
       "      <th>1</th>\n",
       "      <td>aardsda01</td>\n",
       "      <td>1981</td>\n",
       "      <td>12.0</td>\n",
       "      <td>27.0</td>\n",
       "      <td>USA</td>\n",
       "      <td>CO</td>\n",
       "      <td>Denver</td>\n",
       "      <td>NaN</td>\n",
       "      <td>NaN</td>\n",
       "      <td>NaN</td>\n",
       "      <td>...</td>\n",
       "      <td>75.0</td>\n",
       "      <td>R</td>\n",
       "      <td>R</td>\n",
       "      <td>2004-04-06</td>\n",
       "      <td>2015-08-23</td>\n",
       "      <td>aardd001</td>\n",
       "      <td>aardsda01</td>\n",
       "      <td>aardsda01</td>\n",
       "      <td>rice</td>\n",
       "      <td>2002</td>\n",
       "    </tr>\n",
       "    <tr>\n",
       "      <th>2</th>\n",
       "      <td>aardsda01</td>\n",
       "      <td>1981</td>\n",
       "      <td>12.0</td>\n",
       "      <td>27.0</td>\n",
       "      <td>USA</td>\n",
       "      <td>CO</td>\n",
       "      <td>Denver</td>\n",
       "      <td>NaN</td>\n",
       "      <td>NaN</td>\n",
       "      <td>NaN</td>\n",
       "      <td>...</td>\n",
       "      <td>75.0</td>\n",
       "      <td>R</td>\n",
       "      <td>R</td>\n",
       "      <td>2004-04-06</td>\n",
       "      <td>2015-08-23</td>\n",
       "      <td>aardd001</td>\n",
       "      <td>aardsda01</td>\n",
       "      <td>aardsda01</td>\n",
       "      <td>rice</td>\n",
       "      <td>2003</td>\n",
       "    </tr>\n",
       "  </tbody>\n",
       "</table>\n",
       "<p>3 rows × 27 columns</p>\n",
       "</div>"
      ],
      "text/plain": [
       "   player_id  birth_year  birth_month  birthday birth_country birth_state  \\\n",
       "0  aardsda01        1981         12.0      27.0           USA          CO   \n",
       "1  aardsda01        1981         12.0      27.0           USA          CO   \n",
       "2  aardsda01        1981         12.0      27.0           USA          CO   \n",
       "\n",
       "  birth_city  death_year  death_month  death_day  ... height bats throws  \\\n",
       "0     Denver         NaN          NaN        NaN  ...   75.0    R      R   \n",
       "1     Denver         NaN          NaN        NaN  ...   75.0    R      R   \n",
       "2     Denver         NaN          NaN        NaN  ...   75.0    R      R   \n",
       "\n",
       "        debut  final_game  retro_id   bbref_id  player_id school_id year_id  \n",
       "0  2004-04-06  2015-08-23  aardd001  aardsda01  aardsda01    pennst    2001  \n",
       "1  2004-04-06  2015-08-23  aardd001  aardsda01  aardsda01      rice    2002  \n",
       "2  2004-04-06  2015-08-23  aardd001  aardsda01  aardsda01      rice    2003  \n",
       "\n",
       "[3 rows x 27 columns]"
      ]
     },
     "execution_count": 13,
     "metadata": {},
     "output_type": "execute_result"
    }
   ],
   "source": [
    "# Do not delete/edit this cell!\n",
    "# You must run this cell before running the autograder.\n",
    "query_0 = %sqlcmd snippets query_0\n",
    "grading_util.save_results(\"result_0\", query_0, result_0);\n",
    "result_0.DataFrame().head(3)"
   ]
  },
  {
   "cell_type": "markdown",
   "metadata": {
    "deletable": false,
    "editable": false
   },
   "source": [
    "3. Run the below cell to `EXPLAIN ANALYZE` the saved query. **For this entire project when running `EXPLAIN ANALYZE`, you may ignore the \"unsupported syntax\" error message if it appears.**"
   ]
  },
  {
   "cell_type": "code",
   "execution_count": 14,
   "metadata": {
    "deletable": false,
    "editable": false
   },
   "outputs": [
    {
     "name": "stdout",
     "output_type": "stream",
     "text": [
      "                                                                           QUERY PLAN                                                                           \n",
      "----------------------------------------------------------------------------------------------------------------------------------------------------------------\n",
      " Merge Join  (cost=0.57..3636.67 rows=17350 width=1788) (actual time=0.056..17.464 rows=17350 loops=1)\n",
      "   Merge Cond: ((p.player_id)::text = (cp.player_id)::text)\n",
      "   ->  Index Scan using master_pkey on people p  (cost=0.29..2298.84 rows=19370 width=1698) (actual time=0.019..3.410 rows=19368 loops=1)\n",
      "   ->  Index Only Scan using college_playing_pkey on college_playing cp  (cost=0.29..1072.54 rows=17350 width=90) (actual time=0.030..4.188 rows=17350 loops=1)\n",
      "         Heap Fetches: 17350\n",
      " Planning Time: 0.548 ms\n",
      " Execution Time: 18.106 ms\n",
      "(7 rows)\n",
      "\n"
     ]
    }
   ],
   "source": [
    "!psql -h localhost -d baseball -c 'EXPLAIN ANALYZE {query_0}'"
   ]
  },
  {
   "cell_type": "markdown",
   "metadata": {
    "deletable": false,
    "editable": false
   },
   "source": [
    "4. Finally, record the **cost** and **time** for the sample query. For all questions within this project, we will accept a range of values for your query costs and query timings."
   ]
  },
  {
   "cell_type": "code",
   "execution_count": 15,
   "metadata": {
    "tags": []
   },
   "outputs": [],
   "source": [
    "sample_query_cost = 1193.88\n",
    "sample_query_timing = 15.043"
   ]
  },
  {
   "cell_type": "code",
   "execution_count": 16,
   "metadata": {
    "deletable": false,
    "editable": false
   },
   "outputs": [
    {
     "data": {
      "text/html": [
       "<p><strong><pre style='display: inline;'>q0</pre></strong> passed! 🚀</p>"
      ],
      "text/plain": [
       "q0 results: All test cases passed!"
      ]
     },
     "execution_count": 16,
     "metadata": {},
     "output_type": "execute_result"
    }
   ],
   "source": [
    "grader.check(\"q0\")"
   ]
  },
  {
   "cell_type": "markdown",
   "metadata": {},
   "source": [
    "<br/><br/>\n",
    "<hr style=\"border: 5px solid #003262;\" />\n",
    "<hr style=\"border: 1px solid #fdb515;\" />\n",
    "\n",
    "# Question 1: Queries and Views, Part 1\n",
    "\n",
    "In Questions 1 and 2, you will compare and contrast writing queries with subqueries and views.\n",
    "\n",
    "## Question 1a\n",
    "Write a query that finds `people.name_first`, `people.name_last`, `people.player_id` and `hall_of_fame.year_id` of all people who were successfully inducted into the Hall of Fame.\n",
    "\n",
    "**Note**: Your query should **NOT** use any sub-queries. This is what your table header should look like:\n",
    "\n",
    "| name_first | name_last | player_id | year_id |\n",
    "| --- | --- | --- | --- |"
   ]
  },
  {
   "cell_type": "code",
   "execution_count": 17,
   "metadata": {
    "scrolled": true,
    "tags": []
   },
   "outputs": [
    {
     "data": {
      "text/html": [
       "<span style=\"None\">Running query in &#x27;postgresql://jovyan@127.0.0.1:5432/baseball&#x27;</span>"
      ],
      "text/plain": [
       "Running query in 'postgresql://jovyan@127.0.0.1:5432/baseball'"
      ]
     },
     "metadata": {},
     "output_type": "display_data"
    },
    {
     "data": {
      "text/html": [
       "<span style=\"color: green\">323 rows affected.</span>"
      ],
      "text/plain": [
       "323 rows affected."
      ]
     },
     "metadata": {},
     "output_type": "display_data"
    }
   ],
   "source": [
    "%%sql --save query_1a result_1a <<\n",
    "SELECT p.name_first, p.name_last, p.player_id, h.year_id\n",
    "FROM people AS p \n",
    "JOIN hall_of_fame AS h ON p.player_id = h.player_id\n",
    "WHERE h.inducted = 'Y';"
   ]
  },
  {
   "cell_type": "code",
   "execution_count": 18,
   "metadata": {
    "tags": []
   },
   "outputs": [
    {
     "data": {
      "text/html": [
       "<div>\n",
       "<style scoped>\n",
       "    .dataframe tbody tr th:only-of-type {\n",
       "        vertical-align: middle;\n",
       "    }\n",
       "\n",
       "    .dataframe tbody tr th {\n",
       "        vertical-align: top;\n",
       "    }\n",
       "\n",
       "    .dataframe thead th {\n",
       "        text-align: right;\n",
       "    }\n",
       "</style>\n",
       "<table border=\"1\" class=\"dataframe\">\n",
       "  <thead>\n",
       "    <tr style=\"text-align: right;\">\n",
       "      <th></th>\n",
       "      <th>name_first</th>\n",
       "      <th>name_last</th>\n",
       "      <th>player_id</th>\n",
       "      <th>year_id</th>\n",
       "    </tr>\n",
       "  </thead>\n",
       "  <tbody>\n",
       "    <tr>\n",
       "      <th>0</th>\n",
       "      <td>Ty</td>\n",
       "      <td>Cobb</td>\n",
       "      <td>cobbty01</td>\n",
       "      <td>1936</td>\n",
       "    </tr>\n",
       "    <tr>\n",
       "      <th>1</th>\n",
       "      <td>Babe</td>\n",
       "      <td>Ruth</td>\n",
       "      <td>ruthba01</td>\n",
       "      <td>1936</td>\n",
       "    </tr>\n",
       "    <tr>\n",
       "      <th>2</th>\n",
       "      <td>Honus</td>\n",
       "      <td>Wagner</td>\n",
       "      <td>wagneho01</td>\n",
       "      <td>1936</td>\n",
       "    </tr>\n",
       "  </tbody>\n",
       "</table>\n",
       "</div>"
      ],
      "text/plain": [
       "  name_first name_last  player_id  year_id\n",
       "0         Ty      Cobb   cobbty01     1936\n",
       "1       Babe      Ruth   ruthba01     1936\n",
       "2      Honus    Wagner  wagneho01     1936"
      ]
     },
     "execution_count": 18,
     "metadata": {},
     "output_type": "execute_result"
    }
   ],
   "source": [
    "# Do not delete/edit this cell!\n",
    "# You must run this cell before running the autograder.\n",
    "query_1a = %sqlcmd snippets query_1a\n",
    "grading_util.save_results(\"result_1a\", query_1a, result_1a)\n",
    "result_1a.DataFrame().head(3)"
   ]
  },
  {
   "cell_type": "code",
   "execution_count": 19,
   "metadata": {
    "deletable": false,
    "editable": false
   },
   "outputs": [
    {
     "data": {
      "text/html": [
       "<p><strong><pre style='display: inline;'>q1a</pre></strong> passed! 🍀</p>"
      ],
      "text/plain": [
       "q1a results: All test cases passed!"
      ]
     },
     "execution_count": 19,
     "metadata": {},
     "output_type": "execute_result"
    }
   ],
   "source": [
    "grader.check(\"q1a\")"
   ]
  },
  {
   "cell_type": "markdown",
   "metadata": {
    "deletable": false,
    "editable": false
   },
   "source": [
    "<br><br>\n",
    "\n",
    "---\n",
    "\n",
    "## Question 1b\n",
    "In this question, we will compare the query you wrote in Question 1a against the provided query below in Question 1bi by inspecting both query plans.\n",
    "\n",
    "### Question 1bi\n",
    "Inspect the query plan for `provided_query` and the query you wrote in Question 1a by running the cells below.\n",
    "\n",
    "(Note: The semicolon strip in the `EXPLAIN ANALYZE` cell is to avoid executing an empty query with double-semicolons, which causes an error)."
   ]
  },
  {
   "cell_type": "code",
   "execution_count": 20,
   "metadata": {
    "deletable": false,
    "editable": false
   },
   "outputs": [
    {
     "data": {
      "text/html": [
       "<span style=\"None\">Running query in &#x27;postgresql://jovyan@127.0.0.1:5432/baseball&#x27;</span>"
      ],
      "text/plain": [
       "Running query in 'postgresql://jovyan@127.0.0.1:5432/baseball'"
      ]
     },
     "metadata": {},
     "output_type": "display_data"
    },
    {
     "data": {
      "text/html": [
       "<span style=\"color: green\">323 rows affected.</span>"
      ],
      "text/plain": [
       "323 rows affected."
      ]
     },
     "metadata": {},
     "output_type": "display_data"
    }
   ],
   "source": [
    "%%sql --save provided_query provided_result <<\n",
    "-- just run this cell\n",
    "SELECT name_first, name_last, p.player_id, year_id\n",
    "FROM people AS p,\n",
    "(\n",
    "  SELECT * FROM hall_of_fame WHERE inducted = 'Y'\n",
    ") AS hof\n",
    "WHERE p.player_id = hof.player_id;"
   ]
  },
  {
   "cell_type": "code",
   "execution_count": 21,
   "metadata": {
    "deletable": false,
    "editable": false,
    "scrolled": true
   },
   "outputs": [
    {
     "name": "stdout",
     "output_type": "stream",
     "text": [
      "                                                           QUERY PLAN                                                           \n",
      "--------------------------------------------------------------------------------------------------------------------------------\n",
      " Nested Loop  (cost=0.29..262.79 rows=21 width=278) (actual time=0.060..2.091 rows=323 loops=1)\n",
      "   ->  Seq Scan on hall_of_fame  (cost=0.00..96.39 rows=21 width=42) (actual time=0.020..0.538 rows=323 loops=1)\n",
      "         Filter: ((inducted)::text = 'Y'::text)\n",
      "         Rows Removed by Filter: 3868\n",
      "   ->  Index Scan using master_pkey on people p  (cost=0.29..7.92 rows=1 width=274) (actual time=0.004..0.004 rows=1 loops=323)\n",
      "         Index Cond: ((player_id)::text = (hall_of_fame.player_id)::text)\n",
      " Planning Time: 0.675 ms\n",
      " Execution Time: 2.158 ms\n",
      "(8 rows)\n",
      "\n"
     ]
    }
   ],
   "source": [
    "# just run this cell\n",
    "provided_query = %sqlcmd snippets provided_query\n",
    "!psql -h localhost -d baseball -c \"EXPLAIN ANALYZE {provided_query}\""
   ]
  },
  {
   "cell_type": "code",
   "execution_count": 22,
   "metadata": {
    "deletable": false,
    "editable": false
   },
   "outputs": [
    {
     "name": "stdout",
     "output_type": "stream",
     "text": [
      "                                                           QUERY PLAN                                                           \n",
      "--------------------------------------------------------------------------------------------------------------------------------\n",
      " Nested Loop  (cost=0.29..262.79 rows=21 width=278) (actual time=0.067..2.363 rows=323 loops=1)\n",
      "   ->  Seq Scan on hall_of_fame h  (cost=0.00..96.39 rows=21 width=42) (actual time=0.024..0.626 rows=323 loops=1)\n",
      "         Filter: ((inducted)::text = 'Y'::text)\n",
      "         Rows Removed by Filter: 3868\n",
      "   ->  Index Scan using master_pkey on people p  (cost=0.29..7.92 rows=1 width=274) (actual time=0.005..0.005 rows=1 loops=323)\n",
      "         Index Cond: ((player_id)::text = (h.player_id)::text)\n",
      " Planning Time: 0.610 ms\n",
      " Execution Time: 2.434 ms\n",
      "(8 rows)\n",
      "\n"
     ]
    }
   ],
   "source": [
    "# just run this cell\n",
    "!psql -h localhost -d baseball -c \"EXPLAIN ANALYZE {query_1a}\""
   ]
  },
  {
   "cell_type": "markdown",
   "metadata": {
    "deletable": false,
    "editable": false
   },
   "source": [
    "Record the **execution time** and **cost** for each query."
   ]
  },
  {
   "cell_type": "code",
   "execution_count": 23,
   "metadata": {
    "tags": []
   },
   "outputs": [],
   "source": [
    "provided_query_cost = 959.06\n",
    "provided_query_timing = 9.737\n",
    "your_query_cost = 959.06\n",
    "your_query_timing = 8.703"
   ]
  },
  {
   "cell_type": "code",
   "execution_count": 24,
   "metadata": {
    "deletable": false,
    "editable": false
   },
   "outputs": [
    {
     "data": {
      "text/html": [
       "<p><strong><pre style='display: inline;'>q1bi</pre></strong> passed! 🌈</p>"
      ],
      "text/plain": [
       "q1bi results: All test cases passed!"
      ]
     },
     "execution_count": 24,
     "metadata": {},
     "output_type": "execute_result"
    }
   ],
   "source": [
    "grader.check(\"q1bi\")"
   ]
  },
  {
   "cell_type": "markdown",
   "metadata": {
    "deletable": false,
    "editable": false
   },
   "source": [
    "\n",
    "### Question 1bii\n",
    "\n",
    "Given your findings from inspecting the query plans of the two queries, consider the following statements.\n",
    "\n",
    "**Assign the variable `q1bii` to a list of _ALL_ of the below statements that are true.**\n",
    "\n",
    "\n",
    "Consider the following statements:\n",
    "<br>\n",
    "A. Both the queries have the same cost.\n",
    "<br>\n",
    "B. The provided query has a faster execution time because it makes use of a subquery.\n",
    "<br>\n",
    "C. The query you wrote has a faster execution time because it does not make use a subquery.\n",
    "<br>\n",
    "D. The provided query has less cost because it makes use of a subquery.\n",
    "<br>\n",
    "E. The query you wrote has less cost because it does not make use a subquery.\n",
    "<br>\n",
    "F. The queries have the same output.\n",
    "<br>\n",
    "G. The queries do not have the same output.\n",
    "    \n",
    "**Note:** Your answer should have the format like this if you think A and B are both true: `q1bii = ['A', 'B']`. The autograder is **case sensitive** but order should not matter."
   ]
  },
  {
   "cell_type": "code",
   "execution_count": 25,
   "metadata": {
    "tags": []
   },
   "outputs": [],
   "source": [
    "q1bii = ['A','F']"
   ]
  },
  {
   "cell_type": "code",
   "execution_count": 26,
   "metadata": {
    "deletable": false,
    "editable": false
   },
   "outputs": [
    {
     "data": {
      "text/html": [
       "<p><strong><pre style='display: inline;'>q1bii</pre></strong> passed! 💯</p>"
      ],
      "text/plain": [
       "q1bii results: All test cases passed!"
      ]
     },
     "execution_count": 26,
     "metadata": {},
     "output_type": "execute_result"
    }
   ],
   "source": [
    "grader.check(\"q1bii\")"
   ]
  },
  {
   "cell_type": "markdown",
   "metadata": {},
   "source": [
    "<br/><br/><br/>\n",
    "\n",
    "<hr style=\"border: 5px solid #003262;\" />\n",
    "<hr style=\"border: 1px solid #fdb515;\" />\n",
    "\n",
    "\n",
    "# Question 2: Queries and Views, Part 2\n",
    "\n",
    "In this question, you will continue analyzing queries with/without views and materialized views."
   ]
  },
  {
   "cell_type": "markdown",
   "metadata": {
    "deletable": false,
    "editable": false
   },
   "source": [
    "<br/><br/>\n",
    "\n",
    "---\n",
    "\n",
    "## Question 2a\n",
    "\n",
    "Write a query that returns the people who were successfully inducted into the Hall of Fame and played in college at a school located in California. For each player, return their `name_first`, `name_last`, `player_id`, `school_id`, and `year_id`. Order by the `year_id` (ascending) and break ties on `player_id` (ascending). This is what your table header should look like:\n",
    "\n",
    "| name_first | name_last | player_id | school_id | year_id |\n",
    "| --- | --- | --- | --- | --- |\n",
    "\n",
    "**Note**: \n",
    "- **Do NOT use any views, materialized views, CTEs, or subqueries**\n",
    "- For this query, `year_id` refers to player's year of induction into the Hall of Fame.\n",
    "- For the baseball fanatics, FYI this dataset does not include *all* hall of fame inductees in existence and may be missing some. However, this should not affect your result; please query from the tables as given."
   ]
  },
  {
   "cell_type": "code",
   "execution_count": 27,
   "metadata": {
    "tags": []
   },
   "outputs": [
    {
     "data": {
      "text/html": [
       "<span style=\"None\">Running query in &#x27;postgresql://jovyan@127.0.0.1:5432/baseball&#x27;</span>"
      ],
      "text/plain": [
       "Running query in 'postgresql://jovyan@127.0.0.1:5432/baseball'"
      ]
     },
     "metadata": {},
     "output_type": "display_data"
    },
    {
     "data": {
      "text/html": [
       "<span style=\"color: green\">23 rows affected.</span>"
      ],
      "text/plain": [
       "23 rows affected."
      ]
     },
     "metadata": {},
     "output_type": "display_data"
    }
   ],
   "source": [
    "%%sql --save query_2a result_2a <<\n",
    "SELECT p.name_first, p.name_last, p.player_id, cp.school_id, hof.year_id\n",
    "FROM people p\n",
    "JOIN college_playing cp ON p.player_id = cp.player_id\n",
    "JOIN hall_of_fame hof ON p.player_id = hof.player_id\n",
    "JOIN schools s ON cp.school_id = s.school_id\n",
    "WHERE hof.inducted = 'Y'\n",
    "  AND s.school_state = 'CA'\n",
    "ORDER BY hof.year_id ASC, p.player_id ASC;"
   ]
  },
  {
   "cell_type": "code",
   "execution_count": 28,
   "metadata": {
    "tags": []
   },
   "outputs": [
    {
     "data": {
      "text/html": [
       "<table>\n",
       "    <thead>\n",
       "        <tr>\n",
       "            <th>name_first</th>\n",
       "            <th>name_last</th>\n",
       "            <th>player_id</th>\n",
       "            <th>school_id</th>\n",
       "            <th>year_id</th>\n",
       "        </tr>\n",
       "    </thead>\n",
       "    <tbody>\n",
       "        <tr>\n",
       "            <td>Jackie</td>\n",
       "            <td>Robinson</td>\n",
       "            <td>robinja02</td>\n",
       "            <td>ucla</td>\n",
       "            <td>1962</td>\n",
       "        </tr>\n",
       "        <tr>\n",
       "            <td>Harry</td>\n",
       "            <td>Hooper</td>\n",
       "            <td>hoopeha01</td>\n",
       "            <td>stmarysca</td>\n",
       "            <td>1971</td>\n",
       "        </tr>\n",
       "        <tr>\n",
       "            <td>Joe</td>\n",
       "            <td>Morgan</td>\n",
       "            <td>morgajo02</td>\n",
       "            <td>camerri</td>\n",
       "            <td>1990</td>\n",
       "        </tr>\n",
       "        <tr>\n",
       "            <td>Tom</td>\n",
       "            <td>Seaver</td>\n",
       "            <td>seaveto01</td>\n",
       "            <td>cafrecc</td>\n",
       "            <td>1992</td>\n",
       "        </tr>\n",
       "        <tr>\n",
       "            <td>Tom</td>\n",
       "            <td>Seaver</td>\n",
       "            <td>seaveto01</td>\n",
       "            <td>usc</td>\n",
       "            <td>1992</td>\n",
       "        </tr>\n",
       "        <tr>\n",
       "            <td>Ozzie</td>\n",
       "            <td>Smith</td>\n",
       "            <td>smithoz01</td>\n",
       "            <td>calpoly</td>\n",
       "            <td>2002</td>\n",
       "        </tr>\n",
       "        <tr>\n",
       "            <td>Ozzie</td>\n",
       "            <td>Smith</td>\n",
       "            <td>smithoz01</td>\n",
       "            <td>calpoly</td>\n",
       "            <td>2002</td>\n",
       "        </tr>\n",
       "        <tr>\n",
       "            <td>Ozzie</td>\n",
       "            <td>Smith</td>\n",
       "            <td>smithoz01</td>\n",
       "            <td>calpoly</td>\n",
       "            <td>2002</td>\n",
       "        </tr>\n",
       "        <tr>\n",
       "            <td>Ozzie</td>\n",
       "            <td>Smith</td>\n",
       "            <td>smithoz01</td>\n",
       "            <td>calpoly</td>\n",
       "            <td>2002</td>\n",
       "        </tr>\n",
       "        <tr>\n",
       "            <td>Tony</td>\n",
       "            <td>Gwynn</td>\n",
       "            <td>gwynnto01</td>\n",
       "            <td>sandiegost</td>\n",
       "            <td>2007</td>\n",
       "        </tr>\n",
       "        <tr>\n",
       "            <td>Tony</td>\n",
       "            <td>Gwynn</td>\n",
       "            <td>gwynnto01</td>\n",
       "            <td>sandiegost</td>\n",
       "            <td>2007</td>\n",
       "        </tr>\n",
       "        <tr>\n",
       "            <td>Tony</td>\n",
       "            <td>Gwynn</td>\n",
       "            <td>gwynnto01</td>\n",
       "            <td>sandiegost</td>\n",
       "            <td>2007</td>\n",
       "        </tr>\n",
       "        <tr>\n",
       "            <td>Dick</td>\n",
       "            <td>Williams</td>\n",
       "            <td>willidi02</td>\n",
       "            <td>capasad</td>\n",
       "            <td>2008</td>\n",
       "        </tr>\n",
       "        <tr>\n",
       "            <td>Doug</td>\n",
       "            <td>Harvey</td>\n",
       "            <td>harvedo99</td>\n",
       "            <td>sandiegost</td>\n",
       "            <td>2010</td>\n",
       "        </tr>\n",
       "        <tr>\n",
       "            <td>Doug</td>\n",
       "            <td>Harvey</td>\n",
       "            <td>harvedo99</td>\n",
       "            <td>sandiegost</td>\n",
       "            <td>2010</td>\n",
       "        </tr>\n",
       "        <tr>\n",
       "            <td>Pat</td>\n",
       "            <td>Gillick</td>\n",
       "            <td>gillipa99</td>\n",
       "            <td>calavco</td>\n",
       "            <td>2011</td>\n",
       "        </tr>\n",
       "        <tr>\n",
       "            <td>Pat</td>\n",
       "            <td>Gillick</td>\n",
       "            <td>gillipa99</td>\n",
       "            <td>usc</td>\n",
       "            <td>2011</td>\n",
       "        </tr>\n",
       "        <tr>\n",
       "            <td>Pat</td>\n",
       "            <td>Gillick</td>\n",
       "            <td>gillipa99</td>\n",
       "            <td>usc</td>\n",
       "            <td>2011</td>\n",
       "        </tr>\n",
       "        <tr>\n",
       "            <td>Randy</td>\n",
       "            <td>Johnson</td>\n",
       "            <td>johnsra05</td>\n",
       "            <td>usc</td>\n",
       "            <td>2015</td>\n",
       "        </tr>\n",
       "        <tr>\n",
       "            <td>Randy</td>\n",
       "            <td>Johnson</td>\n",
       "            <td>johnsra05</td>\n",
       "            <td>usc</td>\n",
       "            <td>2015</td>\n",
       "        </tr>\n",
       "        <tr>\n",
       "            <td>Randy</td>\n",
       "            <td>Johnson</td>\n",
       "            <td>johnsra05</td>\n",
       "            <td>usc</td>\n",
       "            <td>2015</td>\n",
       "        </tr>\n",
       "        <tr>\n",
       "            <td>Trevor</td>\n",
       "            <td>Hoffman</td>\n",
       "            <td>hoffmtr01</td>\n",
       "            <td>cacypre</td>\n",
       "            <td>2018</td>\n",
       "        </tr>\n",
       "        <tr>\n",
       "            <td>Trevor</td>\n",
       "            <td>Hoffman</td>\n",
       "            <td>hoffmtr01</td>\n",
       "            <td>cacypre</td>\n",
       "            <td>2018</td>\n",
       "        </tr>\n",
       "    </tbody>\n",
       "</table>"
      ],
      "text/plain": [
       "+------------+-----------+-----------+------------+---------+\n",
       "| name_first | name_last | player_id | school_id  | year_id |\n",
       "+------------+-----------+-----------+------------+---------+\n",
       "|   Jackie   |  Robinson | robinja02 |    ucla    |   1962  |\n",
       "|   Harry    |   Hooper  | hoopeha01 | stmarysca  |   1971  |\n",
       "|    Joe     |   Morgan  | morgajo02 |  camerri   |   1990  |\n",
       "|    Tom     |   Seaver  | seaveto01 |  cafrecc   |   1992  |\n",
       "|    Tom     |   Seaver  | seaveto01 |    usc     |   1992  |\n",
       "|   Ozzie    |   Smith   | smithoz01 |  calpoly   |   2002  |\n",
       "|   Ozzie    |   Smith   | smithoz01 |  calpoly   |   2002  |\n",
       "|   Ozzie    |   Smith   | smithoz01 |  calpoly   |   2002  |\n",
       "|   Ozzie    |   Smith   | smithoz01 |  calpoly   |   2002  |\n",
       "|    Tony    |   Gwynn   | gwynnto01 | sandiegost |   2007  |\n",
       "|    Tony    |   Gwynn   | gwynnto01 | sandiegost |   2007  |\n",
       "|    Tony    |   Gwynn   | gwynnto01 | sandiegost |   2007  |\n",
       "|    Dick    |  Williams | willidi02 |  capasad   |   2008  |\n",
       "|    Doug    |   Harvey  | harvedo99 | sandiegost |   2010  |\n",
       "|    Doug    |   Harvey  | harvedo99 | sandiegost |   2010  |\n",
       "|    Pat     |  Gillick  | gillipa99 |  calavco   |   2011  |\n",
       "|    Pat     |  Gillick  | gillipa99 |    usc     |   2011  |\n",
       "|    Pat     |  Gillick  | gillipa99 |    usc     |   2011  |\n",
       "|   Randy    |  Johnson  | johnsra05 |    usc     |   2015  |\n",
       "|   Randy    |  Johnson  | johnsra05 |    usc     |   2015  |\n",
       "|   Randy    |  Johnson  | johnsra05 |    usc     |   2015  |\n",
       "|   Trevor   |  Hoffman  | hoffmtr01 |  cacypre   |   2018  |\n",
       "|   Trevor   |  Hoffman  | hoffmtr01 |  cacypre   |   2018  |\n",
       "+------------+-----------+-----------+------------+---------+"
      ]
     },
     "execution_count": 28,
     "metadata": {},
     "output_type": "execute_result"
    }
   ],
   "source": [
    "# Do not delete/edit this cell!\n",
    "# You must run this cell before running the autograder.\n",
    "query_2a = %sqlcmd snippets query_2a\n",
    "grading_util.save_results(\"result_2a\", query_2a, result_2a)\n",
    "result_2a"
   ]
  },
  {
   "cell_type": "code",
   "execution_count": 29,
   "metadata": {
    "deletable": false,
    "editable": false
   },
   "outputs": [
    {
     "data": {
      "text/html": [
       "<p><strong><pre style='display: inline;'>q2a</pre></strong> passed! 🚀</p>"
      ],
      "text/plain": [
       "q2a results: All test cases passed!"
      ]
     },
     "execution_count": 29,
     "metadata": {},
     "output_type": "execute_result"
    }
   ],
   "source": [
    "grader.check(\"q2a\")"
   ]
  },
  {
   "cell_type": "markdown",
   "metadata": {},
   "source": [
    "<br/><br/>\n",
    "\n",
    "---\n",
    "\n",
    "## Question 2 Tutorial"
   ]
  },
  {
   "cell_type": "markdown",
   "metadata": {},
   "source": [
    "We are now going to use the query you wrote in the previous part to generate a view, called `inducted_hof_ca`, and a materialized view, `inducted_hof_ca_mat`.\n",
    "\n",
    "Run the below cells. You do not need to do anything more for this part. "
   ]
  },
  {
   "cell_type": "code",
   "execution_count": 30,
   "metadata": {},
   "outputs": [
    {
     "data": {
      "text/html": [
       "<span style=\"None\">Running query in &#x27;postgresql://jovyan@127.0.0.1:5432/baseball&#x27;</span>"
      ],
      "text/plain": [
       "Running query in 'postgresql://jovyan@127.0.0.1:5432/baseball'"
      ]
     },
     "metadata": {},
     "output_type": "display_data"
    },
    {
     "data": {
      "text/html": [
       "<span style=\"color: green\">23 rows affected.</span>"
      ],
      "text/plain": [
       "23 rows affected."
      ]
     },
     "metadata": {},
     "output_type": "display_data"
    },
    {
     "data": {
      "text/html": [
       "<table>\n",
       "    <thead>\n",
       "        <tr>\n",
       "            <th>name_first</th>\n",
       "            <th>name_last</th>\n",
       "            <th>player_id</th>\n",
       "            <th>school_id</th>\n",
       "            <th>year_id</th>\n",
       "        </tr>\n",
       "    </thead>\n",
       "    <tbody>\n",
       "        <tr>\n",
       "            <td>Jackie</td>\n",
       "            <td>Robinson</td>\n",
       "            <td>robinja02</td>\n",
       "            <td>ucla</td>\n",
       "            <td>1962</td>\n",
       "        </tr>\n",
       "        <tr>\n",
       "            <td>Harry</td>\n",
       "            <td>Hooper</td>\n",
       "            <td>hoopeha01</td>\n",
       "            <td>stmarysca</td>\n",
       "            <td>1971</td>\n",
       "        </tr>\n",
       "        <tr>\n",
       "            <td>Joe</td>\n",
       "            <td>Morgan</td>\n",
       "            <td>morgajo02</td>\n",
       "            <td>camerri</td>\n",
       "            <td>1990</td>\n",
       "        </tr>\n",
       "        <tr>\n",
       "            <td>Tom</td>\n",
       "            <td>Seaver</td>\n",
       "            <td>seaveto01</td>\n",
       "            <td>cafrecc</td>\n",
       "            <td>1992</td>\n",
       "        </tr>\n",
       "        <tr>\n",
       "            <td>Tom</td>\n",
       "            <td>Seaver</td>\n",
       "            <td>seaveto01</td>\n",
       "            <td>usc</td>\n",
       "            <td>1992</td>\n",
       "        </tr>\n",
       "        <tr>\n",
       "            <td>Ozzie</td>\n",
       "            <td>Smith</td>\n",
       "            <td>smithoz01</td>\n",
       "            <td>calpoly</td>\n",
       "            <td>2002</td>\n",
       "        </tr>\n",
       "        <tr>\n",
       "            <td>Ozzie</td>\n",
       "            <td>Smith</td>\n",
       "            <td>smithoz01</td>\n",
       "            <td>calpoly</td>\n",
       "            <td>2002</td>\n",
       "        </tr>\n",
       "        <tr>\n",
       "            <td>Ozzie</td>\n",
       "            <td>Smith</td>\n",
       "            <td>smithoz01</td>\n",
       "            <td>calpoly</td>\n",
       "            <td>2002</td>\n",
       "        </tr>\n",
       "        <tr>\n",
       "            <td>Ozzie</td>\n",
       "            <td>Smith</td>\n",
       "            <td>smithoz01</td>\n",
       "            <td>calpoly</td>\n",
       "            <td>2002</td>\n",
       "        </tr>\n",
       "        <tr>\n",
       "            <td>Tony</td>\n",
       "            <td>Gwynn</td>\n",
       "            <td>gwynnto01</td>\n",
       "            <td>sandiegost</td>\n",
       "            <td>2007</td>\n",
       "        </tr>\n",
       "        <tr>\n",
       "            <td>Tony</td>\n",
       "            <td>Gwynn</td>\n",
       "            <td>gwynnto01</td>\n",
       "            <td>sandiegost</td>\n",
       "            <td>2007</td>\n",
       "        </tr>\n",
       "        <tr>\n",
       "            <td>Tony</td>\n",
       "            <td>Gwynn</td>\n",
       "            <td>gwynnto01</td>\n",
       "            <td>sandiegost</td>\n",
       "            <td>2007</td>\n",
       "        </tr>\n",
       "        <tr>\n",
       "            <td>Dick</td>\n",
       "            <td>Williams</td>\n",
       "            <td>willidi02</td>\n",
       "            <td>capasad</td>\n",
       "            <td>2008</td>\n",
       "        </tr>\n",
       "        <tr>\n",
       "            <td>Doug</td>\n",
       "            <td>Harvey</td>\n",
       "            <td>harvedo99</td>\n",
       "            <td>sandiegost</td>\n",
       "            <td>2010</td>\n",
       "        </tr>\n",
       "        <tr>\n",
       "            <td>Doug</td>\n",
       "            <td>Harvey</td>\n",
       "            <td>harvedo99</td>\n",
       "            <td>sandiegost</td>\n",
       "            <td>2010</td>\n",
       "        </tr>\n",
       "        <tr>\n",
       "            <td>Pat</td>\n",
       "            <td>Gillick</td>\n",
       "            <td>gillipa99</td>\n",
       "            <td>calavco</td>\n",
       "            <td>2011</td>\n",
       "        </tr>\n",
       "        <tr>\n",
       "            <td>Pat</td>\n",
       "            <td>Gillick</td>\n",
       "            <td>gillipa99</td>\n",
       "            <td>usc</td>\n",
       "            <td>2011</td>\n",
       "        </tr>\n",
       "        <tr>\n",
       "            <td>Pat</td>\n",
       "            <td>Gillick</td>\n",
       "            <td>gillipa99</td>\n",
       "            <td>usc</td>\n",
       "            <td>2011</td>\n",
       "        </tr>\n",
       "        <tr>\n",
       "            <td>Randy</td>\n",
       "            <td>Johnson</td>\n",
       "            <td>johnsra05</td>\n",
       "            <td>usc</td>\n",
       "            <td>2015</td>\n",
       "        </tr>\n",
       "        <tr>\n",
       "            <td>Randy</td>\n",
       "            <td>Johnson</td>\n",
       "            <td>johnsra05</td>\n",
       "            <td>usc</td>\n",
       "            <td>2015</td>\n",
       "        </tr>\n",
       "        <tr>\n",
       "            <td>Randy</td>\n",
       "            <td>Johnson</td>\n",
       "            <td>johnsra05</td>\n",
       "            <td>usc</td>\n",
       "            <td>2015</td>\n",
       "        </tr>\n",
       "        <tr>\n",
       "            <td>Trevor</td>\n",
       "            <td>Hoffman</td>\n",
       "            <td>hoffmtr01</td>\n",
       "            <td>cacypre</td>\n",
       "            <td>2018</td>\n",
       "        </tr>\n",
       "        <tr>\n",
       "            <td>Trevor</td>\n",
       "            <td>Hoffman</td>\n",
       "            <td>hoffmtr01</td>\n",
       "            <td>cacypre</td>\n",
       "            <td>2018</td>\n",
       "        </tr>\n",
       "    </tbody>\n",
       "</table>"
      ],
      "text/plain": [
       "+------------+-----------+-----------+------------+---------+\n",
       "| name_first | name_last | player_id | school_id  | year_id |\n",
       "+------------+-----------+-----------+------------+---------+\n",
       "|   Jackie   |  Robinson | robinja02 |    ucla    |   1962  |\n",
       "|   Harry    |   Hooper  | hoopeha01 | stmarysca  |   1971  |\n",
       "|    Joe     |   Morgan  | morgajo02 |  camerri   |   1990  |\n",
       "|    Tom     |   Seaver  | seaveto01 |  cafrecc   |   1992  |\n",
       "|    Tom     |   Seaver  | seaveto01 |    usc     |   1992  |\n",
       "|   Ozzie    |   Smith   | smithoz01 |  calpoly   |   2002  |\n",
       "|   Ozzie    |   Smith   | smithoz01 |  calpoly   |   2002  |\n",
       "|   Ozzie    |   Smith   | smithoz01 |  calpoly   |   2002  |\n",
       "|   Ozzie    |   Smith   | smithoz01 |  calpoly   |   2002  |\n",
       "|    Tony    |   Gwynn   | gwynnto01 | sandiegost |   2007  |\n",
       "|    Tony    |   Gwynn   | gwynnto01 | sandiegost |   2007  |\n",
       "|    Tony    |   Gwynn   | gwynnto01 | sandiegost |   2007  |\n",
       "|    Dick    |  Williams | willidi02 |  capasad   |   2008  |\n",
       "|    Doug    |   Harvey  | harvedo99 | sandiegost |   2010  |\n",
       "|    Doug    |   Harvey  | harvedo99 | sandiegost |   2010  |\n",
       "|    Pat     |  Gillick  | gillipa99 |  calavco   |   2011  |\n",
       "|    Pat     |  Gillick  | gillipa99 |    usc     |   2011  |\n",
       "|    Pat     |  Gillick  | gillipa99 |    usc     |   2011  |\n",
       "|   Randy    |  Johnson  | johnsra05 |    usc     |   2015  |\n",
       "|   Randy    |  Johnson  | johnsra05 |    usc     |   2015  |\n",
       "|   Randy    |  Johnson  | johnsra05 |    usc     |   2015  |\n",
       "|   Trevor   |  Hoffman  | hoffmtr01 |  cacypre   |   2018  |\n",
       "|   Trevor   |  Hoffman  | hoffmtr01 |  cacypre   |   2018  |\n",
       "+------------+-----------+-----------+------------+---------+"
      ]
     },
     "execution_count": 30,
     "metadata": {},
     "output_type": "execute_result"
    }
   ],
   "source": [
    "%%sql\n",
    "/* just run this cell */\n",
    "DROP VIEW IF EXISTS inducted_hof_ca;\n",
    "CREATE VIEW inducted_hof_ca AS {{query_2a.strip(';')}};\n",
    "\n",
    "SELECT * FROM inducted_hof_ca;"
   ]
  },
  {
   "cell_type": "code",
   "execution_count": 31,
   "metadata": {},
   "outputs": [
    {
     "data": {
      "text/html": [
       "<span style=\"None\">Running query in &#x27;postgresql://jovyan@127.0.0.1:5432/baseball&#x27;</span>"
      ],
      "text/plain": [
       "Running query in 'postgresql://jovyan@127.0.0.1:5432/baseball'"
      ]
     },
     "metadata": {},
     "output_type": "display_data"
    },
    {
     "data": {
      "text/html": [
       "<span style=\"color: green\">23 rows affected.</span>"
      ],
      "text/plain": [
       "23 rows affected."
      ]
     },
     "metadata": {},
     "output_type": "display_data"
    },
    {
     "data": {
      "text/html": [
       "<span style=\"color: green\">23 rows affected.</span>"
      ],
      "text/plain": [
       "23 rows affected."
      ]
     },
     "metadata": {},
     "output_type": "display_data"
    },
    {
     "data": {
      "text/html": [
       "<table>\n",
       "    <thead>\n",
       "        <tr>\n",
       "            <th>name_first</th>\n",
       "            <th>name_last</th>\n",
       "            <th>player_id</th>\n",
       "            <th>school_id</th>\n",
       "            <th>year_id</th>\n",
       "        </tr>\n",
       "    </thead>\n",
       "    <tbody>\n",
       "        <tr>\n",
       "            <td>Jackie</td>\n",
       "            <td>Robinson</td>\n",
       "            <td>robinja02</td>\n",
       "            <td>ucla</td>\n",
       "            <td>1962</td>\n",
       "        </tr>\n",
       "        <tr>\n",
       "            <td>Harry</td>\n",
       "            <td>Hooper</td>\n",
       "            <td>hoopeha01</td>\n",
       "            <td>stmarysca</td>\n",
       "            <td>1971</td>\n",
       "        </tr>\n",
       "        <tr>\n",
       "            <td>Joe</td>\n",
       "            <td>Morgan</td>\n",
       "            <td>morgajo02</td>\n",
       "            <td>camerri</td>\n",
       "            <td>1990</td>\n",
       "        </tr>\n",
       "        <tr>\n",
       "            <td>Tom</td>\n",
       "            <td>Seaver</td>\n",
       "            <td>seaveto01</td>\n",
       "            <td>cafrecc</td>\n",
       "            <td>1992</td>\n",
       "        </tr>\n",
       "        <tr>\n",
       "            <td>Tom</td>\n",
       "            <td>Seaver</td>\n",
       "            <td>seaveto01</td>\n",
       "            <td>usc</td>\n",
       "            <td>1992</td>\n",
       "        </tr>\n",
       "        <tr>\n",
       "            <td>Ozzie</td>\n",
       "            <td>Smith</td>\n",
       "            <td>smithoz01</td>\n",
       "            <td>calpoly</td>\n",
       "            <td>2002</td>\n",
       "        </tr>\n",
       "        <tr>\n",
       "            <td>Ozzie</td>\n",
       "            <td>Smith</td>\n",
       "            <td>smithoz01</td>\n",
       "            <td>calpoly</td>\n",
       "            <td>2002</td>\n",
       "        </tr>\n",
       "        <tr>\n",
       "            <td>Ozzie</td>\n",
       "            <td>Smith</td>\n",
       "            <td>smithoz01</td>\n",
       "            <td>calpoly</td>\n",
       "            <td>2002</td>\n",
       "        </tr>\n",
       "        <tr>\n",
       "            <td>Ozzie</td>\n",
       "            <td>Smith</td>\n",
       "            <td>smithoz01</td>\n",
       "            <td>calpoly</td>\n",
       "            <td>2002</td>\n",
       "        </tr>\n",
       "        <tr>\n",
       "            <td>Tony</td>\n",
       "            <td>Gwynn</td>\n",
       "            <td>gwynnto01</td>\n",
       "            <td>sandiegost</td>\n",
       "            <td>2007</td>\n",
       "        </tr>\n",
       "        <tr>\n",
       "            <td>Tony</td>\n",
       "            <td>Gwynn</td>\n",
       "            <td>gwynnto01</td>\n",
       "            <td>sandiegost</td>\n",
       "            <td>2007</td>\n",
       "        </tr>\n",
       "        <tr>\n",
       "            <td>Tony</td>\n",
       "            <td>Gwynn</td>\n",
       "            <td>gwynnto01</td>\n",
       "            <td>sandiegost</td>\n",
       "            <td>2007</td>\n",
       "        </tr>\n",
       "        <tr>\n",
       "            <td>Dick</td>\n",
       "            <td>Williams</td>\n",
       "            <td>willidi02</td>\n",
       "            <td>capasad</td>\n",
       "            <td>2008</td>\n",
       "        </tr>\n",
       "        <tr>\n",
       "            <td>Doug</td>\n",
       "            <td>Harvey</td>\n",
       "            <td>harvedo99</td>\n",
       "            <td>sandiegost</td>\n",
       "            <td>2010</td>\n",
       "        </tr>\n",
       "        <tr>\n",
       "            <td>Doug</td>\n",
       "            <td>Harvey</td>\n",
       "            <td>harvedo99</td>\n",
       "            <td>sandiegost</td>\n",
       "            <td>2010</td>\n",
       "        </tr>\n",
       "        <tr>\n",
       "            <td>Pat</td>\n",
       "            <td>Gillick</td>\n",
       "            <td>gillipa99</td>\n",
       "            <td>calavco</td>\n",
       "            <td>2011</td>\n",
       "        </tr>\n",
       "        <tr>\n",
       "            <td>Pat</td>\n",
       "            <td>Gillick</td>\n",
       "            <td>gillipa99</td>\n",
       "            <td>usc</td>\n",
       "            <td>2011</td>\n",
       "        </tr>\n",
       "        <tr>\n",
       "            <td>Pat</td>\n",
       "            <td>Gillick</td>\n",
       "            <td>gillipa99</td>\n",
       "            <td>usc</td>\n",
       "            <td>2011</td>\n",
       "        </tr>\n",
       "        <tr>\n",
       "            <td>Randy</td>\n",
       "            <td>Johnson</td>\n",
       "            <td>johnsra05</td>\n",
       "            <td>usc</td>\n",
       "            <td>2015</td>\n",
       "        </tr>\n",
       "        <tr>\n",
       "            <td>Randy</td>\n",
       "            <td>Johnson</td>\n",
       "            <td>johnsra05</td>\n",
       "            <td>usc</td>\n",
       "            <td>2015</td>\n",
       "        </tr>\n",
       "        <tr>\n",
       "            <td>Randy</td>\n",
       "            <td>Johnson</td>\n",
       "            <td>johnsra05</td>\n",
       "            <td>usc</td>\n",
       "            <td>2015</td>\n",
       "        </tr>\n",
       "        <tr>\n",
       "            <td>Trevor</td>\n",
       "            <td>Hoffman</td>\n",
       "            <td>hoffmtr01</td>\n",
       "            <td>cacypre</td>\n",
       "            <td>2018</td>\n",
       "        </tr>\n",
       "        <tr>\n",
       "            <td>Trevor</td>\n",
       "            <td>Hoffman</td>\n",
       "            <td>hoffmtr01</td>\n",
       "            <td>cacypre</td>\n",
       "            <td>2018</td>\n",
       "        </tr>\n",
       "    </tbody>\n",
       "</table>"
      ],
      "text/plain": [
       "+------------+-----------+-----------+------------+---------+\n",
       "| name_first | name_last | player_id | school_id  | year_id |\n",
       "+------------+-----------+-----------+------------+---------+\n",
       "|   Jackie   |  Robinson | robinja02 |    ucla    |   1962  |\n",
       "|   Harry    |   Hooper  | hoopeha01 | stmarysca  |   1971  |\n",
       "|    Joe     |   Morgan  | morgajo02 |  camerri   |   1990  |\n",
       "|    Tom     |   Seaver  | seaveto01 |  cafrecc   |   1992  |\n",
       "|    Tom     |   Seaver  | seaveto01 |    usc     |   1992  |\n",
       "|   Ozzie    |   Smith   | smithoz01 |  calpoly   |   2002  |\n",
       "|   Ozzie    |   Smith   | smithoz01 |  calpoly   |   2002  |\n",
       "|   Ozzie    |   Smith   | smithoz01 |  calpoly   |   2002  |\n",
       "|   Ozzie    |   Smith   | smithoz01 |  calpoly   |   2002  |\n",
       "|    Tony    |   Gwynn   | gwynnto01 | sandiegost |   2007  |\n",
       "|    Tony    |   Gwynn   | gwynnto01 | sandiegost |   2007  |\n",
       "|    Tony    |   Gwynn   | gwynnto01 | sandiegost |   2007  |\n",
       "|    Dick    |  Williams | willidi02 |  capasad   |   2008  |\n",
       "|    Doug    |   Harvey  | harvedo99 | sandiegost |   2010  |\n",
       "|    Doug    |   Harvey  | harvedo99 | sandiegost |   2010  |\n",
       "|    Pat     |  Gillick  | gillipa99 |  calavco   |   2011  |\n",
       "|    Pat     |  Gillick  | gillipa99 |    usc     |   2011  |\n",
       "|    Pat     |  Gillick  | gillipa99 |    usc     |   2011  |\n",
       "|   Randy    |  Johnson  | johnsra05 |    usc     |   2015  |\n",
       "|   Randy    |  Johnson  | johnsra05 |    usc     |   2015  |\n",
       "|   Randy    |  Johnson  | johnsra05 |    usc     |   2015  |\n",
       "|   Trevor   |  Hoffman  | hoffmtr01 |  cacypre   |   2018  |\n",
       "|   Trevor   |  Hoffman  | hoffmtr01 |  cacypre   |   2018  |\n",
       "+------------+-----------+-----------+------------+---------+"
      ]
     },
     "execution_count": 31,
     "metadata": {},
     "output_type": "execute_result"
    }
   ],
   "source": [
    "%%sql\n",
    "/* just run this cell */\n",
    "DROP MATERIALIZED VIEW IF EXISTS inducted_hof_ca_mat;\n",
    "CREATE MATERIALIZED VIEW inducted_hof_ca_mat AS {{query_2a.strip(';')}};\n",
    "\n",
    "SELECT * FROM inducted_hof_ca_mat;"
   ]
  },
  {
   "cell_type": "markdown",
   "metadata": {},
   "source": [
    "<br/><br/>\n",
    "\n",
    "---\n",
    "## Question 2b\n",
    "\n",
    "For this question, we want to compute the count of players who were inducted into the Hall of Fame and played baseball at a college in California for each `school_id` and `year_id` combination ordered by ascending `year_id`.\n",
    "\n",
    "You should write three queries that accomplish this task, but with different strategies:\n",
    "* Question 2bi: Use the `inducted_hof_ca` view;\n",
    "* Question 2bii Use the `inducted_hof_ca_mat` view; and\n",
    "* Question 2biii: **Do not use `inducted_hof_ca` view, `inducted_hof_ca_mat` materialized view, any common table expressions (CTEs), nor any subqueries.**\n",
    "\n",
    "For all subparts in Q2b, your table header should look like this:\n",
    "\n",
    "| school_id | year_id | count |\n",
    "| --- | --- | ---|"
   ]
  },
  {
   "cell_type": "markdown",
   "metadata": {
    "deletable": false,
    "editable": false
   },
   "source": [
    "### Question 2bi\n",
    "\n",
    "Write a query to accomplish the task above using the `inducted_hof_ca` view."
   ]
  },
  {
   "cell_type": "code",
   "execution_count": 32,
   "metadata": {
    "tags": []
   },
   "outputs": [
    {
     "data": {
      "text/html": [
       "<span style=\"None\">Running query in &#x27;postgresql://jovyan@127.0.0.1:5432/baseball&#x27;</span>"
      ],
      "text/plain": [
       "Running query in 'postgresql://jovyan@127.0.0.1:5432/baseball'"
      ]
     },
     "metadata": {},
     "output_type": "display_data"
    },
    {
     "data": {
      "text/html": [
       "<span style=\"color: green\">13 rows affected.</span>"
      ],
      "text/plain": [
       "13 rows affected."
      ]
     },
     "metadata": {},
     "output_type": "display_data"
    }
   ],
   "source": [
    "%%sql --save query_2bi result_2bi <<\n",
    "SELECT school_id, year_id, COUNT(player_id) AS count\n",
    "FROM inducted_hof_ca\n",
    "GROUP BY school_id, year_id\n",
    "ORDER BY year_id ASC, school_id ASC;"
   ]
  },
  {
   "cell_type": "code",
   "execution_count": 33,
   "metadata": {
    "tags": []
   },
   "outputs": [
    {
     "data": {
      "text/html": [
       "<table>\n",
       "    <thead>\n",
       "        <tr>\n",
       "            <th>school_id</th>\n",
       "            <th>year_id</th>\n",
       "            <th>count</th>\n",
       "        </tr>\n",
       "    </thead>\n",
       "    <tbody>\n",
       "        <tr>\n",
       "            <td>ucla</td>\n",
       "            <td>1962</td>\n",
       "            <td>1</td>\n",
       "        </tr>\n",
       "        <tr>\n",
       "            <td>stmarysca</td>\n",
       "            <td>1971</td>\n",
       "            <td>1</td>\n",
       "        </tr>\n",
       "        <tr>\n",
       "            <td>camerri</td>\n",
       "            <td>1990</td>\n",
       "            <td>1</td>\n",
       "        </tr>\n",
       "        <tr>\n",
       "            <td>cafrecc</td>\n",
       "            <td>1992</td>\n",
       "            <td>1</td>\n",
       "        </tr>\n",
       "        <tr>\n",
       "            <td>usc</td>\n",
       "            <td>1992</td>\n",
       "            <td>1</td>\n",
       "        </tr>\n",
       "        <tr>\n",
       "            <td>calpoly</td>\n",
       "            <td>2002</td>\n",
       "            <td>4</td>\n",
       "        </tr>\n",
       "        <tr>\n",
       "            <td>sandiegost</td>\n",
       "            <td>2007</td>\n",
       "            <td>3</td>\n",
       "        </tr>\n",
       "        <tr>\n",
       "            <td>capasad</td>\n",
       "            <td>2008</td>\n",
       "            <td>1</td>\n",
       "        </tr>\n",
       "        <tr>\n",
       "            <td>sandiegost</td>\n",
       "            <td>2010</td>\n",
       "            <td>2</td>\n",
       "        </tr>\n",
       "        <tr>\n",
       "            <td>calavco</td>\n",
       "            <td>2011</td>\n",
       "            <td>1</td>\n",
       "        </tr>\n",
       "        <tr>\n",
       "            <td>usc</td>\n",
       "            <td>2011</td>\n",
       "            <td>2</td>\n",
       "        </tr>\n",
       "        <tr>\n",
       "            <td>usc</td>\n",
       "            <td>2015</td>\n",
       "            <td>3</td>\n",
       "        </tr>\n",
       "        <tr>\n",
       "            <td>cacypre</td>\n",
       "            <td>2018</td>\n",
       "            <td>2</td>\n",
       "        </tr>\n",
       "    </tbody>\n",
       "</table>"
      ],
      "text/plain": [
       "+------------+---------+-------+\n",
       "| school_id  | year_id | count |\n",
       "+------------+---------+-------+\n",
       "|    ucla    |   1962  |   1   |\n",
       "| stmarysca  |   1971  |   1   |\n",
       "|  camerri   |   1990  |   1   |\n",
       "|  cafrecc   |   1992  |   1   |\n",
       "|    usc     |   1992  |   1   |\n",
       "|  calpoly   |   2002  |   4   |\n",
       "| sandiegost |   2007  |   3   |\n",
       "|  capasad   |   2008  |   1   |\n",
       "| sandiegost |   2010  |   2   |\n",
       "|  calavco   |   2011  |   1   |\n",
       "|    usc     |   2011  |   2   |\n",
       "|    usc     |   2015  |   3   |\n",
       "|  cacypre   |   2018  |   2   |\n",
       "+------------+---------+-------+"
      ]
     },
     "execution_count": 33,
     "metadata": {},
     "output_type": "execute_result"
    }
   ],
   "source": [
    "# Do not delete/edit this cell!\n",
    "# You must run this cell before running the autograder.\n",
    "query_2bi = %sqlcmd snippets query_2bi\n",
    "grading_util.save_results(\"result_2bi\", query_2bi, result_2bi)\n",
    "result_2bi"
   ]
  },
  {
   "cell_type": "code",
   "execution_count": 34,
   "metadata": {
    "deletable": false,
    "editable": false
   },
   "outputs": [
    {
     "data": {
      "text/html": [
       "<p><strong><pre style='display: inline;'>q2bi</pre></strong> passed! 🍀</p>"
      ],
      "text/plain": [
       "q2bi results: All test cases passed!"
      ]
     },
     "execution_count": 34,
     "metadata": {},
     "output_type": "execute_result"
    }
   ],
   "source": [
    "grader.check(\"q2bi\")"
   ]
  },
  {
   "cell_type": "markdown",
   "metadata": {
    "deletable": false,
    "editable": false
   },
   "source": [
    "<br/><br/>\n",
    "\n",
    "### Question 2bii\n",
    "\n",
    "Now, write the query a second time using the materialized view `inducted_hof_ca_mat`."
   ]
  },
  {
   "cell_type": "code",
   "execution_count": 35,
   "metadata": {
    "scrolled": true,
    "tags": []
   },
   "outputs": [
    {
     "data": {
      "text/html": [
       "<span style=\"None\">Running query in &#x27;postgresql://jovyan@127.0.0.1:5432/baseball&#x27;</span>"
      ],
      "text/plain": [
       "Running query in 'postgresql://jovyan@127.0.0.1:5432/baseball'"
      ]
     },
     "metadata": {},
     "output_type": "display_data"
    },
    {
     "data": {
      "text/html": [
       "<span style=\"color: green\">13 rows affected.</span>"
      ],
      "text/plain": [
       "13 rows affected."
      ]
     },
     "metadata": {},
     "output_type": "display_data"
    }
   ],
   "source": [
    "%%sql --save query_2bii result_2bii <<\n",
    "SELECT school_id, year_id, COUNT(player_id) AS count\n",
    "FROM inducted_hof_ca_mat\n",
    "GROUP BY school_id, year_id\n",
    "ORDER BY year_id ASC, school_id ASC;"
   ]
  },
  {
   "cell_type": "code",
   "execution_count": 36,
   "metadata": {
    "tags": []
   },
   "outputs": [
    {
     "data": {
      "text/html": [
       "<table>\n",
       "    <thead>\n",
       "        <tr>\n",
       "            <th>school_id</th>\n",
       "            <th>year_id</th>\n",
       "            <th>count</th>\n",
       "        </tr>\n",
       "    </thead>\n",
       "    <tbody>\n",
       "        <tr>\n",
       "            <td>ucla</td>\n",
       "            <td>1962</td>\n",
       "            <td>1</td>\n",
       "        </tr>\n",
       "        <tr>\n",
       "            <td>stmarysca</td>\n",
       "            <td>1971</td>\n",
       "            <td>1</td>\n",
       "        </tr>\n",
       "        <tr>\n",
       "            <td>camerri</td>\n",
       "            <td>1990</td>\n",
       "            <td>1</td>\n",
       "        </tr>\n",
       "        <tr>\n",
       "            <td>cafrecc</td>\n",
       "            <td>1992</td>\n",
       "            <td>1</td>\n",
       "        </tr>\n",
       "        <tr>\n",
       "            <td>usc</td>\n",
       "            <td>1992</td>\n",
       "            <td>1</td>\n",
       "        </tr>\n",
       "        <tr>\n",
       "            <td>calpoly</td>\n",
       "            <td>2002</td>\n",
       "            <td>4</td>\n",
       "        </tr>\n",
       "        <tr>\n",
       "            <td>sandiegost</td>\n",
       "            <td>2007</td>\n",
       "            <td>3</td>\n",
       "        </tr>\n",
       "        <tr>\n",
       "            <td>capasad</td>\n",
       "            <td>2008</td>\n",
       "            <td>1</td>\n",
       "        </tr>\n",
       "        <tr>\n",
       "            <td>sandiegost</td>\n",
       "            <td>2010</td>\n",
       "            <td>2</td>\n",
       "        </tr>\n",
       "        <tr>\n",
       "            <td>calavco</td>\n",
       "            <td>2011</td>\n",
       "            <td>1</td>\n",
       "        </tr>\n",
       "        <tr>\n",
       "            <td>usc</td>\n",
       "            <td>2011</td>\n",
       "            <td>2</td>\n",
       "        </tr>\n",
       "        <tr>\n",
       "            <td>usc</td>\n",
       "            <td>2015</td>\n",
       "            <td>3</td>\n",
       "        </tr>\n",
       "        <tr>\n",
       "            <td>cacypre</td>\n",
       "            <td>2018</td>\n",
       "            <td>2</td>\n",
       "        </tr>\n",
       "    </tbody>\n",
       "</table>"
      ],
      "text/plain": [
       "+------------+---------+-------+\n",
       "| school_id  | year_id | count |\n",
       "+------------+---------+-------+\n",
       "|    ucla    |   1962  |   1   |\n",
       "| stmarysca  |   1971  |   1   |\n",
       "|  camerri   |   1990  |   1   |\n",
       "|  cafrecc   |   1992  |   1   |\n",
       "|    usc     |   1992  |   1   |\n",
       "|  calpoly   |   2002  |   4   |\n",
       "| sandiegost |   2007  |   3   |\n",
       "|  capasad   |   2008  |   1   |\n",
       "| sandiegost |   2010  |   2   |\n",
       "|  calavco   |   2011  |   1   |\n",
       "|    usc     |   2011  |   2   |\n",
       "|    usc     |   2015  |   3   |\n",
       "|  cacypre   |   2018  |   2   |\n",
       "+------------+---------+-------+"
      ]
     },
     "execution_count": 36,
     "metadata": {},
     "output_type": "execute_result"
    }
   ],
   "source": [
    "# Do not delete/edit this cell!\n",
    "# You must run this cell before running the autograder.\n",
    "query_2bii = %sqlcmd snippets query_2bii\n",
    "grading_util.save_results(\"result_2bii\", query_2bii, result_2bii)\n",
    "result_2bii"
   ]
  },
  {
   "cell_type": "code",
   "execution_count": 37,
   "metadata": {
    "deletable": false,
    "editable": false
   },
   "outputs": [
    {
     "data": {
      "text/html": [
       "<p><strong><pre style='display: inline;'>q2bii</pre></strong> passed! 🎉</p>"
      ],
      "text/plain": [
       "q2bii results: All test cases passed!"
      ]
     },
     "execution_count": 37,
     "metadata": {},
     "output_type": "execute_result"
    }
   ],
   "source": [
    "grader.check(\"q2bii\")"
   ]
  },
  {
   "cell_type": "markdown",
   "metadata": {
    "deletable": false,
    "editable": false
   },
   "source": [
    "<br/><br/>\n",
    "\n",
    "### Question 2biii\n",
    "\n",
    "Finally, write the query a third time. Do **NOT** use the `inducted_hof_ca` view, nor the `inducted_hof_ca_mat` materialized view, nor any common table expressions (CTEs), nor any subqueries."
   ]
  },
  {
   "cell_type": "code",
   "execution_count": 38,
   "metadata": {
    "tags": []
   },
   "outputs": [
    {
     "data": {
      "text/html": [
       "<span style=\"None\">Running query in &#x27;postgresql://jovyan@127.0.0.1:5432/baseball&#x27;</span>"
      ],
      "text/plain": [
       "Running query in 'postgresql://jovyan@127.0.0.1:5432/baseball'"
      ]
     },
     "metadata": {},
     "output_type": "display_data"
    },
    {
     "data": {
      "text/html": [
       "<span style=\"color: green\">13 rows affected.</span>"
      ],
      "text/plain": [
       "13 rows affected."
      ]
     },
     "metadata": {},
     "output_type": "display_data"
    }
   ],
   "source": [
    "%%sql --save query_2biii result_2biii <<\n",
    "SELECT s.school_id, h.year_id, COUNT(p.player_id) AS count\n",
    "FROM hall_of_fame h\n",
    "JOIN college_playing c ON h.player_id = c.player_id\n",
    "JOIN people p ON p.player_id = h.player_id\n",
    "JOIN schools s ON s.school_id = c.school_id\n",
    "WHERE h.inducted = 'Y'\n",
    "  AND s.school_state = 'CA'\n",
    "GROUP BY s.school_id, h.year_id\n",
    "ORDER BY h.year_id ASC, s.school_id ASC;"
   ]
  },
  {
   "cell_type": "code",
   "execution_count": 39,
   "metadata": {
    "tags": []
   },
   "outputs": [
    {
     "data": {
      "text/html": [
       "<table>\n",
       "    <thead>\n",
       "        <tr>\n",
       "            <th>school_id</th>\n",
       "            <th>year_id</th>\n",
       "            <th>count</th>\n",
       "        </tr>\n",
       "    </thead>\n",
       "    <tbody>\n",
       "        <tr>\n",
       "            <td>ucla</td>\n",
       "            <td>1962</td>\n",
       "            <td>1</td>\n",
       "        </tr>\n",
       "        <tr>\n",
       "            <td>stmarysca</td>\n",
       "            <td>1971</td>\n",
       "            <td>1</td>\n",
       "        </tr>\n",
       "        <tr>\n",
       "            <td>camerri</td>\n",
       "            <td>1990</td>\n",
       "            <td>1</td>\n",
       "        </tr>\n",
       "        <tr>\n",
       "            <td>cafrecc</td>\n",
       "            <td>1992</td>\n",
       "            <td>1</td>\n",
       "        </tr>\n",
       "        <tr>\n",
       "            <td>usc</td>\n",
       "            <td>1992</td>\n",
       "            <td>1</td>\n",
       "        </tr>\n",
       "        <tr>\n",
       "            <td>calpoly</td>\n",
       "            <td>2002</td>\n",
       "            <td>4</td>\n",
       "        </tr>\n",
       "        <tr>\n",
       "            <td>sandiegost</td>\n",
       "            <td>2007</td>\n",
       "            <td>3</td>\n",
       "        </tr>\n",
       "        <tr>\n",
       "            <td>capasad</td>\n",
       "            <td>2008</td>\n",
       "            <td>1</td>\n",
       "        </tr>\n",
       "        <tr>\n",
       "            <td>sandiegost</td>\n",
       "            <td>2010</td>\n",
       "            <td>2</td>\n",
       "        </tr>\n",
       "        <tr>\n",
       "            <td>calavco</td>\n",
       "            <td>2011</td>\n",
       "            <td>1</td>\n",
       "        </tr>\n",
       "        <tr>\n",
       "            <td>usc</td>\n",
       "            <td>2011</td>\n",
       "            <td>2</td>\n",
       "        </tr>\n",
       "        <tr>\n",
       "            <td>usc</td>\n",
       "            <td>2015</td>\n",
       "            <td>3</td>\n",
       "        </tr>\n",
       "        <tr>\n",
       "            <td>cacypre</td>\n",
       "            <td>2018</td>\n",
       "            <td>2</td>\n",
       "        </tr>\n",
       "    </tbody>\n",
       "</table>"
      ],
      "text/plain": [
       "+------------+---------+-------+\n",
       "| school_id  | year_id | count |\n",
       "+------------+---------+-------+\n",
       "|    ucla    |   1962  |   1   |\n",
       "| stmarysca  |   1971  |   1   |\n",
       "|  camerri   |   1990  |   1   |\n",
       "|  cafrecc   |   1992  |   1   |\n",
       "|    usc     |   1992  |   1   |\n",
       "|  calpoly   |   2002  |   4   |\n",
       "| sandiegost |   2007  |   3   |\n",
       "|  capasad   |   2008  |   1   |\n",
       "| sandiegost |   2010  |   2   |\n",
       "|  calavco   |   2011  |   1   |\n",
       "|    usc     |   2011  |   2   |\n",
       "|    usc     |   2015  |   3   |\n",
       "|  cacypre   |   2018  |   2   |\n",
       "+------------+---------+-------+"
      ]
     },
     "execution_count": 39,
     "metadata": {},
     "output_type": "execute_result"
    }
   ],
   "source": [
    "# Do not delete/edit this cell!\n",
    "# You must run this cell before running the autograder.\n",
    "query_2biii = %sqlcmd snippets query_2biii\n",
    "grading_util.save_results(\"result_2biii\", query_2biii, result_2biii)\n",
    "result_2biii"
   ]
  },
  {
   "cell_type": "code",
   "execution_count": 40,
   "metadata": {
    "deletable": false,
    "editable": false
   },
   "outputs": [
    {
     "data": {
      "text/html": [
       "<p><strong><pre style='display: inline;'>q2biii</pre></strong> passed! 💯</p>"
      ],
      "text/plain": [
       "q2biii results: All test cases passed!"
      ]
     },
     "execution_count": 40,
     "metadata": {},
     "output_type": "execute_result"
    }
   ],
   "source": [
    "grader.check(\"q2biii\")"
   ]
  },
  {
   "cell_type": "markdown",
   "metadata": {
    "deletable": false,
    "editable": false
   },
   "source": [
    "<br/><br/>\n",
    "\n",
    "---\n",
    "\n",
    "## Question 2c\n",
    "Inspect the query plans for the three queries you wrote above by running the following cells."
   ]
  },
  {
   "cell_type": "code",
   "execution_count": 41,
   "metadata": {
    "deletable": false,
    "editable": false
   },
   "outputs": [
    {
     "name": "stdout",
     "output_type": "stream",
     "text": [
      "                                                                                      QUERY PLAN                                                                                      \n",
      "--------------------------------------------------------------------------------------------------------------------------------------------------------------------------------------\n",
      " GroupAggregate  (cost=325.73..325.75 rows=1 width=60) (actual time=4.068..4.076 rows=13 loops=1)\n",
      "   Group Key: inducted_hof_ca.year_id, inducted_hof_ca.school_id\n",
      "   ->  Sort  (cost=325.73..325.74 rows=1 width=90) (actual time=4.063..4.065 rows=23 loops=1)\n",
      "         Sort Key: inducted_hof_ca.year_id, inducted_hof_ca.school_id\n",
      "         Sort Method: quicksort  Memory: 26kB\n",
      "         ->  Subquery Scan on inducted_hof_ca  (cost=325.71..325.72 rows=1 width=90) (actual time=4.013..4.018 rows=23 loops=1)\n",
      "               ->  Sort  (cost=325.71..325.71 rows=1 width=326) (actual time=4.012..4.014 rows=23 loops=1)\n",
      "                     Sort Key: hof.year_id, p.player_id\n",
      "                     Sort Method: quicksort  Memory: 26kB\n",
      "                     ->  Nested Loop  (cost=0.85..325.70 rows=1 width=326) (actual time=1.413..3.984 rows=23 loops=1)\n",
      "                           ->  Nested Loop  (cost=0.57..319.95 rows=19 width=90) (actual time=0.143..3.565 rows=137 loops=1)\n",
      "                                 ->  Nested Loop  (cost=0.29..262.79 rows=21 width=80) (actual time=0.061..2.276 rows=323 loops=1)\n",
      "                                       ->  Seq Scan on hall_of_fame hof  (cost=0.00..96.39 rows=21 width=42) (actual time=0.019..0.598 rows=323 loops=1)\n",
      "                                             Filter: ((inducted)::text = 'Y'::text)\n",
      "                                             Rows Removed by Filter: 3868\n",
      "                                       ->  Index Only Scan using master_pkey on people p  (cost=0.29..7.92 rows=1 width=38) (actual time=0.005..0.005 rows=1 loops=323)\n",
      "                                             Index Cond: (player_id = (hof.player_id)::text)\n",
      "                                             Heap Fetches: 323\n",
      "                                 ->  Index Only Scan using college_playing_pkey on college_playing cp  (cost=0.29..1.85 rows=87 width=86) (actual time=0.004..0.004 rows=0 loops=323)\n",
      "                                       Index Cond: (player_id = (p.player_id)::text)\n",
      "                                       Heap Fetches: 137\n",
      "                           ->  Index Scan using schools_pkey on schools s  (cost=0.28..0.30 rows=1 width=48) (actual time=0.003..0.003 rows=0 loops=137)\n",
      "                                 Index Cond: ((school_id)::text = (cp.school_id)::text)\n",
      "                                 Filter: ((school_state)::text = 'CA'::text)\n",
      "                                 Rows Removed by Filter: 1\n",
      " Planning Time: 0.953 ms\n",
      " Execution Time: 4.231 ms\n",
      "(27 rows)\n",
      "\n"
     ]
    }
   ],
   "source": [
    "# just run this cell\n",
    "!psql -h localhost -d baseball -c \"EXPLAIN ANALYZE {query_2bi}\";"
   ]
  },
  {
   "cell_type": "code",
   "execution_count": 42,
   "metadata": {
    "deletable": false,
    "editable": false
   },
   "outputs": [
    {
     "name": "stdout",
     "output_type": "stream",
     "text": [
      "                                                          QUERY PLAN                                                          \n",
      "------------------------------------------------------------------------------------------------------------------------------\n",
      " Sort  (cost=23.67..24.17 rows=200 width=60) (actual time=0.054..0.055 rows=13 loops=1)\n",
      "   Sort Key: year_id, school_id\n",
      "   Sort Method: quicksort  Memory: 25kB\n",
      "   ->  HashAggregate  (cost=14.03..16.02 rows=200 width=60) (actual time=0.018..0.021 rows=13 loops=1)\n",
      "         Group Key: year_id, school_id\n",
      "         Batches: 1  Memory Usage: 40kB\n",
      "         ->  Seq Scan on inducted_hof_ca_mat  (cost=0.00..12.30 rows=230 width=90) (actual time=0.003..0.005 rows=23 loops=1)\n",
      " Planning Time: 0.261 ms\n",
      " Execution Time: 0.152 ms\n",
      "(9 rows)\n",
      "\n"
     ]
    }
   ],
   "source": [
    "# just run this cell\n",
    "!psql -h localhost -d baseball -c \"EXPLAIN ANALYZE {query_2bii}\";"
   ]
  },
  {
   "cell_type": "code",
   "execution_count": 43,
   "metadata": {
    "deletable": false,
    "editable": false
   },
   "outputs": [
    {
     "name": "stdout",
     "output_type": "stream",
     "text": [
      "                                                                               QUERY PLAN                                                                                \n",
      "-------------------------------------------------------------------------------------------------------------------------------------------------------------------------\n",
      " GroupAggregate  (cost=357.63..357.81 rows=9 width=60) (actual time=3.587..3.596 rows=13 loops=1)\n",
      "   Group Key: h.year_id, s.school_id\n",
      "   ->  Sort  (cost=357.63..357.65 rows=9 width=90) (actual time=3.582..3.585 rows=23 loops=1)\n",
      "         Sort Key: h.year_id, s.school_id\n",
      "         Sort Method: quicksort  Memory: 26kB\n",
      "         ->  Hash Join  (cost=28.74..357.49 rows=9 width=90) (actual time=1.496..3.544 rows=23 loops=1)\n",
      "               Hash Cond: ((c.school_id)::text = (s.school_id)::text)\n",
      "               ->  Nested Loop  (cost=0.57..324.52 rows=1822 width=90) (actual time=0.141..3.314 rows=137 loops=1)\n",
      "                     Join Filter: ((h.player_id)::text = (c.player_id)::text)\n",
      "                     ->  Nested Loop  (cost=0.29..262.79 rows=21 width=80) (actual time=0.059..2.095 rows=323 loops=1)\n",
      "                           ->  Seq Scan on hall_of_fame h  (cost=0.00..96.39 rows=21 width=42) (actual time=0.020..0.548 rows=323 loops=1)\n",
      "                                 Filter: ((inducted)::text = 'Y'::text)\n",
      "                                 Rows Removed by Filter: 3868\n",
      "                           ->  Index Only Scan using master_pkey on people p  (cost=0.29..7.92 rows=1 width=38) (actual time=0.004..0.004 rows=1 loops=323)\n",
      "                                 Index Cond: (player_id = (h.player_id)::text)\n",
      "                                 Heap Fetches: 323\n",
      "                     ->  Index Only Scan using college_playing_pkey on college_playing c  (cost=0.29..1.85 rows=87 width=86) (actual time=0.003..0.003 rows=0 loops=323)\n",
      "                           Index Cond: (player_id = (p.player_id)::text)\n",
      "                           Heap Fetches: 137\n",
      "               ->  Hash  (cost=28.09..28.09 rows=6 width=48) (actual time=0.188..0.189 rows=136 loops=1)\n",
      "                     Buckets: 1024  Batches: 1  Memory Usage: 14kB\n",
      "                     ->  Seq Scan on schools s  (cost=0.00..28.09 rows=6 width=48) (actual time=0.012..0.157 rows=136 loops=1)\n",
      "                           Filter: ((school_state)::text = 'CA'::text)\n",
      "                           Rows Removed by Filter: 1071\n",
      " Planning Time: 0.898 ms\n",
      " Execution Time: 3.723 ms\n",
      "(26 rows)\n",
      "\n"
     ]
    }
   ],
   "source": [
    "# just run this cell\n",
    "!psql -h localhost -d baseball -c \"EXPLAIN ANALYZE {query_2biii}\";"
   ]
  },
  {
   "cell_type": "markdown",
   "metadata": {
    "deletable": false,
    "editable": false
   },
   "source": [
    "Then, record the execution time and cost for each query."
   ]
  },
  {
   "cell_type": "code",
   "execution_count": 44,
   "metadata": {
    "tags": []
   },
   "outputs": [],
   "source": [
    "with_view_cost = 519.49\n",
    "with_view_timing = 6.06\n",
    "with_materialized_view_cost = 24.17\n",
    "with_materialized_view_timing = 0.059\n",
    "without_view_cost = 521.03\n",
    "without_view_timing = 4.539"
   ]
  },
  {
   "cell_type": "code",
   "execution_count": 45,
   "metadata": {
    "deletable": false,
    "editable": false
   },
   "outputs": [
    {
     "data": {
      "text/html": [
       "<p><strong><pre style='display: inline;'>q2c</pre></strong> passed! 🌟</p>"
      ],
      "text/plain": [
       "q2c results: All test cases passed!"
      ]
     },
     "execution_count": 45,
     "metadata": {},
     "output_type": "execute_result"
    }
   ],
   "source": [
    "grader.check(\"q2c\")"
   ]
  },
  {
   "cell_type": "markdown",
   "metadata": {
    "deletable": false,
    "editable": false
   },
   "source": [
    "<br/><br/>\n",
    "\n",
    "---\n",
    "\n",
    "## Question 2d\n",
    "\n",
    "Given your findings from inspecting the query plans in this question, as well as your understanding of views and materialized views from lectures, discuss the takeaways of using views and materialized views.\n",
    "\n",
    "### Question 2di\n",
    "\n",
    "**Assign the variable `q2di` to a list of _ALL_ of the below statements that are true.**\n",
    "\n",
    "A. Views will reduce the execution time and the cost of a query.<br/>\n",
    "B. Views will reduce the execution time of a query, but not the cost.<br/>\n",
    "C. Views will reduce the cost of a query, but not the execution time.<br/>\n",
    "D. Materialized views reduce the execution time and the cost of a query.<br/>\n",
    "E. Materialized views reduce the execution time, but not cost of a query.<br/>\n",
    "F. Materialized views reduce the cost of a query, but not the execution time.<br/>\n",
    "G. Materialized views will result in the same query plan as a query using views.<br/>\n",
    "H. Materialized views and views take the same time to create.<br/>\n",
    "I. Materialized views take less time to create than a view.<br/>\n",
    "J. Materialized views take more time to create than a view.<br/>\n",
    "    \n",
    "**Note:** Your answer should have the format like this if you think A and B are both true: `q2di = ['A', 'B']`. The autograder is **case sensitive** but order should not matter."
   ]
  },
  {
   "cell_type": "code",
   "execution_count": 46,
   "metadata": {
    "tags": []
   },
   "outputs": [],
   "source": [
    "q2di = ['D','J']"
   ]
  },
  {
   "cell_type": "code",
   "execution_count": 47,
   "metadata": {
    "deletable": false,
    "editable": false
   },
   "outputs": [
    {
     "data": {
      "text/html": [
       "<p><strong><pre style='display: inline;'>q2di</pre></strong> passed! 🙌</p>"
      ],
      "text/plain": [
       "q2di results: All test cases passed!"
      ]
     },
     "execution_count": 47,
     "metadata": {},
     "output_type": "execute_result"
    }
   ],
   "source": [
    "grader.check(\"q2di\")"
   ]
  },
  {
   "cell_type": "markdown",
   "metadata": {
    "deletable": false,
    "editable": false
   },
   "source": [
    "<!-- BEGIN QUESTION -->\n",
    "\n",
    "### Question 2dii\n",
    "\n",
    "1. **Explain your answer** to the previous part (Question 2di) based on your knowledge from lectures and details from the query plans.\n",
    "2. If there were any options you did NOT select, **choose any one of them and explain why you did not select it.**\n",
    "\n",
    "**Please answer in at most 5 sentences** and **explicitly state which answer option(s) you chose or didn't choose** in addition to your explanations. For example, you could write, \"I chose (A) because...\" or \"I did NOT choose (B) because...\""
   ]
  },
  {
   "cell_type": "markdown",
   "metadata": {},
   "source": [
    "I chose (D) because materialized views provide already generated results that can significantly reduce both the execution time and cost of queries by eliminating the need to recompute the data each time. I also chose (J) because creating materialized views typically requires more time than creating regular views, as materialized views store the actual data rather than just the SQL query. I did NOT choose (A) or (B) because views do not inherently reduce execution time or cost, they simply provide a convenient way to contain complex queries without improving performance."
   ]
  },
  {
   "cell_type": "markdown",
   "metadata": {
    "deletable": false,
    "editable": false
   },
   "source": [
    "<!-- END QUESTION -->\n",
    "\n",
    "<br><br>\n",
    "\n",
    "<hr style=\"border: 5px solid #003262;\" />\n",
    "<hr style=\"border: 1px solid #fdb515;\" />\n",
    "\n",
    "# Question 3: Predicate Pushdown\n",
    "In this question, we will explore the impact of predicates (i.e., filters) on a query's execution, particularly inspecting when the optimizer applies predicates."
   ]
  },
  {
   "cell_type": "markdown",
   "metadata": {
    "deletable": false,
    "editable": false
   },
   "source": [
    "\n",
    "## Question 3a\n",
    "\n",
    "Recall the `inducted_hof_ca` view created in `Question 2`. Run `EXPLAIN ANALYZE` for a query that that gets all rows from the view, and record the execution time and cost."
   ]
  },
  {
   "cell_type": "code",
   "execution_count": 48,
   "metadata": {
    "tags": []
   },
   "outputs": [
    {
     "name": "stderr",
     "output_type": "stream",
     "text": [
      "'EXPLAIN ANALYZE SELECT * FROM inducted_hof_ca' contains unsupported syntax. Falling back to parsing as a 'Command'.\n"
     ]
    },
    {
     "data": {
      "text/html": [
       "<span style=\"None\">Running query in &#x27;postgresql://jovyan@127.0.0.1:5432/baseball&#x27;</span>"
      ],
      "text/plain": [
       "Running query in 'postgresql://jovyan@127.0.0.1:5432/baseball'"
      ]
     },
     "metadata": {},
     "output_type": "display_data"
    },
    {
     "data": {
      "text/html": [
       "<span style=\"color: green\">20 rows affected.</span>"
      ],
      "text/plain": [
       "20 rows affected."
      ]
     },
     "metadata": {},
     "output_type": "display_data"
    },
    {
     "data": {
      "text/html": [
       "<table>\n",
       "    <thead>\n",
       "        <tr>\n",
       "            <th>QUERY PLAN</th>\n",
       "        </tr>\n",
       "    </thead>\n",
       "    <tbody>\n",
       "        <tr>\n",
       "            <td>Sort  (cost=325.71..325.71 rows=1 width=326) (actual time=3.411..3.414 rows=23 loops=1)</td>\n",
       "        </tr>\n",
       "        <tr>\n",
       "            <td>&nbsp;&nbsp;Sort Key: hof.year_id, p.player_id</td>\n",
       "        </tr>\n",
       "        <tr>\n",
       "            <td>&nbsp;&nbsp;Sort Method: quicksort  Memory: 26kB</td>\n",
       "        </tr>\n",
       "        <tr>\n",
       "            <td>&nbsp;&nbsp;->  Nested Loop  (cost=0.85..325.70 rows=1 width=326) (actual time=1.189..3.395 rows=23 loops=1)</td>\n",
       "        </tr>\n",
       "        <tr>\n",
       "            <td>&nbsp;&nbsp;&nbsp;&nbsp;&nbsp;&nbsp;&nbsp;&nbsp;->  Nested Loop  (cost=0.57..319.95 rows=19 width=326) (actual time=0.104..3.041 rows=137 loops=1)</td>\n",
       "        </tr>\n",
       "        <tr>\n",
       "            <td>&nbsp;&nbsp;&nbsp;&nbsp;&nbsp;&nbsp;&nbsp;&nbsp;&nbsp;&nbsp;&nbsp;&nbsp;&nbsp;&nbsp;->  Nested Loop  (cost=0.29..262.79 rows=21 width=316) (actual time=0.049..1.913 rows=323 loops=1)</td>\n",
       "        </tr>\n",
       "        <tr>\n",
       "            <td>&nbsp;&nbsp;&nbsp;&nbsp;&nbsp;&nbsp;&nbsp;&nbsp;&nbsp;&nbsp;&nbsp;&nbsp;&nbsp;&nbsp;&nbsp;&nbsp;&nbsp;&nbsp;&nbsp;&nbsp;->  Seq Scan on hall_of_fame hof  (cost=0.00..96.39 rows=21 width=42) (actual time=0.014..0.544 rows=323 loops=1)</td>\n",
       "        </tr>\n",
       "        <tr>\n",
       "            <td>&nbsp;&nbsp;&nbsp;&nbsp;&nbsp;&nbsp;&nbsp;&nbsp;&nbsp;&nbsp;&nbsp;&nbsp;&nbsp;&nbsp;&nbsp;&nbsp;&nbsp;&nbsp;&nbsp;&nbsp;&nbsp;&nbsp;&nbsp;&nbsp;&nbsp;&nbsp;Filter: ((inducted)::text = 'Y'::text)</td>\n",
       "        </tr>\n",
       "        <tr>\n",
       "            <td>&nbsp;&nbsp;&nbsp;&nbsp;&nbsp;&nbsp;&nbsp;&nbsp;&nbsp;&nbsp;&nbsp;&nbsp;&nbsp;&nbsp;&nbsp;&nbsp;&nbsp;&nbsp;&nbsp;&nbsp;&nbsp;&nbsp;&nbsp;&nbsp;&nbsp;&nbsp;Rows Removed by Filter: 3868</td>\n",
       "        </tr>\n",
       "        <tr>\n",
       "            <td>&nbsp;&nbsp;&nbsp;&nbsp;&nbsp;&nbsp;&nbsp;&nbsp;&nbsp;&nbsp;&nbsp;&nbsp;&nbsp;&nbsp;&nbsp;&nbsp;&nbsp;&nbsp;&nbsp;&nbsp;->  Index Scan using master_pkey on people p  (cost=0.29..7.92 rows=1 width=274) (actual time=0.004..0.004 rows=1 loops=323)</td>\n",
       "        </tr>\n",
       "        <tr>\n",
       "            <td>&nbsp;&nbsp;&nbsp;&nbsp;&nbsp;&nbsp;&nbsp;&nbsp;&nbsp;&nbsp;&nbsp;&nbsp;&nbsp;&nbsp;&nbsp;&nbsp;&nbsp;&nbsp;&nbsp;&nbsp;&nbsp;&nbsp;&nbsp;&nbsp;&nbsp;&nbsp;Index Cond: ((player_id)::text = (hof.player_id)::text)</td>\n",
       "        </tr>\n",
       "        <tr>\n",
       "            <td>&nbsp;&nbsp;&nbsp;&nbsp;&nbsp;&nbsp;&nbsp;&nbsp;&nbsp;&nbsp;&nbsp;&nbsp;&nbsp;&nbsp;->  Index Only Scan using college_playing_pkey on college_playing cp  (cost=0.29..1.85 rows=87 width=86) (actual time=0.003..0.003 rows=0 loops=323)</td>\n",
       "        </tr>\n",
       "        <tr>\n",
       "            <td>&nbsp;&nbsp;&nbsp;&nbsp;&nbsp;&nbsp;&nbsp;&nbsp;&nbsp;&nbsp;&nbsp;&nbsp;&nbsp;&nbsp;&nbsp;&nbsp;&nbsp;&nbsp;&nbsp;&nbsp;Index Cond: (player_id = (p.player_id)::text)</td>\n",
       "        </tr>\n",
       "        <tr>\n",
       "            <td>&nbsp;&nbsp;&nbsp;&nbsp;&nbsp;&nbsp;&nbsp;&nbsp;&nbsp;&nbsp;&nbsp;&nbsp;&nbsp;&nbsp;&nbsp;&nbsp;&nbsp;&nbsp;&nbsp;&nbsp;Heap Fetches: 137</td>\n",
       "        </tr>\n",
       "        <tr>\n",
       "            <td>&nbsp;&nbsp;&nbsp;&nbsp;&nbsp;&nbsp;&nbsp;&nbsp;->  Index Scan using schools_pkey on schools s  (cost=0.28..0.30 rows=1 width=48) (actual time=0.002..0.002 rows=0 loops=137)</td>\n",
       "        </tr>\n",
       "        <tr>\n",
       "            <td>&nbsp;&nbsp;&nbsp;&nbsp;&nbsp;&nbsp;&nbsp;&nbsp;&nbsp;&nbsp;&nbsp;&nbsp;&nbsp;&nbsp;Index Cond: ((school_id)::text = (cp.school_id)::text)</td>\n",
       "        </tr>\n",
       "        <tr>\n",
       "            <td>&nbsp;&nbsp;&nbsp;&nbsp;&nbsp;&nbsp;&nbsp;&nbsp;&nbsp;&nbsp;&nbsp;&nbsp;&nbsp;&nbsp;Filter: ((school_state)::text = 'CA'::text)</td>\n",
       "        </tr>\n",
       "        <tr>\n",
       "            <td>&nbsp;&nbsp;&nbsp;&nbsp;&nbsp;&nbsp;&nbsp;&nbsp;&nbsp;&nbsp;&nbsp;&nbsp;&nbsp;&nbsp;Rows Removed by Filter: 1</td>\n",
       "        </tr>\n",
       "        <tr>\n",
       "            <td>Planning Time: 0.405 ms</td>\n",
       "        </tr>\n",
       "        <tr>\n",
       "            <td>Execution Time: 3.450 ms</td>\n",
       "        </tr>\n",
       "    </tbody>\n",
       "</table>"
      ],
      "text/plain": [
       "+--------------------------------------------------------------------------------------------------------------------------------------------------------------------+\n",
       "|                                                                             QUERY PLAN                                                                             |\n",
       "+--------------------------------------------------------------------------------------------------------------------------------------------------------------------+\n",
       "|                                      Sort  (cost=325.71..325.71 rows=1 width=326) (actual time=3.411..3.414 rows=23 loops=1)                                       |\n",
       "|                                                                  Sort Key: hof.year_id, p.player_id                                                                |\n",
       "|                                                                 Sort Method: quicksort  Memory: 26kB                                                               |\n",
       "|                                   ->  Nested Loop  (cost=0.85..325.70 rows=1 width=326) (actual time=1.189..3.395 rows=23 loops=1)                                 |\n",
       "|                                     ->  Nested Loop  (cost=0.57..319.95 rows=19 width=326) (actual time=0.104..3.041 rows=137 loops=1)                             |\n",
       "|                                        ->  Nested Loop  (cost=0.29..262.79 rows=21 width=316) (actual time=0.049..1.913 rows=323 loops=1)                          |\n",
       "|                                   ->  Seq Scan on hall_of_fame hof  (cost=0.00..96.39 rows=21 width=42) (actual time=0.014..0.544 rows=323 loops=1)                |\n",
       "|                                                                            Filter: ((inducted)::text = 'Y'::text)                                                  |\n",
       "|                                                                                 Rows Removed by Filter: 3868                                                       |\n",
       "|                              ->  Index Scan using master_pkey on people p  (cost=0.29..7.92 rows=1 width=274) (actual time=0.004..0.004 rows=1 loops=323)          |\n",
       "|                                                                   Index Cond: ((player_id)::text = (hof.player_id)::text)                                          |\n",
       "|               ->  Index Only Scan using college_playing_pkey on college_playing cp  (cost=0.29..1.85 rows=87 width=86) (actual time=0.003..0.003 rows=0 loops=323) |\n",
       "|                                                                     Index Cond: (player_id = (p.player_id)::text)                                                  |\n",
       "|                                                                                   Heap Fetches: 137                                                                |\n",
       "|                       ->  Index Scan using schools_pkey on schools s  (cost=0.28..0.30 rows=1 width=48) (actual time=0.002..0.002 rows=0 loops=137)                |\n",
       "|                                                              Index Cond: ((school_id)::text = (cp.school_id)::text)                                                |\n",
       "|                                                                   Filter: ((school_state)::text = 'CA'::text)                                                      |\n",
       "|                                                                            Rows Removed by Filter: 1                                                               |\n",
       "|                                                                      Planning Time: 0.405 ms                                                                       |\n",
       "|                                                                      Execution Time: 3.450 ms                                                                      |\n",
       "+--------------------------------------------------------------------------------------------------------------------------------------------------------------------+"
      ]
     },
     "execution_count": 48,
     "metadata": {},
     "output_type": "execute_result"
    }
   ],
   "source": [
    "%%sql\n",
    "EXPLAIN ANALYZE SELECT * FROM inducted_hof_ca;"
   ]
  },
  {
   "cell_type": "code",
   "execution_count": 49,
   "metadata": {
    "tags": []
   },
   "outputs": [],
   "source": [
    "query_view_cost = 527.10\n",
    "query_view_timing = 4.199"
   ]
  },
  {
   "cell_type": "code",
   "execution_count": 50,
   "metadata": {
    "deletable": false,
    "editable": false
   },
   "outputs": [
    {
     "data": {
      "text/html": [
       "<p><strong><pre style='display: inline;'>q3a</pre></strong> passed! 🎉</p>"
      ],
      "text/plain": [
       "q3a results: All test cases passed!"
      ]
     },
     "execution_count": 50,
     "metadata": {},
     "output_type": "execute_result"
    }
   ],
   "source": [
    "grader.check(\"q3a\")"
   ]
  },
  {
   "cell_type": "markdown",
   "metadata": {
    "deletable": false,
    "editable": false
   },
   "source": [
    "<br><br>\n",
    "\n",
    "---\n",
    "\n",
    "## Question 3b\n",
    "\n",
    "Now, run `EXPLAIN ANALYZE` on the same query as 3a, except now add a filter to only return rows from `inducted_hof_ca` where the year is after 2010. Inspect the query plan and record the execution time and cost."
   ]
  },
  {
   "cell_type": "code",
   "execution_count": 51,
   "metadata": {
    "tags": []
   },
   "outputs": [
    {
     "name": "stderr",
     "output_type": "stream",
     "text": [
      "'EXPLAIN ANALYZE SELECT * FROM inducted_hof_ca \n",
      "WHERE year_id > 2010' contains unsupported syntax. Falling back to parsing as a 'Command'.\n"
     ]
    },
    {
     "data": {
      "text/html": [
       "<span style=\"None\">Running query in &#x27;postgresql://jovyan@127.0.0.1:5432/baseball&#x27;</span>"
      ],
      "text/plain": [
       "Running query in 'postgresql://jovyan@127.0.0.1:5432/baseball'"
      ]
     },
     "metadata": {},
     "output_type": "display_data"
    },
    {
     "data": {
      "text/html": [
       "<span style=\"color: green\">20 rows affected.</span>"
      ],
      "text/plain": [
       "20 rows affected."
      ]
     },
     "metadata": {},
     "output_type": "display_data"
    },
    {
     "data": {
      "text/html": [
       "<table>\n",
       "    <thead>\n",
       "        <tr>\n",
       "            <th>QUERY PLAN</th>\n",
       "        </tr>\n",
       "    </thead>\n",
       "    <tbody>\n",
       "        <tr>\n",
       "            <td>Sort  (cost=185.88..185.89 rows=1 width=326) (actual time=1.134..1.136 rows=8 loops=1)</td>\n",
       "        </tr>\n",
       "        <tr>\n",
       "            <td>&nbsp;&nbsp;Sort Key: hof.year_id, p.player_id</td>\n",
       "        </tr>\n",
       "        <tr>\n",
       "            <td>&nbsp;&nbsp;Sort Method: quicksort  Memory: 25kB</td>\n",
       "        </tr>\n",
       "        <tr>\n",
       "            <td>&nbsp;&nbsp;->  Nested Loop  (cost=0.85..185.87 rows=1 width=326) (actual time=0.530..1.119 rows=8 loops=1)</td>\n",
       "        </tr>\n",
       "        <tr>\n",
       "            <td>&nbsp;&nbsp;&nbsp;&nbsp;&nbsp;&nbsp;&nbsp;&nbsp;->  Nested Loop  (cost=0.57..184.05 rows=6 width=326) (actual time=0.517..0.992 rows=27 loops=1)</td>\n",
       "        </tr>\n",
       "        <tr>\n",
       "            <td>&nbsp;&nbsp;&nbsp;&nbsp;&nbsp;&nbsp;&nbsp;&nbsp;&nbsp;&nbsp;&nbsp;&nbsp;&nbsp;&nbsp;->  Nested Loop  (cost=0.29..165.00 rows=7 width=316) (actual time=0.467..0.779 rows=31 loops=1)</td>\n",
       "        </tr>\n",
       "        <tr>\n",
       "            <td>&nbsp;&nbsp;&nbsp;&nbsp;&nbsp;&nbsp;&nbsp;&nbsp;&nbsp;&nbsp;&nbsp;&nbsp;&nbsp;&nbsp;&nbsp;&nbsp;&nbsp;&nbsp;&nbsp;&nbsp;->  Seq Scan on hall_of_fame hof  (cost=0.00..106.86 rows=7 width=42) (actual time=0.435..0.521 rows=31 loops=1)</td>\n",
       "        </tr>\n",
       "        <tr>\n",
       "            <td>&nbsp;&nbsp;&nbsp;&nbsp;&nbsp;&nbsp;&nbsp;&nbsp;&nbsp;&nbsp;&nbsp;&nbsp;&nbsp;&nbsp;&nbsp;&nbsp;&nbsp;&nbsp;&nbsp;&nbsp;&nbsp;&nbsp;&nbsp;&nbsp;&nbsp;&nbsp;Filter: ((year_id > 2010) AND ((inducted)::text = 'Y'::text))</td>\n",
       "        </tr>\n",
       "        <tr>\n",
       "            <td>&nbsp;&nbsp;&nbsp;&nbsp;&nbsp;&nbsp;&nbsp;&nbsp;&nbsp;&nbsp;&nbsp;&nbsp;&nbsp;&nbsp;&nbsp;&nbsp;&nbsp;&nbsp;&nbsp;&nbsp;&nbsp;&nbsp;&nbsp;&nbsp;&nbsp;&nbsp;Rows Removed by Filter: 4160</td>\n",
       "        </tr>\n",
       "        <tr>\n",
       "            <td>&nbsp;&nbsp;&nbsp;&nbsp;&nbsp;&nbsp;&nbsp;&nbsp;&nbsp;&nbsp;&nbsp;&nbsp;&nbsp;&nbsp;&nbsp;&nbsp;&nbsp;&nbsp;&nbsp;&nbsp;->  Index Scan using master_pkey on people p  (cost=0.29..8.30 rows=1 width=274) (actual time=0.007..0.007 rows=1 loops=31)</td>\n",
       "        </tr>\n",
       "        <tr>\n",
       "            <td>&nbsp;&nbsp;&nbsp;&nbsp;&nbsp;&nbsp;&nbsp;&nbsp;&nbsp;&nbsp;&nbsp;&nbsp;&nbsp;&nbsp;&nbsp;&nbsp;&nbsp;&nbsp;&nbsp;&nbsp;&nbsp;&nbsp;&nbsp;&nbsp;&nbsp;&nbsp;Index Cond: ((player_id)::text = (hof.player_id)::text)</td>\n",
       "        </tr>\n",
       "        <tr>\n",
       "            <td>&nbsp;&nbsp;&nbsp;&nbsp;&nbsp;&nbsp;&nbsp;&nbsp;&nbsp;&nbsp;&nbsp;&nbsp;&nbsp;&nbsp;->  Index Only Scan using college_playing_pkey on college_playing cp  (cost=0.29..1.85 rows=87 width=86) (actual time=0.006..0.006 rows=1 loops=31)</td>\n",
       "        </tr>\n",
       "        <tr>\n",
       "            <td>&nbsp;&nbsp;&nbsp;&nbsp;&nbsp;&nbsp;&nbsp;&nbsp;&nbsp;&nbsp;&nbsp;&nbsp;&nbsp;&nbsp;&nbsp;&nbsp;&nbsp;&nbsp;&nbsp;&nbsp;Index Cond: (player_id = (p.player_id)::text)</td>\n",
       "        </tr>\n",
       "        <tr>\n",
       "            <td>&nbsp;&nbsp;&nbsp;&nbsp;&nbsp;&nbsp;&nbsp;&nbsp;&nbsp;&nbsp;&nbsp;&nbsp;&nbsp;&nbsp;&nbsp;&nbsp;&nbsp;&nbsp;&nbsp;&nbsp;Heap Fetches: 27</td>\n",
       "        </tr>\n",
       "        <tr>\n",
       "            <td>&nbsp;&nbsp;&nbsp;&nbsp;&nbsp;&nbsp;&nbsp;&nbsp;->  Index Scan using schools_pkey on schools s  (cost=0.28..0.30 rows=1 width=48) (actual time=0.004..0.004 rows=0 loops=27)</td>\n",
       "        </tr>\n",
       "        <tr>\n",
       "            <td>&nbsp;&nbsp;&nbsp;&nbsp;&nbsp;&nbsp;&nbsp;&nbsp;&nbsp;&nbsp;&nbsp;&nbsp;&nbsp;&nbsp;Index Cond: ((school_id)::text = (cp.school_id)::text)</td>\n",
       "        </tr>\n",
       "        <tr>\n",
       "            <td>&nbsp;&nbsp;&nbsp;&nbsp;&nbsp;&nbsp;&nbsp;&nbsp;&nbsp;&nbsp;&nbsp;&nbsp;&nbsp;&nbsp;Filter: ((school_state)::text = 'CA'::text)</td>\n",
       "        </tr>\n",
       "        <tr>\n",
       "            <td>&nbsp;&nbsp;&nbsp;&nbsp;&nbsp;&nbsp;&nbsp;&nbsp;&nbsp;&nbsp;&nbsp;&nbsp;&nbsp;&nbsp;Rows Removed by Filter: 1</td>\n",
       "        </tr>\n",
       "        <tr>\n",
       "            <td>Planning Time: 0.420 ms</td>\n",
       "        </tr>\n",
       "        <tr>\n",
       "            <td>Execution Time: 1.188 ms</td>\n",
       "        </tr>\n",
       "    </tbody>\n",
       "</table>"
      ],
      "text/plain": [
       "+-------------------------------------------------------------------------------------------------------------------------------------------------------------------+\n",
       "|                                                                             QUERY PLAN                                                                            |\n",
       "+-------------------------------------------------------------------------------------------------------------------------------------------------------------------+\n",
       "|                                       Sort  (cost=185.88..185.89 rows=1 width=326) (actual time=1.134..1.136 rows=8 loops=1)                                      |\n",
       "|                                                                  Sort Key: hof.year_id, p.player_id                                                               |\n",
       "|                                                                 Sort Method: quicksort  Memory: 25kB                                                              |\n",
       "|                                   ->  Nested Loop  (cost=0.85..185.87 rows=1 width=326) (actual time=0.530..1.119 rows=8 loops=1)                                 |\n",
       "|                                      ->  Nested Loop  (cost=0.57..184.05 rows=6 width=326) (actual time=0.517..0.992 rows=27 loops=1)                             |\n",
       "|                                         ->  Nested Loop  (cost=0.29..165.00 rows=7 width=316) (actual time=0.467..0.779 rows=31 loops=1)                          |\n",
       "|                                    ->  Seq Scan on hall_of_fame hof  (cost=0.00..106.86 rows=7 width=42) (actual time=0.435..0.521 rows=31 loops=1)               |\n",
       "|                                                                Filter: ((year_id > 2010) AND ((inducted)::text = 'Y'::text))                                      |\n",
       "|                                                                                 Rows Removed by Filter: 4160                                                      |\n",
       "|                              ->  Index Scan using master_pkey on people p  (cost=0.29..8.30 rows=1 width=274) (actual time=0.007..0.007 rows=1 loops=31)          |\n",
       "|                                                                   Index Cond: ((player_id)::text = (hof.player_id)::text)                                         |\n",
       "|               ->  Index Only Scan using college_playing_pkey on college_playing cp  (cost=0.29..1.85 rows=87 width=86) (actual time=0.006..0.006 rows=1 loops=31) |\n",
       "|                                                                     Index Cond: (player_id = (p.player_id)::text)                                                 |\n",
       "|                                                                                    Heap Fetches: 27                                                               |\n",
       "|                        ->  Index Scan using schools_pkey on schools s  (cost=0.28..0.30 rows=1 width=48) (actual time=0.004..0.004 rows=0 loops=27)               |\n",
       "|                                                              Index Cond: ((school_id)::text = (cp.school_id)::text)                                               |\n",
       "|                                                                   Filter: ((school_state)::text = 'CA'::text)                                                     |\n",
       "|                                                                            Rows Removed by Filter: 1                                                              |\n",
       "|                                                                      Planning Time: 0.420 ms                                                                      |\n",
       "|                                                                      Execution Time: 1.188 ms                                                                     |\n",
       "+-------------------------------------------------------------------------------------------------------------------------------------------------------------------+"
      ]
     },
     "execution_count": 51,
     "metadata": {},
     "output_type": "execute_result"
    }
   ],
   "source": [
    "%%sql\n",
    "EXPLAIN ANALYZE SELECT * FROM inducted_hof_ca \n",
    "WHERE year_id > 2010;"
   ]
  },
  {
   "cell_type": "code",
   "execution_count": 52,
   "metadata": {
    "tags": []
   },
   "outputs": [],
   "source": [
    "query_view_with_filter_cost = 210\n",
    "query_view_with_filter_timing = 0.7"
   ]
  },
  {
   "cell_type": "code",
   "execution_count": 53,
   "metadata": {
    "deletable": false,
    "editable": false
   },
   "outputs": [
    {
     "data": {
      "text/html": [
       "<p><strong><pre style='display: inline;'>q3b</pre></strong> passed! 🙌</p>"
      ],
      "text/plain": [
       "q3b results: All test cases passed!"
      ]
     },
     "execution_count": 53,
     "metadata": {},
     "output_type": "execute_result"
    }
   ],
   "source": [
    "grader.check(\"q3b\")"
   ]
  },
  {
   "cell_type": "markdown",
   "metadata": {
    "deletable": false,
    "editable": false
   },
   "source": [
    "<!-- BEGIN QUESTION -->\n",
    "\n",
    "## Question 3c\n",
    "\n",
    "Given your findings from inspecting the query plans of queries from Questions 3a and 3b, fill in the blank and **justify your answer**. Explain your answer based on your knowledge from lectures, and details from the query plans. Your response should be no longer than 3 sentences.\n",
    "\n",
    "**Note:** Your answer should be formatted as follows if you think option A is true: `(A) because ...`\n",
    "\n",
    "**Adding a filter ___ the cost.**\n",
    "<br>\n",
    "A. increased\n",
    "<br>\n",
    "B. decreased\n",
    "<br>\n",
    "C. did not change"
   ]
  },
  {
   "cell_type": "markdown",
   "metadata": {},
   "source": [
    "(B) because the query plan for the filtered query (3b) shows a cost of 210, which is lower than the cost for the unfiltered query (3a), indicating that fewer resources are required to retrieve the relevant data when a filter is applied."
   ]
  },
  {
   "cell_type": "markdown",
   "metadata": {
    "deletable": false,
    "editable": false
   },
   "source": [
    "<!-- END QUESTION -->\n",
    "\n",
    "<!-- BEGIN QUESTION -->\n",
    "\n",
    "<br><br>\n",
    "\n",
    "---\n",
    "\n",
    "## Question 3d\n",
    "\n",
    "Given your findings from inspecting the query plans of queries from Questions 3a and 3b, fill in the blank and **justify your answer**. Explain your answer based on your knowledge from lectures, and details from the query plans. Your response should be no longer than 3 sentences.\n",
    "\n",
    "**Note:** Your answer should be formatted as follows if you think option A is true: `(A) because ...`\n",
    "\n",
    "**Adding a filter ___ the execution time.**\n",
    "<br>\n",
    "A. increased\n",
    "<br>\n",
    "B. decreased\n",
    "<br>\n",
    "C. did not change"
   ]
  },
  {
   "cell_type": "markdown",
   "metadata": {},
   "source": [
    "(B) because the execution time for the filtered query (3b) 1.1 is significantly lower than the execution time for the unfiltered query 4.4 (3a), which basically demonstrates that the filter optimizes the query performance by reducing the number of rows processed."
   ]
  },
  {
   "cell_type": "markdown",
   "metadata": {
    "deletable": false,
    "editable": false
   },
   "source": [
    "<!-- END QUESTION -->\n",
    "\n",
    "<br><br>\n",
    "\n",
    "<hr style=\"border: 5px solid #003262;\" />\n",
    "<hr style=\"border: 1px solid #fdb515;\" />\n",
    "\n",
    "# Question 4: Join Approaches\n",
    "\n",
    "In this question, we'll explore different join approaches (Nested Loop Join, Merge Join, Hash Join) and discuss how the query optimizer picks the best approach."
   ]
  },
  {
   "cell_type": "markdown",
   "metadata": {
    "deletable": false,
    "editable": false
   },
   "source": [
    "<br/><br/>\n",
    "\n",
    "---\n",
    "\n",
    "## Question 4a\n",
    "Perform an inner join on the `people` and `college_playing` tables on the `player_id` column. Select all columns. (No need to run `EXPLAIN ANALYZE` here, we do it for you below.)"
   ]
  },
  {
   "cell_type": "code",
   "execution_count": 54,
   "metadata": {
    "tags": []
   },
   "outputs": [
    {
     "data": {
      "text/html": [
       "<span style=\"None\">Running query in &#x27;postgresql://jovyan@127.0.0.1:5432/baseball&#x27;</span>"
      ],
      "text/plain": [
       "Running query in 'postgresql://jovyan@127.0.0.1:5432/baseball'"
      ]
     },
     "metadata": {},
     "output_type": "display_data"
    },
    {
     "data": {
      "text/html": [
       "<span style=\"color: green\">17350 rows affected.</span>"
      ],
      "text/plain": [
       "17350 rows affected."
      ]
     },
     "metadata": {},
     "output_type": "display_data"
    }
   ],
   "source": [
    "%%sql --save query_4a result_4a <<\n",
    "SELECT *\n",
    "FROM people p\n",
    "INNER JOIN college_playing cp ON p.player_id = cp.player_id;"
   ]
  },
  {
   "cell_type": "code",
   "execution_count": 55,
   "metadata": {
    "tags": []
   },
   "outputs": [
    {
     "data": {
      "text/html": [
       "<div>\n",
       "<style scoped>\n",
       "    .dataframe tbody tr th:only-of-type {\n",
       "        vertical-align: middle;\n",
       "    }\n",
       "\n",
       "    .dataframe tbody tr th {\n",
       "        vertical-align: top;\n",
       "    }\n",
       "\n",
       "    .dataframe thead th {\n",
       "        text-align: right;\n",
       "    }\n",
       "</style>\n",
       "<table border=\"1\" class=\"dataframe\">\n",
       "  <thead>\n",
       "    <tr style=\"text-align: right;\">\n",
       "      <th></th>\n",
       "      <th>player_id</th>\n",
       "      <th>birth_year</th>\n",
       "      <th>birth_month</th>\n",
       "      <th>birthday</th>\n",
       "      <th>birth_country</th>\n",
       "      <th>birth_state</th>\n",
       "      <th>birth_city</th>\n",
       "      <th>death_year</th>\n",
       "      <th>death_month</th>\n",
       "      <th>death_day</th>\n",
       "      <th>...</th>\n",
       "      <th>height</th>\n",
       "      <th>bats</th>\n",
       "      <th>throws</th>\n",
       "      <th>debut</th>\n",
       "      <th>final_game</th>\n",
       "      <th>retro_id</th>\n",
       "      <th>bbref_id</th>\n",
       "      <th>player_id</th>\n",
       "      <th>school_id</th>\n",
       "      <th>year_id</th>\n",
       "    </tr>\n",
       "  </thead>\n",
       "  <tbody>\n",
       "    <tr>\n",
       "      <th>0</th>\n",
       "      <td>aardsda01</td>\n",
       "      <td>1981</td>\n",
       "      <td>12.0</td>\n",
       "      <td>27.0</td>\n",
       "      <td>USA</td>\n",
       "      <td>CO</td>\n",
       "      <td>Denver</td>\n",
       "      <td>NaN</td>\n",
       "      <td>NaN</td>\n",
       "      <td>NaN</td>\n",
       "      <td>...</td>\n",
       "      <td>75.0</td>\n",
       "      <td>R</td>\n",
       "      <td>R</td>\n",
       "      <td>2004-04-06</td>\n",
       "      <td>2015-08-23</td>\n",
       "      <td>aardd001</td>\n",
       "      <td>aardsda01</td>\n",
       "      <td>aardsda01</td>\n",
       "      <td>pennst</td>\n",
       "      <td>2001</td>\n",
       "    </tr>\n",
       "    <tr>\n",
       "      <th>1</th>\n",
       "      <td>aardsda01</td>\n",
       "      <td>1981</td>\n",
       "      <td>12.0</td>\n",
       "      <td>27.0</td>\n",
       "      <td>USA</td>\n",
       "      <td>CO</td>\n",
       "      <td>Denver</td>\n",
       "      <td>NaN</td>\n",
       "      <td>NaN</td>\n",
       "      <td>NaN</td>\n",
       "      <td>...</td>\n",
       "      <td>75.0</td>\n",
       "      <td>R</td>\n",
       "      <td>R</td>\n",
       "      <td>2004-04-06</td>\n",
       "      <td>2015-08-23</td>\n",
       "      <td>aardd001</td>\n",
       "      <td>aardsda01</td>\n",
       "      <td>aardsda01</td>\n",
       "      <td>rice</td>\n",
       "      <td>2002</td>\n",
       "    </tr>\n",
       "    <tr>\n",
       "      <th>2</th>\n",
       "      <td>aardsda01</td>\n",
       "      <td>1981</td>\n",
       "      <td>12.0</td>\n",
       "      <td>27.0</td>\n",
       "      <td>USA</td>\n",
       "      <td>CO</td>\n",
       "      <td>Denver</td>\n",
       "      <td>NaN</td>\n",
       "      <td>NaN</td>\n",
       "      <td>NaN</td>\n",
       "      <td>...</td>\n",
       "      <td>75.0</td>\n",
       "      <td>R</td>\n",
       "      <td>R</td>\n",
       "      <td>2004-04-06</td>\n",
       "      <td>2015-08-23</td>\n",
       "      <td>aardd001</td>\n",
       "      <td>aardsda01</td>\n",
       "      <td>aardsda01</td>\n",
       "      <td>rice</td>\n",
       "      <td>2003</td>\n",
       "    </tr>\n",
       "  </tbody>\n",
       "</table>\n",
       "<p>3 rows × 27 columns</p>\n",
       "</div>"
      ],
      "text/plain": [
       "   player_id  birth_year  birth_month  birthday birth_country birth_state  \\\n",
       "0  aardsda01        1981         12.0      27.0           USA          CO   \n",
       "1  aardsda01        1981         12.0      27.0           USA          CO   \n",
       "2  aardsda01        1981         12.0      27.0           USA          CO   \n",
       "\n",
       "  birth_city  death_year  death_month  death_day  ... height bats throws  \\\n",
       "0     Denver         NaN          NaN        NaN  ...   75.0    R      R   \n",
       "1     Denver         NaN          NaN        NaN  ...   75.0    R      R   \n",
       "2     Denver         NaN          NaN        NaN  ...   75.0    R      R   \n",
       "\n",
       "        debut  final_game  retro_id   bbref_id  player_id school_id year_id  \n",
       "0  2004-04-06  2015-08-23  aardd001  aardsda01  aardsda01    pennst    2001  \n",
       "1  2004-04-06  2015-08-23  aardd001  aardsda01  aardsda01      rice    2002  \n",
       "2  2004-04-06  2015-08-23  aardd001  aardsda01  aardsda01      rice    2003  \n",
       "\n",
       "[3 rows x 27 columns]"
      ]
     },
     "metadata": {},
     "output_type": "display_data"
    },
    {
     "name": "stdout",
     "output_type": "stream",
     "text": [
      "                                                                           QUERY PLAN                                                                           \n",
      "----------------------------------------------------------------------------------------------------------------------------------------------------------------\n",
      " Merge Join  (cost=0.57..3636.67 rows=17350 width=1788) (actual time=0.056..16.816 rows=17350 loops=1)\n",
      "   Merge Cond: ((p.player_id)::text = (cp.player_id)::text)\n",
      "   ->  Index Scan using master_pkey on people p  (cost=0.29..2298.84 rows=19370 width=1698) (actual time=0.017..3.260 rows=19368 loops=1)\n",
      "   ->  Index Only Scan using college_playing_pkey on college_playing cp  (cost=0.29..1072.54 rows=17350 width=90) (actual time=0.032..4.020 rows=17350 loops=1)\n",
      "         Heap Fetches: 17350\n",
      " Planning Time: 0.577 ms\n",
      " Execution Time: 17.386 ms\n",
      "(7 rows)\n",
      "\n"
     ]
    }
   ],
   "source": [
    "# Do not delete/edit this cell!\n",
    "# You must run this cell before running the autograder.\n",
    "query_4a = %sqlcmd snippets query_4a\n",
    "grading_util.save_results(\"result_4a\", query_4a, result_4a);\n",
    "\n",
    "display(result_4a.DataFrame().head(3))\n",
    "\n",
    "!psql -h localhost -d baseball -c \"EXPLAIN ANALYZE {query_4a}\";"
   ]
  },
  {
   "cell_type": "markdown",
   "metadata": {
    "deletable": false,
    "editable": false
   },
   "source": [
    "If you haven't already, run the cell above to inspect the query plan for your command.\n",
    "\n",
    "**Which join approach did the query optimizer choose?** \n",
    "\n",
    "A. Nested Loop Join<br/>\n",
    "B. Merge Join<br/>\n",
    "C. Hash Join<br/>\n",
    "D. None of the Above\n",
    "\n",
    "Assign the variable `q4a` to the correct letter choice above, e.g., `q4a = 'A'`."
   ]
  },
  {
   "cell_type": "code",
   "execution_count": 56,
   "metadata": {
    "tags": []
   },
   "outputs": [],
   "source": [
    "q4a = 'C'"
   ]
  },
  {
   "cell_type": "code",
   "execution_count": 57,
   "metadata": {
    "deletable": false,
    "editable": false
   },
   "outputs": [
    {
     "data": {
      "text/html": [
       "<p><strong><pre style='display: inline;'>q4a</pre></strong> passed! 🙌</p>"
      ],
      "text/plain": [
       "q4a results: All test cases passed!"
      ]
     },
     "execution_count": 57,
     "metadata": {},
     "output_type": "execute_result"
    }
   ],
   "source": [
    "grader.check(\"q4a\")"
   ]
  },
  {
   "cell_type": "markdown",
   "metadata": {
    "deletable": false,
    "editable": false
   },
   "source": [
    "<br><br>\n",
    "\n",
    "---\n",
    "\n",
    "## Question 4b\n",
    "\n",
    "Perform the same query in Question 4a, but now also **sort the output by `player_id`**."
   ]
  },
  {
   "cell_type": "code",
   "execution_count": 58,
   "metadata": {
    "tags": []
   },
   "outputs": [
    {
     "data": {
      "text/html": [
       "<span style=\"None\">Running query in &#x27;postgresql://jovyan@127.0.0.1:5432/baseball&#x27;</span>"
      ],
      "text/plain": [
       "Running query in 'postgresql://jovyan@127.0.0.1:5432/baseball'"
      ]
     },
     "metadata": {},
     "output_type": "display_data"
    },
    {
     "data": {
      "text/html": [
       "<span style=\"color: green\">17350 rows affected.</span>"
      ],
      "text/plain": [
       "17350 rows affected."
      ]
     },
     "metadata": {},
     "output_type": "display_data"
    }
   ],
   "source": [
    "%%sql --save query_4b result_4b <<\n",
    "SELECT *\n",
    "FROM people p\n",
    "INNER JOIN college_playing cp ON p.player_id = cp.player_id\n",
    "ORDER BY p.player_id\n",
    ";"
   ]
  },
  {
   "cell_type": "code",
   "execution_count": 59,
   "metadata": {
    "tags": []
   },
   "outputs": [
    {
     "data": {
      "text/html": [
       "<div>\n",
       "<style scoped>\n",
       "    .dataframe tbody tr th:only-of-type {\n",
       "        vertical-align: middle;\n",
       "    }\n",
       "\n",
       "    .dataframe tbody tr th {\n",
       "        vertical-align: top;\n",
       "    }\n",
       "\n",
       "    .dataframe thead th {\n",
       "        text-align: right;\n",
       "    }\n",
       "</style>\n",
       "<table border=\"1\" class=\"dataframe\">\n",
       "  <thead>\n",
       "    <tr style=\"text-align: right;\">\n",
       "      <th></th>\n",
       "      <th>player_id</th>\n",
       "      <th>birth_year</th>\n",
       "      <th>birth_month</th>\n",
       "      <th>birthday</th>\n",
       "      <th>birth_country</th>\n",
       "      <th>birth_state</th>\n",
       "      <th>birth_city</th>\n",
       "      <th>death_year</th>\n",
       "      <th>death_month</th>\n",
       "      <th>death_day</th>\n",
       "      <th>...</th>\n",
       "      <th>height</th>\n",
       "      <th>bats</th>\n",
       "      <th>throws</th>\n",
       "      <th>debut</th>\n",
       "      <th>final_game</th>\n",
       "      <th>retro_id</th>\n",
       "      <th>bbref_id</th>\n",
       "      <th>player_id</th>\n",
       "      <th>school_id</th>\n",
       "      <th>year_id</th>\n",
       "    </tr>\n",
       "  </thead>\n",
       "  <tbody>\n",
       "    <tr>\n",
       "      <th>0</th>\n",
       "      <td>aardsda01</td>\n",
       "      <td>1981</td>\n",
       "      <td>12.0</td>\n",
       "      <td>27.0</td>\n",
       "      <td>USA</td>\n",
       "      <td>CO</td>\n",
       "      <td>Denver</td>\n",
       "      <td>NaN</td>\n",
       "      <td>NaN</td>\n",
       "      <td>NaN</td>\n",
       "      <td>...</td>\n",
       "      <td>75.0</td>\n",
       "      <td>R</td>\n",
       "      <td>R</td>\n",
       "      <td>2004-04-06</td>\n",
       "      <td>2015-08-23</td>\n",
       "      <td>aardd001</td>\n",
       "      <td>aardsda01</td>\n",
       "      <td>aardsda01</td>\n",
       "      <td>pennst</td>\n",
       "      <td>2001</td>\n",
       "    </tr>\n",
       "    <tr>\n",
       "      <th>1</th>\n",
       "      <td>aardsda01</td>\n",
       "      <td>1981</td>\n",
       "      <td>12.0</td>\n",
       "      <td>27.0</td>\n",
       "      <td>USA</td>\n",
       "      <td>CO</td>\n",
       "      <td>Denver</td>\n",
       "      <td>NaN</td>\n",
       "      <td>NaN</td>\n",
       "      <td>NaN</td>\n",
       "      <td>...</td>\n",
       "      <td>75.0</td>\n",
       "      <td>R</td>\n",
       "      <td>R</td>\n",
       "      <td>2004-04-06</td>\n",
       "      <td>2015-08-23</td>\n",
       "      <td>aardd001</td>\n",
       "      <td>aardsda01</td>\n",
       "      <td>aardsda01</td>\n",
       "      <td>rice</td>\n",
       "      <td>2002</td>\n",
       "    </tr>\n",
       "    <tr>\n",
       "      <th>2</th>\n",
       "      <td>aardsda01</td>\n",
       "      <td>1981</td>\n",
       "      <td>12.0</td>\n",
       "      <td>27.0</td>\n",
       "      <td>USA</td>\n",
       "      <td>CO</td>\n",
       "      <td>Denver</td>\n",
       "      <td>NaN</td>\n",
       "      <td>NaN</td>\n",
       "      <td>NaN</td>\n",
       "      <td>...</td>\n",
       "      <td>75.0</td>\n",
       "      <td>R</td>\n",
       "      <td>R</td>\n",
       "      <td>2004-04-06</td>\n",
       "      <td>2015-08-23</td>\n",
       "      <td>aardd001</td>\n",
       "      <td>aardsda01</td>\n",
       "      <td>aardsda01</td>\n",
       "      <td>rice</td>\n",
       "      <td>2003</td>\n",
       "    </tr>\n",
       "  </tbody>\n",
       "</table>\n",
       "<p>3 rows × 27 columns</p>\n",
       "</div>"
      ],
      "text/plain": [
       "   player_id  birth_year  birth_month  birthday birth_country birth_state  \\\n",
       "0  aardsda01        1981         12.0      27.0           USA          CO   \n",
       "1  aardsda01        1981         12.0      27.0           USA          CO   \n",
       "2  aardsda01        1981         12.0      27.0           USA          CO   \n",
       "\n",
       "  birth_city  death_year  death_month  death_day  ... height bats throws  \\\n",
       "0     Denver         NaN          NaN        NaN  ...   75.0    R      R   \n",
       "1     Denver         NaN          NaN        NaN  ...   75.0    R      R   \n",
       "2     Denver         NaN          NaN        NaN  ...   75.0    R      R   \n",
       "\n",
       "        debut  final_game  retro_id   bbref_id  player_id school_id year_id  \n",
       "0  2004-04-06  2015-08-23  aardd001  aardsda01  aardsda01    pennst    2001  \n",
       "1  2004-04-06  2015-08-23  aardd001  aardsda01  aardsda01      rice    2002  \n",
       "2  2004-04-06  2015-08-23  aardd001  aardsda01  aardsda01      rice    2003  \n",
       "\n",
       "[3 rows x 27 columns]"
      ]
     },
     "metadata": {},
     "output_type": "display_data"
    },
    {
     "name": "stdout",
     "output_type": "stream",
     "text": [
      "                                                                           QUERY PLAN                                                                           \n",
      "----------------------------------------------------------------------------------------------------------------------------------------------------------------\n",
      " Merge Join  (cost=0.57..3636.67 rows=17350 width=1788) (actual time=0.058..17.111 rows=17350 loops=1)\n",
      "   Merge Cond: ((p.player_id)::text = (cp.player_id)::text)\n",
      "   ->  Index Scan using master_pkey on people p  (cost=0.29..2298.84 rows=19370 width=1698) (actual time=0.016..3.329 rows=19368 loops=1)\n",
      "   ->  Index Only Scan using college_playing_pkey on college_playing cp  (cost=0.29..1072.54 rows=17350 width=90) (actual time=0.034..4.060 rows=17350 loops=1)\n",
      "         Heap Fetches: 17350\n",
      " Planning Time: 0.542 ms\n",
      " Execution Time: 17.699 ms\n",
      "(7 rows)\n",
      "\n"
     ]
    }
   ],
   "source": [
    "# Do not delete/edit this cell!\n",
    "# You must run this cell before running the autograder.\n",
    "query_4b = %sqlcmd snippets query_4b\n",
    "grading_util.save_results(\"result_4b\", query_4b, result_4b);\n",
    "\n",
    "display(result_4b.DataFrame().head(3))\n",
    "\n",
    "!psql -h localhost -d baseball -c \"EXPLAIN ANALYZE {query_4b}\";"
   ]
  },
  {
   "cell_type": "markdown",
   "metadata": {
    "deletable": false,
    "editable": false
   },
   "source": [
    "If you haven't already, run the cell above to inspect the query plan for your command.\n",
    "\n",
    "**Which join approach did the query optimizer choose?** \n",
    "\n",
    "A. Nested Loop Join<br/>\n",
    "B. Merge Join<br/>\n",
    "C. Hash Join<br/>\n",
    "D. None of the Above\n",
    "\n",
    "Assign the variable `q4b` to the correct letter choice above, e.g., `q4b = 'A'`."
   ]
  },
  {
   "cell_type": "code",
   "execution_count": 60,
   "metadata": {
    "tags": []
   },
   "outputs": [],
   "source": [
    "q4b = 'B'"
   ]
  },
  {
   "cell_type": "code",
   "execution_count": 61,
   "metadata": {
    "deletable": false,
    "editable": false
   },
   "outputs": [
    {
     "data": {
      "text/html": [
       "<p><strong><pre style='display: inline;'>q4b</pre></strong> passed! 🚀</p>"
      ],
      "text/plain": [
       "q4b results: All test cases passed!"
      ]
     },
     "execution_count": 61,
     "metadata": {},
     "output_type": "execute_result"
    }
   ],
   "source": [
    "grader.check(\"q4b\")"
   ]
  },
  {
   "cell_type": "markdown",
   "metadata": {
    "deletable": false,
    "editable": false
   },
   "source": [
    "<br><br>\n",
    "\n",
    "---\n",
    "## Question 4c\n",
    "Write a query to retrieve all possible player pair permutations (e.g. `(Player 1, Player 2)` is treated as a different pairing from `(Player 2, Player 1)` because the order matters). Select all columns, but **limit to 1000 rows** to ensure your query doesn't take an exorbitant amount of time to run.\n",
    "\n",
    "**Hint:** You can do this by performing an inner join of the `people` table on itself with an inequality condition."
   ]
  },
  {
   "cell_type": "code",
   "execution_count": 62,
   "metadata": {
    "tags": []
   },
   "outputs": [
    {
     "data": {
      "text/html": [
       "<span style=\"None\">Running query in &#x27;postgresql://jovyan@127.0.0.1:5432/baseball&#x27;</span>"
      ],
      "text/plain": [
       "Running query in 'postgresql://jovyan@127.0.0.1:5432/baseball'"
      ]
     },
     "metadata": {},
     "output_type": "display_data"
    },
    {
     "data": {
      "text/html": [
       "<span style=\"color: green\">1000 rows affected.</span>"
      ],
      "text/plain": [
       "1000 rows affected."
      ]
     },
     "metadata": {},
     "output_type": "display_data"
    }
   ],
   "source": [
    "%%sql --save query_4c result_4c <<\n",
    "SELECT p1.*, p2.*\n",
    "FROM people p1\n",
    "JOIN people p2 ON p1.player_id <> p2.player_id\n",
    "LIMIT 1000\n",
    ";"
   ]
  },
  {
   "cell_type": "code",
   "execution_count": 63,
   "metadata": {
    "tags": []
   },
   "outputs": [
    {
     "data": {
      "text/html": [
       "<div>\n",
       "<style scoped>\n",
       "    .dataframe tbody tr th:only-of-type {\n",
       "        vertical-align: middle;\n",
       "    }\n",
       "\n",
       "    .dataframe tbody tr th {\n",
       "        vertical-align: top;\n",
       "    }\n",
       "\n",
       "    .dataframe thead th {\n",
       "        text-align: right;\n",
       "    }\n",
       "</style>\n",
       "<table border=\"1\" class=\"dataframe\">\n",
       "  <thead>\n",
       "    <tr style=\"text-align: right;\">\n",
       "      <th></th>\n",
       "      <th>player_id</th>\n",
       "      <th>birth_year</th>\n",
       "      <th>birth_month</th>\n",
       "      <th>birthday</th>\n",
       "      <th>birth_country</th>\n",
       "      <th>birth_state</th>\n",
       "      <th>birth_city</th>\n",
       "      <th>death_year</th>\n",
       "      <th>death_month</th>\n",
       "      <th>death_day</th>\n",
       "      <th>...</th>\n",
       "      <th>name_last</th>\n",
       "      <th>name_given</th>\n",
       "      <th>weight</th>\n",
       "      <th>height</th>\n",
       "      <th>bats</th>\n",
       "      <th>throws</th>\n",
       "      <th>debut</th>\n",
       "      <th>final_game</th>\n",
       "      <th>retro_id</th>\n",
       "      <th>bbref_id</th>\n",
       "    </tr>\n",
       "  </thead>\n",
       "  <tbody>\n",
       "    <tr>\n",
       "      <th>0</th>\n",
       "      <td>aardsda01</td>\n",
       "      <td>1981</td>\n",
       "      <td>12</td>\n",
       "      <td>27</td>\n",
       "      <td>USA</td>\n",
       "      <td>CO</td>\n",
       "      <td>Denver</td>\n",
       "      <td>None</td>\n",
       "      <td>None</td>\n",
       "      <td>None</td>\n",
       "      <td>...</td>\n",
       "      <td>Aaron</td>\n",
       "      <td>Henry Louis</td>\n",
       "      <td>180.0</td>\n",
       "      <td>72.0</td>\n",
       "      <td>R</td>\n",
       "      <td>R</td>\n",
       "      <td>1954-04-13</td>\n",
       "      <td>1976-10-03</td>\n",
       "      <td>aaroh101</td>\n",
       "      <td>aaronha01</td>\n",
       "    </tr>\n",
       "    <tr>\n",
       "      <th>1</th>\n",
       "      <td>aardsda01</td>\n",
       "      <td>1981</td>\n",
       "      <td>12</td>\n",
       "      <td>27</td>\n",
       "      <td>USA</td>\n",
       "      <td>CO</td>\n",
       "      <td>Denver</td>\n",
       "      <td>None</td>\n",
       "      <td>None</td>\n",
       "      <td>None</td>\n",
       "      <td>...</td>\n",
       "      <td>Aaron</td>\n",
       "      <td>Tommie Lee</td>\n",
       "      <td>190.0</td>\n",
       "      <td>75.0</td>\n",
       "      <td>R</td>\n",
       "      <td>R</td>\n",
       "      <td>1962-04-10</td>\n",
       "      <td>1971-09-26</td>\n",
       "      <td>aarot101</td>\n",
       "      <td>aaronto01</td>\n",
       "    </tr>\n",
       "    <tr>\n",
       "      <th>2</th>\n",
       "      <td>aardsda01</td>\n",
       "      <td>1981</td>\n",
       "      <td>12</td>\n",
       "      <td>27</td>\n",
       "      <td>USA</td>\n",
       "      <td>CO</td>\n",
       "      <td>Denver</td>\n",
       "      <td>None</td>\n",
       "      <td>None</td>\n",
       "      <td>None</td>\n",
       "      <td>...</td>\n",
       "      <td>Aase</td>\n",
       "      <td>Donald William</td>\n",
       "      <td>190.0</td>\n",
       "      <td>75.0</td>\n",
       "      <td>R</td>\n",
       "      <td>R</td>\n",
       "      <td>1977-07-26</td>\n",
       "      <td>1990-10-03</td>\n",
       "      <td>aased001</td>\n",
       "      <td>aasedo01</td>\n",
       "    </tr>\n",
       "  </tbody>\n",
       "</table>\n",
       "<p>3 rows × 48 columns</p>\n",
       "</div>"
      ],
      "text/plain": [
       "   player_id  birth_year  birth_month  birthday birth_country birth_state  \\\n",
       "0  aardsda01        1981           12        27           USA          CO   \n",
       "1  aardsda01        1981           12        27           USA          CO   \n",
       "2  aardsda01        1981           12        27           USA          CO   \n",
       "\n",
       "  birth_city death_year death_month death_day  ... name_last      name_given  \\\n",
       "0     Denver       None        None      None  ...     Aaron     Henry Louis   \n",
       "1     Denver       None        None      None  ...     Aaron      Tommie Lee   \n",
       "2     Denver       None        None      None  ...      Aase  Donald William   \n",
       "\n",
       "  weight height bats throws       debut  final_game  retro_id   bbref_id  \n",
       "0  180.0   72.0    R      R  1954-04-13  1976-10-03  aaroh101  aaronha01  \n",
       "1  190.0   75.0    R      R  1962-04-10  1971-09-26  aarot101  aaronto01  \n",
       "2  190.0   75.0    R      R  1977-07-26  1990-10-03  aased001   aasedo01  \n",
       "\n",
       "[3 rows x 48 columns]"
      ]
     },
     "metadata": {},
     "output_type": "display_data"
    },
    {
     "name": "stdout",
     "output_type": "stream",
     "text": [
      "                                                        QUERY PLAN                                                         \n",
      "---------------------------------------------------------------------------------------------------------------------------\n",
      " Limit  (cost=0.00..44.50 rows=1000 width=3396) (actual time=0.021..0.528 rows=1000 loops=1)\n",
      "   ->  Nested Loop  (cost=0.00..16694169.95 rows=375177530 width=3396) (actual time=0.020..0.468 rows=1000 loops=1)\n",
      "         Join Filter: ((p1.player_id)::text <> (p2.player_id)::text)\n",
      "         Rows Removed by Join Filter: 1\n",
      "         ->  Seq Scan on people p1  (cost=0.00..619.70 rows=19370 width=1698) (actual time=0.013..0.013 rows=1 loops=1)\n",
      "         ->  Seq Scan on people p2  (cost=0.00..619.70 rows=19370 width=1698) (actual time=0.001..0.125 rows=1001 loops=1)\n",
      " Planning Time: 0.540 ms\n",
      " Execution Time: 0.612 ms\n",
      "(8 rows)\n",
      "\n"
     ]
    }
   ],
   "source": [
    "# Do not delete/edit this cell!\n",
    "# You must run this cell before running the autograder.\n",
    "query_4c = %sqlcmd snippets query_4c\n",
    "grading_util.save_results(\"result_4c\", query_4c, result_4c);\n",
    "\n",
    "display(result_4c.DataFrame().head(3))\n",
    "\n",
    "!psql -h localhost -d baseball -c \"EXPLAIN ANALYZE {query_4c}\";"
   ]
  },
  {
   "cell_type": "markdown",
   "metadata": {
    "deletable": false,
    "editable": false
   },
   "source": [
    "If you haven't already, run the cell above to inspect the query plan for your command.\n",
    "\n",
    "**Which join approach did the query optimizer choose?** \n",
    "\n",
    "A. Nested Loop Join<br/>\n",
    "B. Merge Join<br/>\n",
    "C. Hash Join<br/>\n",
    "D. None of the Above\n",
    "\n",
    "Assign the variable `q4c` to the correct letter choice above, e.g., `q4c = 'A'`."
   ]
  },
  {
   "cell_type": "code",
   "execution_count": 64,
   "metadata": {
    "tags": []
   },
   "outputs": [],
   "source": [
    "q4c = 'A'"
   ]
  },
  {
   "cell_type": "code",
   "execution_count": 65,
   "metadata": {
    "deletable": false,
    "editable": false
   },
   "outputs": [
    {
     "data": {
      "text/html": [
       "<p><strong><pre style='display: inline;'>q4c</pre></strong> passed! 💯</p>"
      ],
      "text/plain": [
       "q4c results: All test cases passed!"
      ]
     },
     "execution_count": 65,
     "metadata": {},
     "output_type": "execute_result"
    }
   ],
   "source": [
    "grader.check(\"q4c\")"
   ]
  },
  {
   "cell_type": "markdown",
   "metadata": {
    "deletable": false,
    "editable": false
   },
   "source": [
    "<!-- BEGIN QUESTION -->\n",
    "\n",
    "<br><br>\n",
    "\n",
    "---\n",
    "## Question 4d\n",
    "\n",
    "Given your findings above, why did the query optimizer ultimately choose the specific join approach you found in each of the above three scenarios in Questions 4a, 4b, and 4c? Feel free to discuss the pros and cons of each join approach as well.\n",
    "\n",
    "If you feel stuck, here are some things to consider: Does a non-equijoin constrain us to certain join approaches? What's an added benefit in regards to the output of merge join? How does table size affect which join is used?\n",
    "\n",
    "**Note:** Restate your answer for each of the subparts. You should write no more than 5 sentences. Your answer should be formatted as follows: \n",
    "```\n",
    "Q4a: (A) because ...\n",
    "Q4b: (A) because ...\n",
    "Q4c: (A) because ...\n",
    "```"
   ]
  },
  {
   "cell_type": "markdown",
   "metadata": {},
   "source": [
    "Q4a: (C) because the optimizer chose a Hash Join, which is effective when both tables are large and there's no sorting requirement for the join. For 4a, the hash join utilized memory to build a hash table for one of the tables i.e (people), allowing for efficient lookups during the join operation.\n",
    "\n",
    "Q4b: (B) because the optimizer chose a Merge Join, which is optimal when both inputs are sorted on the join keys. Since both tables have indexes on player_id, the merge join efficiently scans through the sorted data, producing sorted output without additional sorting costs. \n",
    "\n",
    "Q4c: (A) because the optimizer selected a Nested Loop Join, which is suitable for scenarios involving a bigger number of potential combinations, especially with an inequality condition. Although typically this approach can be inefficient for very large datasets, BUT it was pretty effective here due to the smaller result set limited to 1000 rows. Also, something to note is that The nested loop join doesn't require sorted data, making it flexible for non-equi joins."
   ]
  },
  {
   "cell_type": "markdown",
   "metadata": {
    "deletable": false,
    "editable": false
   },
   "source": [
    "<!-- END QUESTION -->\n",
    "\n",
    "<br/><br/><br/>\n",
    "\n",
    "<hr style=\"border: 5px solid #003262;\" />\n",
    "<hr style=\"border: 1px solid #fdb515;\" />\n",
    "\n",
    "# Question 5: Indexes, Part 1\n",
    "\n",
    "In Questions 5, 6, and 7, you will analyze how indexes impact query performance."
   ]
  },
  {
   "cell_type": "markdown",
   "metadata": {
    "deletable": false,
    "editable": false
   },
   "source": [
    "<br/>\n",
    "\n",
    "---\n",
    "\n",
    "## Question 5a\n",
    "\n",
    "For each `player_id`, determine their average yearly `salary` (call this `average_salary`), the first year in which they played baseball professionally (call this `first_year`), the last year in which they played baseball professionally (call this `last_year`), and the total number of years they played baseball professionally (call this `num_years`).\n",
    "\n",
    "Only include players that have batted in exactly 10 games (the number of games in which a player batted can be found in the `g_batting` column of the `appearances` table).\n",
    "\n",
    "Your query should join the `salaries` and `appearances` table on all the common columns `year_id`, `team_id`, and `player_id`, so feel free to use a natural join. Your table header should look like this:\n",
    "\n",
    "| player_id | average_salary | first_year | last_year | num_years |\n",
    "| --- | --- | --- | --- | --- |"
   ]
  },
  {
   "cell_type": "code",
   "execution_count": 66,
   "metadata": {
    "scrolled": true,
    "tags": []
   },
   "outputs": [
    {
     "data": {
      "text/html": [
       "<span style=\"None\">Running query in &#x27;postgresql://jovyan@127.0.0.1:5432/baseball&#x27;</span>"
      ],
      "text/plain": [
       "Running query in 'postgresql://jovyan@127.0.0.1:5432/baseball'"
      ]
     },
     "metadata": {},
     "output_type": "display_data"
    },
    {
     "data": {
      "text/html": [
       "<span style=\"color: green\">134 rows affected.</span>"
      ],
      "text/plain": [
       "134 rows affected."
      ]
     },
     "metadata": {},
     "output_type": "display_data"
    }
   ],
   "source": [
    "%%sql --save query_5a result_5a <<\n",
    "SELECT a.player_id, AVG(s.salary) AS average_salary, MIN(a.year_id) AS first_year, MAX(a.year_id) AS last_year, COUNT(DISTINCT a.year_id) AS num_years\n",
    "FROM salaries s\n",
    "JOIN appearances a ON s.year_id = a.year_id AND s.team_id = a.team_id AND s.player_id = a.player_id\n",
    "WHERE a.g_batting = 10\n",
    "GROUP BY a.player_id;"
   ]
  },
  {
   "cell_type": "code",
   "execution_count": 67,
   "metadata": {
    "tags": []
   },
   "outputs": [
    {
     "data": {
      "text/html": [
       "<div>\n",
       "<style scoped>\n",
       "    .dataframe tbody tr th:only-of-type {\n",
       "        vertical-align: middle;\n",
       "    }\n",
       "\n",
       "    .dataframe tbody tr th {\n",
       "        vertical-align: top;\n",
       "    }\n",
       "\n",
       "    .dataframe thead th {\n",
       "        text-align: right;\n",
       "    }\n",
       "</style>\n",
       "<table border=\"1\" class=\"dataframe\">\n",
       "  <thead>\n",
       "    <tr style=\"text-align: right;\">\n",
       "      <th></th>\n",
       "      <th>player_id</th>\n",
       "      <th>average_salary</th>\n",
       "      <th>first_year</th>\n",
       "      <th>last_year</th>\n",
       "      <th>num_years</th>\n",
       "    </tr>\n",
       "  </thead>\n",
       "  <tbody>\n",
       "    <tr>\n",
       "      <th>0</th>\n",
       "      <td>anderla02</td>\n",
       "      <td>240000.0</td>\n",
       "      <td>1986</td>\n",
       "      <td>1986</td>\n",
       "      <td>1</td>\n",
       "    </tr>\n",
       "    <tr>\n",
       "      <th>1</th>\n",
       "      <td>ashbyan01</td>\n",
       "      <td>109000.0</td>\n",
       "      <td>1992</td>\n",
       "      <td>1992</td>\n",
       "      <td>1</td>\n",
       "    </tr>\n",
       "    <tr>\n",
       "      <th>2</th>\n",
       "      <td>ayraubo01</td>\n",
       "      <td>125000.0</td>\n",
       "      <td>1993</td>\n",
       "      <td>1993</td>\n",
       "      <td>1</td>\n",
       "    </tr>\n",
       "  </tbody>\n",
       "</table>\n",
       "</div>"
      ],
      "text/plain": [
       "   player_id  average_salary  first_year  last_year  num_years\n",
       "0  anderla02        240000.0        1986       1986          1\n",
       "1  ashbyan01        109000.0        1992       1992          1\n",
       "2  ayraubo01        125000.0        1993       1993          1"
      ]
     },
     "metadata": {},
     "output_type": "display_data"
    },
    {
     "name": "stdout",
     "output_type": "stream",
     "text": [
      "                                                                   QUERY PLAN                                                                   \n",
      "------------------------------------------------------------------------------------------------------------------------------------------------\n",
      " GroupAggregate  (cost=3549.73..3549.78 rows=2 width=62) (actual time=17.329..17.452 rows=134 loops=1)\n",
      "   Group Key: a.player_id\n",
      "   ->  Sort  (cost=3549.73..3549.73 rows=2 width=50) (actual time=17.245..17.253 rows=138 loops=1)\n",
      "         Sort Key: a.player_id\n",
      "         Sort Method: quicksort  Memory: 35kB\n",
      "         ->  Hash Join  (cost=2882.32..3549.72 rows=2 width=50) (actual time=11.156..17.099 rows=138 loops=1)\n",
      "               Hash Cond: ((s.year_id = a.year_id) AND ((s.team_id)::text = (a.team_id)::text) AND ((s.player_id)::text = (a.player_id)::text))\n",
      "               ->  Seq Scan on salaries s  (cost=0.00..459.28 rows=26428 width=66) (actual time=0.011..1.965 rows=26428 loops=1)\n",
      "               ->  Hash  (cost=2873.20..2873.20 rows=521 width=58) (actual time=11.006..11.007 rows=1347 loops=1)\n",
      "                     Buckets: 2048 (originally 1024)  Batches: 1 (originally 1)  Memory Usage: 85kB\n",
      "                     ->  Seq Scan on appearances a  (cost=0.00..2873.20 rows=521 width=58) (actual time=0.009..10.546 rows=1347 loops=1)\n",
      "                           Filter: (g_batting = 10)\n",
      "                           Rows Removed by Filter: 102909\n",
      " Planning Time: 0.650 ms\n",
      " Execution Time: 17.542 ms\n",
      "(15 rows)\n",
      "\n"
     ]
    }
   ],
   "source": [
    "# Do not delete/edit this cell!\n",
    "# You must run this cell before running the autograder.\n",
    "query_5a = %sqlcmd snippets query_5a\n",
    "grading_util.save_results(\"result_5a\", query_5a, result_5a);\n",
    "\n",
    "display(result_5a.DataFrame().head(3))\n",
    "\n",
    "!psql -h localhost -d baseball -c \"EXPLAIN ANALYZE {query_5a}\";"
   ]
  },
  {
   "cell_type": "markdown",
   "metadata": {
    "deletable": false,
    "editable": false
   },
   "source": [
    "Inspect the query plan above and record the execution time and cost."
   ]
  },
  {
   "cell_type": "code",
   "execution_count": 68,
   "metadata": {
    "tags": []
   },
   "outputs": [],
   "source": [
    "result_5a_cost = 3563.81\n",
    "result_5a_timing = 17.502"
   ]
  },
  {
   "cell_type": "code",
   "execution_count": 69,
   "metadata": {
    "deletable": false,
    "editable": false
   },
   "outputs": [
    {
     "data": {
      "text/html": [
       "<p><strong><pre style='display: inline;'>q5a</pre></strong> passed! 🚀</p>"
      ],
      "text/plain": [
       "q5a results: All test cases passed!"
      ]
     },
     "execution_count": 69,
     "metadata": {},
     "output_type": "execute_result"
    }
   ],
   "source": [
    "grader.check(\"q5a\")"
   ]
  },
  {
   "cell_type": "markdown",
   "metadata": {
    "deletable": false,
    "editable": false
   },
   "source": [
    "<br><br>\n",
    "\n",
    "---\n",
    "## Question 5b\n",
    "\n",
    "Add an index with name `appearances_g_batting_idx` on the `g_batting` column of the `appearances` table."
   ]
  },
  {
   "cell_type": "code",
   "execution_count": 70,
   "metadata": {
    "tags": []
   },
   "outputs": [
    {
     "data": {
      "text/html": [
       "<span style=\"None\">Running query in &#x27;postgresql://jovyan@127.0.0.1:5432/baseball&#x27;</span>"
      ],
      "text/plain": [
       "Running query in 'postgresql://jovyan@127.0.0.1:5432/baseball'"
      ]
     },
     "metadata": {},
     "output_type": "display_data"
    },
    {
     "data": {
      "text/html": [
       "<table>\n",
       "    <thead>\n",
       "        <tr>\n",
       "        </tr>\n",
       "    </thead>\n",
       "    <tbody>\n",
       "    </tbody>\n",
       "</table>"
      ],
      "text/plain": [
       "++\n",
       "||\n",
       "++\n",
       "++"
      ]
     },
     "execution_count": 70,
     "metadata": {},
     "output_type": "execute_result"
    }
   ],
   "source": [
    "%%sql\n",
    "DROP INDEX IF EXISTS appearances_g_batting_idx;\n",
    "CREATE INDEX appearances_g_batting_idx ON appearances (g_batting)\n",
    ";"
   ]
  },
  {
   "cell_type": "markdown",
   "metadata": {
    "deletable": false,
    "editable": false
   },
   "source": [
    "Now, re-inspect the query plan of the query from `Question 5a` and record its execution time and cost."
   ]
  },
  {
   "cell_type": "code",
   "execution_count": 71,
   "metadata": {
    "deletable": false,
    "editable": false
   },
   "outputs": [
    {
     "name": "stdout",
     "output_type": "stream",
     "text": [
      "                                                                           QUERY PLAN                                                                            \n",
      "-----------------------------------------------------------------------------------------------------------------------------------------------------------------\n",
      " GroupAggregate  (cost=2322.41..2322.44 rows=1 width=33) (actual time=8.472..8.600 rows=134 loops=1)\n",
      "   Group Key: a.player_id\n",
      "   ->  Sort  (cost=2322.41..2322.41 rows=1 width=21) (actual time=8.406..8.415 rows=138 loops=1)\n",
      "         Sort Key: a.player_id\n",
      "         Sort Method: quicksort  Memory: 35kB\n",
      "         ->  Hash Join  (cost=1655.00..2322.40 rows=1 width=21) (actual time=2.416..8.258 rows=138 loops=1)\n",
      "               Hash Cond: ((s.year_id = a.year_id) AND ((s.team_id)::text = (a.team_id)::text) AND ((s.player_id)::text = (a.player_id)::text))\n",
      "               ->  Seq Scan on salaries s  (cost=0.00..459.28 rows=26428 width=25) (actual time=0.011..1.660 rows=26428 loops=1)\n",
      "               ->  Hash  (cost=1630.38..1630.38 rows=1407 width=17) (actual time=2.281..2.282 rows=1347 loops=1)\n",
      "                     Buckets: 2048  Batches: 1  Memory Usage: 85kB\n",
      "                     ->  Bitmap Heap Scan on appearances a  (cost=19.20..1630.38 rows=1407 width=17) (actual time=0.250..1.989 rows=1347 loops=1)\n",
      "                           Recheck Cond: (g_batting = 10)\n",
      "                           Heap Blocks: exact=899\n",
      "                           ->  Bitmap Index Scan on appearances_g_batting_idx  (cost=0.00..18.85 rows=1407 width=0) (actual time=0.141..0.142 rows=1347 loops=1)\n",
      "                                 Index Cond: (g_batting = 10)\n",
      " Planning Time: 1.538 ms\n",
      " Execution Time: 8.706 ms\n",
      "(17 rows)\n",
      "\n"
     ]
    }
   ],
   "source": [
    "# just run this cell\n",
    "!psql -h localhost -d baseball -c \"EXPLAIN ANALYZE {query_5a}\";"
   ]
  },
  {
   "cell_type": "code",
   "execution_count": 72,
   "metadata": {
    "tags": []
   },
   "outputs": [],
   "source": [
    "result_5b_cost = 2299.44\n",
    "result_5b_timing = 8.731"
   ]
  },
  {
   "cell_type": "code",
   "execution_count": 73,
   "metadata": {
    "deletable": false,
    "editable": false
   },
   "outputs": [
    {
     "data": {
      "text/html": [
       "<p><strong><pre style='display: inline;'>q5b</pre></strong> passed! 🌈</p>"
      ],
      "text/plain": [
       "q5b results: All test cases passed!"
      ]
     },
     "execution_count": 73,
     "metadata": {},
     "output_type": "execute_result"
    }
   ],
   "source": [
    "grader.check(\"q5b\")"
   ]
  },
  {
   "cell_type": "markdown",
   "metadata": {
    "deletable": false,
    "editable": false
   },
   "source": [
    "<br><br>\n",
    "\n",
    "---\n",
    "## Question 5c\n",
    "\n",
    "Write a query to add an index with name `salary_idx` on the `salary` column of the `salaries` table. Make sure to drop the previous index in Question 5b first (which we've provided in the starter code)!"
   ]
  },
  {
   "cell_type": "code",
   "execution_count": 74,
   "metadata": {
    "tags": []
   },
   "outputs": [
    {
     "data": {
      "text/html": [
       "<span style=\"None\">Running query in &#x27;postgresql://jovyan@127.0.0.1:5432/baseball&#x27;</span>"
      ],
      "text/plain": [
       "Running query in 'postgresql://jovyan@127.0.0.1:5432/baseball'"
      ]
     },
     "metadata": {},
     "output_type": "display_data"
    },
    {
     "data": {
      "text/html": [
       "<span style=\"color: green\">134 rows affected.</span>"
      ],
      "text/plain": [
       "134 rows affected."
      ]
     },
     "metadata": {},
     "output_type": "display_data"
    },
    {
     "data": {
      "text/html": [
       "<table>\n",
       "    <thead>\n",
       "        <tr>\n",
       "            <th>player_id</th>\n",
       "            <th>average_salary</th>\n",
       "            <th>first_year</th>\n",
       "            <th>last_year</th>\n",
       "            <th>num_years</th>\n",
       "        </tr>\n",
       "    </thead>\n",
       "    <tbody>\n",
       "        <tr>\n",
       "            <td>anderla02</td>\n",
       "            <td>240000.0</td>\n",
       "            <td>1986</td>\n",
       "            <td>1986</td>\n",
       "            <td>1</td>\n",
       "        </tr>\n",
       "        <tr>\n",
       "            <td>ashbyan01</td>\n",
       "            <td>109000.0</td>\n",
       "            <td>1992</td>\n",
       "            <td>1992</td>\n",
       "            <td>1</td>\n",
       "        </tr>\n",
       "        <tr>\n",
       "            <td>ayraubo01</td>\n",
       "            <td>125000.0</td>\n",
       "            <td>1993</td>\n",
       "            <td>1993</td>\n",
       "            <td>1</td>\n",
       "        </tr>\n",
       "        <tr>\n",
       "            <td>bankswi01</td>\n",
       "            <td>240000.0</td>\n",
       "            <td>1995</td>\n",
       "            <td>1995</td>\n",
       "            <td>1</td>\n",
       "        </tr>\n",
       "        <tr>\n",
       "            <td>batchri01</td>\n",
       "            <td>157500.0</td>\n",
       "            <td>1997</td>\n",
       "            <td>1997</td>\n",
       "            <td>1</td>\n",
       "        </tr>\n",
       "        <tr>\n",
       "            <td>batiski01</td>\n",
       "            <td>100000.0</td>\n",
       "            <td>1991</td>\n",
       "            <td>1991</td>\n",
       "            <td>1</td>\n",
       "        </tr>\n",
       "        <tr>\n",
       "            <td>batismi01</td>\n",
       "            <td>153000.0</td>\n",
       "            <td>1997</td>\n",
       "            <td>1997</td>\n",
       "            <td>1</td>\n",
       "        </tr>\n",
       "        <tr>\n",
       "            <td>bautijo01</td>\n",
       "            <td>150000.0</td>\n",
       "            <td>1997</td>\n",
       "            <td>1997</td>\n",
       "            <td>1</td>\n",
       "        </tr>\n",
       "        <tr>\n",
       "            <td>beller01</td>\n",
       "            <td>145000.0</td>\n",
       "            <td>1993</td>\n",
       "            <td>1993</td>\n",
       "            <td>1</td>\n",
       "        </tr>\n",
       "        <tr>\n",
       "            <td>benesan01</td>\n",
       "            <td>68000.0</td>\n",
       "            <td>1989</td>\n",
       "            <td>1989</td>\n",
       "            <td>1</td>\n",
       "        </tr>\n",
       "        <tr>\n",
       "            <td>bennega01</td>\n",
       "            <td>825000.0</td>\n",
       "            <td>2008</td>\n",
       "            <td>2008</td>\n",
       "            <td>1</td>\n",
       "        </tr>\n",
       "        <tr>\n",
       "            <td>bereja01</td>\n",
       "            <td>1200000.0</td>\n",
       "            <td>1999</td>\n",
       "            <td>1999</td>\n",
       "            <td>1</td>\n",
       "        </tr>\n",
       "        <tr>\n",
       "            <td>blackbu02</td>\n",
       "            <td>3250000.0</td>\n",
       "            <td>1994</td>\n",
       "            <td>1994</td>\n",
       "            <td>1</td>\n",
       "        </tr>\n",
       "        <tr>\n",
       "            <td>booneaa01</td>\n",
       "            <td>750000.0</td>\n",
       "            <td>2009</td>\n",
       "            <td>2009</td>\n",
       "            <td>1</td>\n",
       "        </tr>\n",
       "        <tr>\n",
       "            <td>bouchde01</td>\n",
       "            <td>135000.0</td>\n",
       "            <td>1994</td>\n",
       "            <td>1994</td>\n",
       "            <td>1</td>\n",
       "        </tr>\n",
       "        <tr>\n",
       "            <td>bowiemi01</td>\n",
       "            <td>650000.0</td>\n",
       "            <td>2008</td>\n",
       "            <td>2008</td>\n",
       "            <td>1</td>\n",
       "        </tr>\n",
       "        <tr>\n",
       "            <td>brantje01</td>\n",
       "            <td>2800000.0</td>\n",
       "            <td>1999</td>\n",
       "            <td>1999</td>\n",
       "            <td>1</td>\n",
       "        </tr>\n",
       "        <tr>\n",
       "            <td>burrose01</td>\n",
       "            <td>525000.0</td>\n",
       "            <td>2012</td>\n",
       "            <td>2012</td>\n",
       "            <td>1</td>\n",
       "        </tr>\n",
       "        <tr>\n",
       "            <td>buterdr01</td>\n",
       "            <td>987500.0</td>\n",
       "            <td>2015</td>\n",
       "            <td>2015</td>\n",
       "            <td>1</td>\n",
       "        </tr>\n",
       "        <tr>\n",
       "            <td>canalge01</td>\n",
       "            <td>100000.0</td>\n",
       "            <td>1990</td>\n",
       "            <td>1990</td>\n",
       "            <td>1</td>\n",
       "        </tr>\n",
       "        <tr>\n",
       "            <td>carlybu01</td>\n",
       "            <td>330000.0</td>\n",
       "            <td>2005</td>\n",
       "            <td>2005</td>\n",
       "            <td>1</td>\n",
       "        </tr>\n",
       "        <tr>\n",
       "            <td>cartela02</td>\n",
       "            <td>550000.0</td>\n",
       "            <td>2006</td>\n",
       "            <td>2006</td>\n",
       "            <td>1</td>\n",
       "        </tr>\n",
       "        <tr>\n",
       "            <td>castiru01</td>\n",
       "            <td>871429.0</td>\n",
       "            <td>2014</td>\n",
       "            <td>2014</td>\n",
       "            <td>1</td>\n",
       "        </tr>\n",
       "        <tr>\n",
       "            <td>centeju01</td>\n",
       "            <td>507500.0</td>\n",
       "            <td>2015</td>\n",
       "            <td>2015</td>\n",
       "            <td>1</td>\n",
       "        </tr>\n",
       "        <tr>\n",
       "            <td>chacijh01</td>\n",
       "            <td>4850000.0</td>\n",
       "            <td>2014</td>\n",
       "            <td>2014</td>\n",
       "            <td>1</td>\n",
       "        </tr>\n",
       "        <tr>\n",
       "            <td>chicoma01</td>\n",
       "            <td>409000.0</td>\n",
       "            <td>2008</td>\n",
       "            <td>2008</td>\n",
       "            <td>1</td>\n",
       "        </tr>\n",
       "        <tr>\n",
       "            <td>chrisni01</td>\n",
       "            <td>500000.0</td>\n",
       "            <td>2014</td>\n",
       "            <td>2014</td>\n",
       "            <td>1</td>\n",
       "        </tr>\n",
       "        <tr>\n",
       "            <td>colabch01</td>\n",
       "            <td>521300.0</td>\n",
       "            <td>2016</td>\n",
       "            <td>2016</td>\n",
       "            <td>1</td>\n",
       "        </tr>\n",
       "        <tr>\n",
       "            <td>conroti01</td>\n",
       "            <td>115000.0</td>\n",
       "            <td>1987</td>\n",
       "            <td>1987</td>\n",
       "            <td>1</td>\n",
       "        </tr>\n",
       "        <tr>\n",
       "            <td>cormila01</td>\n",
       "            <td>405000.0</td>\n",
       "            <td>2007</td>\n",
       "            <td>2007</td>\n",
       "            <td>1</td>\n",
       "        </tr>\n",
       "        <tr>\n",
       "            <td>cornere01</td>\n",
       "            <td>109000.0</td>\n",
       "            <td>1995</td>\n",
       "            <td>1995</td>\n",
       "            <td>1</td>\n",
       "        </tr>\n",
       "        <tr>\n",
       "            <td>crometr01</td>\n",
       "            <td>109000.0</td>\n",
       "            <td>1993</td>\n",
       "            <td>1993</td>\n",
       "            <td>1</td>\n",
       "        </tr>\n",
       "        <tr>\n",
       "            <td>damicje01</td>\n",
       "            <td>2300000.0</td>\n",
       "            <td>2001</td>\n",
       "            <td>2001</td>\n",
       "            <td>1</td>\n",
       "        </tr>\n",
       "        <tr>\n",
       "            <td>delarjo01</td>\n",
       "            <td>10000000.0</td>\n",
       "            <td>2011</td>\n",
       "            <td>2011</td>\n",
       "            <td>1</td>\n",
       "        </tr>\n",
       "        <tr>\n",
       "            <td>dreifda01</td>\n",
       "            <td>12400000.0</td>\n",
       "            <td>2003</td>\n",
       "            <td>2003</td>\n",
       "            <td>1</td>\n",
       "        </tr>\n",
       "        <tr>\n",
       "            <td>dunnemi01</td>\n",
       "            <td>222500.0</td>\n",
       "            <td>1990</td>\n",
       "            <td>1990</td>\n",
       "            <td>1</td>\n",
       "        </tr>\n",
       "        <tr>\n",
       "            <td>edmonbr01</td>\n",
       "            <td>170000.0</td>\n",
       "            <td>1998</td>\n",
       "            <td>1998</td>\n",
       "            <td>1</td>\n",
       "        </tr>\n",
       "        <tr>\n",
       "            <td>eilanda01</td>\n",
       "            <td>135000.0</td>\n",
       "            <td>1993</td>\n",
       "            <td>1993</td>\n",
       "            <td>1</td>\n",
       "        </tr>\n",
       "        <tr>\n",
       "            <td>elartsc01</td>\n",
       "            <td>300000.0</td>\n",
       "            <td>2003</td>\n",
       "            <td>2003</td>\n",
       "            <td>1</td>\n",
       "        </tr>\n",
       "        <tr>\n",
       "            <td>elsteke01</td>\n",
       "            <td>300000.0</td>\n",
       "            <td>1995</td>\n",
       "            <td>1995</td>\n",
       "            <td>1</td>\n",
       "        </tr>\n",
       "        <tr>\n",
       "            <td>erickjo01</td>\n",
       "            <td>200000.0</td>\n",
       "            <td>1997</td>\n",
       "            <td>1997</td>\n",
       "            <td>1</td>\n",
       "        </tr>\n",
       "        <tr>\n",
       "            <td>fariepa01</td>\n",
       "            <td>122500.0</td>\n",
       "            <td>1992</td>\n",
       "            <td>1992</td>\n",
       "            <td>1</td>\n",
       "        </tr>\n",
       "        <tr>\n",
       "            <td>fasseje01</td>\n",
       "            <td>750000.0</td>\n",
       "            <td>2006</td>\n",
       "            <td>2006</td>\n",
       "            <td>1</td>\n",
       "        </tr>\n",
       "        <tr>\n",
       "            <td>fernajo02</td>\n",
       "            <td>651000.0</td>\n",
       "            <td>2015</td>\n",
       "            <td>2015</td>\n",
       "            <td>1</td>\n",
       "        </tr>\n",
       "        <tr>\n",
       "            <td>floydcl01</td>\n",
       "            <td>429500.0</td>\n",
       "            <td>1993</td>\n",
       "            <td>2009</td>\n",
       "            <td>2</td>\n",
       "        </tr>\n",
       "        <tr>\n",
       "            <td>foxer01</td>\n",
       "            <td>154000.0</td>\n",
       "            <td>1995</td>\n",
       "            <td>1995</td>\n",
       "            <td>1</td>\n",
       "        </tr>\n",
       "        <tr>\n",
       "            <td>garcifr02</td>\n",
       "            <td>10000000.0</td>\n",
       "            <td>2007</td>\n",
       "            <td>2007</td>\n",
       "            <td>1</td>\n",
       "        </tr>\n",
       "        <tr>\n",
       "            <td>gaudich01</td>\n",
       "            <td>900000.0</td>\n",
       "            <td>2011</td>\n",
       "            <td>2011</td>\n",
       "            <td>1</td>\n",
       "        </tr>\n",
       "        <tr>\n",
       "            <td>gedmari01</td>\n",
       "            <td>920000.0</td>\n",
       "            <td>1990</td>\n",
       "            <td>1990</td>\n",
       "            <td>1</td>\n",
       "        </tr>\n",
       "        <tr>\n",
       "            <td>greggto01</td>\n",
       "            <td>375000.0</td>\n",
       "            <td>1993</td>\n",
       "            <td>1993</td>\n",
       "            <td>1</td>\n",
       "        </tr>\n",
       "    </tbody>\n",
       "</table>\n",
       "<span style=\"font-style:italic;text-align:center;\">Truncated to <a href=\"https://jupysql.ploomber.io/en/latest/api/configuration.html#displaylimit\">displaylimit</a> of 50.</span>"
      ],
      "text/plain": [
       "+-----------+----------------+------------+-----------+-----------+\n",
       "| player_id | average_salary | first_year | last_year | num_years |\n",
       "+-----------+----------------+------------+-----------+-----------+\n",
       "| anderla02 |    240000.0    |    1986    |    1986   |     1     |\n",
       "| ashbyan01 |    109000.0    |    1992    |    1992   |     1     |\n",
       "| ayraubo01 |    125000.0    |    1993    |    1993   |     1     |\n",
       "| bankswi01 |    240000.0    |    1995    |    1995   |     1     |\n",
       "| batchri01 |    157500.0    |    1997    |    1997   |     1     |\n",
       "| batiski01 |    100000.0    |    1991    |    1991   |     1     |\n",
       "| batismi01 |    153000.0    |    1997    |    1997   |     1     |\n",
       "| bautijo01 |    150000.0    |    1997    |    1997   |     1     |\n",
       "|  beller01 |    145000.0    |    1993    |    1993   |     1     |\n",
       "| benesan01 |    68000.0     |    1989    |    1989   |     1     |\n",
       "| bennega01 |    825000.0    |    2008    |    2008   |     1     |\n",
       "|  bereja01 |   1200000.0    |    1999    |    1999   |     1     |\n",
       "| blackbu02 |   3250000.0    |    1994    |    1994   |     1     |\n",
       "| booneaa01 |    750000.0    |    2009    |    2009   |     1     |\n",
       "| bouchde01 |    135000.0    |    1994    |    1994   |     1     |\n",
       "| bowiemi01 |    650000.0    |    2008    |    2008   |     1     |\n",
       "| brantje01 |   2800000.0    |    1999    |    1999   |     1     |\n",
       "| burrose01 |    525000.0    |    2012    |    2012   |     1     |\n",
       "| buterdr01 |    987500.0    |    2015    |    2015   |     1     |\n",
       "| canalge01 |    100000.0    |    1990    |    1990   |     1     |\n",
       "| carlybu01 |    330000.0    |    2005    |    2005   |     1     |\n",
       "| cartela02 |    550000.0    |    2006    |    2006   |     1     |\n",
       "| castiru01 |    871429.0    |    2014    |    2014   |     1     |\n",
       "| centeju01 |    507500.0    |    2015    |    2015   |     1     |\n",
       "| chacijh01 |   4850000.0    |    2014    |    2014   |     1     |\n",
       "| chicoma01 |    409000.0    |    2008    |    2008   |     1     |\n",
       "| chrisni01 |    500000.0    |    2014    |    2014   |     1     |\n",
       "| colabch01 |    521300.0    |    2016    |    2016   |     1     |\n",
       "| conroti01 |    115000.0    |    1987    |    1987   |     1     |\n",
       "| cormila01 |    405000.0    |    2007    |    2007   |     1     |\n",
       "| cornere01 |    109000.0    |    1995    |    1995   |     1     |\n",
       "| crometr01 |    109000.0    |    1993    |    1993   |     1     |\n",
       "| damicje01 |   2300000.0    |    2001    |    2001   |     1     |\n",
       "| delarjo01 |   10000000.0   |    2011    |    2011   |     1     |\n",
       "| dreifda01 |   12400000.0   |    2003    |    2003   |     1     |\n",
       "| dunnemi01 |    222500.0    |    1990    |    1990   |     1     |\n",
       "| edmonbr01 |    170000.0    |    1998    |    1998   |     1     |\n",
       "| eilanda01 |    135000.0    |    1993    |    1993   |     1     |\n",
       "| elartsc01 |    300000.0    |    2003    |    2003   |     1     |\n",
       "| elsteke01 |    300000.0    |    1995    |    1995   |     1     |\n",
       "| erickjo01 |    200000.0    |    1997    |    1997   |     1     |\n",
       "| fariepa01 |    122500.0    |    1992    |    1992   |     1     |\n",
       "| fasseje01 |    750000.0    |    2006    |    2006   |     1     |\n",
       "| fernajo02 |    651000.0    |    2015    |    2015   |     1     |\n",
       "| floydcl01 |    429500.0    |    1993    |    2009   |     2     |\n",
       "|  foxer01  |    154000.0    |    1995    |    1995   |     1     |\n",
       "| garcifr02 |   10000000.0   |    2007    |    2007   |     1     |\n",
       "| gaudich01 |    900000.0    |    2011    |    2011   |     1     |\n",
       "| gedmari01 |    920000.0    |    1990    |    1990   |     1     |\n",
       "| greggto01 |    375000.0    |    1993    |    1993   |     1     |\n",
       "+-----------+----------------+------------+-----------+-----------+\n",
       "Truncated to displaylimit of 50."
      ]
     },
     "execution_count": 74,
     "metadata": {},
     "output_type": "execute_result"
    }
   ],
   "source": [
    "%%sql\n",
    "DROP INDEX IF EXISTS appearances_g_batting_idx;\n",
    "DROP INDEX IF EXISTS salary_idx;\n",
    "\n",
    "CREATE INDEX salary_idx ON salaries(salary);\n",
    "\n",
    "SELECT \n",
    "    a.player_id,\n",
    "    AVG(s.salary) AS average_salary,\n",
    "    MIN(a.year_id) AS first_year,\n",
    "    MAX(a.year_id) AS last_year,\n",
    "    COUNT(DISTINCT a.year_id) AS num_years\n",
    "FROM \n",
    "    salaries s\n",
    "JOIN \n",
    "    appearances a ON s.year_id = a.year_id AND s.team_id = a.team_id AND s.player_id = a.player_id\n",
    "WHERE \n",
    "    a.g_batting = 10\n",
    "GROUP BY \n",
    "    a.player_id;"
   ]
  },
  {
   "cell_type": "markdown",
   "metadata": {
    "deletable": false,
    "editable": false
   },
   "source": [
    "Now, re-inspect the query plan of the query from Question 5a and record its execution time and cost."
   ]
  },
  {
   "cell_type": "code",
   "execution_count": 75,
   "metadata": {
    "deletable": false,
    "editable": false
   },
   "outputs": [
    {
     "name": "stderr",
     "output_type": "stream",
     "text": [
      "'EXPLAIN ANALYZE SELECT a.player_id, AVG(s.salary) AS average_salary, MIN(a.year_id) AS first_year, M' contains unsupported syntax. Falling back to parsing as a 'Command'.\n"
     ]
    },
    {
     "data": {
      "text/html": [
       "<span style=\"None\">Running query in &#x27;postgresql://jovyan@127.0.0.1:5432/baseball&#x27;</span>"
      ],
      "text/plain": [
       "Running query in 'postgresql://jovyan@127.0.0.1:5432/baseball'"
      ]
     },
     "metadata": {},
     "output_type": "display_data"
    },
    {
     "data": {
      "text/html": [
       "<span style=\"color: green\">15 rows affected.</span>"
      ],
      "text/plain": [
       "15 rows affected."
      ]
     },
     "metadata": {},
     "output_type": "display_data"
    },
    {
     "data": {
      "text/html": [
       "<table>\n",
       "    <thead>\n",
       "        <tr>\n",
       "            <th>QUERY PLAN</th>\n",
       "        </tr>\n",
       "    </thead>\n",
       "    <tbody>\n",
       "        <tr>\n",
       "            <td>GroupAggregate  (cost=3565.23..3565.26 rows=1 width=33) (actual time=15.301..15.430 rows=134 loops=1)</td>\n",
       "        </tr>\n",
       "        <tr>\n",
       "            <td>&nbsp;&nbsp;Group Key: a.player_id</td>\n",
       "        </tr>\n",
       "        <tr>\n",
       "            <td>&nbsp;&nbsp;->  Sort  (cost=3565.23..3565.24 rows=1 width=21) (actual time=15.285..15.293 rows=138 loops=1)</td>\n",
       "        </tr>\n",
       "        <tr>\n",
       "            <td>&nbsp;&nbsp;&nbsp;&nbsp;&nbsp;&nbsp;&nbsp;&nbsp;Sort Key: a.player_id</td>\n",
       "        </tr>\n",
       "        <tr>\n",
       "            <td>&nbsp;&nbsp;&nbsp;&nbsp;&nbsp;&nbsp;&nbsp;&nbsp;Sort Method: quicksort  Memory: 35kB</td>\n",
       "        </tr>\n",
       "        <tr>\n",
       "            <td>&nbsp;&nbsp;&nbsp;&nbsp;&nbsp;&nbsp;&nbsp;&nbsp;->  Hash Join  (cost=2897.82..3565.22 rows=1 width=21) (actual time=9.352..15.173 rows=138 loops=1)</td>\n",
       "        </tr>\n",
       "        <tr>\n",
       "            <td>&nbsp;&nbsp;&nbsp;&nbsp;&nbsp;&nbsp;&nbsp;&nbsp;&nbsp;&nbsp;&nbsp;&nbsp;&nbsp;&nbsp;Hash Cond: ((s.year_id = a.year_id) AND ((s.team_id)::text = (a.team_id)::text) AND ((s.player_id)::text = (a.player_id)::text))</td>\n",
       "        </tr>\n",
       "        <tr>\n",
       "            <td>&nbsp;&nbsp;&nbsp;&nbsp;&nbsp;&nbsp;&nbsp;&nbsp;&nbsp;&nbsp;&nbsp;&nbsp;&nbsp;&nbsp;->  Seq Scan on salaries s  (cost=0.00..459.28 rows=26428 width=25) (actual time=0.009..1.580 rows=26428 loops=1)</td>\n",
       "        </tr>\n",
       "        <tr>\n",
       "            <td>&nbsp;&nbsp;&nbsp;&nbsp;&nbsp;&nbsp;&nbsp;&nbsp;&nbsp;&nbsp;&nbsp;&nbsp;&nbsp;&nbsp;->  Hash  (cost=2873.20..2873.20 rows=1407 width=17) (actual time=9.197..9.198 rows=1347 loops=1)</td>\n",
       "        </tr>\n",
       "        <tr>\n",
       "            <td>&nbsp;&nbsp;&nbsp;&nbsp;&nbsp;&nbsp;&nbsp;&nbsp;&nbsp;&nbsp;&nbsp;&nbsp;&nbsp;&nbsp;&nbsp;&nbsp;&nbsp;&nbsp;&nbsp;&nbsp;Buckets: 2048  Batches: 1  Memory Usage: 85kB</td>\n",
       "        </tr>\n",
       "        <tr>\n",
       "            <td>&nbsp;&nbsp;&nbsp;&nbsp;&nbsp;&nbsp;&nbsp;&nbsp;&nbsp;&nbsp;&nbsp;&nbsp;&nbsp;&nbsp;&nbsp;&nbsp;&nbsp;&nbsp;&nbsp;&nbsp;->  Seq Scan on appearances a  (cost=0.00..2873.20 rows=1407 width=17) (actual time=0.007..8.897 rows=1347 loops=1)</td>\n",
       "        </tr>\n",
       "        <tr>\n",
       "            <td>&nbsp;&nbsp;&nbsp;&nbsp;&nbsp;&nbsp;&nbsp;&nbsp;&nbsp;&nbsp;&nbsp;&nbsp;&nbsp;&nbsp;&nbsp;&nbsp;&nbsp;&nbsp;&nbsp;&nbsp;&nbsp;&nbsp;&nbsp;&nbsp;&nbsp;&nbsp;Filter: (g_batting = 10)</td>\n",
       "        </tr>\n",
       "        <tr>\n",
       "            <td>&nbsp;&nbsp;&nbsp;&nbsp;&nbsp;&nbsp;&nbsp;&nbsp;&nbsp;&nbsp;&nbsp;&nbsp;&nbsp;&nbsp;&nbsp;&nbsp;&nbsp;&nbsp;&nbsp;&nbsp;&nbsp;&nbsp;&nbsp;&nbsp;&nbsp;&nbsp;Rows Removed by Filter: 102909</td>\n",
       "        </tr>\n",
       "        <tr>\n",
       "            <td>Planning Time: 0.932 ms</td>\n",
       "        </tr>\n",
       "        <tr>\n",
       "            <td>Execution Time: 15.477 ms</td>\n",
       "        </tr>\n",
       "    </tbody>\n",
       "</table>"
      ],
      "text/plain": [
       "+------------------------------------------------------------------------------------------------------------------------------------------------+\n",
       "|                                                                   QUERY PLAN                                                                   |\n",
       "+------------------------------------------------------------------------------------------------------------------------------------------------+\n",
       "|                     GroupAggregate  (cost=3565.23..3565.26 rows=1 width=33) (actual time=15.301..15.430 rows=134 loops=1)                      |\n",
       "|                                                              Group Key: a.player_id                                                            |\n",
       "|                         ->  Sort  (cost=3565.23..3565.24 rows=1 width=21) (actual time=15.285..15.293 rows=138 loops=1)                        |\n",
       "|                                                                 Sort Key: a.player_id                                                          |\n",
       "|                                                          Sort Method: quicksort  Memory: 35kB                                                  |\n",
       "|                          ->  Hash Join  (cost=2897.82..3565.22 rows=1 width=21) (actual time=9.352..15.173 rows=138 loops=1)                   |\n",
       "|               Hash Cond: ((s.year_id = a.year_id) AND ((s.team_id)::text = (a.team_id)::text) AND ((s.player_id)::text = (a.player_id)::text)) |\n",
       "|                      ->  Seq Scan on salaries s  (cost=0.00..459.28 rows=26428 width=25) (actual time=0.009..1.580 rows=26428 loops=1)         |\n",
       "|                              ->  Hash  (cost=2873.20..2873.20 rows=1407 width=17) (actual time=9.197..9.198 rows=1347 loops=1)                 |\n",
       "|                                                           Buckets: 2048  Batches: 1  Memory Usage: 85kB                                        |\n",
       "|                        ->  Seq Scan on appearances a  (cost=0.00..2873.20 rows=1407 width=17) (actual time=0.007..8.897 rows=1347 loops=1)     |\n",
       "|                                                                         Filter: (g_batting = 10)                                               |\n",
       "|                                                                      Rows Removed by Filter: 102909                                            |\n",
       "|                                                            Planning Time: 0.932 ms                                                             |\n",
       "|                                                           Execution Time: 15.477 ms                                                            |\n",
       "+------------------------------------------------------------------------------------------------------------------------------------------------+"
      ]
     },
     "execution_count": 75,
     "metadata": {},
     "output_type": "execute_result"
    }
   ],
   "source": [
    "# just run this cell\n",
    "%sql EXPLAIN ANALYZE {{query_5a}}"
   ]
  },
  {
   "cell_type": "code",
   "execution_count": 76,
   "metadata": {
    "tags": []
   },
   "outputs": [],
   "source": [
    "result_5c_cost = 3563.80\n",
    "result_5c_timing = 15.065"
   ]
  },
  {
   "cell_type": "code",
   "execution_count": 77,
   "metadata": {
    "deletable": false,
    "editable": false
   },
   "outputs": [
    {
     "data": {
      "text/html": [
       "<p><strong><pre style='display: inline;'>q5c</pre></strong> passed! 💯</p>"
      ],
      "text/plain": [
       "q5c results: All test cases passed!"
      ]
     },
     "execution_count": 77,
     "metadata": {},
     "output_type": "execute_result"
    }
   ],
   "source": [
    "grader.check(\"q5c\")"
   ]
  },
  {
   "cell_type": "markdown",
   "metadata": {
    "deletable": false,
    "editable": false
   },
   "source": [
    "<br><br>\n",
    "\n",
    "---\n",
    "\n",
    "## Question 5d\n",
    "\n",
    "Given your findings from inspecting the query plans with no indexes (Question 5a), an index on `g_batting` (Question 5b), and an index on `salary` (Question 5c), assign the variable `q5d` to a list of **ALL** of the below statements that are true.\n",
    "\n",
    "A. Adding the `appearances_g_batting` index did not have a significant impact on the query execution time and cost.<br/>\n",
    "B. Adding the `appearances_g_batting` index did have a significant impact on the query execution time, but not the cost.<br/>\n",
    "C. Adding the `appearances_g_batting` index did have a significant impact on the query cost, but not the execution time.<br/>\n",
    "D. Adding the `appearances_g_batting` index did have a significant impact on the query cost and execution time.<br/>\n",
    "E. Adding the `salary_idx` index did not have a significant impact on the query execution time and cost.<br/>\n",
    "F. Adding the `salary_idx` index did have a significant impact on the query execution time, but not the cost.<br/>\n",
    "G. Adding the `salary_idx` index did have a significant impact on the query cost, but not the execution time.<br/>\n",
    "H. Adding the `salary_idx` index did have a significant impact on the query cost and execution time.\n",
    "\n",
    "**Note:** Your answer should have the format like this if you think A and B are both true: `q5b = ['A', 'B']`. The autograder is **case sensitive** but order should not matter."
   ]
  },
  {
   "cell_type": "code",
   "execution_count": 78,
   "metadata": {
    "tags": []
   },
   "outputs": [],
   "source": [
    "q5d = ['D','E']"
   ]
  },
  {
   "cell_type": "code",
   "execution_count": 79,
   "metadata": {
    "deletable": false,
    "editable": false
   },
   "outputs": [
    {
     "data": {
      "text/html": [
       "<p><strong><pre style='display: inline;'>q5d</pre></strong> passed! 🙌</p>"
      ],
      "text/plain": [
       "q5d results: All test cases passed!"
      ]
     },
     "execution_count": 79,
     "metadata": {},
     "output_type": "execute_result"
    }
   ],
   "source": [
    "grader.check(\"q5d\")"
   ]
  },
  {
   "cell_type": "markdown",
   "metadata": {
    "deletable": false,
    "editable": false
   },
   "source": [
    "<!-- BEGIN QUESTION -->\n",
    "\n",
    "### Question 5di Justification\n",
    "\n",
    "1. **Explain your answer to Question 5d** above based on your knowledge from lectures and details from inspecting the query plans.\n",
    "2. If there were any options you did NOT select, **choose any one of them and explain why you did not select it.**\n",
    "\n",
    "Your answer should be **no longer than 3 sentences.** **Explicitly state which answer option(s) you chose or didn't choose** in addition to your explanations. For example, you could write, \"I chose (A) because...\" or \"I did NOT choose (B) because...\""
   ]
  },
  {
   "cell_type": "markdown",
   "metadata": {},
   "source": [
    "I chose (D) because adding the appearances_g_batting index significantly reduced both the execution time (from 17.502 ms to 8.731 ms) and cost (from 3563.80 to 2299.47). I chose E because adding the salary_idx index did not significantly impact the execution time or cost, with the query plan showing similar performance before and after its addition. I did not choose B because the appearances_g_batting index affected both execution time and cost, not just the execution time."
   ]
  },
  {
   "cell_type": "markdown",
   "metadata": {
    "deletable": false,
    "editable": false
   },
   "source": [
    "<!-- END QUESTION -->\n",
    "\n",
    "<br/><br/><br/>\n",
    "\n",
    "<hr style=\"border: 5px solid #003262;\" />\n",
    "<hr style=\"border: 1px solid #fdb515;\" />\n",
    "\n",
    "# Question 6: Indexes, Part 2\n",
    "\n",
    "Continue the analysis on how indexes impact query peformance."
   ]
  },
  {
   "cell_type": "markdown",
   "metadata": {},
   "source": [
    "Before continuing, make sure to drop all existing indexes from previous questions."
   ]
  },
  {
   "cell_type": "code",
   "execution_count": 80,
   "metadata": {},
   "outputs": [
    {
     "data": {
      "text/html": [
       "<span style=\"None\">Running query in &#x27;postgresql://jovyan@127.0.0.1:5432/baseball&#x27;</span>"
      ],
      "text/plain": [
       "Running query in 'postgresql://jovyan@127.0.0.1:5432/baseball'"
      ]
     },
     "metadata": {},
     "output_type": "display_data"
    },
    {
     "data": {
      "text/html": [
       "<span style=\"None\">Running query in &#x27;postgresql://jovyan@127.0.0.1:5432/baseball&#x27;</span>"
      ],
      "text/plain": [
       "Running query in 'postgresql://jovyan@127.0.0.1:5432/baseball'"
      ]
     },
     "metadata": {},
     "output_type": "display_data"
    },
    {
     "data": {
      "text/html": [
       "<table>\n",
       "    <thead>\n",
       "        <tr>\n",
       "        </tr>\n",
       "    </thead>\n",
       "    <tbody>\n",
       "    </tbody>\n",
       "</table>"
      ],
      "text/plain": [
       "++\n",
       "||\n",
       "++\n",
       "++"
      ]
     },
     "execution_count": 80,
     "metadata": {},
     "output_type": "execute_result"
    }
   ],
   "source": [
    "# you must run this cell!!!\n",
    "%sql DROP INDEX IF EXISTS appearances_batting_idx;\n",
    "%sql DROP INDEX IF EXISTS salary_idx;"
   ]
  },
  {
   "cell_type": "markdown",
   "metadata": {
    "deletable": false,
    "editable": false
   },
   "source": [
    "<br><br>\n",
    "\n",
    "---\n",
    "\n",
    "## Question 6a\n",
    "\n",
    "### Question 6ai\n",
    "\n",
    "Write a query that finds the `player_id`, `year_id`, and `salary` for each player that had played 10 games **and** batted in 10 games (the number of games in which a player played can be found in the `g_all` column of the `appearances` table and the number of games in which a player batted can be found in the `g_batting` column of the `appearances` table). Your query should join the `salaries` and `appearances` table on all the common columns `year_id`, `team_id`, and `player_id`, so feel free to use a natural join.\n",
    "\n",
    "Your table header should look like this:\n",
    "\n",
    "| player_id | year_id | salary |\n",
    "| --- | --- | --- |"
   ]
  },
  {
   "cell_type": "markdown",
   "metadata": {
    "deletable": false,
    "editable": false
   },
   "source": [
    "4. Finally, record the **cost** and **time** for the sample query. For all questions within this project, we will accept a range of values for your query costs and query timings."
   ]
  },
  {
   "cell_type": "code",
   "execution_count": 81,
   "metadata": {
    "tags": []
   },
   "outputs": [
    {
     "data": {
      "text/html": [
       "<span style=\"None\">Running query in &#x27;postgresql://jovyan@127.0.0.1:5432/baseball&#x27;</span>"
      ],
      "text/plain": [
       "Running query in 'postgresql://jovyan@127.0.0.1:5432/baseball'"
      ]
     },
     "metadata": {},
     "output_type": "display_data"
    },
    {
     "data": {
      "text/html": [
       "<span style=\"color: green\">120 rows affected.</span>"
      ],
      "text/plain": [
       "120 rows affected."
      ]
     },
     "metadata": {},
     "output_type": "display_data"
    }
   ],
   "source": [
    "%%sql --save query_6ai result_6ai <<\n",
    "SELECT player_id, year_id, salary\n",
    "FROM salaries\n",
    "NATURAL JOIN appearances\n",
    "WHERE g_all = 10 AND g_batting = 10;"
   ]
  },
  {
   "cell_type": "code",
   "execution_count": 82,
   "metadata": {
    "tags": []
   },
   "outputs": [
    {
     "data": {
      "text/html": [
       "<div>\n",
       "<style scoped>\n",
       "    .dataframe tbody tr th:only-of-type {\n",
       "        vertical-align: middle;\n",
       "    }\n",
       "\n",
       "    .dataframe tbody tr th {\n",
       "        vertical-align: top;\n",
       "    }\n",
       "\n",
       "    .dataframe thead th {\n",
       "        text-align: right;\n",
       "    }\n",
       "</style>\n",
       "<table border=\"1\" class=\"dataframe\">\n",
       "  <thead>\n",
       "    <tr style=\"text-align: right;\">\n",
       "      <th></th>\n",
       "      <th>player_id</th>\n",
       "      <th>year_id</th>\n",
       "      <th>salary</th>\n",
       "    </tr>\n",
       "  </thead>\n",
       "  <tbody>\n",
       "    <tr>\n",
       "      <th>0</th>\n",
       "      <td>wiggial01</td>\n",
       "      <td>1985</td>\n",
       "      <td>512500.0</td>\n",
       "    </tr>\n",
       "    <tr>\n",
       "      <th>1</th>\n",
       "      <td>anderla02</td>\n",
       "      <td>1986</td>\n",
       "      <td>240000.0</td>\n",
       "    </tr>\n",
       "    <tr>\n",
       "      <th>2</th>\n",
       "      <td>lakest01</td>\n",
       "      <td>1986</td>\n",
       "      <td>60000.0</td>\n",
       "    </tr>\n",
       "  </tbody>\n",
       "</table>\n",
       "</div>"
      ],
      "text/plain": [
       "   player_id  year_id    salary\n",
       "0  wiggial01     1985  512500.0\n",
       "1  anderla02     1986  240000.0\n",
       "2   lakest01     1986   60000.0"
      ]
     },
     "execution_count": 82,
     "metadata": {},
     "output_type": "execute_result"
    }
   ],
   "source": [
    "# Do not delete/edit this cell!\n",
    "# You must run this cell before running the autograder.\n",
    "query_6ai = %sqlcmd snippets query_6ai\n",
    "grading_util.save_results(\"result_6ai\", query_6ai, result_6ai);\n",
    "\n",
    "result_6ai.DataFrame().head(3)"
   ]
  },
  {
   "cell_type": "code",
   "execution_count": 83,
   "metadata": {
    "deletable": false,
    "editable": false
   },
   "outputs": [
    {
     "data": {
      "text/html": [
       "<p><strong><pre style='display: inline;'>q6ai</pre></strong> passed! ✨</p>"
      ],
      "text/plain": [
       "q6ai results: All test cases passed!"
      ]
     },
     "execution_count": 83,
     "metadata": {},
     "output_type": "execute_result"
    }
   ],
   "source": [
    "grader.check(\"q6ai\")"
   ]
  },
  {
   "cell_type": "markdown",
   "metadata": {
    "deletable": false,
    "editable": false
   },
   "source": [
    "### Question 6aii\n",
    "\n",
    "Inspect the query plan and record the execution time and cost."
   ]
  },
  {
   "cell_type": "code",
   "execution_count": 84,
   "metadata": {
    "deletable": false,
    "editable": false
   },
   "outputs": [
    {
     "name": "stdout",
     "output_type": "stream",
     "text": [
      "                                                                                                    QUERY PLAN                                                                                                     \n",
      "-------------------------------------------------------------------------------------------------------------------------------------------------------------------------------------------------------------------\n",
      " Nested Loop  (cost=0.29..3308.72 rows=1 width=21) (actual time=7.422..13.235 rows=120 loops=1)\n",
      "   ->  Seq Scan on appearances  (cost=0.00..3133.84 rows=22 width=20) (actual time=0.014..10.509 rows=1289 loops=1)\n",
      "         Filter: ((g_all = 10) AND (g_batting = 10))\n",
      "         Rows Removed by Filter: 102967\n",
      "   ->  Index Scan using salaries_pkey on salaries  (cost=0.29..7.95 rows=1 width=28) (actual time=0.002..0.002 rows=0 loops=1289)\n",
      "         Index Cond: ((year_id = appearances.year_id) AND ((team_id)::text = (appearances.team_id)::text) AND ((lg_id)::text = (appearances.lg_id)::text) AND ((player_id)::text = (appearances.player_id)::text))\n",
      " Planning Time: 1.331 ms\n",
      " Execution Time: 13.292 ms\n",
      "(8 rows)\n",
      "\n"
     ]
    }
   ],
   "source": [
    "!psql -h localhost -d baseball -c \"EXPLAIN ANALYZE {query_6ai}\";"
   ]
  },
  {
   "cell_type": "code",
   "execution_count": 85,
   "metadata": {
    "tags": []
   },
   "outputs": [],
   "source": [
    "result_6aii_cost = 3308.72\n",
    "result_6aii_timing = 12.05"
   ]
  },
  {
   "cell_type": "code",
   "execution_count": 86,
   "metadata": {
    "deletable": false,
    "editable": false
   },
   "outputs": [
    {
     "data": {
      "text/html": [
       "<p><strong><pre style='display: inline;'>6aii</pre></strong> passed! 🌟</p>"
      ],
      "text/plain": [
       "6aii results: All test cases passed!"
      ]
     },
     "execution_count": 86,
     "metadata": {},
     "output_type": "execute_result"
    }
   ],
   "source": [
    "grader.check(\"6aii\")"
   ]
  },
  {
   "cell_type": "markdown",
   "metadata": {
    "deletable": false,
    "editable": false
   },
   "source": [
    "## Question 6b\n",
    "\n",
    "### Question 6bi\n",
    "\n",
    "Write a query that finds the `player_id`, `year_id`, and `salary` for each player that had played 10 games __or__ batted in 10 games. Please use a natural join to join the `salaries` and `appearances` table on all the common columns `year_id`, `team_id`, and `player_id`.\n",
    "\n",
    "Your table header should look like this:\n",
    "\n",
    "| player_id | year_id | salary |\n",
    "| --- | --- | --- |"
   ]
  },
  {
   "cell_type": "code",
   "execution_count": 87,
   "metadata": {
    "tags": []
   },
   "outputs": [
    {
     "data": {
      "text/html": [
       "<span style=\"None\">Running query in &#x27;postgresql://jovyan@127.0.0.1:5432/baseball&#x27;</span>"
      ],
      "text/plain": [
       "Running query in 'postgresql://jovyan@127.0.0.1:5432/baseball'"
      ]
     },
     "metadata": {},
     "output_type": "display_data"
    },
    {
     "data": {
      "text/html": [
       "<span style=\"color: green\">216 rows affected.</span>"
      ],
      "text/plain": [
       "216 rows affected."
      ]
     },
     "metadata": {},
     "output_type": "display_data"
    }
   ],
   "source": [
    "%%sql --save query_6bi result_6bi <<\n",
    "SELECT player_id, year_id, salary\n",
    "FROM salaries\n",
    "NATURAL JOIN appearances\n",
    "WHERE g_all = 10 OR g_batting = 10;"
   ]
  },
  {
   "cell_type": "code",
   "execution_count": 88,
   "metadata": {
    "tags": []
   },
   "outputs": [
    {
     "data": {
      "text/html": [
       "<div>\n",
       "<style scoped>\n",
       "    .dataframe tbody tr th:only-of-type {\n",
       "        vertical-align: middle;\n",
       "    }\n",
       "\n",
       "    .dataframe tbody tr th {\n",
       "        vertical-align: top;\n",
       "    }\n",
       "\n",
       "    .dataframe thead th {\n",
       "        text-align: right;\n",
       "    }\n",
       "</style>\n",
       "<table border=\"1\" class=\"dataframe\">\n",
       "  <thead>\n",
       "    <tr style=\"text-align: right;\">\n",
       "      <th></th>\n",
       "      <th>player_id</th>\n",
       "      <th>year_id</th>\n",
       "      <th>salary</th>\n",
       "    </tr>\n",
       "  </thead>\n",
       "  <tbody>\n",
       "    <tr>\n",
       "      <th>0</th>\n",
       "      <td>wiggial01</td>\n",
       "      <td>1985</td>\n",
       "      <td>512500.0</td>\n",
       "    </tr>\n",
       "    <tr>\n",
       "      <th>1</th>\n",
       "      <td>forscke01</td>\n",
       "      <td>1986</td>\n",
       "      <td>100000.0</td>\n",
       "    </tr>\n",
       "    <tr>\n",
       "      <th>2</th>\n",
       "      <td>carltst01</td>\n",
       "      <td>1986</td>\n",
       "      <td>60000.0</td>\n",
       "    </tr>\n",
       "  </tbody>\n",
       "</table>\n",
       "</div>"
      ],
      "text/plain": [
       "   player_id  year_id    salary\n",
       "0  wiggial01     1985  512500.0\n",
       "1  forscke01     1986  100000.0\n",
       "2  carltst01     1986   60000.0"
      ]
     },
     "execution_count": 88,
     "metadata": {},
     "output_type": "execute_result"
    }
   ],
   "source": [
    "# Do not delete/edit this cell!\n",
    "# You must run this cell before running the autograder.\n",
    "query_6bi = %sqlcmd snippets query_6bi\n",
    "grading_util.save_results(\"result_6bi\", query_6bi, result_6bi);\n",
    "result_6bi.DataFrame().head(3)"
   ]
  },
  {
   "cell_type": "code",
   "execution_count": 89,
   "metadata": {
    "deletable": false,
    "editable": false
   },
   "outputs": [
    {
     "data": {
      "text/html": [
       "<p><strong><pre style='display: inline;'>q6bi</pre></strong> passed! 🌟</p>"
      ],
      "text/plain": [
       "q6bi results: All test cases passed!"
      ]
     },
     "execution_count": 89,
     "metadata": {},
     "output_type": "execute_result"
    }
   ],
   "source": [
    "grader.check(\"q6bi\")"
   ]
  },
  {
   "cell_type": "markdown",
   "metadata": {
    "deletable": false,
    "editable": false
   },
   "source": [
    "### Question 6bii\n",
    "\n",
    "Inspect the query plan and record the execution time and cost."
   ]
  },
  {
   "cell_type": "code",
   "execution_count": 90,
   "metadata": {
    "deletable": false,
    "editable": false
   },
   "outputs": [
    {
     "name": "stdout",
     "output_type": "stream",
     "text": [
      "                                                                                                                   QUERY PLAN                                                                                                                   \n",
      "------------------------------------------------------------------------------------------------------------------------------------------------------------------------------------------------------------------------------------------------\n",
      " Hash Join  (cost=3194.62..3931.39 rows=1 width=21) (actual time=11.822..18.282 rows=216 loops=1)\n",
      "   Hash Cond: ((salaries.year_id = appearances.year_id) AND ((salaries.team_id)::text = (appearances.team_id)::text) AND ((salaries.lg_id)::text = (appearances.lg_id)::text) AND ((salaries.player_id)::text = (appearances.player_id)::text))\n",
      "   ->  Seq Scan on salaries  (cost=0.00..459.28 rows=26428 width=28) (actual time=0.010..1.665 rows=26428 loops=1)\n",
      "   ->  Hash  (cost=3133.84..3133.84 rows=3039 width=20) (actual time=11.656..11.657 rows=1655 loops=1)\n",
      "         Buckets: 4096  Batches: 1  Memory Usage: 118kB\n",
      "         ->  Seq Scan on appearances  (cost=0.00..3133.84 rows=3039 width=20) (actual time=0.010..11.128 rows=1655 loops=1)\n",
      "               Filter: ((g_all = 10) OR (g_batting = 10))\n",
      "               Rows Removed by Filter: 102601\n",
      " Planning Time: 1.268 ms\n",
      " Execution Time: 18.350 ms\n",
      "(10 rows)\n",
      "\n"
     ]
    }
   ],
   "source": [
    "!psql -h localhost -d baseball -c \"EXPLAIN ANALYZE {query_6bi}\";"
   ]
  },
  {
   "cell_type": "code",
   "execution_count": 91,
   "metadata": {
    "tags": []
   },
   "outputs": [],
   "source": [
    "result_6bii_cost = 3930.71\n",
    "result_6bii_timing = 17.820"
   ]
  },
  {
   "cell_type": "code",
   "execution_count": 92,
   "metadata": {
    "deletable": false,
    "editable": false
   },
   "outputs": [
    {
     "data": {
      "text/html": [
       "<p><strong><pre style='display: inline;'>6bii</pre></strong> passed! 💯</p>"
      ],
      "text/plain": [
       "6bii results: All test cases passed!"
      ]
     },
     "execution_count": 92,
     "metadata": {},
     "output_type": "execute_result"
    }
   ],
   "source": [
    "grader.check(\"6bii\")"
   ]
  },
  {
   "cell_type": "markdown",
   "metadata": {
    "deletable": false,
    "editable": false
   },
   "source": [
    "## Question 6c\n",
    "Now, let's see the impact of adding an index on the `g_batting` column. Create an index on the `g_batting` column. Re-inspect the queries from `Question 6a` and `Question 6b` and record the respective execution costs and times."
   ]
  },
  {
   "cell_type": "code",
   "execution_count": 93,
   "metadata": {
    "tags": []
   },
   "outputs": [
    {
     "data": {
      "text/html": [
       "<span style=\"None\">Running query in &#x27;postgresql://jovyan@127.0.0.1:5432/baseball&#x27;</span>"
      ],
      "text/plain": [
       "Running query in 'postgresql://jovyan@127.0.0.1:5432/baseball'"
      ]
     },
     "metadata": {},
     "output_type": "display_data"
    },
    {
     "data": {
      "text/html": [
       "<table>\n",
       "    <thead>\n",
       "        <tr>\n",
       "        </tr>\n",
       "    </thead>\n",
       "    <tbody>\n",
       "    </tbody>\n",
       "</table>"
      ],
      "text/plain": [
       "++\n",
       "||\n",
       "++\n",
       "++"
      ]
     },
     "execution_count": 93,
     "metadata": {},
     "output_type": "execute_result"
    }
   ],
   "source": [
    "%%sql\n",
    "DROP INDEX IF EXISTS appearances_g_batting_idx;\n",
    "CREATE INDEX appearances_g_batting_idx ON appearances(g_batting);\n"
   ]
  },
  {
   "cell_type": "code",
   "execution_count": 94,
   "metadata": {
    "scrolled": true,
    "tags": []
   },
   "outputs": [
    {
     "name": "stdout",
     "output_type": "stream",
     "text": [
      "                                                                                                    QUERY PLAN                                                                                                     \n",
      "-------------------------------------------------------------------------------------------------------------------------------------------------------------------------------------------------------------------\n",
      " Nested Loop  (cost=19.14..1808.42 rows=1 width=21) (actual time=2.480..4.729 rows=120 loops=1)\n",
      "   ->  Bitmap Heap Scan on appearances  (cost=18.85..1633.55 rows=22 width=20) (actual time=0.254..2.125 rows=1289 loops=1)\n",
      "         Recheck Cond: (g_batting = 10)\n",
      "         Filter: (g_all = 10)\n",
      "         Rows Removed by Filter: 58\n",
      "         Heap Blocks: exact=899\n",
      "         ->  Bitmap Index Scan on appearances_g_batting_idx  (cost=0.00..18.85 rows=1407 width=0) (actual time=0.147..0.147 rows=1347 loops=1)\n",
      "               Index Cond: (g_batting = 10)\n",
      "   ->  Index Scan using salaries_pkey on salaries  (cost=0.29..7.95 rows=1 width=28) (actual time=0.002..0.002 rows=0 loops=1289)\n",
      "         Index Cond: ((year_id = appearances.year_id) AND ((team_id)::text = (appearances.team_id)::text) AND ((lg_id)::text = (appearances.lg_id)::text) AND ((player_id)::text = (appearances.player_id)::text))\n",
      " Planning Time: 1.448 ms\n",
      " Execution Time: 4.802 ms\n",
      "(12 rows)\n",
      "\n"
     ]
    }
   ],
   "source": [
    "# record the updated costs for Question 6a (\"and\" query)\n",
    "!psql -h localhost -d baseball -c \"EXPLAIN ANALYZE {query_6ai}\";"
   ]
  },
  {
   "cell_type": "code",
   "execution_count": 95,
   "metadata": {
    "tags": []
   },
   "outputs": [],
   "source": [
    "result_6c_and_index_cost = 1797.95\n",
    "result_6c_and_index_timing = 4.282"
   ]
  },
  {
   "cell_type": "code",
   "execution_count": 96,
   "metadata": {
    "tags": []
   },
   "outputs": [
    {
     "name": "stdout",
     "output_type": "stream",
     "text": [
      "                                                                                                                   QUERY PLAN                                                                                                                   \n",
      "------------------------------------------------------------------------------------------------------------------------------------------------------------------------------------------------------------------------------------------------\n",
      " Hash Join  (cost=3194.62..3931.39 rows=1 width=21) (actual time=12.361..18.869 rows=216 loops=1)\n",
      "   Hash Cond: ((salaries.year_id = appearances.year_id) AND ((salaries.team_id)::text = (appearances.team_id)::text) AND ((salaries.lg_id)::text = (appearances.lg_id)::text) AND ((salaries.player_id)::text = (appearances.player_id)::text))\n",
      "   ->  Seq Scan on salaries  (cost=0.00..459.28 rows=26428 width=28) (actual time=0.012..1.650 rows=26428 loops=1)\n",
      "   ->  Hash  (cost=3133.84..3133.84 rows=3039 width=20) (actual time=12.190..12.191 rows=1655 loops=1)\n",
      "         Buckets: 4096  Batches: 1  Memory Usage: 118kB\n",
      "         ->  Seq Scan on appearances  (cost=0.00..3133.84 rows=3039 width=20) (actual time=0.012..11.577 rows=1655 loops=1)\n",
      "               Filter: ((g_all = 10) OR (g_batting = 10))\n",
      "               Rows Removed by Filter: 102601\n",
      " Planning Time: 1.424 ms\n",
      " Execution Time: 18.941 ms\n",
      "(10 rows)\n",
      "\n"
     ]
    }
   ],
   "source": [
    "# record the updated costs for Question 6b (\"or\" query)\n",
    "!psql -h localhost -d baseball -c \"EXPLAIN ANALYZE {query_6bi}\";"
   ]
  },
  {
   "cell_type": "code",
   "execution_count": 97,
   "metadata": {
    "scrolled": true,
    "tags": []
   },
   "outputs": [],
   "source": [
    "result_6c_or_index_cost = 3930.71\n",
    "result_6c_or_index_timing = 17.429"
   ]
  },
  {
   "cell_type": "code",
   "execution_count": 98,
   "metadata": {
    "deletable": false,
    "editable": false
   },
   "outputs": [
    {
     "data": {
      "text/html": [
       "<p><strong><pre style='display: inline;'>q6c</pre></strong> passed! 💯</p>"
      ],
      "text/plain": [
       "q6c results: All test cases passed!"
      ]
     },
     "execution_count": 98,
     "metadata": {},
     "output_type": "execute_result"
    }
   ],
   "source": [
    "grader.check(\"q6c\")"
   ]
  },
  {
   "cell_type": "markdown",
   "metadata": {
    "deletable": false,
    "editable": false
   },
   "source": [
    "<br/><br/>\n",
    "\n",
    "---\n",
    "\n",
    "## Question 6d: Multiple-attribute index\n",
    "\n",
    "Now, create a multiple column index on `g_batting` and `g_all` called `appearances_g_batting_g_all_idx` and record the query execution time and cost for the \"or\" command in `Question 6b`."
   ]
  },
  {
   "cell_type": "markdown",
   "metadata": {
    "deletable": false,
    "editable": false
   },
   "source": [
    "Before continuing, make sure to drop all existing indexes from previous questions."
   ]
  },
  {
   "cell_type": "code",
   "execution_count": 99,
   "metadata": {
    "deletable": false,
    "editable": false
   },
   "outputs": [
    {
     "data": {
      "text/html": [
       "<span style=\"None\">Running query in &#x27;postgresql://jovyan@127.0.0.1:5432/baseball&#x27;</span>"
      ],
      "text/plain": [
       "Running query in 'postgresql://jovyan@127.0.0.1:5432/baseball'"
      ]
     },
     "metadata": {},
     "output_type": "display_data"
    },
    {
     "data": {
      "text/html": [
       "<span style=\"None\">Running query in &#x27;postgresql://jovyan@127.0.0.1:5432/baseball&#x27;</span>"
      ],
      "text/plain": [
       "Running query in 'postgresql://jovyan@127.0.0.1:5432/baseball'"
      ]
     },
     "metadata": {},
     "output_type": "display_data"
    },
    {
     "data": {
      "text/html": [
       "<table>\n",
       "    <thead>\n",
       "        <tr>\n",
       "        </tr>\n",
       "    </thead>\n",
       "    <tbody>\n",
       "    </tbody>\n",
       "</table>"
      ],
      "text/plain": [
       "++\n",
       "||\n",
       "++\n",
       "++"
      ]
     },
     "execution_count": 99,
     "metadata": {},
     "output_type": "execute_result"
    }
   ],
   "source": [
    "# you must run this cell!!!\n",
    "%sql DROP INDEX IF EXISTS appearances_g_batting_idx;\n",
    "%sql DROP INDEX IF EXISTS salary_idx;"
   ]
  },
  {
   "cell_type": "code",
   "execution_count": 100,
   "metadata": {
    "scrolled": true,
    "tags": []
   },
   "outputs": [
    {
     "data": {
      "text/html": [
       "<span style=\"None\">Running query in &#x27;postgresql://jovyan@127.0.0.1:5432/baseball&#x27;</span>"
      ],
      "text/plain": [
       "Running query in 'postgresql://jovyan@127.0.0.1:5432/baseball'"
      ]
     },
     "metadata": {},
     "output_type": "display_data"
    },
    {
     "data": {
      "text/html": [
       "<table>\n",
       "    <thead>\n",
       "        <tr>\n",
       "        </tr>\n",
       "    </thead>\n",
       "    <tbody>\n",
       "    </tbody>\n",
       "</table>"
      ],
      "text/plain": [
       "++\n",
       "||\n",
       "++\n",
       "++"
      ]
     },
     "execution_count": 100,
     "metadata": {},
     "output_type": "execute_result"
    }
   ],
   "source": [
    "%%sql\n",
    "DROP INDEX IF EXISTS appearances_g_batting_all_idx;\n",
    "CREATE INDEX appearances_g_batting_g_all_idx ON appearances(g_batting, g_all);"
   ]
  },
  {
   "cell_type": "code",
   "execution_count": 101,
   "metadata": {
    "scrolled": true,
    "tags": []
   },
   "outputs": [
    {
     "name": "stdout",
     "output_type": "stream",
     "text": [
      "                                                                                                                   QUERY PLAN                                                                                                                   \n",
      "------------------------------------------------------------------------------------------------------------------------------------------------------------------------------------------------------------------------------------------------\n",
      " Hash Join  (cost=2868.53..3605.30 rows=1 width=21) (actual time=3.451..9.937 rows=216 loops=1)\n",
      "   Hash Cond: ((salaries.year_id = appearances.year_id) AND ((salaries.team_id)::text = (appearances.team_id)::text) AND ((salaries.lg_id)::text = (appearances.lg_id)::text) AND ((salaries.player_id)::text = (appearances.player_id)::text))\n",
      "   ->  Seq Scan on salaries  (cost=0.00..459.28 rows=26428 width=28) (actual time=0.009..1.655 rows=26428 loops=1)\n",
      "   ->  Hash  (cost=2807.75..2807.75 rows=3039 width=20) (actual time=3.293..3.295 rows=1655 loops=1)\n",
      "         Buckets: 4096  Batches: 1  Memory Usage: 118kB\n",
      "         ->  Bitmap Heap Scan on appearances  (cost=1182.58..2807.75 rows=3039 width=20) (actual time=0.983..2.889 rows=1655 loops=1)\n",
      "               Recheck Cond: ((g_all = 10) OR (g_batting = 10))\n",
      "               Heap Blocks: exact=1027\n",
      "               ->  BitmapOr  (cost=1182.58..1182.58 rows=3062 width=0) (actual time=0.866..0.867 rows=0 loops=1)\n",
      "                     ->  Bitmap Index Scan on appearances_g_batting_g_all_idx  (cost=0.00..1162.21 rows=1654 width=0) (actual time=0.818..0.818 rows=1597 loops=1)\n",
      "                           Index Cond: (g_all = 10)\n",
      "                     ->  Bitmap Index Scan on appearances_g_batting_g_all_idx  (cost=0.00..18.85 rows=1407 width=0) (actual time=0.047..0.047 rows=1347 loops=1)\n",
      "                           Index Cond: (g_batting = 10)\n",
      " Planning Time: 1.411 ms\n",
      " Execution Time: 10.021 ms\n",
      "(15 rows)\n",
      "\n"
     ]
    }
   ],
   "source": [
    "# record the updated costs for Question 6b (\"or\" query)\n",
    "!psql -h localhost -d baseball -c \"EXPLAIN ANALYZE {query_6bi}\";"
   ]
  },
  {
   "cell_type": "code",
   "execution_count": 102,
   "metadata": {
    "tags": []
   },
   "outputs": [],
   "source": [
    "result_6d_multiple_col_index_cost = 3614.65\n",
    "result_6d_multiple_col_index_timing = 10.071"
   ]
  },
  {
   "cell_type": "code",
   "execution_count": 103,
   "metadata": {
    "deletable": false,
    "editable": false
   },
   "outputs": [
    {
     "data": {
      "text/html": [
       "<p><strong><pre style='display: inline;'>q6d</pre></strong> passed! 🎉</p>"
      ],
      "text/plain": [
       "q6d results: All test cases passed!"
      ]
     },
     "execution_count": 103,
     "metadata": {},
     "output_type": "execute_result"
    }
   ],
   "source": [
    "grader.check(\"q6d\")"
   ]
  },
  {
   "cell_type": "code",
   "execution_count": 104,
   "metadata": {},
   "outputs": [
    {
     "data": {
      "text/plain": [
       "([3308.72, 12.05],\n",
       " [3930.71, 17.82],\n",
       " [1797.95, 4.282],\n",
       " [3930.71, 17.429],\n",
       " [3614.65, 10.071])"
      ]
     },
     "execution_count": 104,
     "metadata": {},
     "output_type": "execute_result"
    }
   ],
   "source": [
    "[result_6aii_cost, result_6aii_timing], [result_6bii_cost, result_6bii_timing], [result_6c_and_index_cost, result_6c_and_index_timing], [result_6c_or_index_cost, result_6c_or_index_timing], [result_6d_multiple_col_index_cost, result_6d_multiple_col_index_timing]"
   ]
  },
  {
   "cell_type": "markdown",
   "metadata": {
    "deletable": false,
    "editable": false
   },
   "source": [
    "<br/><br/>\n",
    "\n",
    "---\n",
    "\n",
    "## Question 6e\n",
    "Given your findings from inspecting the query plans from all parts of this `Question 6`, assign the variable `q6e` to a list of **ALL** below statements that are true.\n",
    "\n",
    "A. Adding an index on a column used in an `AND` predicate will reduce the query cost _but not_ the execution time.<br/>\n",
    "B. Adding an index on a column used in an `AND` predicate will reduce the query cost _and_ the execution time.<br/>\n",
    "C. Adding an index on a column used in an `OR` predicate will reduce the query cost _but not_ the execution time.<br/>\n",
    "D. Adding an index on a column used in an `OR` predicate will reduce the query cost _and_ the execution time.<br/>\n",
    "E. Adding a multicolumn index on columns in an `OR` predicate will reduce the query cost _but not_ the execution time.<br/>\n",
    "F. Adding a multicolumn index on columns in an `OR` predicate will reduce the query cost _and_ the execution time.\n",
    "\n",
    "**Note:** Your answer should have the format like this if you think A and B are both true: `q6e = ['A', 'B']`. The autograder is **case sensitive** but order should not matter."
   ]
  },
  {
   "cell_type": "code",
   "execution_count": 105,
   "metadata": {
    "tags": []
   },
   "outputs": [],
   "source": [
    "q6e = ['B']"
   ]
  },
  {
   "attachments": {},
   "cell_type": "markdown",
   "metadata": {
    "jp-MarkdownHeadingCollapsed": true
   },
   "source": [
    "grader.check(\"q6e\")\n",
    "\n",
    "<!-- BEGIN QUESTION -->\n",
    "\n",
    "### Question 6ei Justification\n",
    "\n",
    "1. **Explain your answer to `Question 6e`** above based on your knowledge from lectures and details from inspecting the query plans.\n",
    "2. If there were any options you did NOT select, **choose any one of them and explain why you did not select it.**\n",
    "\n",
    "Your answer should be **no longer than 3 sentences** and **explicitly state which answer option(s) you chose or didn't choose** in addition to your explanations. For example, you could write, \"I chose (A) because...\" or \"I did NOT choose (B) because...\"\n",
    "\n",
    "I chose (B) because adding an index on a column used in an AND predicate significantly improves query performance by reducing both query cost and execution time, as the index allows for more efficient access to the required rows. I did NOT choose (C) because while adding an index can reduce the query cost in an OR predicate, it often leads to longer execution times due to the need for combining results from multiple index scans."
   ]
  },
  {
   "cell_type": "markdown",
   "metadata": {
    "deletable": false,
    "editable": false
   },
   "source": [
    "<!-- END QUESTION -->\n",
    "\n",
    "<br/><br/><br/>\n",
    "\n",
    "<hr style=\"border: 5px solid #003262;\" />\n",
    "<hr style=\"border: 1px solid #fdb515;\" />\n",
    "\n",
    "# Question 7: Indexes and Aggregations, Part 3\n",
    "\n",
    "Continue the analysis on how indexes impact query performance."
   ]
  },
  {
   "cell_type": "markdown",
   "metadata": {},
   "source": [
    "Before continuing, make sure to drop all existing indexes from previous questions."
   ]
  },
  {
   "cell_type": "code",
   "execution_count": 106,
   "metadata": {},
   "outputs": [
    {
     "data": {
      "text/html": [
       "<span style=\"None\">Running query in &#x27;postgresql://jovyan@127.0.0.1:5432/baseball&#x27;</span>"
      ],
      "text/plain": [
       "Running query in 'postgresql://jovyan@127.0.0.1:5432/baseball'"
      ]
     },
     "metadata": {},
     "output_type": "display_data"
    },
    {
     "data": {
      "text/html": [
       "<span style=\"None\">Running query in &#x27;postgresql://jovyan@127.0.0.1:5432/baseball&#x27;</span>"
      ],
      "text/plain": [
       "Running query in 'postgresql://jovyan@127.0.0.1:5432/baseball'"
      ]
     },
     "metadata": {},
     "output_type": "display_data"
    },
    {
     "data": {
      "text/html": [
       "<span style=\"None\">Running query in &#x27;postgresql://jovyan@127.0.0.1:5432/baseball&#x27;</span>"
      ],
      "text/plain": [
       "Running query in 'postgresql://jovyan@127.0.0.1:5432/baseball'"
      ]
     },
     "metadata": {},
     "output_type": "display_data"
    },
    {
     "data": {
      "text/html": [
       "<table>\n",
       "    <thead>\n",
       "        <tr>\n",
       "        </tr>\n",
       "    </thead>\n",
       "    <tbody>\n",
       "    </tbody>\n",
       "</table>"
      ],
      "text/plain": [
       "++\n",
       "||\n",
       "++\n",
       "++"
      ]
     },
     "execution_count": 106,
     "metadata": {},
     "output_type": "execute_result"
    }
   ],
   "source": [
    "# you must run this cell!!!\n",
    "%sql DROP INDEX IF EXISTS appearances_g_batting_idx;\n",
    "%sql DROP INDEX IF EXISTS salary_idx;\n",
    "%sql DROP INDEX IF EXISTS appearances_g_batting_all_idx;"
   ]
  },
  {
   "cell_type": "markdown",
   "metadata": {},
   "source": [
    "---\n",
    "\n",
    "## Question 7a\n",
    "\n",
    "Write 2 queries, one that finds the minimum salary from the salary table `salaries` and one that finds the average. Inspect the queries' query plans and record their execution times and costs."
   ]
  },
  {
   "cell_type": "markdown",
   "metadata": {
    "deletable": false,
    "editable": false
   },
   "source": [
    "### Question 7ai\n",
    "\n",
    "**Find the minimum salary.** Call this column `min_salary`.\n",
    "\n",
    "Your table header should look like this:\n",
    "\n",
    "| min_salary |\n",
    "| --- |"
   ]
  },
  {
   "cell_type": "code",
   "execution_count": 107,
   "metadata": {
    "tags": []
   },
   "outputs": [
    {
     "data": {
      "text/html": [
       "<span style=\"None\">Running query in &#x27;postgresql://jovyan@127.0.0.1:5432/baseball&#x27;</span>"
      ],
      "text/plain": [
       "Running query in 'postgresql://jovyan@127.0.0.1:5432/baseball'"
      ]
     },
     "metadata": {},
     "output_type": "display_data"
    },
    {
     "data": {
      "text/html": [
       "<span style=\"color: green\">1 rows affected.</span>"
      ],
      "text/plain": [
       "1 rows affected."
      ]
     },
     "metadata": {},
     "output_type": "display_data"
    }
   ],
   "source": [
    "%%sql --save query_7ai result_7ai <<\n",
    "SELECT MIN(salary) AS min_salary\n",
    "FROM salaries;"
   ]
  },
  {
   "cell_type": "code",
   "execution_count": 108,
   "metadata": {
    "tags": []
   },
   "outputs": [
    {
     "data": {
      "text/html": [
       "<table>\n",
       "    <thead>\n",
       "        <tr>\n",
       "            <th>min_salary</th>\n",
       "        </tr>\n",
       "    </thead>\n",
       "    <tbody>\n",
       "        <tr>\n",
       "            <td>0.0</td>\n",
       "        </tr>\n",
       "    </tbody>\n",
       "</table>"
      ],
      "text/plain": [
       "+------------+\n",
       "| min_salary |\n",
       "+------------+\n",
       "|    0.0     |\n",
       "+------------+"
      ]
     },
     "metadata": {},
     "output_type": "display_data"
    },
    {
     "name": "stdout",
     "output_type": "stream",
     "text": [
      "                                                    QUERY PLAN                                                    \n",
      "------------------------------------------------------------------------------------------------------------------\n",
      " Aggregate  (cost=525.35..525.36 rows=1 width=8) (actual time=3.647..3.648 rows=1 loops=1)\n",
      "   ->  Seq Scan on salaries  (cost=0.00..459.28 rows=26428 width=8) (actual time=0.008..1.584 rows=26428 loops=1)\n",
      " Planning Time: 0.314 ms\n",
      " Execution Time: 3.703 ms\n",
      "(4 rows)\n",
      "\n"
     ]
    }
   ],
   "source": [
    "# Do not delete/edit this cell!\n",
    "# You must run this cell before running the autograder.\n",
    "query_7ai = %sqlcmd snippets query_7ai\n",
    "grading_util.save_results(\"result_7ai\", query_7ai, result_7ai);\n",
    "\n",
    "display(result_7ai)\n",
    "\n",
    "!psql -h localhost -d baseball -c \"EXPLAIN ANALYZE {query_7ai}\";"
   ]
  },
  {
   "cell_type": "code",
   "execution_count": 109,
   "metadata": {
    "tags": []
   },
   "outputs": [],
   "source": [
    "result_7ai_query_cost = 526.36\n",
    "result_7ai_query_timing = 3.495"
   ]
  },
  {
   "cell_type": "code",
   "execution_count": 110,
   "metadata": {
    "deletable": false,
    "editable": false
   },
   "outputs": [
    {
     "data": {
      "text/html": [
       "<p><strong><pre style='display: inline;'>q7ai</pre></strong> passed! ✨</p>"
      ],
      "text/plain": [
       "q7ai results: All test cases passed!"
      ]
     },
     "execution_count": 110,
     "metadata": {},
     "output_type": "execute_result"
    }
   ],
   "source": [
    "grader.check(\"q7ai\")"
   ]
  },
  {
   "cell_type": "markdown",
   "metadata": {
    "deletable": false,
    "editable": false
   },
   "source": [
    "### Question 7aii\n",
    "\n",
    "**Find the average salary.** Call this column `average_salary`.\n",
    "\n",
    "Your table header should look like this:\n",
    "\n",
    "| average_salary |\n",
    "| --- |"
   ]
  },
  {
   "cell_type": "code",
   "execution_count": 111,
   "metadata": {
    "tags": []
   },
   "outputs": [
    {
     "data": {
      "text/html": [
       "<span style=\"None\">Running query in &#x27;postgresql://jovyan@127.0.0.1:5432/baseball&#x27;</span>"
      ],
      "text/plain": [
       "Running query in 'postgresql://jovyan@127.0.0.1:5432/baseball'"
      ]
     },
     "metadata": {},
     "output_type": "display_data"
    },
    {
     "data": {
      "text/html": [
       "<span style=\"color: green\">1 rows affected.</span>"
      ],
      "text/plain": [
       "1 rows affected."
      ]
     },
     "metadata": {},
     "output_type": "display_data"
    }
   ],
   "source": [
    "%%sql --save query_7aii result_7aii <<\n",
    "SELECT AVG(salary) AS average_salary\n",
    "FROM salaries;"
   ]
  },
  {
   "cell_type": "code",
   "execution_count": 112,
   "metadata": {
    "tags": []
   },
   "outputs": [
    {
     "data": {
      "text/html": [
       "<table>\n",
       "    <thead>\n",
       "        <tr>\n",
       "            <th>average_salary</th>\n",
       "        </tr>\n",
       "    </thead>\n",
       "    <tbody>\n",
       "        <tr>\n",
       "            <td>2085634.053125473</td>\n",
       "        </tr>\n",
       "    </tbody>\n",
       "</table>"
      ],
      "text/plain": [
       "+-------------------+\n",
       "|   average_salary  |\n",
       "+-------------------+\n",
       "| 2085634.053125473 |\n",
       "+-------------------+"
      ]
     },
     "metadata": {},
     "output_type": "display_data"
    },
    {
     "name": "stdout",
     "output_type": "stream",
     "text": [
      "                                                    QUERY PLAN                                                    \n",
      "------------------------------------------------------------------------------------------------------------------\n",
      " Aggregate  (cost=525.35..525.36 rows=1 width=8) (actual time=4.029..4.030 rows=1 loops=1)\n",
      "   ->  Seq Scan on salaries  (cost=0.00..459.28 rows=26428 width=8) (actual time=0.009..1.604 rows=26428 loops=1)\n",
      " Planning Time: 0.424 ms\n",
      " Execution Time: 4.096 ms\n",
      "(4 rows)\n",
      "\n"
     ]
    }
   ],
   "source": [
    "# Do not delete/edit this cell!\n",
    "# You must run this cell before running the autograder.\n",
    "query_7aii = %sqlcmd snippets query_7aii\n",
    "grading_util.save_results(\"result_7aii\", query_7aii, result_7aii);\n",
    "\n",
    "display(result_7aii)\n",
    "\n",
    "!psql -h localhost -d baseball -c \"EXPLAIN ANALYZE {query_7aii}\";"
   ]
  },
  {
   "cell_type": "code",
   "execution_count": 113,
   "metadata": {
    "tags": []
   },
   "outputs": [],
   "source": [
    "result_7aii_query_cost = 525.36\n",
    "result_7aii_query_timing = 4.157"
   ]
  },
  {
   "cell_type": "code",
   "execution_count": 114,
   "metadata": {
    "deletable": false,
    "editable": false
   },
   "outputs": [
    {
     "data": {
      "text/html": [
       "<p><strong><pre style='display: inline;'>q7aii</pre></strong> passed! 🎉</p>"
      ],
      "text/plain": [
       "q7aii results: All test cases passed!"
      ]
     },
     "execution_count": 114,
     "metadata": {},
     "output_type": "execute_result"
    }
   ],
   "source": [
    "grader.check(\"q7aii\")"
   ]
  },
  {
   "cell_type": "markdown",
   "metadata": {
    "deletable": false,
    "editable": false
   },
   "source": [
    "<br><br>\n",
    "\n",
    "---\n",
    "## Question 7b\n",
    "Create an index on the `salary` column in the `salaries` table and re-inspect the query plans from the previous part and record the respective execution time and cost."
   ]
  },
  {
   "cell_type": "code",
   "execution_count": 115,
   "metadata": {
    "tags": []
   },
   "outputs": [
    {
     "data": {
      "text/html": [
       "<span style=\"None\">Running query in &#x27;postgresql://jovyan@127.0.0.1:5432/baseball&#x27;</span>"
      ],
      "text/plain": [
       "Running query in 'postgresql://jovyan@127.0.0.1:5432/baseball'"
      ]
     },
     "metadata": {},
     "output_type": "display_data"
    },
    {
     "data": {
      "text/html": [
       "<table>\n",
       "    <thead>\n",
       "        <tr>\n",
       "        </tr>\n",
       "    </thead>\n",
       "    <tbody>\n",
       "    </tbody>\n",
       "</table>"
      ],
      "text/plain": [
       "++\n",
       "||\n",
       "++\n",
       "++"
      ]
     },
     "execution_count": 115,
     "metadata": {},
     "output_type": "execute_result"
    }
   ],
   "source": [
    "%%sql\n",
    "DROP INDEX IF EXISTS salary_idx;\n",
    "CREATE INDEX salary_idx ON salaries(salary);\n"
   ]
  },
  {
   "cell_type": "code",
   "execution_count": 116,
   "metadata": {
    "tags": []
   },
   "outputs": [
    {
     "name": "stdout",
     "output_type": "stream",
     "text": [
      "                                                                  QUERY PLAN                                                                  \n",
      "----------------------------------------------------------------------------------------------------------------------------------------------\n",
      " Result  (cost=0.32..0.33 rows=1 width=8) (actual time=0.047..0.048 rows=1 loops=1)\n",
      "   InitPlan 1 (returns $0)\n",
      "     ->  Limit  (cost=0.29..0.32 rows=1 width=8) (actual time=0.044..0.045 rows=1 loops=1)\n",
      "           ->  Index Only Scan using salary_idx on salaries  (cost=0.29..762.78 rows=26428 width=8) (actual time=0.043..0.043 rows=1 loops=1)\n",
      "                 Index Cond: (salary IS NOT NULL)\n",
      "                 Heap Fetches: 0\n",
      " Planning Time: 0.426 ms\n",
      " Execution Time: 0.109 ms\n",
      "(8 rows)\n",
      "\n"
     ]
    }
   ],
   "source": [
    "# record the updated costs for \"min\" query\n",
    "!psql -h localhost -d baseball -c \"EXPLAIN ANALYZE {query_7ai}\";"
   ]
  },
  {
   "cell_type": "code",
   "execution_count": 117,
   "metadata": {
    "tags": []
   },
   "outputs": [],
   "source": [
    "result_7b_min_query_cost = 0.33\n",
    "result_7b_min_query_timing = 0.052"
   ]
  },
  {
   "cell_type": "code",
   "execution_count": 118,
   "metadata": {
    "tags": []
   },
   "outputs": [
    {
     "name": "stdout",
     "output_type": "stream",
     "text": [
      "                                                    QUERY PLAN                                                    \n",
      "------------------------------------------------------------------------------------------------------------------\n",
      " Aggregate  (cost=525.35..525.36 rows=1 width=8) (actual time=4.011..4.012 rows=1 loops=1)\n",
      "   ->  Seq Scan on salaries  (cost=0.00..459.28 rows=26428 width=8) (actual time=0.009..1.594 rows=26428 loops=1)\n",
      " Planning Time: 0.352 ms\n",
      " Execution Time: 4.075 ms\n",
      "(4 rows)\n",
      "\n"
     ]
    }
   ],
   "source": [
    "# record the updated costs for \"avg\" query\n",
    "!psql -h localhost -d baseball -c \"EXPLAIN ANALYZE {query_7aii}\";"
   ]
  },
  {
   "cell_type": "code",
   "execution_count": 119,
   "metadata": {
    "tags": []
   },
   "outputs": [],
   "source": [
    "result_7b_avg_query_cost = 526.36\n",
    "result_7b_avg_query_timing = 4.086"
   ]
  },
  {
   "cell_type": "code",
   "execution_count": 120,
   "metadata": {
    "deletable": false,
    "editable": false
   },
   "outputs": [
    {
     "data": {
      "text/html": [
       "<p><strong><pre style='display: inline;'>q7b</pre></strong> passed! 🍀</p>"
      ],
      "text/plain": [
       "q7b results: All test cases passed!"
      ]
     },
     "execution_count": 120,
     "metadata": {},
     "output_type": "execute_result"
    }
   ],
   "source": [
    "grader.check(\"q7b\")"
   ]
  },
  {
   "cell_type": "markdown",
   "metadata": {
    "deletable": false,
    "editable": false
   },
   "source": [
    "<!-- BEGIN QUESTION -->\n",
    "\n",
    "<br><br>\n",
    "\n",
    "---\n",
    "\n",
    "## Question 7c\n",
    "Given your findings from `Question 7`, which of the following statements is true? **Select one.**\n",
    "\n",
    "<br> A. An index on the column being aggregated in a query will always provide a performance enhancement.\n",
    "<br> B. A query finding the `MIN(salary)` will always benefit from an index on salary, but a query finding `MAX(salary)` will not.\n",
    "<br> C. A query finding the `COUNT(salary)` will always benefit from an index on salary, but a query finding `AVG(salary)` will not.\n",
    "<br> D. Queries finding the `MIN(salary)` or `MAX(salary)` will always benefit from an index on salary, but queries finding `AVG(salary)` or `COUNT(salary)` will not.\n",
    "\n",
    "**State and justify your answer.**\n",
    "\n",
    "1. **Explain your answer** based on your knowledge from lectures and details of the query plans.\n",
    "2. **Of the answer options you did not select, choose any one of them and explain why that option is wrong.**\n",
    "\n",
    "Your response should be no longer than 3 sentences.\n",
    " \n",
    "**Note:** Your answer should be formatted as follows: `(A) because ...` and `Not (A) because ...`"
   ]
  },
  {
   "cell_type": "markdown",
   "metadata": {},
   "source": [
    "(D) because queries finding the MIN(salary) or MAX(salary) can utilize the index for faster access to the extreme values in the ordered dataset, which is especially beneficial. Not (D) because queries finding AVG(salary) and COUNT(salary) require scanning all values in the dataset, which generally results in higher execution costs. For example, the average salary query cost of 526.36 compared to the much lower cost of finding the minimum salary."
   ]
  },
  {
   "cell_type": "markdown",
   "metadata": {
    "deletable": false,
    "editable": false
   },
   "source": [
    "<!-- END QUESTION -->\n",
    "\n",
    "<br/><br/><br/>\n",
    "\n",
    "<hr style=\"border: 5px solid #003262;\" />\n",
    "<hr style=\"border: 1px solid #fdb515;\" />\n",
    "\n",
    "# Question 8: Clustered Indexes\n",
    "In this question, we will inspect the impact that clustering our data on an index can have on a query's performance."
   ]
  },
  {
   "cell_type": "markdown",
   "metadata": {},
   "source": [
    "Before continuing, make sure to drop all existing indexes from previous questions."
   ]
  },
  {
   "cell_type": "code",
   "execution_count": 121,
   "metadata": {},
   "outputs": [
    {
     "data": {
      "text/html": [
       "<span style=\"None\">Running query in &#x27;postgresql://jovyan@127.0.0.1:5432/baseball&#x27;</span>"
      ],
      "text/plain": [
       "Running query in 'postgresql://jovyan@127.0.0.1:5432/baseball'"
      ]
     },
     "metadata": {},
     "output_type": "display_data"
    },
    {
     "data": {
      "text/html": [
       "<span style=\"None\">Running query in &#x27;postgresql://jovyan@127.0.0.1:5432/baseball&#x27;</span>"
      ],
      "text/plain": [
       "Running query in 'postgresql://jovyan@127.0.0.1:5432/baseball'"
      ]
     },
     "metadata": {},
     "output_type": "display_data"
    },
    {
     "data": {
      "text/html": [
       "<span style=\"None\">Running query in &#x27;postgresql://jovyan@127.0.0.1:5432/baseball&#x27;</span>"
      ],
      "text/plain": [
       "Running query in 'postgresql://jovyan@127.0.0.1:5432/baseball'"
      ]
     },
     "metadata": {},
     "output_type": "display_data"
    },
    {
     "data": {
      "text/html": [
       "<table>\n",
       "    <thead>\n",
       "        <tr>\n",
       "        </tr>\n",
       "    </thead>\n",
       "    <tbody>\n",
       "    </tbody>\n",
       "</table>"
      ],
      "text/plain": [
       "++\n",
       "||\n",
       "++\n",
       "++"
      ]
     },
     "execution_count": 121,
     "metadata": {},
     "output_type": "execute_result"
    }
   ],
   "source": [
    "# you must run this cell!!!\n",
    "%sql DROP INDEX IF EXISTS appearances_g_batting_idx;\n",
    "%sql DROP INDEX IF EXISTS salary_idx;\n",
    "%sql DROP INDEX IF EXISTS appearances_g_batting_all_idx;"
   ]
  },
  {
   "cell_type": "markdown",
   "metadata": {
    "deletable": false,
    "editable": false
   },
   "source": [
    "---\n",
    "\n",
    "## Question 8a\n",
    "\n",
    "### Question 8ai\n",
    "\n",
    "Write a query that finds the `player_id`, `year_id`, `team_id`, and `ab` for all players whose `ab` was above 500. Inspect the query plan and record the execution time and cost. Your table header should look like this:\n",
    "\n",
    "| player_id | year_id | team_id | ab |\n",
    "| --- | --- | --- | --- |\n",
    "\n",
    "Optional: AB, short for [\"At bat\"](https://en.wikipedia.org/wiki/At_bat), is a baseball player statistic."
   ]
  },
  {
   "cell_type": "code",
   "execution_count": 122,
   "metadata": {
    "tags": []
   },
   "outputs": [
    {
     "data": {
      "text/html": [
       "<span style=\"None\">Running query in &#x27;postgresql://jovyan@127.0.0.1:5432/baseball&#x27;</span>"
      ],
      "text/plain": [
       "Running query in 'postgresql://jovyan@127.0.0.1:5432/baseball'"
      ]
     },
     "metadata": {},
     "output_type": "display_data"
    },
    {
     "data": {
      "text/html": [
       "<span style=\"color: green\">8839 rows affected.</span>"
      ],
      "text/plain": [
       "8839 rows affected."
      ]
     },
     "metadata": {},
     "output_type": "display_data"
    }
   ],
   "source": [
    "%%sql --save query_8ai result_8ai <<\n",
    "SELECT player_id, year_id, team_id, ab\n",
    "FROM batting\n",
    "WHERE ab > 500;"
   ]
  },
  {
   "cell_type": "code",
   "execution_count": 123,
   "metadata": {
    "tags": []
   },
   "outputs": [
    {
     "data": {
      "text/html": [
       "<div>\n",
       "<style scoped>\n",
       "    .dataframe tbody tr th:only-of-type {\n",
       "        vertical-align: middle;\n",
       "    }\n",
       "\n",
       "    .dataframe tbody tr th {\n",
       "        vertical-align: top;\n",
       "    }\n",
       "\n",
       "    .dataframe thead th {\n",
       "        text-align: right;\n",
       "    }\n",
       "</style>\n",
       "<table border=\"1\" class=\"dataframe\">\n",
       "  <thead>\n",
       "    <tr style=\"text-align: right;\">\n",
       "      <th></th>\n",
       "      <th>player_id</th>\n",
       "      <th>year_id</th>\n",
       "      <th>team_id</th>\n",
       "      <th>ab</th>\n",
       "    </tr>\n",
       "  </thead>\n",
       "  <tbody>\n",
       "    <tr>\n",
       "      <th>0</th>\n",
       "      <td>dalryab01</td>\n",
       "      <td>1884</td>\n",
       "      <td>CHN</td>\n",
       "      <td>521</td>\n",
       "    </tr>\n",
       "    <tr>\n",
       "      <th>1</th>\n",
       "      <td>hornujo01</td>\n",
       "      <td>1884</td>\n",
       "      <td>BSN</td>\n",
       "      <td>518</td>\n",
       "    </tr>\n",
       "    <tr>\n",
       "      <th>2</th>\n",
       "      <td>ansonca01</td>\n",
       "      <td>1886</td>\n",
       "      <td>CHN</td>\n",
       "      <td>504</td>\n",
       "    </tr>\n",
       "  </tbody>\n",
       "</table>\n",
       "</div>"
      ],
      "text/plain": [
       "   player_id  year_id team_id   ab\n",
       "0  dalryab01     1884     CHN  521\n",
       "1  hornujo01     1884     BSN  518\n",
       "2  ansonca01     1886     CHN  504"
      ]
     },
     "execution_count": 123,
     "metadata": {},
     "output_type": "execute_result"
    }
   ],
   "source": [
    "# Do not delete/edit this cell!\n",
    "# You must run this cell before running the autograder.\n",
    "query_8ai = %sqlcmd snippets query_8ai\n",
    "grading_util.save_results(\"result_8ai\", query_8ai, result_8ai);\n",
    "result_8ai.DataFrame().head(3)"
   ]
  },
  {
   "cell_type": "code",
   "execution_count": 124,
   "metadata": {
    "deletable": false,
    "editable": false
   },
   "outputs": [
    {
     "data": {
      "text/html": [
       "<p><strong><pre style='display: inline;'>q8ai</pre></strong> passed! 🌈</p>"
      ],
      "text/plain": [
       "q8ai results: All test cases passed!"
      ]
     },
     "execution_count": 124,
     "metadata": {},
     "output_type": "execute_result"
    }
   ],
   "source": [
    "grader.check(\"q8ai\")"
   ]
  },
  {
   "cell_type": "markdown",
   "metadata": {
    "deletable": false,
    "editable": false
   },
   "source": [
    "### Question 8aii\n",
    "\n",
    "Inspect the query plan and record the execution time and cost."
   ]
  },
  {
   "cell_type": "code",
   "execution_count": 125,
   "metadata": {
    "deletable": false,
    "editable": false
   },
   "outputs": [
    {
     "name": "stdout",
     "output_type": "stream",
     "text": [
      "                                                 QUERY PLAN                                                 \n",
      "------------------------------------------------------------------------------------------------------------\n",
      " Seq Scan on batting  (cost=0.00..2884.05 rows=8738 width=21) (actual time=0.219..11.085 rows=8839 loops=1)\n",
      "   Filter: (ab > 500)\n",
      "   Rows Removed by Filter: 95485\n",
      " Planning Time: 0.292 ms\n",
      " Execution Time: 11.378 ms\n",
      "(5 rows)\n",
      "\n"
     ]
    }
   ],
   "source": [
    "!psql -h localhost -d baseball -c \"EXPLAIN ANALYZE {query_8ai}\";"
   ]
  },
  {
   "cell_type": "code",
   "execution_count": 126,
   "metadata": {
    "tags": []
   },
   "outputs": [],
   "source": [
    "result_8aii_cost = 2884.05\n",
    "result_8aii_timing = 9.743"
   ]
  },
  {
   "cell_type": "code",
   "execution_count": 127,
   "metadata": {
    "deletable": false,
    "editable": false
   },
   "outputs": [
    {
     "data": {
      "text/html": [
       "<p><strong><pre style='display: inline;'>8aii</pre></strong> passed! ✨</p>"
      ],
      "text/plain": [
       "8aii results: All test cases passed!"
      ]
     },
     "execution_count": 127,
     "metadata": {},
     "output_type": "execute_result"
    }
   ],
   "source": [
    "grader.check(\"8aii\")"
   ]
  },
  {
   "cell_type": "markdown",
   "metadata": {
    "deletable": false,
    "editable": false
   },
   "source": [
    "<br><br>\n",
    "\n",
    "---\n",
    "\n",
    "## Question 8b\n",
    "\n",
    "Cluster the `batting` table on its primary key (Hint: use the psql meta-command `\\di` or `\\d batting` to find out what name of the primary key is). We are able to directly cluster on the primary key (without first creating a separate index) because Postgres automatically creates an index for it.\n",
    "\n",
    "Then, re-inspect the query plan for the query from `Question 8a` and record the execution time and cost."
   ]
  },
  {
   "cell_type": "code",
   "execution_count": 128,
   "metadata": {
    "tags": []
   },
   "outputs": [
    {
     "data": {
      "text/html": [
       "<span style=\"None\">Running query in &#x27;postgresql://jovyan@127.0.0.1:5432/baseball&#x27;</span>"
      ],
      "text/plain": [
       "Running query in 'postgresql://jovyan@127.0.0.1:5432/baseball'"
      ]
     },
     "metadata": {},
     "output_type": "display_data"
    },
    {
     "data": {
      "text/html": [
       "<table>\n",
       "    <thead>\n",
       "        <tr>\n",
       "        </tr>\n",
       "    </thead>\n",
       "    <tbody>\n",
       "    </tbody>\n",
       "</table>"
      ],
      "text/plain": [
       "++\n",
       "||\n",
       "++\n",
       "++"
      ]
     },
     "execution_count": 128,
     "metadata": {},
     "output_type": "execute_result"
    }
   ],
   "source": [
    "%%sql\n",
    "CLUSTER batting USING batting_pkey;"
   ]
  },
  {
   "cell_type": "code",
   "execution_count": 129,
   "metadata": {
    "tags": []
   },
   "outputs": [
    {
     "name": "stdout",
     "output_type": "stream",
     "text": [
      "                                                 QUERY PLAN                                                 \n",
      "------------------------------------------------------------------------------------------------------------\n",
      " Seq Scan on batting  (cost=0.00..2878.05 rows=8738 width=21) (actual time=0.022..11.751 rows=8839 loops=1)\n",
      "   Filter: (ab > 500)\n",
      "   Rows Removed by Filter: 95485\n",
      " Planning Time: 0.313 ms\n",
      " Execution Time: 12.090 ms\n",
      "(5 rows)\n",
      "\n"
     ]
    }
   ],
   "source": [
    "# check the updated costs for query in Question 8a\n",
    "!psql -h localhost -d baseball -c \"EXPLAIN ANALYZE {query_8ai}\";"
   ]
  },
  {
   "cell_type": "code",
   "execution_count": 130,
   "metadata": {
    "tags": []
   },
   "outputs": [],
   "source": [
    "result_8b_cost = 2878.05\n",
    "result_8b_timing = 12.341"
   ]
  },
  {
   "cell_type": "code",
   "execution_count": 131,
   "metadata": {
    "deletable": false,
    "editable": false
   },
   "outputs": [
    {
     "data": {
      "text/html": [
       "<p><strong><pre style='display: inline;'>q8b</pre></strong> passed! 🌟</p>"
      ],
      "text/plain": [
       "q8b results: All test cases passed!"
      ]
     },
     "execution_count": 131,
     "metadata": {},
     "output_type": "execute_result"
    }
   ],
   "source": [
    "grader.check(\"q8b\")"
   ]
  },
  {
   "cell_type": "markdown",
   "metadata": {},
   "source": [
    "<br><br>\n",
    "\n",
    "---\n",
    "\n",
    "## Question 8c\n",
    "\n",
    "Now, let's try clustering the table based on another index. Create an index on `ab` column called `ab_idx` in the `batting` table AND cluster the `batting` table with this new index. Now, re-inspect the query plan and record the execution time and cost."
   ]
  },
  {
   "cell_type": "code",
   "execution_count": 132,
   "metadata": {
    "tags": []
   },
   "outputs": [
    {
     "data": {
      "text/html": [
       "<span style=\"None\">Running query in &#x27;postgresql://jovyan@127.0.0.1:5432/baseball&#x27;</span>"
      ],
      "text/plain": [
       "Running query in 'postgresql://jovyan@127.0.0.1:5432/baseball'"
      ]
     },
     "metadata": {},
     "output_type": "display_data"
    }
   ],
   "source": [
    "%%sql --save query_8c result_8c <<\n",
    "DROP INDEX IF EXISTS ab_idx;\n",
    "CREATE INDEX ab_idx ON batting (ab);"
   ]
  },
  {
   "cell_type": "code",
   "execution_count": 133,
   "metadata": {
    "scrolled": true,
    "tags": []
   },
   "outputs": [
    {
     "name": "stdout",
     "output_type": "stream",
     "text": [
      "                                                      QUERY PLAN                                                      \n",
      "----------------------------------------------------------------------------------------------------------------------\n",
      " Bitmap Heap Scan on batting  (cost=100.01..1783.24 rows=8738 width=21) (actual time=0.701..3.956 rows=8839 loops=1)\n",
      "   Recheck Cond: (ab > 500)\n",
      "   Heap Blocks: exact=1311\n",
      "   ->  Bitmap Index Scan on ab_idx  (cost=0.00..97.83 rows=8738 width=0) (actual time=0.531..0.531 rows=8839 loops=1)\n",
      "         Index Cond: (ab > 500)\n",
      " Planning Time: 0.380 ms\n",
      " Execution Time: 4.301 ms\n",
      "(7 rows)\n",
      "\n"
     ]
    }
   ],
   "source": [
    "# Do not delete/edit this cell!\n",
    "# You must run this cell before running the autograder.\n",
    "query_8c = %sqlcmd snippets query_8c\n",
    "grading_util.save_results(\"result_8c\", query_8c, result_8c);\n",
    "\n",
    "# check the updated costs for query in Question 8a\n",
    "!psql -h localhost -d baseball -c \"EXPLAIN ANALYZE {query_8ai}\";"
   ]
  },
  {
   "cell_type": "code",
   "execution_count": 134,
   "metadata": {
    "tags": []
   },
   "outputs": [],
   "source": [
    "result_8c_cost = 1792.87\n",
    "result_8c_timing = 4.024"
   ]
  },
  {
   "cell_type": "code",
   "execution_count": 135,
   "metadata": {
    "deletable": false,
    "editable": false
   },
   "outputs": [
    {
     "data": {
      "text/html": [
       "<p><strong><pre style='display: inline;'>q8c</pre></strong> passed! 🍀</p>"
      ],
      "text/plain": [
       "q8c results: All test cases passed!"
      ]
     },
     "execution_count": 135,
     "metadata": {},
     "output_type": "execute_result"
    }
   ],
   "source": [
    "grader.check(\"q8c\")"
   ]
  },
  {
   "cell_type": "markdown",
   "metadata": {
    "deletable": false,
    "editable": false
   },
   "source": [
    "<br><br>\n",
    "\n",
    "---\n",
    "\n",
    "## Question 8d\n",
    "Given your findings from inspecting the query plans from Questions 8a, 8b, and 8c, assign the variable `q8d` to a list of **ALL** statements that are true.\n",
    "\n",
    "A. Clustering based on the `ab_idx` decreased the cost of the query.<br/>\n",
    "B. Clustering based on the `ab_idx` increased the cost of the query.<br/>\n",
    "C. Clustering based on the `ab_idx` increased the execution time of the query.<br/>\n",
    "D. Clustering based on the `ab_idx` decreased the execution time of the query.<br/>\n",
    "E. Clustering based on the `batting_pkey` decreased the cost of the query.<br/>\n",
    "F. Clustering based on the `batting_pkey` increased the cost of the query.<br/>\n",
    "G. Clustering based on the `batting_pkey` increased the execution time of the query.<br/>\n",
    "H. Clustering based on the `batting_pkey` decreased the execution time of the query.<br/>\n",
    "I. None of the above\n",
    "    \n",
    "**Note:** Your answer should have the format like this if you think A and B are both true: `q8d = ['A', 'B']`. The autograder is **case sensitive** but order should not matter."
   ]
  },
  {
   "cell_type": "code",
   "execution_count": 136,
   "metadata": {
    "tags": []
   },
   "outputs": [],
   "source": [
    "q8d = ['A','D','G']"
   ]
  },
  {
   "cell_type": "code",
   "execution_count": 137,
   "metadata": {
    "deletable": false,
    "editable": false
   },
   "outputs": [
    {
     "data": {
      "text/html": [
       "<p><strong><pre style='display: inline;'>q8d</pre></strong> passed! ✨</p>"
      ],
      "text/plain": [
       "q8d results: All test cases passed!"
      ]
     },
     "execution_count": 137,
     "metadata": {},
     "output_type": "execute_result"
    }
   ],
   "source": [
    "grader.check(\"q8d\")"
   ]
  },
  {
   "cell_type": "markdown",
   "metadata": {
    "deletable": false,
    "editable": false
   },
   "source": [
    "<!-- BEGIN QUESTION -->\n",
    "\n",
    "<br><br>\n",
    "\n",
    "---\n",
    "\n",
    "### Question 8di Justification\n",
    "\n",
    "1. **Explain your answer to `Question 8d`** above based on your knowledge from lectures and details from inspecting the query plans.\n",
    "2. If there were any options you did NOT select, **choose any one of them and explain why you did not select it.**\n",
    "\n",
    "Your answer should be **no longer than 3 sentences** and **explicitly state which answer option(s) you chose or didn't choose** in addition to your explanations. For example, you could write, \"I chose (A) because...\" or \"I did NOT choose (B) because...\""
   ]
  },
  {
   "cell_type": "markdown",
   "metadata": {},
   "source": [
    "I chose (A) because clustering the batting table based on the ab_idx index resulted in a lower execution cost, indicating improved access to the data for the query that filters for ab > 500. I also chose (D) because the execution time for the same query decreased after clustering on ab_idx, demonstrating enhanced performance. I chose (G) because clustering based on the batting_pkey increased the execution time of the query, indicating that there was a decrease in execution performance. I did NOT choose (C) because the execution time did not increase, it rather improved due to better data organization after clustering on the index."
   ]
  },
  {
   "cell_type": "markdown",
   "metadata": {
    "deletable": false,
    "editable": false
   },
   "source": [
    "<!-- END QUESTION -->\n",
    "\n",
    "<br/><br/><br/>\n",
    "\n",
    "<hr style=\"border: 5px solid #003262;\" />\n",
    "<hr style=\"border: 1px solid #fdb515;\" />\n",
    "\n",
    "# Question 9: Cost of Index Management\n",
    "Until now, we have seen the positive potential impact that indexes can have on query performance, but remember in real world technologies/applications, we will be routinely receiving new data (and in large quantities) which would trigger regular updates to our tables. In this section, we will dive into the cost of managing the indexes that we create.\n",
    "\n",
    "Before starting this question, be sure to delete any indexes by running the below cell."
   ]
  },
  {
   "cell_type": "code",
   "execution_count": 138,
   "metadata": {},
   "outputs": [
    {
     "data": {
      "text/html": [
       "<span style=\"None\">Running query in &#x27;postgresql://jovyan@127.0.0.1:5432/baseball&#x27;</span>"
      ],
      "text/plain": [
       "Running query in 'postgresql://jovyan@127.0.0.1:5432/baseball'"
      ]
     },
     "metadata": {},
     "output_type": "display_data"
    },
    {
     "data": {
      "text/html": [
       "<span style=\"None\">Running query in &#x27;postgresql://jovyan@127.0.0.1:5432/baseball&#x27;</span>"
      ],
      "text/plain": [
       "Running query in 'postgresql://jovyan@127.0.0.1:5432/baseball'"
      ]
     },
     "metadata": {},
     "output_type": "display_data"
    },
    {
     "data": {
      "text/html": [
       "<span style=\"None\">Running query in &#x27;postgresql://jovyan@127.0.0.1:5432/baseball&#x27;</span>"
      ],
      "text/plain": [
       "Running query in 'postgresql://jovyan@127.0.0.1:5432/baseball'"
      ]
     },
     "metadata": {},
     "output_type": "display_data"
    },
    {
     "data": {
      "text/html": [
       "<span style=\"None\">Running query in &#x27;postgresql://jovyan@127.0.0.1:5432/baseball&#x27;</span>"
      ],
      "text/plain": [
       "Running query in 'postgresql://jovyan@127.0.0.1:5432/baseball'"
      ]
     },
     "metadata": {},
     "output_type": "display_data"
    },
    {
     "data": {
      "text/html": [
       "<table>\n",
       "    <thead>\n",
       "        <tr>\n",
       "        </tr>\n",
       "    </thead>\n",
       "    <tbody>\n",
       "    </tbody>\n",
       "</table>"
      ],
      "text/plain": [
       "++\n",
       "||\n",
       "++\n",
       "++"
      ]
     },
     "execution_count": 138,
     "metadata": {},
     "output_type": "execute_result"
    }
   ],
   "source": [
    "# you must run this cell!!!\n",
    "%sql DROP INDEX IF EXISTS appearances_g_batting_idx;\n",
    "%sql DROP INDEX IF EXISTS salary_idx;\n",
    "%sql DROP INDEX IF EXISTS appearances_g_batting_all_idx;\n",
    "%sql DROP INDEX IF EXISTS ab_idx;"
   ]
  },
  {
   "cell_type": "markdown",
   "metadata": {
    "deletable": false,
    "editable": false
   },
   "source": [
    "---\n",
    "\n",
    "## Question 9a\n",
    "\n",
    "Record the time it takes to insert 300,000 rows into the `salaries` table when no additional index is configured."
   ]
  },
  {
   "cell_type": "markdown",
   "metadata": {
    "deletable": false,
    "editable": false
   },
   "source": [
    "Run the following cell to setup a column to track which rows we added as part of these inserts."
   ]
  },
  {
   "cell_type": "code",
   "execution_count": 139,
   "metadata": {
    "deletable": false,
    "editable": false
   },
   "outputs": [
    {
     "data": {
      "text/html": [
       "<span style=\"None\">Running query in &#x27;postgresql://jovyan@127.0.0.1:5432/baseball&#x27;</span>"
      ],
      "text/plain": [
       "Running query in 'postgresql://jovyan@127.0.0.1:5432/baseball'"
      ]
     },
     "metadata": {},
     "output_type": "display_data"
    },
    {
     "data": {
      "text/html": [
       "<table>\n",
       "    <thead>\n",
       "        <tr>\n",
       "        </tr>\n",
       "    </thead>\n",
       "    <tbody>\n",
       "    </tbody>\n",
       "</table>"
      ],
      "text/plain": [
       "++\n",
       "||\n",
       "++\n",
       "++"
      ]
     },
     "execution_count": 139,
     "metadata": {},
     "output_type": "execute_result"
    }
   ],
   "source": [
    "%sql ALTER TABLE salaries ADD added boolean DEFAULT False;"
   ]
  },
  {
   "cell_type": "markdown",
   "metadata": {
    "deletable": false,
    "editable": false
   },
   "source": [
    "Next, run the provided update script and record the **wall time** (found in the 2nd line of output).\n",
    "\n",
    "**NOTE:** Running the below cell multiple times may result in an error, unless you first delete the rows with the cell given at the end of this subpart."
   ]
  },
  {
   "cell_type": "code",
   "execution_count": 140,
   "metadata": {
    "deletable": false,
    "editable": false
   },
   "outputs": [
    {
     "data": {
      "text/html": [
       "<span style=\"None\">Running query in &#x27;postgresql://jovyan@127.0.0.1:5432/baseball&#x27;</span>"
      ],
      "text/plain": [
       "Running query in 'postgresql://jovyan@127.0.0.1:5432/baseball'"
      ]
     },
     "metadata": {},
     "output_type": "display_data"
    },
    {
     "name": "stdout",
     "output_type": "stream",
     "text": [
      "CPU times: user 9.88 ms, sys: 29 µs, total: 9.91 ms\n",
      "Wall time: 2.98 s\n"
     ]
    }
   ],
   "source": [
    "%%time\n",
    "%%sql\n",
    "DO $$\n",
    " DECLARE counter INTEGER := 1;\n",
    " BEGIN\n",
    "     FOR counter IN 100001..400000 LOOP\n",
    "     INSERT INTO salaries (year_id, team_id, lg_id, player_id, salary, added)\n",
    "         VALUES (2021, 'ATL', 'NL', 'p' || counter, RANDOM() * 1000000, true);\n",
    "     END LOOP;\n",
    "END;\n",
    "$$;"
   ]
  },
  {
   "cell_type": "code",
   "execution_count": 141,
   "metadata": {
    "tags": []
   },
   "outputs": [],
   "source": [
    "result_9a_timing = 2.91"
   ]
  },
  {
   "cell_type": "code",
   "execution_count": 142,
   "metadata": {
    "deletable": false,
    "editable": false
   },
   "outputs": [
    {
     "data": {
      "text/html": [
       "<p><strong><pre style='display: inline;'>q9a</pre></strong> passed! ✨</p>"
      ],
      "text/plain": [
       "q9a results: All test cases passed!"
      ]
     },
     "execution_count": 142,
     "metadata": {},
     "output_type": "execute_result"
    }
   ],
   "source": [
    "grader.check(\"q9a\")"
   ]
  },
  {
   "cell_type": "markdown",
   "metadata": {},
   "source": [
    "<br/><br/>\n",
    "\n",
    "**Before moving onto the next question**,  delete all the rows that were added to the table from the update script."
   ]
  },
  {
   "cell_type": "code",
   "execution_count": 143,
   "metadata": {},
   "outputs": [
    {
     "data": {
      "text/html": [
       "<span style=\"None\">Running query in &#x27;postgresql://jovyan@127.0.0.1:5432/baseball&#x27;</span>"
      ],
      "text/plain": [
       "Running query in 'postgresql://jovyan@127.0.0.1:5432/baseball'"
      ]
     },
     "metadata": {},
     "output_type": "display_data"
    },
    {
     "data": {
      "text/html": [
       "<span style=\"color: green\">300000 rows affected.</span>"
      ],
      "text/plain": [
       "300000 rows affected."
      ]
     },
     "metadata": {},
     "output_type": "display_data"
    },
    {
     "data": {
      "text/html": [
       "<table>\n",
       "    <thead>\n",
       "        <tr>\n",
       "        </tr>\n",
       "    </thead>\n",
       "    <tbody>\n",
       "    </tbody>\n",
       "</table>"
      ],
      "text/plain": [
       "++\n",
       "||\n",
       "++\n",
       "++"
      ]
     },
     "execution_count": 143,
     "metadata": {},
     "output_type": "execute_result"
    }
   ],
   "source": [
    "%%sql\n",
    "/* just run this cell */\n",
    "DELETE FROM salaries\n",
    "WHERE added = 'true';"
   ]
  },
  {
   "cell_type": "markdown",
   "metadata": {
    "deletable": false,
    "editable": false
   },
   "source": [
    "<br><br>\n",
    "\n",
    "---\n",
    "\n",
    "## Question 9b\n",
    "\n",
    "Now, create an index on the `salary` column and record the **wall time** after executing the update script. Make sure to first run the previous cell to rollback any changes from the previous part!"
   ]
  },
  {
   "cell_type": "code",
   "execution_count": 144,
   "metadata": {
    "tags": []
   },
   "outputs": [
    {
     "data": {
      "text/html": [
       "<span style=\"None\">Running query in &#x27;postgresql://jovyan@127.0.0.1:5432/baseball&#x27;</span>"
      ],
      "text/plain": [
       "Running query in 'postgresql://jovyan@127.0.0.1:5432/baseball'"
      ]
     },
     "metadata": {},
     "output_type": "display_data"
    },
    {
     "data": {
      "text/html": [
       "<table>\n",
       "    <thead>\n",
       "        <tr>\n",
       "        </tr>\n",
       "    </thead>\n",
       "    <tbody>\n",
       "    </tbody>\n",
       "</table>"
      ],
      "text/plain": [
       "++\n",
       "||\n",
       "++\n",
       "++"
      ]
     },
     "execution_count": 144,
     "metadata": {},
     "output_type": "execute_result"
    }
   ],
   "source": [
    "%%sql\n",
    "DROP INDEX IF EXISTS salary_idx;\n",
    "CREATE INDEX salary_idx ON salaries(salary);"
   ]
  },
  {
   "cell_type": "markdown",
   "metadata": {
    "deletable": false,
    "editable": false
   },
   "source": [
    "**NOTE:** Running the below cell multiple times may result in an error, unless you first delete the rows with the cell given at the end of last subpart."
   ]
  },
  {
   "cell_type": "code",
   "execution_count": 145,
   "metadata": {
    "deletable": false,
    "editable": false,
    "scrolled": true
   },
   "outputs": [
    {
     "data": {
      "text/html": [
       "<span style=\"None\">Running query in &#x27;postgresql://jovyan@127.0.0.1:5432/baseball&#x27;</span>"
      ],
      "text/plain": [
       "Running query in 'postgresql://jovyan@127.0.0.1:5432/baseball'"
      ]
     },
     "metadata": {},
     "output_type": "display_data"
    },
    {
     "name": "stdout",
     "output_type": "stream",
     "text": [
      "CPU times: user 9.29 ms, sys: 971 µs, total: 10.3 ms\n",
      "Wall time: 5.23 s\n"
     ]
    }
   ],
   "source": [
    "%%time\n",
    "%%sql\n",
    "DO $$\n",
    " DECLARE counter INTEGER := 1;\n",
    " BEGIN\n",
    "     FOR counter IN 100001..400000 LOOP\n",
    "     INSERT INTO salaries (year_id, team_id, lg_id, player_id, salary, added)\n",
    "         VALUES (2021, 'ATL', 'NL', 'p' || counter, RANDOM() * 1000000, true);\n",
    "     END LOOP;\n",
    "END;\n",
    "$$;"
   ]
  },
  {
   "cell_type": "code",
   "execution_count": 146,
   "metadata": {
    "tags": []
   },
   "outputs": [],
   "source": [
    "result_9b_timing = 4.94"
   ]
  },
  {
   "cell_type": "code",
   "execution_count": 147,
   "metadata": {
    "deletable": false,
    "editable": false
   },
   "outputs": [
    {
     "data": {
      "text/html": [
       "<p><strong><pre style='display: inline;'>q9b</pre></strong> passed! 🌈</p>"
      ],
      "text/plain": [
       "q9b results: All test cases passed!"
      ]
     },
     "execution_count": 147,
     "metadata": {},
     "output_type": "execute_result"
    }
   ],
   "source": [
    "grader.check(\"q9b\")"
   ]
  },
  {
   "cell_type": "markdown",
   "metadata": {
    "deletable": false,
    "editable": false
   },
   "source": [
    "<!-- BEGIN QUESTION -->\n",
    "\n",
    "<br><br>\n",
    "\n",
    "---\n",
    "\n",
    "## Question 9c\n",
    "What difference did you notice when you added an index into the salaries table and re-timed the update? Why do you think it happened? Your answer should be no longer than 3 sentences."
   ]
  },
  {
   "cell_type": "markdown",
   "metadata": {},
   "source": [
    "When we added an index to the salaries table, we noticed that the time it took to update actually went up a lot compared to when there was no index. This happens because, while indexes help speed up reading data, they also make writing a bit slower. Every time a new row is added, the database has to update the index too, which takes extra time. So, in this case the extra time for updating the index ended up being more than the time saved during data retrieval."
   ]
  },
  {
   "cell_type": "markdown",
   "metadata": {
    "deletable": false,
    "editable": false
   },
   "source": [
    "<!-- END QUESTION -->\n",
    "\n",
    "<!-- BEGIN QUESTION -->\n",
    "\n",
    "<br/><br/><br/>\n",
    "\n",
    "<hr style=\"border: 5px solid #003262;\" />\n",
    "<hr style=\"border: 1px solid #fdb515;\" />\n",
    "\n",
    "# Question 10: Project Takeaways\n",
    "\n",
    "In this project, we explored how the database system optimizes query execution and how users can futher tune the performance of their queries.\n",
    "\n",
    "Familiarizing yourself with these optimization and tuning methods will make you a better data engineer. In this question, we'll ask you to recall and summarize these concepts. Who knows? Maybe one day it will help you during an interview or on a project.\n",
    "\n",
    "In the following answer cell,\n",
    "1. Name 3 non-trivial, **distinctly different** methods to optimize query performance that you learned in this project. Some places to start looking are some of the question topics.\n",
    "2. For each method, summarize how and why it can optimize query performance. Feel free to discuss any drawbacks, if applicable.\n",
    "\n",
    "Your entire answer should be no longer than ten sentences. Each method identification/discussion is 2 points.\n"
   ]
  },
  {
   "cell_type": "markdown",
   "metadata": {},
   "source": [
    "Some key takeaways i had for this project was that there are alot of methods to fine tune queries for better performance and some methods are faster than others for specific scenarios. 3 distinctly different methods I found were the following:  \n",
    "Indexing: Creating indexes on columns frequently used in WHERE clauses, JOIN conditions, or ORDER BY clauses can significantly speed up query execution. Indexes allow the database to locate rows more efficiently, reducing the amount of data that needs to be scanned. However, maintaining indexes can incur overhead during INSERT, UPDATE, and DELETE operations, potentially slowing down these actions.\n",
    "\n",
    "Clustering: Clustering a table based on an index changes how the data is physically stored to match the index order, which speeds up range queries. For example, clustering on a primary key helps when you're pulling data for a specific range of keys. The downside, however, is that clustering can be very resource-heavy and isn't great for tables that change a lot, since you have to keep the physical order aligned with the logical order.\n",
    "\n",
    "Partitioning: Partitioning is dividing a big table into smaller chunks so it’s easier to manage. This helps speed things up because the database can focus on just the relevant parts instead of scanning the whole table every time. It’s especially handy for queries that deal with specific time frames or categories. However, it can also make things a bit more complicated to set up and maintain, and if you don’t do it right, it might not help as much as you’d hope."
   ]
  },
  {
   "cell_type": "markdown",
   "metadata": {
    "deletable": false,
    "editable": false
   },
   "source": [
    "<!-- END QUESTION -->\n",
    "\n",
    "<hr style=\"border: 5px solid #003262;\" />\n",
    "<hr style=\"border: 1px solid #fdb515;\" />"
   ]
  },
  {
   "cell_type": "markdown",
   "metadata": {},
   "source": [
    "# Congratulations! You have finished Project 2.\n",
    "\n",
    "Run the following cell to zip and download the results of your queries. You will also need to run the export cell at the end of the notebook.\n",
    "\n",
    "**Please save your notebook before exporting (this is a good time to do it!)** Otherwise, we may not be able to export your written responses to `proj2.pdf`. We will not be accepting regrade requests for failure to render written responses.\n",
    "\n",
    "**For your submission on Gradescope, you will only need to submit the single `proj2.zip` file generated by the export cell.** Please ensure that your submission `proj2.zip` file includes `proj2.pdf`, `proj2.ipynb`, and `results.zip`. \n",
    "\n",
    "**Please ensure that public tests pass upon submission.** It is your responsibility to wait until the autograder finishes running. We will not be accepting regrade requests for submission issues.\n",
    "\n",
    "**Common submission issues:** You MUST submit the generated zip file to the autograder. However, Safari is known to automatically unzip files upon downloading. You can fix this by going into Safari preferences, and deselect the box with the text \"Open safe files after downloading\" under the \"General\" tab. If you experience issues with downloading via clicking on the link, you can also navigate to the project 2 directory within JupyterHub (remove `proj2.ipynb` from the url), and manually download the generated zip files. Please post on Ed if you encounter any other submission issues.\n",
    "\n",
    "Run the following cell to zip and download the results of your queries. You will also need to run the export cell at the end of the notebook."
   ]
  },
  {
   "cell_type": "code",
   "execution_count": null,
   "metadata": {
    "scrolled": true
   },
   "outputs": [],
   "source": [
    "grading_util.prepare_submission_and_cleanup()"
   ]
  },
  {
   "cell_type": "code",
   "execution_count": null,
   "metadata": {},
   "outputs": [],
   "source": [
    "# Close SQL magic connection\n",
    "# You may disregard \"RunTimeError: Could not close connection\"\n",
    "# %sql --close postgresql://127.0.0.1:5432/baseball"
   ]
  },
  {
   "cell_type": "markdown",
   "metadata": {
    "deletable": false,
    "editable": false
   },
   "source": [
    "---\n",
    "\n",
    "To double-check your work, the cell below will rerun all of the autograder tests."
   ]
  },
  {
   "cell_type": "code",
   "execution_count": null,
   "metadata": {
    "deletable": false,
    "editable": false
   },
   "outputs": [],
   "source": [
    "grader.check_all()"
   ]
  },
  {
   "cell_type": "markdown",
   "metadata": {
    "deletable": false,
    "editable": false
   },
   "source": [
    "## Submission\n",
    "\n",
    "Make sure you have run all cells in your notebook in order before running the cell below, so that all images/graphs appear in the output. The cell below will generate a zip file for you to submit. **Please save before exporting!**"
   ]
  },
  {
   "cell_type": "code",
   "execution_count": null,
   "metadata": {
    "deletable": false,
    "editable": false
   },
   "outputs": [],
   "source": [
    "# Save your notebook first, then run this cell to export your submission.\n",
    "grader.export(files=['results.zip'])"
   ]
  },
  {
   "cell_type": "markdown",
   "metadata": {},
   "source": [
    " "
   ]
  }
 ],
 "metadata": {
  "kernelspec": {
   "display_name": "Python 3 (ipykernel)",
   "language": "python",
   "name": "python3"
  },
  "language_info": {
   "codemirror_mode": {
    "name": "ipython",
    "version": 3
   },
   "file_extension": ".py",
   "mimetype": "text/x-python",
   "name": "python",
   "nbconvert_exporter": "python",
   "pygments_lexer": "ipython3",
   "version": "3.11.10"
  },
  "otter": {
   "OK_FORMAT": true,
   "tests": {
    "6aii": {
     "name": "6aii",
     "points": 1,
     "suites": [
      {
       "cases": [
        {
         "code": ">>> 0 <= result_6aii_cost <= 10000\nTrue",
         "hidden": false,
         "locked": false
        },
        {
         "code": ">>> 0 <= result_6aii_timing <= 10000\nTrue",
         "hidden": false,
         "locked": false
        }
       ],
       "scored": true,
       "setup": "",
       "teardown": "",
       "type": "doctest"
      }
     ]
    },
    "6bii": {
     "name": "6bii",
     "points": 1,
     "suites": [
      {
       "cases": [
        {
         "code": ">>> 0 <= result_6bii_cost <= 10000\nTrue",
         "hidden": false,
         "locked": false
        },
        {
         "code": ">>> 0 <= result_6bii_timing <= 10000\nTrue",
         "hidden": false,
         "locked": false
        }
       ],
       "scored": true,
       "setup": "",
       "teardown": "",
       "type": "doctest"
      }
     ]
    },
    "8aii": {
     "name": "8aii",
     "points": 0.5,
     "suites": [
      {
       "cases": [
        {
         "code": ">>> 0 <= result_8aii_cost <= 10000\nTrue",
         "hidden": false,
         "locked": false
        },
        {
         "code": ">>> 0 <= result_8aii_timing <= 10000\nTrue",
         "hidden": false,
         "locked": false
        }
       ],
       "scored": true,
       "setup": "",
       "teardown": "",
       "type": "doctest"
      }
     ]
    },
    "q0": {
     "name": "q0",
     "points": 1,
     "suites": [
      {
       "cases": [
        {
         "code": ">>> 1190 <= sample_query_cost <= 1200\nTrue",
         "hidden": false,
         "locked": false
        },
        {
         "code": ">>> 10 <= sample_query_timing <= 40\nTrue",
         "hidden": false,
         "locked": false
        }
       ],
       "scored": true,
       "setup": "",
       "teardown": "",
       "type": "doctest"
      }
     ]
    },
    "q1a": {
     "name": "q1a",
     "points": 1,
     "suites": [
      {
       "cases": [
        {
         "code": ">>> query_1a, result_1a_df = grading_util.load_results(\"result_1a\")\n>>> result_1a_df.sort_values(['player_id', 'year_id']).shape\n(323, 4)",
         "hidden": false,
         "locked": false
        },
        {
         "code": ">>> query_1a, result_1a_df = grading_util.load_results(\"result_1a\")\n>>> list(result_1a_df.columns)\n['name_first', 'name_last', 'player_id', 'year_id']",
         "hidden": false,
         "locked": false
        },
        {
         "code": ">>> query_1a, result_1a_df = grading_util.load_results(\"result_1a\")\n>>> result_1a_df.sort_values(['player_id', 'year_id']).iloc[[5]].reset_index(drop=True)\n  name_first name_last  player_id  year_id\n0        Cap     Anson  ansonca01     1939",
         "hidden": false,
         "locked": false
        },
        {
         "code": ">>> query_1a, result_1a_df = grading_util.load_results(\"result_1a\")\n>>> result_1a_df.sort_values(['player_id', 'year_id']).iloc[[10]].reset_index(drop=True)\n  name_first name_last  player_id  year_id\n0       Jeff   Bagwell  bagweje01     2017",
         "hidden": false,
         "locked": false
        }
       ],
       "scored": true,
       "setup": "",
       "teardown": "",
       "type": "doctest"
      }
     ]
    },
    "q1bi": {
     "name": "q1bi",
     "points": 1,
     "suites": [
      {
       "cases": [
        {
         "code": ">>> 900 <= provided_query_cost <= 10000\nTrue",
         "hidden": false,
         "locked": false
        },
        {
         "code": ">>> 0 <= provided_query_timing <= 10000\nTrue",
         "hidden": false,
         "locked": false
        },
        {
         "code": ">>> 900 <= your_query_cost <= 10000\nTrue",
         "hidden": false,
         "locked": false
        },
        {
         "code": ">>> 0 <= your_query_timing <= 10000\nTrue",
         "hidden": false,
         "locked": false
        }
       ],
       "scored": true,
       "setup": "",
       "teardown": "",
       "type": "doctest"
      }
     ]
    },
    "q1bii": {
     "name": "q1bii",
     "points": 2,
     "suites": [
      {
       "cases": [
        {
         "code": ">>> 0 < len(q1bii) <= 7\nTrue",
         "hidden": false,
         "locked": false
        },
        {
         "code": ">>> all(map(lambda x: x in ['A', 'B', 'C', 'D', 'E', 'F', 'G'], q1bii)) # only choose options from A-G!\nTrue",
         "hidden": false,
         "locked": false
        }
       ],
       "scored": true,
       "setup": "",
       "teardown": "",
       "type": "doctest"
      }
     ]
    },
    "q2a": {
     "name": "q2a",
     "points": 1,
     "suites": [
      {
       "cases": [
        {
         "code": ">>> query_2a, result_2a_df = grading_util.load_results(\"result_2a\")\n>>> result_2a_df.shape\n(23, 5)",
         "hidden": false,
         "locked": false
        },
        {
         "code": ">>> query_2a, result_2a_df = grading_util.load_results(\"result_2a\")\n>>> list(result_2a_df.columns)\n['name_first', 'name_last', 'player_id', 'school_id', 'year_id']",
         "hidden": false,
         "locked": false
        },
        {
         "code": ">>> query_2a, result_2a_df = grading_util.load_results(\"result_2a\")\n>>> result_2a_df['name_last'].iloc[0:5]\n0    Robinson\n1      Hooper\n2      Morgan\n3      Seaver\n4      Seaver\nName: name_last, dtype: object",
         "hidden": false,
         "locked": false
        },
        {
         "code": ">>> query_2a, result_2a_df = grading_util.load_results(\"result_2a\")\n>>> result_2a_df['year_id'].iloc[0:5]\n0    1962\n1    1971\n2    1990\n3    1992\n4    1992\nName: year_id, dtype: int64",
         "hidden": false,
         "locked": false
        }
       ],
       "scored": true,
       "setup": "",
       "teardown": "",
       "type": "doctest"
      }
     ]
    },
    "q2bi": {
     "name": "q2bi",
     "points": 1,
     "suites": [
      {
       "cases": [
        {
         "code": ">>> query_2bi, result_2bi_df = grading_util.load_results(\"result_2bi\")\n>>> result_2bi_df.shape\n(13, 3)",
         "hidden": false,
         "locked": false
        },
        {
         "code": ">>> query_2bi, result_2bi_df = grading_util.load_results(\"result_2bi\")\n>>> list(result_2bi_df.columns)\n['school_id', 'year_id', 'count']",
         "hidden": false,
         "locked": false
        },
        {
         "code": ">>> query_2bi, result_2bi_df = grading_util.load_results(\"result_2bi\")\n>>> result_2bi_df.iloc[0]\nschool_id    ucla\nyear_id      1962\ncount           1\nName: 0, dtype: object",
         "hidden": false,
         "locked": false
        },
        {
         "code": ">>> query_2bi, result_2bi_df = grading_util.load_results(\"result_2bi\")\n>>> result_2bi_df.iloc[3]\nschool_id    cafrecc\nyear_id         1992\ncount              1\nName: 3, dtype: object",
         "hidden": false,
         "locked": false
        }
       ],
       "scored": true,
       "setup": "",
       "teardown": "",
       "type": "doctest"
      }
     ]
    },
    "q2bii": {
     "name": "q2bii",
     "points": 1,
     "suites": [
      {
       "cases": [
        {
         "code": ">>> query_2bii, result_2bii_df = grading_util.load_results(\"result_2bii\")\n>>> result_2bii_df.shape\n(13, 3)",
         "hidden": false,
         "locked": false
        },
        {
         "code": ">>> query_2bii, result_2bii_df = grading_util.load_results(\"result_2bii\")\n>>> list(result_2bii_df.columns)\n['school_id', 'year_id', 'count']",
         "hidden": false,
         "locked": false
        },
        {
         "code": ">>> query_2bii, result_2bii_df = grading_util.load_results(\"result_2bii\")\n>>> result_2bii_df.iloc[0]\nschool_id    ucla\nyear_id      1962\ncount           1\nName: 0, dtype: object",
         "hidden": false,
         "locked": false
        },
        {
         "code": ">>> query_2bii, result_2bii_df = grading_util.load_results(\"result_2bii\")\n>>> result_2bii_df.iloc[3]\nschool_id    cafrecc\nyear_id         1992\ncount              1\nName: 3, dtype: object",
         "hidden": false,
         "locked": false
        }
       ],
       "scored": true,
       "setup": "",
       "teardown": "",
       "type": "doctest"
      }
     ]
    },
    "q2biii": {
     "name": "q2biii",
     "points": 1,
     "suites": [
      {
       "cases": [
        {
         "code": ">>> query_2biii, result_2biii_df = grading_util.load_results(\"result_2biii\")\n>>> result_2biii_df.shape\n(13, 3)",
         "hidden": false,
         "locked": false
        },
        {
         "code": ">>> query_2biii, result_2biii_df = grading_util.load_results(\"result_2biii\")\n>>> list(result_2biii_df.columns)\n['school_id', 'year_id', 'count']",
         "hidden": false,
         "locked": false
        },
        {
         "code": ">>> query_2bi, result_2bi_df = grading_util.load_results(\"result_2bi\")\n>>> query_2biii, result_2biii_df = grading_util.load_results(\"result_2biii\")\n>>> np.all(result_2bi_df == result_2biii_df) # 2bi dataframe should be the same as 2biii dataframe\nTrue",
         "hidden": false,
         "locked": false
        }
       ],
       "scored": true,
       "setup": "",
       "teardown": "",
       "type": "doctest"
      }
     ]
    },
    "q2c": {
     "name": "q2c",
     "points": 1,
     "suites": [
      {
       "cases": [
        {
         "code": ">>> 0 <= with_view_timing <= 10000\nTrue",
         "hidden": false,
         "locked": false
        },
        {
         "code": ">>> 0 <= with_view_cost <= 10000\nTrue",
         "hidden": false,
         "locked": false
        },
        {
         "code": ">>> 0 <= without_view_timing <= 10000\nTrue",
         "hidden": false,
         "locked": false
        },
        {
         "code": ">>> 0 <= without_view_cost <= 10000\nTrue",
         "hidden": false,
         "locked": false
        },
        {
         "code": ">>> 0 <= with_materialized_view_timing <= 10000\nTrue",
         "hidden": false,
         "locked": false
        },
        {
         "code": ">>> 0 <= with_materialized_view_cost <= 10000\nTrue",
         "hidden": false,
         "locked": false
        }
       ],
       "scored": true,
       "setup": "",
       "teardown": "",
       "type": "doctest"
      }
     ]
    },
    "q2di": {
     "name": "q2di",
     "points": 2,
     "suites": [
      {
       "cases": [
        {
         "code": ">>> 0 < len(q2di) <= 10\nTrue",
         "hidden": false,
         "locked": false
        },
        {
         "code": ">>> # only choose options from A-J!\n>>> all([(\"A\" <= choice <= \"J\") for choice in q2di])\nTrue",
         "hidden": false,
         "locked": false
        }
       ],
       "scored": true,
       "setup": "",
       "teardown": "",
       "type": "doctest"
      }
     ]
    },
    "q3a": {
     "name": "q3a",
     "points": 1,
     "suites": [
      {
       "cases": [
        {
         "code": ">>> 0 <= query_view_cost <= 10000\nTrue",
         "hidden": false,
         "locked": false
        },
        {
         "code": ">>> 0 <= query_view_timing <= 10000\nTrue",
         "hidden": false,
         "locked": false
        }
       ],
       "scored": true,
       "setup": "",
       "teardown": "",
       "type": "doctest"
      }
     ]
    },
    "q3b": {
     "name": "q3b",
     "points": 1,
     "suites": [
      {
       "cases": [
        {
         "code": ">>> 0 <= query_view_with_filter_cost <= 10000\nTrue",
         "hidden": false,
         "locked": false
        },
        {
         "code": ">>> 0 <= query_view_with_filter_timing <= 10000\nTrue",
         "hidden": false,
         "locked": false
        }
       ],
       "scored": true,
       "setup": "",
       "teardown": "",
       "type": "doctest"
      }
     ]
    },
    "q4a": {
     "name": "q4a",
     "points": 1,
     "suites": [
      {
       "cases": [
        {
         "code": ">>> query_4a, result_4a_df = grading_util.load_results(\"result_4a\")\n>>> result_4a_df.shape\n(17350, 27)",
         "hidden": false,
         "locked": false
        },
        {
         "code": ">>> query_4a, result_4a_df = grading_util.load_results(\"result_4a\")\n>>> str(list(result_4a_df.columns))\n\"['player_id', 'birth_year', 'birth_month', 'birthday', 'birth_country', 'birth_state', 'birth_city', 'death_year', 'death_month', 'death_day', 'death_country', 'death_state', 'death_city', 'name_first', 'name_last', 'name_given', 'weight', 'height', 'bats', 'throws', 'debut', 'final_game', 'retro_id', 'bbref_id', 'player_id', 'school_id', 'year_id']\"",
         "hidden": false,
         "locked": false
        },
        {
         "code": ">>> q4a in ['A', 'B', 'C', 'D']\nTrue",
         "hidden": false,
         "locked": false
        }
       ],
       "scored": true,
       "setup": "",
       "teardown": "",
       "type": "doctest"
      }
     ]
    },
    "q4b": {
     "name": "q4b",
     "points": 1,
     "suites": [
      {
       "cases": [
        {
         "code": ">>> query_4b, result_4b_df = grading_util.load_results(\"result_4b\")\n>>> result_4b_df.shape\n(17350, 27)",
         "hidden": false,
         "locked": false
        },
        {
         "code": ">>> query_4b, result_4b_df = grading_util.load_results(\"result_4b\")\n>>> str(list(result_4b_df.columns))\n\"['player_id', 'birth_year', 'birth_month', 'birthday', 'birth_country', 'birth_state', 'birth_city', 'death_year', 'death_month', 'death_day', 'death_country', 'death_state', 'death_city', 'name_first', 'name_last', 'name_given', 'weight', 'height', 'bats', 'throws', 'debut', 'final_game', 'retro_id', 'bbref_id', 'player_id', 'school_id', 'year_id']\"",
         "hidden": false,
         "locked": false
        },
        {
         "code": ">>> q4b in ['A', 'B', 'C', 'D']\nTrue",
         "hidden": false,
         "locked": false
        }
       ],
       "scored": true,
       "setup": "",
       "teardown": "",
       "type": "doctest"
      }
     ]
    },
    "q4c": {
     "name": "q4c",
     "points": 1,
     "suites": [
      {
       "cases": [
        {
         "code": ">>> query_4c, result_4c_df = grading_util.load_results(\"result_4c\")\n>>> result_4c_df.shape\n(1000, 48)",
         "hidden": false,
         "locked": false
        },
        {
         "code": ">>> query_4c, result_4c_df = grading_util.load_results(\"result_4c\")\n>>> str(list(result_4c_df.columns))\n\"['player_id', 'birth_year', 'birth_month', 'birthday', 'birth_country', 'birth_state', 'birth_city', 'death_year', 'death_month', 'death_day', 'death_country', 'death_state', 'death_city', 'name_first', 'name_last', 'name_given', 'weight', 'height', 'bats', 'throws', 'debut', 'final_game', 'retro_id', 'bbref_id', 'player_id', 'birth_year', 'birth_month', 'birthday', 'birth_country', 'birth_state', 'birth_city', 'death_year', 'death_month', 'death_day', 'death_country', 'death_state', 'death_city', 'name_first', 'name_last', 'name_given', 'weight', 'height', 'bats', 'throws', 'debut', 'final_game', 'retro_id', 'bbref_id']\"",
         "hidden": false,
         "locked": false
        },
        {
         "code": ">>> q4c in ['A', 'B', 'C', 'D']\nTrue",
         "hidden": false,
         "locked": false
        }
       ],
       "scored": true,
       "setup": "",
       "teardown": "",
       "type": "doctest"
      }
     ]
    },
    "q5a": {
     "name": "q5a",
     "points": 2,
     "suites": [
      {
       "cases": [
        {
         "code": ">>> query_5a, result_5a_df = grading_util.load_results(\"result_5a\")\n>>> result_5a_df.sort_values('player_id').shape\n(134, 5)",
         "hidden": false,
         "locked": false
        },
        {
         "code": ">>> query_5a, result_5a_df = grading_util.load_results(\"result_5a\")\n>>> list(result_5a_df.columns)\n['player_id', 'average_salary', 'first_year', 'last_year', 'num_years']",
         "hidden": false,
         "locked": false
        },
        {
         "code": ">>> 0 <= result_5a_cost <= 10000\nTrue",
         "hidden": false,
         "locked": false
        },
        {
         "code": ">>> 0 <= result_5a_timing <= 10000\nTrue",
         "hidden": false,
         "locked": false
        },
        {
         "code": ">>> query_5a, result_5a_df = grading_util.load_results(\"result_5a\")\n>>> result_5a_df = result_5a_df.sort_values(['player_id'])\n>>> result_5a_df.iloc[0:5]\n   player_id  average_salary  first_year  last_year  num_years\n0  anderla02        240000.0        1986       1986          1\n1  ashbyan01        109000.0        1992       1992          1\n2  ayraubo01        125000.0        1993       1993          1\n3  bankswi01        240000.0        1995       1995          1\n4  batchri01        157500.0        1997       1997          1",
         "hidden": false,
         "locked": false
        }
       ],
       "scored": true,
       "setup": "",
       "teardown": "",
       "type": "doctest"
      }
     ]
    },
    "q5b": {
     "name": "q5b",
     "points": 1,
     "suites": [
      {
       "cases": [
        {
         "code": ">>> 0 <= result_5b_cost <= 10000\nTrue",
         "hidden": false,
         "locked": false
        },
        {
         "code": ">>> 0 <= result_5b_timing <= 10000\nTrue",
         "hidden": false,
         "locked": false
        }
       ],
       "scored": true,
       "setup": "",
       "teardown": "",
       "type": "doctest"
      }
     ]
    },
    "q5c": {
     "name": "q5c",
     "points": 1,
     "suites": [
      {
       "cases": [
        {
         "code": ">>> 0 <= result_5c_cost <= 10000\nTrue",
         "hidden": false,
         "locked": false
        },
        {
         "code": ">>> 0 <= result_5c_timing <= 10000\nTrue",
         "hidden": false,
         "locked": false
        }
       ],
       "scored": true,
       "setup": "",
       "teardown": "",
       "type": "doctest"
      }
     ]
    },
    "q5d": {
     "name": "q5d",
     "points": 2,
     "suites": [
      {
       "cases": [
        {
         "code": ">>> 0 < len(q5d) <= 8\nTrue",
         "hidden": false,
         "locked": false
        },
        {
         "code": ">>> all(map(lambda x: x in ['A', 'B', 'C', 'D', 'E', 'F', 'G', 'H'], q5d)) # only choose options from A-H!\nTrue",
         "hidden": false,
         "locked": false
        }
       ],
       "scored": true,
       "setup": "",
       "teardown": "",
       "type": "doctest"
      }
     ]
    },
    "q6ai": {
     "name": "q6ai",
     "points": 1,
     "suites": [
      {
       "cases": [
        {
         "code": ">>> query_6ai, result_6ai_df = grading_util.load_results(\"result_6ai\")\n>>> result_6ai_df.shape\n(120, 3)",
         "hidden": false,
         "locked": false
        },
        {
         "code": ">>> query_6ai, result_6ai_df = grading_util.load_results(\"result_6ai\")\n>>> list(result_6ai_df.columns)\n['player_id', 'year_id', 'salary']",
         "hidden": false,
         "locked": false
        },
        {
         "code": ">>> query_6ai, result_6ai_df = grading_util.load_results(\"result_6ai\")\n>>> result_6ai_df.sort_values(['player_id', 'year_id']).iloc[0:10]\n    player_id  year_id     salary\n1   anderla02     1986   240000.0\n17  ashbyan01     1992   109000.0\n21  ayraubo01     1993   125000.0\n43  bankswi01     1995   240000.0\n56  batchri01     1997   157500.0\n15  batiski01     1991   100000.0\n22   beller01     1993   145000.0\n8   benesan01     1989    68000.0\n92  bennega01     2008   825000.0\n33  blackbu02     1994  3250000.0",
         "hidden": false,
         "locked": false
        }
       ],
       "scored": true,
       "setup": "",
       "teardown": "",
       "type": "doctest"
      }
     ]
    },
    "q6bi": {
     "name": "q6bi",
     "points": 1,
     "suites": [
      {
       "cases": [
        {
         "code": ">>> query_6bi, result_6bi_df = grading_util.load_results(\"result_6bi\")\n>>> result_6bi_df.shape\n(216, 3)",
         "hidden": false,
         "locked": false
        },
        {
         "code": ">>> query_6bi, result_6bi_df = grading_util.load_results(\"result_6bi\")\n>>> list(result_6bi_df.columns)\n['player_id', 'year_id', 'salary']",
         "hidden": false,
         "locked": false
        },
        {
         "code": ">>> query_6bi, result_6bi_df = grading_util.load_results(\"result_6bi\")\n>>> result_6bi_df.sort_values(['player_id', 'year_id']).iloc[0:5]\n     player_id  year_id    salary\n138  abbotpa01     2004  600000.0\n176  aceveal01     2010  435650.0\n128  almanca01     2001  270000.0\n31   alvarwi01     1991  100000.0\n7    anderla02     1986  240000.0",
         "hidden": false,
         "locked": false
        }
       ],
       "scored": true,
       "setup": "",
       "teardown": "",
       "type": "doctest"
      }
     ]
    },
    "q6c": {
     "name": "q6c",
     "points": 1,
     "suites": [
      {
       "cases": [
        {
         "code": ">>> 0 <= result_6c_and_index_cost <= 10000\nTrue",
         "hidden": false,
         "locked": false
        },
        {
         "code": ">>> 0 <= result_6c_and_index_timing <= 10000\nTrue",
         "hidden": false,
         "locked": false
        },
        {
         "code": ">>> 0 <= result_6c_or_index_cost <= 10000\nTrue",
         "hidden": false,
         "locked": false
        },
        {
         "code": ">>> 0 <= result_6c_or_index_timing <= 10000\nTrue",
         "hidden": false,
         "locked": false
        }
       ],
       "scored": true,
       "setup": "",
       "teardown": "",
       "type": "doctest"
      }
     ]
    },
    "q6d": {
     "name": "q6d",
     "points": 1,
     "suites": [
      {
       "cases": [
        {
         "code": ">>> 0 <= result_6d_multiple_col_index_cost <= 10000\nTrue",
         "hidden": false,
         "locked": false
        },
        {
         "code": ">>> 0 <= result_6d_multiple_col_index_timing <= 10000\nTrue",
         "hidden": false,
         "locked": false
        }
       ],
       "scored": true,
       "setup": "",
       "teardown": "",
       "type": "doctest"
      }
     ]
    },
    "q6e": {
     "name": "q6e",
     "points": 2,
     "suites": [
      {
       "cases": [
        {
         "code": ">>> 0 < len(q6e) <= 9\nTrue",
         "hidden": false,
         "locked": false
        },
        {
         "code": ">>> # only choose options from A-I!\n>>> all([(\"A\" <= choice <= \"I\") for choice in q6e])\nTrue",
         "hidden": false,
         "locked": false
        }
       ],
       "scored": true,
       "setup": "",
       "teardown": "",
       "type": "doctest"
      }
     ]
    },
    "q7ai": {
     "name": "q7ai",
     "points": 1,
     "suites": [
      {
       "cases": [
        {
         "code": ">>> 0 <= result_7ai_query_cost <= 10000\nTrue",
         "hidden": false,
         "locked": false
        },
        {
         "code": ">>> 0 <= result_7ai_query_timing <= 10000\nTrue",
         "hidden": false,
         "locked": false
        },
        {
         "code": ">>> query_7ai, result_7ai_df = grading_util.load_results(\"result_7ai\")\n>>> result_7ai_df\n   min_salary\n0         0.0",
         "hidden": false,
         "locked": false
        }
       ],
       "scored": true,
       "setup": "",
       "teardown": "",
       "type": "doctest"
      }
     ]
    },
    "q7aii": {
     "name": "q7aii",
     "points": 1,
     "suites": [
      {
       "cases": [
        {
         "code": ">>> query_7ai, result_7ai_df = grading_util.load_results(\"result_7ai\")\n>>> 0 <= result_7ai_df['min_salary'].loc[0] <= 10\nTrue",
         "hidden": false,
         "locked": false
        },
        {
         "code": ">>> result_7aii, result_7aii_df = grading_util.load_results(\"result_7aii\")\n>>> 2085000 <= result_7aii_df['average_salary'].iloc[0] <= 2086000\nTrue",
         "hidden": false,
         "locked": false
        },
        {
         "code": ">>> 0 <= result_7aii_query_cost <= 10000\nTrue",
         "hidden": false,
         "locked": false
        },
        {
         "code": ">>> 0 <= result_7aii_query_timing <= 10000\nTrue",
         "hidden": false,
         "locked": false
        }
       ],
       "scored": true,
       "setup": "",
       "teardown": "",
       "type": "doctest"
      }
     ]
    },
    "q7b": {
     "name": "q7b",
     "points": 1,
     "suites": [
      {
       "cases": [
        {
         "code": ">>> 0 <= result_7b_min_query_cost <= 10000\nTrue",
         "hidden": false,
         "locked": false
        },
        {
         "code": ">>> 0 <= result_7b_min_query_timing <= 10000\nTrue",
         "hidden": false,
         "locked": false
        },
        {
         "code": ">>> 0 <= result_7b_avg_query_cost <= 10000\nTrue",
         "hidden": false,
         "locked": false
        },
        {
         "code": ">>> 0 <= result_7b_avg_query_timing <= 10000\nTrue",
         "hidden": false,
         "locked": false
        }
       ],
       "scored": true,
       "setup": "",
       "teardown": "",
       "type": "doctest"
      }
     ]
    },
    "q8ai": {
     "name": "q8ai",
     "points": 0.5,
     "suites": [
      {
       "cases": [
        {
         "code": ">>> query_8ai, result_8ai_df = grading_util.load_results(\"result_8ai\")\n>>> result_8ai_df.shape\n(8839, 4)",
         "hidden": false,
         "locked": false
        },
        {
         "code": ">>> query_8ai, result_8ai_df = grading_util.load_results(\"result_8ai\")\n>>> list(result_8ai_df.columns)\n['player_id', 'year_id', 'team_id', 'ab']",
         "hidden": false,
         "locked": false
        },
        {
         "code": ">>> query_8ai, result_8ai_df = grading_util.load_results(\"result_8ai\")\n>>> result_8ai_df.sort_values(['player_id', 'year_id', 'team_id', 'ab']).iloc[0:10]\n      player_id  year_id team_id   ab\n3472  aaronha01     1955     ML1  602\n3523  aaronha01     1956     ML1  609\n3579  aaronha01     1957     ML1  615\n3621  aaronha01     1958     ML1  601\n3665  aaronha01     1959     ML1  629\n3711  aaronha01     1960     ML1  590\n3760  aaronha01     1961     ML1  603\n3820  aaronha01     1962     ML1  592\n3900  aaronha01     1963     ML1  631\n3978  aaronha01     1964     ML1  570",
         "hidden": false,
         "locked": false
        }
       ],
       "scored": true,
       "setup": "",
       "teardown": "",
       "type": "doctest"
      }
     ]
    },
    "q8b": {
     "name": "q8b",
     "points": 1,
     "suites": [
      {
       "cases": [
        {
         "code": ">>> 0 <= result_8b_cost <= 10000\nTrue",
         "hidden": false,
         "locked": false
        },
        {
         "code": ">>> 0 <= result_8b_timing <= 10000\nTrue",
         "hidden": false,
         "locked": false
        }
       ],
       "scored": true,
       "setup": "",
       "teardown": "",
       "type": "doctest"
      }
     ]
    },
    "q8c": {
     "name": "q8c",
     "points": 1,
     "suites": [
      {
       "cases": [
        {
         "code": ">>> 0 <= result_8c_cost <= 10000\nTrue",
         "hidden": false,
         "locked": false
        },
        {
         "code": ">>> 0 <= result_8c_timing <= 10000\nTrue",
         "hidden": false,
         "locked": false
        }
       ],
       "scored": true,
       "setup": "",
       "teardown": "",
       "type": "doctest"
      }
     ]
    },
    "q8d": {
     "name": "q8d",
     "points": 2,
     "suites": [
      {
       "cases": [
        {
         "code": ">>> 0 < len(q8d) <= 9\nTrue",
         "hidden": false,
         "locked": false
        },
        {
         "code": ">>> # only choose options from A-I!\n>>> all([(\"A\" <= choice <= \"I\") for choice in q8d]) \nTrue",
         "hidden": false,
         "locked": false
        }
       ],
       "scored": true,
       "setup": "",
       "teardown": "",
       "type": "doctest"
      }
     ]
    },
    "q9a": {
     "name": "q9a",
     "points": 1,
     "suites": [
      {
       "cases": [
        {
         "code": ">>> 0 <= result_9a_timing <= 100\nTrue",
         "hidden": false,
         "locked": false
        }
       ],
       "scored": true,
       "setup": "",
       "teardown": "",
       "type": "doctest"
      }
     ]
    },
    "q9b": {
     "name": "q9b",
     "points": 1,
     "suites": [
      {
       "cases": [
        {
         "code": ">>> 0 <= result_9b_timing <= 100\nTrue",
         "hidden": false,
         "locked": false
        }
       ],
       "scored": true,
       "setup": "",
       "teardown": "",
       "type": "doctest"
      }
     ]
    }
   }
  },
  "widgets": {
   "application/vnd.jupyter.widget-state+json": {
    "state": {},
    "version_major": 2,
    "version_minor": 0
   }
  }
 },
 "nbformat": 4,
 "nbformat_minor": 4
}
