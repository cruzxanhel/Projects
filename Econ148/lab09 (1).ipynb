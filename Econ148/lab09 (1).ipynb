{
 "cells": [
  {
   "cell_type": "code",
   "execution_count": 55,
   "id": "24f7808d",
   "metadata": {
    "deletable": false,
    "editable": false
   },
   "outputs": [],
   "source": [
    "# Initialize Otter\n",
    "import otter\n",
    "grader = otter.Notebook(\"lab09.ipynb\")"
   ]
  },
  {
   "cell_type": "code",
   "execution_count": 56,
   "id": "a968a3f3",
   "metadata": {},
   "outputs": [],
   "source": [
    "import pandas as pd\n",
    "import numpy as np\n",
    "import seaborn as sns\n",
    "import matplotlib.pyplot as plt\n",
    "from scipy import stats\n",
    "%matplotlib inline\n",
    "import warnings\n",
    "warnings.filterwarnings(\"ignore\")"
   ]
  },
  {
   "cell_type": "markdown",
   "id": "3ced227f",
   "metadata": {},
   "source": [
    "# Lab 9: Time Series\n",
    "### Using Zillow to Predict CPI\n",
    "In this notebook, we're going to try to use data from Zillow (specifically, their ZORI index) to see if we can use it to predict the US consumer price index."
   ]
  },
  {
   "cell_type": "markdown",
   "id": "aebadc1a",
   "metadata": {},
   "source": [
    "---\n",
    "## Part 1: Introduction and Data Processing"
   ]
  },
  {
   "cell_type": "markdown",
   "id": "6f7c08f7",
   "metadata": {},
   "source": [
    "### Dataset 1: ZORI"
   ]
  },
  {
   "cell_type": "markdown",
   "id": "c173644a",
   "metadata": {},
   "source": [
    "We've downloaded the ZORI index for you from [Zillow Research Data](https://www.zillow.com/research/data/). Run the following cell to display information about the ZORI index. What can you tell from the data?"
   ]
  },
  {
   "cell_type": "code",
   "execution_count": 57,
   "id": "ae8c3f41",
   "metadata": {},
   "outputs": [
    {
     "data": {
      "text/html": [
       "<div>\n",
       "<style scoped>\n",
       "    .dataframe tbody tr th:only-of-type {\n",
       "        vertical-align: middle;\n",
       "    }\n",
       "\n",
       "    .dataframe tbody tr th {\n",
       "        vertical-align: top;\n",
       "    }\n",
       "\n",
       "    .dataframe thead th {\n",
       "        text-align: right;\n",
       "    }\n",
       "</style>\n",
       "<table border=\"1\" class=\"dataframe\">\n",
       "  <thead>\n",
       "    <tr style=\"text-align: right;\">\n",
       "      <th></th>\n",
       "      <th>RegionID</th>\n",
       "      <th>SizeRank</th>\n",
       "      <th>RegionName</th>\n",
       "      <th>RegionType</th>\n",
       "      <th>StateName</th>\n",
       "      <th>2015-03-31</th>\n",
       "      <th>2015-04-30</th>\n",
       "      <th>2015-05-31</th>\n",
       "      <th>2015-06-30</th>\n",
       "      <th>2015-07-31</th>\n",
       "      <th>...</th>\n",
       "      <th>2021-12-31</th>\n",
       "      <th>2022-01-31</th>\n",
       "      <th>2022-02-28</th>\n",
       "      <th>2022-03-31</th>\n",
       "      <th>2022-04-30</th>\n",
       "      <th>2022-05-31</th>\n",
       "      <th>2022-06-30</th>\n",
       "      <th>2022-07-31</th>\n",
       "      <th>2022-08-31</th>\n",
       "      <th>2022-09-30</th>\n",
       "    </tr>\n",
       "  </thead>\n",
       "  <tbody>\n",
       "    <tr>\n",
       "      <th>0</th>\n",
       "      <td>102001</td>\n",
       "      <td>0</td>\n",
       "      <td>United States</td>\n",
       "      <td>country</td>\n",
       "      <td>NaN</td>\n",
       "      <td>1370.301806</td>\n",
       "      <td>1381.971304</td>\n",
       "      <td>1392.389090</td>\n",
       "      <td>1403.203509</td>\n",
       "      <td>1408.901384</td>\n",
       "      <td>...</td>\n",
       "      <td>1928.945108</td>\n",
       "      <td>1937.304351</td>\n",
       "      <td>1955.272060</td>\n",
       "      <td>1971.256988</td>\n",
       "      <td>1997.731260</td>\n",
       "      <td>2019.752839</td>\n",
       "      <td>2044.662959</td>\n",
       "      <td>2065.275748</td>\n",
       "      <td>2078.546078</td>\n",
       "      <td>2084.084210</td>\n",
       "    </tr>\n",
       "    <tr>\n",
       "      <th>1</th>\n",
       "      <td>394913</td>\n",
       "      <td>1</td>\n",
       "      <td>New York, NY</td>\n",
       "      <td>msa</td>\n",
       "      <td>NY</td>\n",
       "      <td>2506.196326</td>\n",
       "      <td>2533.311441</td>\n",
       "      <td>2552.989317</td>\n",
       "      <td>2570.501028</td>\n",
       "      <td>2573.663435</td>\n",
       "      <td>...</td>\n",
       "      <td>2957.725252</td>\n",
       "      <td>2984.899451</td>\n",
       "      <td>3032.151836</td>\n",
       "      <td>3082.959790</td>\n",
       "      <td>3142.381057</td>\n",
       "      <td>3201.035347</td>\n",
       "      <td>3258.611614</td>\n",
       "      <td>3308.938574</td>\n",
       "      <td>3327.647323</td>\n",
       "      <td>3321.271717</td>\n",
       "    </tr>\n",
       "    <tr>\n",
       "      <th>2</th>\n",
       "      <td>753899</td>\n",
       "      <td>2</td>\n",
       "      <td>Los Angeles, CA</td>\n",
       "      <td>msa</td>\n",
       "      <td>CA</td>\n",
       "      <td>1977.874325</td>\n",
       "      <td>1990.644815</td>\n",
       "      <td>2004.443160</td>\n",
       "      <td>2016.922137</td>\n",
       "      <td>2031.255505</td>\n",
       "      <td>...</td>\n",
       "      <td>2808.206899</td>\n",
       "      <td>2825.516662</td>\n",
       "      <td>2850.339483</td>\n",
       "      <td>2881.506596</td>\n",
       "      <td>2919.113666</td>\n",
       "      <td>2953.089197</td>\n",
       "      <td>2978.850604</td>\n",
       "      <td>2999.777869</td>\n",
       "      <td>3013.211794</td>\n",
       "      <td>3019.026316</td>\n",
       "    </tr>\n",
       "    <tr>\n",
       "      <th>3</th>\n",
       "      <td>394463</td>\n",
       "      <td>3</td>\n",
       "      <td>Chicago, IL</td>\n",
       "      <td>msa</td>\n",
       "      <td>IL</td>\n",
       "      <td>1478.149264</td>\n",
       "      <td>1490.961012</td>\n",
       "      <td>1502.702134</td>\n",
       "      <td>1528.952557</td>\n",
       "      <td>1535.997197</td>\n",
       "      <td>...</td>\n",
       "      <td>1795.629571</td>\n",
       "      <td>1808.471849</td>\n",
       "      <td>1823.778075</td>\n",
       "      <td>1843.010280</td>\n",
       "      <td>1865.307537</td>\n",
       "      <td>1890.513951</td>\n",
       "      <td>1911.437953</td>\n",
       "      <td>1930.811578</td>\n",
       "      <td>1939.370439</td>\n",
       "      <td>1941.933786</td>\n",
       "    </tr>\n",
       "    <tr>\n",
       "      <th>4</th>\n",
       "      <td>394514</td>\n",
       "      <td>4</td>\n",
       "      <td>Dallas, TX</td>\n",
       "      <td>msa</td>\n",
       "      <td>TX</td>\n",
       "      <td>1180.713035</td>\n",
       "      <td>1191.112125</td>\n",
       "      <td>1202.397600</td>\n",
       "      <td>1209.409429</td>\n",
       "      <td>1216.117716</td>\n",
       "      <td>...</td>\n",
       "      <td>1724.699775</td>\n",
       "      <td>1736.260930</td>\n",
       "      <td>1747.886285</td>\n",
       "      <td>1758.449166</td>\n",
       "      <td>1780.575633</td>\n",
       "      <td>1807.486899</td>\n",
       "      <td>1842.009269</td>\n",
       "      <td>1866.378789</td>\n",
       "      <td>1876.715983</td>\n",
       "      <td>1875.844643</td>\n",
       "    </tr>\n",
       "    <tr>\n",
       "      <th>...</th>\n",
       "      <td>...</td>\n",
       "      <td>...</td>\n",
       "      <td>...</td>\n",
       "      <td>...</td>\n",
       "      <td>...</td>\n",
       "      <td>...</td>\n",
       "      <td>...</td>\n",
       "      <td>...</td>\n",
       "      <td>...</td>\n",
       "      <td>...</td>\n",
       "      <td>...</td>\n",
       "      <td>...</td>\n",
       "      <td>...</td>\n",
       "      <td>...</td>\n",
       "      <td>...</td>\n",
       "      <td>...</td>\n",
       "      <td>...</td>\n",
       "      <td>...</td>\n",
       "      <td>...</td>\n",
       "      <td>...</td>\n",
       "      <td>...</td>\n",
       "    </tr>\n",
       "    <tr>\n",
       "      <th>574</th>\n",
       "      <td>394322</td>\n",
       "      <td>861</td>\n",
       "      <td>Altus, OK</td>\n",
       "      <td>msa</td>\n",
       "      <td>OK</td>\n",
       "      <td>404.816596</td>\n",
       "      <td>NaN</td>\n",
       "      <td>417.170690</td>\n",
       "      <td>NaN</td>\n",
       "      <td>NaN</td>\n",
       "      <td>...</td>\n",
       "      <td>NaN</td>\n",
       "      <td>NaN</td>\n",
       "      <td>NaN</td>\n",
       "      <td>735.821384</td>\n",
       "      <td>732.921061</td>\n",
       "      <td>771.810020</td>\n",
       "      <td>755.232683</td>\n",
       "      <td>810.606473</td>\n",
       "      <td>750.000000</td>\n",
       "      <td>821.649685</td>\n",
       "    </tr>\n",
       "    <tr>\n",
       "      <th>575</th>\n",
       "      <td>394687</td>\n",
       "      <td>869</td>\n",
       "      <td>Hood River, OR</td>\n",
       "      <td>msa</td>\n",
       "      <td>OR</td>\n",
       "      <td>NaN</td>\n",
       "      <td>NaN</td>\n",
       "      <td>NaN</td>\n",
       "      <td>708.148593</td>\n",
       "      <td>NaN</td>\n",
       "      <td>...</td>\n",
       "      <td>NaN</td>\n",
       "      <td>2039.794902</td>\n",
       "      <td>NaN</td>\n",
       "      <td>2061.477514</td>\n",
       "      <td>2053.911628</td>\n",
       "      <td>2293.863629</td>\n",
       "      <td>2446.688466</td>\n",
       "      <td>2573.551207</td>\n",
       "      <td>2575.000000</td>\n",
       "      <td>2617.167354</td>\n",
       "    </tr>\n",
       "    <tr>\n",
       "      <th>576</th>\n",
       "      <td>394718</td>\n",
       "      <td>892</td>\n",
       "      <td>Jamestown, ND</td>\n",
       "      <td>msa</td>\n",
       "      <td>ND</td>\n",
       "      <td>NaN</td>\n",
       "      <td>NaN</td>\n",
       "      <td>NaN</td>\n",
       "      <td>NaN</td>\n",
       "      <td>NaN</td>\n",
       "      <td>...</td>\n",
       "      <td>643.033893</td>\n",
       "      <td>632.188630</td>\n",
       "      <td>NaN</td>\n",
       "      <td>668.388884</td>\n",
       "      <td>715.417127</td>\n",
       "      <td>687.157390</td>\n",
       "      <td>702.818101</td>\n",
       "      <td>729.449277</td>\n",
       "      <td>771.000000</td>\n",
       "      <td>795.646586</td>\n",
       "    </tr>\n",
       "    <tr>\n",
       "      <th>577</th>\n",
       "      <td>394330</td>\n",
       "      <td>906</td>\n",
       "      <td>Andrews, TX</td>\n",
       "      <td>msa</td>\n",
       "      <td>TX</td>\n",
       "      <td>NaN</td>\n",
       "      <td>NaN</td>\n",
       "      <td>480.844237</td>\n",
       "      <td>470.002683</td>\n",
       "      <td>NaN</td>\n",
       "      <td>...</td>\n",
       "      <td>NaN</td>\n",
       "      <td>901.423609</td>\n",
       "      <td>NaN</td>\n",
       "      <td>NaN</td>\n",
       "      <td>NaN</td>\n",
       "      <td>NaN</td>\n",
       "      <td>NaN</td>\n",
       "      <td>NaN</td>\n",
       "      <td>962.000000</td>\n",
       "      <td>1019.826674</td>\n",
       "    </tr>\n",
       "    <tr>\n",
       "      <th>578</th>\n",
       "      <td>394996</td>\n",
       "      <td>907</td>\n",
       "      <td>Portales, NM</td>\n",
       "      <td>msa</td>\n",
       "      <td>NM</td>\n",
       "      <td>517.203126</td>\n",
       "      <td>516.728308</td>\n",
       "      <td>526.970302</td>\n",
       "      <td>529.436634</td>\n",
       "      <td>531.612792</td>\n",
       "      <td>...</td>\n",
       "      <td>NaN</td>\n",
       "      <td>812.564382</td>\n",
       "      <td>816.337611</td>\n",
       "      <td>774.215873</td>\n",
       "      <td>781.403240</td>\n",
       "      <td>778.818450</td>\n",
       "      <td>800.955182</td>\n",
       "      <td>832.421311</td>\n",
       "      <td>850.000000</td>\n",
       "      <td>840.276292</td>\n",
       "    </tr>\n",
       "  </tbody>\n",
       "</table>\n",
       "<p>579 rows × 96 columns</p>\n",
       "</div>"
      ],
      "text/plain": [
       "     RegionID  SizeRank       RegionName RegionType StateName   2015-03-31  \\\n",
       "0      102001         0    United States    country       NaN  1370.301806   \n",
       "1      394913         1     New York, NY        msa        NY  2506.196326   \n",
       "2      753899         2  Los Angeles, CA        msa        CA  1977.874325   \n",
       "3      394463         3      Chicago, IL        msa        IL  1478.149264   \n",
       "4      394514         4       Dallas, TX        msa        TX  1180.713035   \n",
       "..        ...       ...              ...        ...       ...          ...   \n",
       "574    394322       861        Altus, OK        msa        OK   404.816596   \n",
       "575    394687       869   Hood River, OR        msa        OR          NaN   \n",
       "576    394718       892    Jamestown, ND        msa        ND          NaN   \n",
       "577    394330       906      Andrews, TX        msa        TX          NaN   \n",
       "578    394996       907     Portales, NM        msa        NM   517.203126   \n",
       "\n",
       "      2015-04-30   2015-05-31   2015-06-30   2015-07-31  ...   2021-12-31  \\\n",
       "0    1381.971304  1392.389090  1403.203509  1408.901384  ...  1928.945108   \n",
       "1    2533.311441  2552.989317  2570.501028  2573.663435  ...  2957.725252   \n",
       "2    1990.644815  2004.443160  2016.922137  2031.255505  ...  2808.206899   \n",
       "3    1490.961012  1502.702134  1528.952557  1535.997197  ...  1795.629571   \n",
       "4    1191.112125  1202.397600  1209.409429  1216.117716  ...  1724.699775   \n",
       "..           ...          ...          ...          ...  ...          ...   \n",
       "574          NaN   417.170690          NaN          NaN  ...          NaN   \n",
       "575          NaN          NaN   708.148593          NaN  ...          NaN   \n",
       "576          NaN          NaN          NaN          NaN  ...   643.033893   \n",
       "577          NaN   480.844237   470.002683          NaN  ...          NaN   \n",
       "578   516.728308   526.970302   529.436634   531.612792  ...          NaN   \n",
       "\n",
       "      2022-01-31   2022-02-28   2022-03-31   2022-04-30   2022-05-31  \\\n",
       "0    1937.304351  1955.272060  1971.256988  1997.731260  2019.752839   \n",
       "1    2984.899451  3032.151836  3082.959790  3142.381057  3201.035347   \n",
       "2    2825.516662  2850.339483  2881.506596  2919.113666  2953.089197   \n",
       "3    1808.471849  1823.778075  1843.010280  1865.307537  1890.513951   \n",
       "4    1736.260930  1747.886285  1758.449166  1780.575633  1807.486899   \n",
       "..           ...          ...          ...          ...          ...   \n",
       "574          NaN          NaN   735.821384   732.921061   771.810020   \n",
       "575  2039.794902          NaN  2061.477514  2053.911628  2293.863629   \n",
       "576   632.188630          NaN   668.388884   715.417127   687.157390   \n",
       "577   901.423609          NaN          NaN          NaN          NaN   \n",
       "578   812.564382   816.337611   774.215873   781.403240   778.818450   \n",
       "\n",
       "      2022-06-30   2022-07-31   2022-08-31   2022-09-30  \n",
       "0    2044.662959  2065.275748  2078.546078  2084.084210  \n",
       "1    3258.611614  3308.938574  3327.647323  3321.271717  \n",
       "2    2978.850604  2999.777869  3013.211794  3019.026316  \n",
       "3    1911.437953  1930.811578  1939.370439  1941.933786  \n",
       "4    1842.009269  1866.378789  1876.715983  1875.844643  \n",
       "..           ...          ...          ...          ...  \n",
       "574   755.232683   810.606473   750.000000   821.649685  \n",
       "575  2446.688466  2573.551207  2575.000000  2617.167354  \n",
       "576   702.818101   729.449277   771.000000   795.646586  \n",
       "577          NaN          NaN   962.000000  1019.826674  \n",
       "578   800.955182   832.421311   850.000000   840.276292  \n",
       "\n",
       "[579 rows x 96 columns]"
      ]
     },
     "execution_count": 57,
     "metadata": {},
     "output_type": "execute_result"
    }
   ],
   "source": [
    "zori = pd.read_csv(\"data/zori1.csv\")\n",
    "zori"
   ]
  },
  {
   "cell_type": "markdown",
   "id": "1fcba7a5",
   "metadata": {
    "deletable": false,
    "editable": false
   },
   "source": [
    "<!-- BEGIN QUESTION -->\n",
    "\n",
    "**Question 1.1:** What information is stored in the ZORI data? What does each row represent?"
   ]
  },
  {
   "cell_type": "markdown",
   "id": "37adea47",
   "metadata": {},
   "source": [
    "The ZORI (Zillow Observed Rent Index) dataset contains monthly rent price estimates collected by Zillow across various geographic regions in the United States."
   ]
  },
  {
   "cell_type": "markdown",
   "id": "3b9f6621",
   "metadata": {
    "deletable": false,
    "editable": false
   },
   "source": [
    "<!-- END QUESTION -->\n",
    "\n",
    "Below, we select rows within the ZORI dataframe that have the timeseries corresponding to the ZORI index for the entire country."
   ]
  },
  {
   "cell_type": "code",
   "execution_count": 58,
   "id": "002d33cc",
   "metadata": {},
   "outputs": [
    {
     "data": {
      "text/html": [
       "<div>\n",
       "<style scoped>\n",
       "    .dataframe tbody tr th:only-of-type {\n",
       "        vertical-align: middle;\n",
       "    }\n",
       "\n",
       "    .dataframe tbody tr th {\n",
       "        vertical-align: top;\n",
       "    }\n",
       "\n",
       "    .dataframe thead th {\n",
       "        text-align: right;\n",
       "    }\n",
       "</style>\n",
       "<table border=\"1\" class=\"dataframe\">\n",
       "  <thead>\n",
       "    <tr style=\"text-align: right;\">\n",
       "      <th></th>\n",
       "      <th>RegionID</th>\n",
       "      <th>SizeRank</th>\n",
       "      <th>RegionName</th>\n",
       "      <th>RegionType</th>\n",
       "      <th>StateName</th>\n",
       "      <th>2015-03-31</th>\n",
       "      <th>2015-04-30</th>\n",
       "      <th>2015-05-31</th>\n",
       "      <th>2015-06-30</th>\n",
       "      <th>2015-07-31</th>\n",
       "      <th>...</th>\n",
       "      <th>2021-11-30</th>\n",
       "      <th>2021-12-31</th>\n",
       "      <th>2022-01-31</th>\n",
       "      <th>2022-02-28</th>\n",
       "      <th>2022-03-31</th>\n",
       "      <th>2022-04-30</th>\n",
       "      <th>2022-05-31</th>\n",
       "      <th>2022-06-30</th>\n",
       "      <th>2022-07-31</th>\n",
       "      <th>2022-08-31</th>\n",
       "    </tr>\n",
       "  </thead>\n",
       "  <tbody>\n",
       "    <tr>\n",
       "      <th>0</th>\n",
       "      <td>102001</td>\n",
       "      <td>0</td>\n",
       "      <td>United States</td>\n",
       "      <td>country</td>\n",
       "      <td>NaN</td>\n",
       "      <td>1370.301806</td>\n",
       "      <td>1381.971304</td>\n",
       "      <td>1392.38909</td>\n",
       "      <td>1403.203509</td>\n",
       "      <td>1408.901384</td>\n",
       "      <td>...</td>\n",
       "      <td>1915.496408</td>\n",
       "      <td>1928.945108</td>\n",
       "      <td>1937.304351</td>\n",
       "      <td>1955.27206</td>\n",
       "      <td>1971.256988</td>\n",
       "      <td>1997.73126</td>\n",
       "      <td>2019.752839</td>\n",
       "      <td>2044.662959</td>\n",
       "      <td>2065.275748</td>\n",
       "      <td>2078.546078</td>\n",
       "    </tr>\n",
       "  </tbody>\n",
       "</table>\n",
       "<p>1 rows × 95 columns</p>\n",
       "</div>"
      ],
      "text/plain": [
       "   RegionID  SizeRank     RegionName RegionType StateName   2015-03-31  \\\n",
       "0    102001         0  United States    country       NaN  1370.301806   \n",
       "\n",
       "    2015-04-30  2015-05-31   2015-06-30   2015-07-31  ...   2021-11-30  \\\n",
       "0  1381.971304  1392.38909  1403.203509  1408.901384  ...  1915.496408   \n",
       "\n",
       "    2021-12-31   2022-01-31  2022-02-28   2022-03-31  2022-04-30   2022-05-31  \\\n",
       "0  1928.945108  1937.304351  1955.27206  1971.256988  1997.73126  2019.752839   \n",
       "\n",
       "    2022-06-30   2022-07-31   2022-08-31  \n",
       "0  2044.662959  2065.275748  2078.546078  \n",
       "\n",
       "[1 rows x 95 columns]"
      ]
     },
     "execution_count": 58,
     "metadata": {},
     "output_type": "execute_result"
    }
   ],
   "source": [
    "zUS = zori.iloc[[0], :-1]\n",
    "zUS"
   ]
  },
  {
   "cell_type": "markdown",
   "id": "c6e0cf42",
   "metadata": {},
   "source": [
    "We notice that the dates in the timeseries actually start from the 6th entry in the index. If we wanted to create a DataFrame, we would need to find a way to extract this information, in addition to the data stored in the ZORI column."
   ]
  },
  {
   "cell_type": "markdown",
   "id": "c5c060ba",
   "metadata": {
    "deletable": false,
    "editable": false
   },
   "source": [
    "**Question 1.2:** Transpose the dataframe `zUS`, select the relevant columns and convert them into rows (similar to the picture below). Rename the column names to `DATE` and `ZORI`. Ensure the `DATE` column has an appropriate data type. The resulting dataframe `zillow` should look like the following:\n",
    "\n",
    "*Hint*: `.T` allows us to transpose a dataframe. \n",
    "\n",
    "| DATE | ZORI |\n",
    "| ----------- | ----------- |\n",
    "| 2015-03-31 | 1370.301806 |\n",
    "| 2015-04-30 | 1381.971304 |\n",
    "|  | ... (rows omitted) |"
   ]
  },
  {
   "cell_type": "code",
   "execution_count": 59,
   "id": "9824a038",
   "metadata": {
    "tags": []
   },
   "outputs": [
    {
     "data": {
      "text/html": [
       "<div>\n",
       "<style scoped>\n",
       "    .dataframe tbody tr th:only-of-type {\n",
       "        vertical-align: middle;\n",
       "    }\n",
       "\n",
       "    .dataframe tbody tr th {\n",
       "        vertical-align: top;\n",
       "    }\n",
       "\n",
       "    .dataframe thead th {\n",
       "        text-align: right;\n",
       "    }\n",
       "</style>\n",
       "<table border=\"1\" class=\"dataframe\">\n",
       "  <thead>\n",
       "    <tr style=\"text-align: right;\">\n",
       "      <th></th>\n",
       "      <th>DATE</th>\n",
       "      <th>ZORI</th>\n",
       "    </tr>\n",
       "  </thead>\n",
       "  <tbody>\n",
       "    <tr>\n",
       "      <th>5</th>\n",
       "      <td>2015-03-31</td>\n",
       "      <td>1370.301806</td>\n",
       "    </tr>\n",
       "    <tr>\n",
       "      <th>6</th>\n",
       "      <td>2015-04-30</td>\n",
       "      <td>1381.971304</td>\n",
       "    </tr>\n",
       "    <tr>\n",
       "      <th>7</th>\n",
       "      <td>2015-05-31</td>\n",
       "      <td>1392.38909</td>\n",
       "    </tr>\n",
       "    <tr>\n",
       "      <th>8</th>\n",
       "      <td>2015-06-30</td>\n",
       "      <td>1403.203509</td>\n",
       "    </tr>\n",
       "    <tr>\n",
       "      <th>9</th>\n",
       "      <td>2015-07-31</td>\n",
       "      <td>1408.901384</td>\n",
       "    </tr>\n",
       "    <tr>\n",
       "      <th>...</th>\n",
       "      <td>...</td>\n",
       "      <td>...</td>\n",
       "    </tr>\n",
       "    <tr>\n",
       "      <th>90</th>\n",
       "      <td>2022-04-30</td>\n",
       "      <td>1997.73126</td>\n",
       "    </tr>\n",
       "    <tr>\n",
       "      <th>91</th>\n",
       "      <td>2022-05-31</td>\n",
       "      <td>2019.752839</td>\n",
       "    </tr>\n",
       "    <tr>\n",
       "      <th>92</th>\n",
       "      <td>2022-06-30</td>\n",
       "      <td>2044.662959</td>\n",
       "    </tr>\n",
       "    <tr>\n",
       "      <th>93</th>\n",
       "      <td>2022-07-31</td>\n",
       "      <td>2065.275748</td>\n",
       "    </tr>\n",
       "    <tr>\n",
       "      <th>94</th>\n",
       "      <td>2022-08-31</td>\n",
       "      <td>2078.546078</td>\n",
       "    </tr>\n",
       "  </tbody>\n",
       "</table>\n",
       "<p>90 rows × 2 columns</p>\n",
       "</div>"
      ],
      "text/plain": [
       "         DATE         ZORI\n",
       "5  2015-03-31  1370.301806\n",
       "6  2015-04-30  1381.971304\n",
       "7  2015-05-31   1392.38909\n",
       "8  2015-06-30  1403.203509\n",
       "9  2015-07-31  1408.901384\n",
       "..        ...          ...\n",
       "90 2022-04-30   1997.73126\n",
       "91 2022-05-31  2019.752839\n",
       "92 2022-06-30  2044.662959\n",
       "93 2022-07-31  2065.275748\n",
       "94 2022-08-31  2078.546078\n",
       "\n",
       "[90 rows x 2 columns]"
      ]
     },
     "execution_count": 59,
     "metadata": {},
     "output_type": "execute_result"
    }
   ],
   "source": [
    "# Hint: consider taking the transpose of `zUS`\n",
    "zillow = zUS.T \n",
    "zillow.reset_index(inplace=True)\n",
    "zillow.columns = ['DATE', 'ZORI']\n",
    "zillow = zillow.iloc[5:]\n",
    "zillow['DATE'] = pd.to_datetime(zillow['DATE'])\n",
    "zillow"
   ]
  },
  {
   "cell_type": "code",
   "execution_count": 60,
   "id": "3476c68b",
   "metadata": {
    "deletable": false,
    "editable": false
   },
   "outputs": [
    {
     "data": {
      "text/html": [
       "<p><strong><pre style='display: inline;'>q1_2</pre></strong> passed! 🌈</p>"
      ],
      "text/plain": [
       "q1_2 results: All test cases passed!"
      ]
     },
     "execution_count": 60,
     "metadata": {},
     "output_type": "execute_result"
    }
   ],
   "source": [
    "grader.check(\"q1_2\")"
   ]
  },
  {
   "cell_type": "markdown",
   "id": "ced035b1",
   "metadata": {},
   "source": [
    "We might wonder what this looks like. Let's graph this time series."
   ]
  },
  {
   "cell_type": "code",
   "execution_count": 61,
   "id": "0788bce4",
   "metadata": {},
   "outputs": [
    {
     "data": {
      "image/png": "[encoded data removed]",
      "text/plain": [
       "<Figure size 640x480 with 1 Axes>"
      ]
     },
     "metadata": {},
     "output_type": "display_data"
    }
   ],
   "source": [
    "sns.lineplot(data=zillow, x=\"DATE\", y=\"ZORI\")\n",
    "plt.title(\"ZORI Index\");"
   ]
  },
  {
   "cell_type": "markdown",
   "id": "b3eb70f3",
   "metadata": {},
   "source": [
    "Do you notice anything interesting about this graph? "
   ]
  },
  {
   "cell_type": "markdown",
   "id": "391fae41",
   "metadata": {},
   "source": [
    "We'll focus on the part where the slope becomes noticably steeper. Around what time did this happen? What are some possible explanations?"
   ]
  },
  {
   "cell_type": "markdown",
   "id": "fbefbc91",
   "metadata": {},
   "source": [
    "### Dataset 2: US CPI"
   ]
  },
  {
   "cell_type": "markdown",
   "id": "70e4b9b8",
   "metadata": {},
   "source": [
    "We'll now turn our attention to the US CPI."
   ]
  },
  {
   "cell_type": "markdown",
   "id": "6193d997",
   "metadata": {},
   "source": [
    "We've downloaded historical **US CPI data for rent of primary residence** from the [FRED website](https://fred.stlouisfed.org/series/CUUR0000SEHA). Since our ZORI data starts on 03/31/2015, we've adjusted the sliders on the FRED website to only extract starting from 03/31/2015. We've also renamed the columns to be more readable."
   ]
  },
  {
   "cell_type": "code",
   "execution_count": 62,
   "id": "b656ed8c",
   "metadata": {},
   "outputs": [
    {
     "data": {
      "text/html": [
       "<div>\n",
       "<style scoped>\n",
       "    .dataframe tbody tr th:only-of-type {\n",
       "        vertical-align: middle;\n",
       "    }\n",
       "\n",
       "    .dataframe tbody tr th {\n",
       "        vertical-align: top;\n",
       "    }\n",
       "\n",
       "    .dataframe thead th {\n",
       "        text-align: right;\n",
       "    }\n",
       "</style>\n",
       "<table border=\"1\" class=\"dataframe\">\n",
       "  <thead>\n",
       "    <tr style=\"text-align: right;\">\n",
       "      <th></th>\n",
       "      <th>DATE</th>\n",
       "      <th>CPI</th>\n",
       "    </tr>\n",
       "  </thead>\n",
       "  <tbody>\n",
       "    <tr>\n",
       "      <th>1</th>\n",
       "      <td>2015-04-01</td>\n",
       "      <td>283.598</td>\n",
       "    </tr>\n",
       "    <tr>\n",
       "      <th>2</th>\n",
       "      <td>2015-05-01</td>\n",
       "      <td>284.245</td>\n",
       "    </tr>\n",
       "    <tr>\n",
       "      <th>3</th>\n",
       "      <td>2015-06-01</td>\n",
       "      <td>285.031</td>\n",
       "    </tr>\n",
       "    <tr>\n",
       "      <th>4</th>\n",
       "      <td>2015-07-01</td>\n",
       "      <td>286.090</td>\n",
       "    </tr>\n",
       "    <tr>\n",
       "      <th>5</th>\n",
       "      <td>2015-08-01</td>\n",
       "      <td>287.068</td>\n",
       "    </tr>\n",
       "  </tbody>\n",
       "</table>\n",
       "</div>"
      ],
      "text/plain": [
       "        DATE      CPI\n",
       "1 2015-04-01  283.598\n",
       "2 2015-05-01  284.245\n",
       "3 2015-06-01  285.031\n",
       "4 2015-07-01  286.090\n",
       "5 2015-08-01  287.068"
      ]
     },
     "execution_count": 62,
     "metadata": {},
     "output_type": "execute_result"
    }
   ],
   "source": [
    "usCPI = pd.read_csv(\"data/usCPI.csv\")\n",
    "usCPI = usCPI.rename(columns={\"CUUR0000SEHA\": \"CPI\"})\n",
    "usCPI = usCPI.iloc[1:, :]\n",
    "usCPI['DATE'] = pd.to_datetime(usCPI['DATE'], format='%Y-%m-%d')\n",
    "usCPI.head()"
   ]
  },
  {
   "cell_type": "markdown",
   "id": "9ab94af0",
   "metadata": {},
   "source": [
    "We can try plotting this to see what it looks like."
   ]
  },
  {
   "cell_type": "code",
   "execution_count": 63,
   "id": "c84b71d5",
   "metadata": {},
   "outputs": [
    {
     "data": {
      "image/png": "[encoded data removed]",
      "text/plain": [
       "<Figure size 640x480 with 1 Axes>"
      ]
     },
     "metadata": {},
     "output_type": "display_data"
    }
   ],
   "source": [
    "sns.lineplot(data=usCPI, x=\"DATE\", y=\"CPI\")\n",
    "plt.title(\"US CPI (Rent of Primary Residence)\");"
   ]
  },
  {
   "cell_type": "markdown",
   "id": "ab57625f",
   "metadata": {},
   "source": [
    "### Data Preprocessing"
   ]
  },
  {
   "cell_type": "code",
   "execution_count": 64,
   "id": "b3b60fc1",
   "metadata": {},
   "outputs": [],
   "source": [
    "# set `DATE` as the index\n",
    "zillow = zillow.set_index('DATE')\n",
    "usCPI = usCPI.set_index('DATE')"
   ]
  },
  {
   "cell_type": "markdown",
   "id": "92d2e9d8",
   "metadata": {
    "deletable": false,
    "editable": false
   },
   "source": [
    "**Question 1.3:** Let's split the `usCPI` dataframe into a training set and testing set. Put all data **before** Jan. 1st, 2022 into the *training set*, and all data **on or after** Jan. 1st, 2022 into the *testing set*. \n",
    "\n",
    "Note: This is not how normally we do the train-test split. In a normal setup, we would assign a random portion of the data to training set and the rest to testing set. But in this analysis, we care about how well can we predict the future values using current values, so we'll create a train-test split based on a date. \n",
    "\n",
    "*Hint*: You can use `pd.to_datetime(\"2022-01-01\", format='%Y-%m-%d')` to generate a timestamp for comparison. "
   ]
  },
  {
   "cell_type": "code",
   "execution_count": 65,
   "id": "2bc25d15",
   "metadata": {
    "scrolled": true,
    "tags": []
   },
   "outputs": [
    {
     "data": {
      "image/png": "[encoded data removed]",
      "text/plain": [
       "<Figure size 640x480 with 1 Axes>"
      ]
     },
     "metadata": {},
     "output_type": "display_data"
    }
   ],
   "source": [
    "split_date = pd.to_datetime(\"2022-01-01\", format='%Y-%m-%d')\n",
    "\n",
    "train = usCPI[usCPI.index < split_date]\n",
    "test = usCPI[usCPI.index >= split_date]\n",
    "plt.plot(train['CPI'], color = \"black\", label='Train')\n",
    "plt.plot(test['CPI'], color = \"red\", label='Test')\n",
    "plt.ylabel('')\n",
    "plt.xlabel('Date')\n",
    "plt.title(\"Train/Test split for US CPI Data\")\n",
    "plt.legend();"
   ]
  },
  {
   "cell_type": "code",
   "execution_count": 66,
   "id": "901fbe6f",
   "metadata": {
    "deletable": false,
    "editable": false
   },
   "outputs": [
    {
     "data": {
      "text/html": [
       "<p><strong><pre style='display: inline;'>q1_3</pre></strong> passed! ✨</p>"
      ],
      "text/plain": [
       "q1_3 results: All test cases passed!"
      ]
     },
     "execution_count": 66,
     "metadata": {},
     "output_type": "execute_result"
    }
   ],
   "source": [
    "grader.check(\"q1_3\")"
   ]
  },
  {
   "cell_type": "code",
   "execution_count": 67,
   "id": "16c8d9a1",
   "metadata": {
    "scrolled": true
   },
   "outputs": [],
   "source": [
    "# generate train test CPI series\n",
    "y_train = train['CPI']\n",
    "y_test = test['CPI']"
   ]
  },
  {
   "cell_type": "markdown",
   "id": "625500aa",
   "metadata": {},
   "source": [
    "---\n",
    "## Part 2: Time Series Modeling"
   ]
  },
  {
   "cell_type": "code",
   "execution_count": 68,
   "id": "2cec18de",
   "metadata": {},
   "outputs": [
    {
     "name": "stdout",
     "output_type": "stream",
     "text": [
      "Requirement already satisfied: scikit-learn in /srv/conda/lib/python3.11/site-packages (1.6.0)\n",
      "Requirement already satisfied: numpy>=1.19.5 in /srv/conda/lib/python3.11/site-packages (from scikit-learn) (2.2.4)\n",
      "Requirement already satisfied: scipy>=1.6.0 in /srv/conda/lib/python3.11/site-packages (from scikit-learn) (1.14.1)\n",
      "Requirement already satisfied: joblib>=1.2.0 in /srv/conda/lib/python3.11/site-packages (from scikit-learn) (1.4.2)\n",
      "Requirement already satisfied: threadpoolctl>=3.1.0 in /srv/conda/lib/python3.11/site-packages (from scikit-learn) (3.6.0)\n"
     ]
    }
   ],
   "source": [
    "!pip install scikit-learn \n",
    "from sklearn.metrics import mean_squared_error\n",
    "\n",
    "from statsmodels.tsa.arima.model import ARIMA\n",
    "from statsmodels.tsa.statespace.sarimax import SARIMAX\n",
    "\n",
    "import warnings\n",
    "warnings.filterwarnings(\"ignore\")"
   ]
  },
  {
   "cell_type": "markdown",
   "id": "12296a54",
   "metadata": {},
   "source": [
    "### Review\n",
    "Let $X_t$ be a sequence of random variables that describes a time series model. \n",
    "\n",
    "* **Random walk**:   \n",
    "A random walk is a time series model where the current observation is equal to the previous observation with a random step up or down. The model is widely used for non-stationary data, particularly financial and economic data.\n",
    "\n",
    "$$X_t = X_{t-1} + \\varepsilon_t$$ \n",
    "\n",
    "* **Random walk with drift**:   \n",
    "If the random walk has a non-zero dift and acts like a trend, we will add an additional drift term ($\\alpha$) to the process. \n",
    "\n",
    "$$X_t = X_{t-1} + \\alpha + \\varepsilon_t$$ \n",
    "\n",
    "* **Autoregressive (AR)**: AR(p) refers to the autoregressive model of order p.  \n",
    "The autoregressive model uses observations from previous time steps as input to a regression equations to predict the value at the next step. The AR model takes in one argument, p, which determines how many previous time steps will be inputted.\n",
    "\n",
    "$$X_t = c + \\phi_1 X_{t-1} + \\phi_2 X_{t-2} + \\cdots + \\phi_p X_{t-p} + \\varepsilon_t$$ \n",
    "\n",
    "* **Moving-average (MA)**: MA(q) refers to the moving average model of order q. \n",
    "The moving average model is a time series model that accounts for very short-run autocorrelation. \n",
    "\n",
    "$$X_t = \\mu + \\varepsilon_t + \\theta_1 \\varepsilon_{t-1} + \\theta_2 \\varepsilon_{t-2} + \\cdots + \\theta_q \\varepsilon_{t-q}$$ "
   ]
  },
  {
   "cell_type": "markdown",
   "id": "13270d42",
   "metadata": {},
   "source": [
    "### Autoregressive Moving Average (ARMA)\n",
    "The notation ARMA(p, q) refers to the model with p autoregressive terms and q moving-average terms. This model contains the AR(p) and MA(q) models. \n",
    "\n",
    "$$X_t = c + \\underbrace{\\phi_1 X_{t-1} + \\phi_2 X_{t-2} + \\cdots + \\phi_p X_{t-p}}_{AR(p)} + \\underbrace{\\theta_1 \\varepsilon_{t-1} + \\theta_2 \\varepsilon_{t-2} + \\cdots + \\theta_q \\varepsilon_{t-q}}_{MA(q)} + \\varepsilon_t $$ \n",
    "\n",
    "Here's a summary table for the relationship between ARIMA model and the models discussed. \n",
    "\n",
    "| Model | ARMA(p, q) |\n",
    "| ----------- | ----------- |\n",
    "| White noise | ARMA(0,0) |\n",
    "| Autoregression (AR(p)) | ARMA(p,0) |\n",
    "| Moving average (MA(q)) | ARMA(0,q) |"
   ]
  },
  {
   "cell_type": "markdown",
   "id": "77094ec6",
   "metadata": {},
   "source": [
    "Now let's try fit our data using ARMA(1, 1), which is saying we want to fit our CPI data to the following process:\n",
    "\n",
    "$$CPI_t = c + \\underbrace{\\phi_1 CPI_{t-1}}_{AR(1)} + \\underbrace{\\theta_1 \\varepsilon_{t-1}}_{MA(1)} + \\varepsilon_t $$ "
   ]
  },
  {
   "cell_type": "code",
   "execution_count": 69,
   "id": "97ec1839",
   "metadata": {},
   "outputs": [],
   "source": [
    "ARMAmodel = ARIMA(y_train, order = (1, 0, 1)) # ARMA(1, 1). See ARIMA (next section) for why there's a zero\n",
    "ARMAmodel = ARMAmodel.fit() "
   ]
  },
  {
   "cell_type": "code",
   "execution_count": 70,
   "id": "acd0387d",
   "metadata": {},
   "outputs": [
    {
     "data": {
      "text/html": [
       "<div>\n",
       "<style scoped>\n",
       "    .dataframe tbody tr th:only-of-type {\n",
       "        vertical-align: middle;\n",
       "    }\n",
       "\n",
       "    .dataframe tbody tr th {\n",
       "        vertical-align: top;\n",
       "    }\n",
       "\n",
       "    .dataframe thead th {\n",
       "        text-align: right;\n",
       "    }\n",
       "</style>\n",
       "<table border=\"1\" class=\"dataframe\">\n",
       "  <thead>\n",
       "    <tr style=\"text-align: right;\">\n",
       "      <th></th>\n",
       "      <th>lower CPI</th>\n",
       "      <th>upper CPI</th>\n",
       "      <th>Predictions</th>\n",
       "    </tr>\n",
       "    <tr>\n",
       "      <th>DATE</th>\n",
       "      <th></th>\n",
       "      <th></th>\n",
       "      <th></th>\n",
       "    </tr>\n",
       "  </thead>\n",
       "  <tbody>\n",
       "    <tr>\n",
       "      <th>2022-01-01</th>\n",
       "      <td>355.406491</td>\n",
       "      <td>357.700091</td>\n",
       "      <td>356.553291</td>\n",
       "    </tr>\n",
       "    <tr>\n",
       "      <th>2022-02-01</th>\n",
       "      <td>354.173176</td>\n",
       "      <td>358.902513</td>\n",
       "      <td>356.537844</td>\n",
       "    </tr>\n",
       "    <tr>\n",
       "      <th>2022-03-01</th>\n",
       "      <td>353.381617</td>\n",
       "      <td>359.663191</td>\n",
       "      <td>356.522404</td>\n",
       "    </tr>\n",
       "    <tr>\n",
       "      <th>2022-04-01</th>\n",
       "      <td>352.747475</td>\n",
       "      <td>360.266466</td>\n",
       "      <td>356.506970</td>\n",
       "    </tr>\n",
       "    <tr>\n",
       "      <th>2022-05-01</th>\n",
       "      <td>352.202084</td>\n",
       "      <td>360.781001</td>\n",
       "      <td>356.491543</td>\n",
       "    </tr>\n",
       "    <tr>\n",
       "      <th>2022-06-01</th>\n",
       "      <td>351.715714</td>\n",
       "      <td>361.236531</td>\n",
       "      <td>356.476122</td>\n",
       "    </tr>\n",
       "    <tr>\n",
       "      <th>2022-07-01</th>\n",
       "      <td>351.272268</td>\n",
       "      <td>361.649149</td>\n",
       "      <td>356.460708</td>\n",
       "    </tr>\n",
       "    <tr>\n",
       "      <th>2022-08-01</th>\n",
       "      <td>350.861867</td>\n",
       "      <td>362.028734</td>\n",
       "      <td>356.445300</td>\n",
       "    </tr>\n",
       "    <tr>\n",
       "      <th>2022-09-01</th>\n",
       "      <td>350.477930</td>\n",
       "      <td>362.381869</td>\n",
       "      <td>356.429899</td>\n",
       "    </tr>\n",
       "  </tbody>\n",
       "</table>\n",
       "</div>"
      ],
      "text/plain": [
       "             lower CPI   upper CPI  Predictions\n",
       "DATE                                           \n",
       "2022-01-01  355.406491  357.700091   356.553291\n",
       "2022-02-01  354.173176  358.902513   356.537844\n",
       "2022-03-01  353.381617  359.663191   356.522404\n",
       "2022-04-01  352.747475  360.266466   356.506970\n",
       "2022-05-01  352.202084  360.781001   356.491543\n",
       "2022-06-01  351.715714  361.236531   356.476122\n",
       "2022-07-01  351.272268  361.649149   356.460708\n",
       "2022-08-01  350.861867  362.028734   356.445300\n",
       "2022-09-01  350.477930  362.381869   356.429899"
      ]
     },
     "execution_count": 70,
     "metadata": {},
     "output_type": "execute_result"
    }
   ],
   "source": [
    "y_pred = ARMAmodel.get_forecast(len(test.index))\n",
    "y_pred_df = y_pred.conf_int(alpha = 0.05) # 95% CI\n",
    "y_pred_df[\"Predictions\"] = ARMAmodel.predict(start = y_pred_df.index[0], end = y_pred_df.index[-1])\n",
    "y_pred_df.index = test.index\n",
    "y_pred_df"
   ]
  },
  {
   "cell_type": "code",
   "execution_count": 71,
   "id": "e2764a71",
   "metadata": {},
   "outputs": [
    {
     "data": {
      "image/png": "[encoded data removed]",
      "text/plain": [
       "<Figure size 640x480 with 1 Axes>"
      ]
     },
     "metadata": {},
     "output_type": "display_data"
    }
   ],
   "source": [
    "# Get predictions series\n",
    "y_pred_out = y_pred_df[\"Predictions\"]\n",
    "\n",
    "# Plot\n",
    "plt.plot(train, color = 'black')\n",
    "plt.plot(test, color = 'red', label = 'Actual')\n",
    "plt.plot(y_pred_out, color='green', label = 'Predictions')\n",
    "plt.ylabel('')\n",
    "plt.xlabel('Date')\n",
    "plt.xticks(rotation=45)\n",
    "plt.title(\"Predictions of US CPI Data\")\n",
    "plt.legend();"
   ]
  },
  {
   "cell_type": "markdown",
   "id": "7089240a",
   "metadata": {
    "deletable": false,
    "editable": false
   },
   "source": [
    "**Question 2.1:** Why does the predictions look almost constant?\n",
    "\n",
    "1. Because ARMA is a bad model for this time series\n",
    "2. Because we did not give ARMA a reasonable set of orders (i.e. p and q)\n",
    "3. Because the data is too volatile to predict\n",
    "\n",
    "Assign the number corresponding to your answer to `q2_1` below."
   ]
  },
  {
   "cell_type": "code",
   "execution_count": 72,
   "id": "ec6a3d77",
   "metadata": {
    "tags": []
   },
   "outputs": [],
   "source": [
    "q2_1 = 2"
   ]
  },
  {
   "cell_type": "code",
   "execution_count": 73,
   "id": "548c8c19",
   "metadata": {
    "deletable": false,
    "editable": false
   },
   "outputs": [
    {
     "data": {
      "text/html": [
       "<p><strong><pre style='display: inline;'>q2_1</pre></strong> passed! ✨</p>"
      ],
      "text/plain": [
       "q2_1 results: All test cases passed!"
      ]
     },
     "execution_count": 73,
     "metadata": {},
     "output_type": "execute_result"
    }
   ],
   "source": [
    "grader.check(\"q2_1\")"
   ]
  },
  {
   "cell_type": "markdown",
   "id": "a1e9e797",
   "metadata": {},
   "source": [
    "We can also compute the loss of this model. "
   ]
  },
  {
   "cell_type": "code",
   "execution_count": 74,
   "id": "c3f5f1da",
   "metadata": {},
   "outputs": [
    {
     "name": "stdout",
     "output_type": "stream",
     "text": [
      "RMSE:  11.370079226743105\n"
     ]
    }
   ],
   "source": [
    "arma_rmse = np.sqrt(mean_squared_error(test[\"CPI\"].values, y_pred_df[\"Predictions\"]))\n",
    "print(\"RMSE: \",arma_rmse)"
   ]
  },
  {
   "cell_type": "markdown",
   "id": "49f3ec7d",
   "metadata": {},
   "source": [
    "### Autoregressive Integrated Moving Average (ARIMA)\n",
    "\n",
    "The notation ARIMA(p, d, q) refers to the model with p autoregressive terms with d degree of differencing and q moving-average terms. \n",
    "\n",
    "$$X_t' = c + \\underbrace{\\phi_1 X_{t-1}' + \\phi_2 X_{t-2}' + \\cdots + \\phi_p X_{t-p}'}_{AR(p)} + \\underbrace{\\theta_1 \\varepsilon_{t-1} + \\theta_2 \\varepsilon_{t-2} + \\cdots + \\theta_q \\varepsilon_{t-q}}_{MA(q)} + \\varepsilon_t $$ \n",
    "\n",
    "where $y_t'$ is the differenced series (it may have been differenced more than once).\n",
    "\n",
    "**Difference between ARMA and ARIMA**: The only difference is the “integrated” part. Integrated refers to the number of times needed to difference a series in order to achieve stationarity, which is required for ARMA models to be valid. So ARMA is a special case of ARIMA with $d = 0$. ARIMA models are widely used for real life time series analysis since most times series data are non stationary and need differencing.\n",
    "\n",
    "Here's a summary table for the relationship between the ARIMA model and the models discussed. \n",
    "\n",
    "| Model | ARIMA(p, d, q) |\n",
    "| ----------- | ----------- |\n",
    "| White noise | ARIMA(0,0,0) |\n",
    "| Random walk | ARIMA(0,1,0) with no constant |\n",
    "| Random walk with drift | ARIMA(0,1,0) with a constant |\n",
    "| Autoregression (AR(p)) | ARIMA(p,0,0) |\n",
    "| Moving average (MA(q)) | ARIMA(0,0,q) |\n",
    "| Autoregressive Moving Average (ARMA(p,q)) | ARIMA(p,0,q) |"
   ]
  },
  {
   "cell_type": "markdown",
   "id": "cfe908a1",
   "metadata": {},
   "source": [
    "Now let's try fit our data using $\\text{ARIMA}(1, 1, 1)$. "
   ]
  },
  {
   "cell_type": "code",
   "execution_count": 75,
   "id": "3afd9e25",
   "metadata": {},
   "outputs": [
    {
     "data": {
      "image/png": "[encoded data removed]",
      "text/plain": [
       "<Figure size 640x480 with 1 Axes>"
      ]
     },
     "metadata": {},
     "output_type": "display_data"
    }
   ],
   "source": [
    "ARIMAmodel_naive = ARIMA(y_train, order = (1, 1, 1))\n",
    "ARIMAmodel_naive = ARIMAmodel_naive.fit()\n",
    "\n",
    "y_pred = ARIMAmodel_naive.get_forecast(len(test.index))\n",
    "y_pred_df = y_pred.conf_int(alpha = 0.05) \n",
    "y_pred_df[\"Predictions\"] = ARIMAmodel_naive.predict(start = y_pred_df.index[0], end = y_pred_df.index[-1])\n",
    "y_pred_df.index = test.index\n",
    "y_pred_out = y_pred_df[\"Predictions\"] \n",
    "plt.plot(train, color = \"black\")\n",
    "plt.plot(test, color = \"red\", label = 'Actual')\n",
    "plt.plot(y_pred_out, color='blue', label = 'ARIMA(1, 1, 1) Predictions')\n",
    "plt.legend();"
   ]
  },
  {
   "cell_type": "code",
   "execution_count": 76,
   "id": "9887865b",
   "metadata": {},
   "outputs": [
    {
     "name": "stdout",
     "output_type": "stream",
     "text": [
      "RMSE:  4.025701935270436\n"
     ]
    }
   ],
   "source": [
    "arima_naive_rmse = np.sqrt(mean_squared_error(test[\"CPI\"].values, y_pred_df[\"Predictions\"]))\n",
    "print(\"RMSE: \",arima_naive_rmse)"
   ]
  },
  {
   "cell_type": "markdown",
   "id": "e7e6fc8f",
   "metadata": {},
   "source": [
    "After adding $d=1$ differencing, the predictions look much better than before!"
   ]
  },
  {
   "cell_type": "markdown",
   "id": "be4b1387",
   "metadata": {},
   "source": [
    "However, the ARIMA model for time series analysis and forecasting can be tricky to configure.\n",
    "\n",
    "There are 3 parameters (p, d and q) that require estimation by iterative trial and error from reviewing diagnostic plots and using 40-year-old heuristic rules. Usually we will find optimal parameters with ACF, PACF plots, and BIC/AIC information criteria or simply do a grid search, but we will not go into depth about these topics here. If you are interested, you can learn more about this in Stat 153. "
   ]
  },
  {
   "cell_type": "markdown",
   "id": "638e3f2c",
   "metadata": {
    "deletable": false,
    "editable": false
   },
   "source": [
    "<!-- BEGIN QUESTION -->\n",
    "\n",
    "**Question 2.2:** Let's find some better parameters using trial and error. Try some combinations of p, d and q and see what is the result of the predictions. We will manually grade this question, and in order to recieve full credit, you must achieve an RMSE of less than 3.5 and a plot of your predictions vs the actual values must be shown.\n",
    "\n",
    "Hint: Think about what does p, d, q mean in the ARIMA model. "
   ]
  },
  {
   "cell_type": "code",
   "execution_count": 77,
   "id": "3fc7ada2",
   "metadata": {
    "tags": []
   },
   "outputs": [
    {
     "name": "stdout",
     "output_type": "stream",
     "text": [
      "RMSE:  3.1620364048099856\n"
     ]
    },
    {
     "data": {
      "image/png": "[encoded data removed]",
      "text/plain": [
       "<Figure size 640x480 with 1 Axes>"
      ]
     },
     "metadata": {},
     "output_type": "display_data"
    }
   ],
   "source": [
    "\n",
    "ARIMAmodel = ARIMA(y_train, order=(2, 2, 5)) # specify the model\n",
    "ARIMAmodel = ARIMAmodel.fit() # fit the model\n",
    "\n",
    "\n",
    "y_pred_arima = ARIMAmodel.get_forecast(len(test.index)) # generate predictions\n",
    "y_pred_arima_df = y_pred_arima.conf_int(alpha = 0.05) \n",
    "y_pred_arima_df[\"Predictions\"] = ARIMAmodel.predict(start = y_pred_df.index[0], end = y_pred_df.index[-1])\n",
    "y_pred_arima_df.index = test.index\n",
    "y_pred_arima_out = y_pred_arima_df[\"Predictions\"] \n",
    "\n",
    "arima_rmse = np.sqrt(mean_squared_error(test[\"CPI\"].values, y_pred_arima_out))\n",
    "print(\"RMSE: \",arima_rmse)\n",
    "\n",
    "plt.plot(train, color = \"black\") # plot\n",
    "plt.plot(test, color = \"red\", label = 'Actual')\n",
    "plt.plot(y_pred_arima_out, color='blue', label = 'ARIMA Predictions')\n",
    "plt.legend();"
   ]
  },
  {
   "cell_type": "markdown",
   "id": "d4dc8022",
   "metadata": {
    "deletable": false,
    "editable": false
   },
   "source": [
    "<!-- END QUESTION -->\n",
    "\n",
    "However, in the real world when we don't know the future values, such tuning can lead to overfitting. So we need to be aware of the [bias-variance tradeoff](https://towardsdatascience.com/understanding-the-bias-variance-tradeoff-165e6942b229) when tuning our time series model. "
   ]
  },
  {
   "cell_type": "markdown",
   "id": "84c6405f",
   "metadata": {},
   "source": [
    "---\n",
    "## The below subpart is for Extra Credit. "
   ]
  },
  {
   "cell_type": "markdown",
   "id": "7ed9eedf-c52e-4943-b9e5-303971e86ca0",
   "metadata": {},
   "source": [
    "<div class=\"alert alert-info\">\n",
    "\n",
    "***Note:*** You have now **finished** all the coding that is required for this lab - congratulations! The below parts are purely optional, if you wish to extend your knowledge further. If you do not wish to finish these parts, feel free to scroll down, fill out the survey and then submit the lab!\n",
    "\n",
    "Don't worry about not passing the following test on gradescope. \n",
    "\n",
    "</div>"
   ]
  },
  {
   "cell_type": "markdown",
   "id": "59c130ff",
   "metadata": {},
   "source": [
    "We want to combine both time series so that we can analyze them together. However, we notice that the `DATE` column has different values. ZORI is measured on the 31st of each month, while CPI is measured on the 1st day of each month. For our purposes, we can combine the two by using the `DATE` index from the US CPI and using the 1st day of the month."
   ]
  },
  {
   "cell_type": "code",
   "execution_count": 78,
   "id": "1cc83f42",
   "metadata": {},
   "outputs": [
    {
     "data": {
      "text/html": [
       "<div>\n",
       "<style scoped>\n",
       "    .dataframe tbody tr th:only-of-type {\n",
       "        vertical-align: middle;\n",
       "    }\n",
       "\n",
       "    .dataframe tbody tr th {\n",
       "        vertical-align: top;\n",
       "    }\n",
       "\n",
       "    .dataframe thead th {\n",
       "        text-align: right;\n",
       "    }\n",
       "</style>\n",
       "<table border=\"1\" class=\"dataframe\">\n",
       "  <thead>\n",
       "    <tr style=\"text-align: right;\">\n",
       "      <th></th>\n",
       "      <th>ZORI</th>\n",
       "      <th>CPI</th>\n",
       "    </tr>\n",
       "    <tr>\n",
       "      <th>DATE</th>\n",
       "      <th></th>\n",
       "      <th></th>\n",
       "    </tr>\n",
       "  </thead>\n",
       "  <tbody>\n",
       "    <tr>\n",
       "      <th>2015-04-01</th>\n",
       "      <td>1370.301806</td>\n",
       "      <td>283.598</td>\n",
       "    </tr>\n",
       "    <tr>\n",
       "      <th>2015-05-01</th>\n",
       "      <td>1381.971304</td>\n",
       "      <td>284.245</td>\n",
       "    </tr>\n",
       "    <tr>\n",
       "      <th>2015-06-01</th>\n",
       "      <td>1392.38909</td>\n",
       "      <td>285.031</td>\n",
       "    </tr>\n",
       "    <tr>\n",
       "      <th>2015-07-01</th>\n",
       "      <td>1403.203509</td>\n",
       "      <td>286.090</td>\n",
       "    </tr>\n",
       "    <tr>\n",
       "      <th>2015-08-01</th>\n",
       "      <td>1408.901384</td>\n",
       "      <td>287.068</td>\n",
       "    </tr>\n",
       "    <tr>\n",
       "      <th>...</th>\n",
       "      <td>...</td>\n",
       "      <td>...</td>\n",
       "    </tr>\n",
       "    <tr>\n",
       "      <th>2022-05-01</th>\n",
       "      <td>1997.73126</td>\n",
       "      <td>365.116</td>\n",
       "    </tr>\n",
       "    <tr>\n",
       "      <th>2022-06-01</th>\n",
       "      <td>2019.752839</td>\n",
       "      <td>367.927</td>\n",
       "    </tr>\n",
       "    <tr>\n",
       "      <th>2022-07-01</th>\n",
       "      <td>2044.662959</td>\n",
       "      <td>370.448</td>\n",
       "    </tr>\n",
       "    <tr>\n",
       "      <th>2022-08-01</th>\n",
       "      <td>2065.275748</td>\n",
       "      <td>373.283</td>\n",
       "    </tr>\n",
       "    <tr>\n",
       "      <th>2022-09-01</th>\n",
       "      <td>2078.546078</td>\n",
       "      <td>376.569</td>\n",
       "    </tr>\n",
       "  </tbody>\n",
       "</table>\n",
       "<p>90 rows × 2 columns</p>\n",
       "</div>"
      ],
      "text/plain": [
       "                   ZORI      CPI\n",
       "DATE                            \n",
       "2015-04-01  1370.301806  283.598\n",
       "2015-05-01  1381.971304  284.245\n",
       "2015-06-01   1392.38909  285.031\n",
       "2015-07-01  1403.203509  286.090\n",
       "2015-08-01  1408.901384  287.068\n",
       "...                 ...      ...\n",
       "2022-05-01   1997.73126  365.116\n",
       "2022-06-01  2019.752839  367.927\n",
       "2022-07-01  2044.662959  370.448\n",
       "2022-08-01  2065.275748  373.283\n",
       "2022-09-01  2078.546078  376.569\n",
       "\n",
       "[90 rows x 2 columns]"
      ]
     },
     "execution_count": 78,
     "metadata": {},
     "output_type": "execute_result"
    }
   ],
   "source": [
    "combined = pd.concat([zillow.reset_index(drop=True), usCPI.reset_index(drop=True)], axis=1)\n",
    "combined.index = usCPI.index\n",
    "combined"
   ]
  },
  {
   "cell_type": "markdown",
   "id": "2d405a49",
   "metadata": {},
   "source": [
    "### Visual Comparison"
   ]
  },
  {
   "cell_type": "markdown",
   "id": "2ebf71bb",
   "metadata": {},
   "source": [
    "We can try plotting this graph to see if we can find anything interesting."
   ]
  },
  {
   "cell_type": "code",
   "execution_count": 79,
   "id": "6bf30323",
   "metadata": {},
   "outputs": [
    {
     "data": {
      "image/png": "[encoded data removed]",
      "text/plain": [
       "<Figure size 640x480 with 2 Axes>"
      ]
     },
     "metadata": {},
     "output_type": "display_data"
    }
   ],
   "source": [
    "sns.lineplot(data=combined, x=\"DATE\", y=\"CPI\", color='tab:blue', label='CPI')\n",
    "ax2 = plt.twinx()\n",
    "sns.lineplot(data=combined, x=\"DATE\", y=\"ZORI\", color='tab:orange', ax=ax2, label='ZORI')\n",
    "plt.legend(loc='upper left')\n",
    "ax2.legend(loc='lower right')\n",
    "plt.title(\"US CPI vs ZORI\");"
   ]
  },
  {
   "cell_type": "markdown",
   "id": "809d9e48",
   "metadata": {},
   "source": [
    "#### Logging Our Data"
   ]
  },
  {
   "cell_type": "markdown",
   "id": "c6c9712b",
   "metadata": {},
   "source": [
    "We can try logging our data to make them easier to compare."
   ]
  },
  {
   "cell_type": "markdown",
   "id": "2079d7ef",
   "metadata": {
    "deletable": false,
    "editable": false
   },
   "source": [
    "**Question 3.1:** Take the natural log for `CPI` and `ZORI` and store the results in new columns `log CPI` and `log ZORI`. Then make a plot similar to the one above. \n",
    "\n",
    "Hint: You may want to convert both column `ZORI` and `CPI` to `float64` before taking the natural log. "
   ]
  },
  {
   "cell_type": "code",
   "execution_count": 80,
   "id": "fb155c9e",
   "metadata": {
    "tags": []
   },
   "outputs": [
    {
     "data": {
      "image/png": "[encoded data removed]",
      "text/plain": [
       "<Figure size 640x480 with 2 Axes>"
      ]
     },
     "metadata": {},
     "output_type": "display_data"
    }
   ],
   "source": [
    "combined[\"CPI\"] = combined[\"CPI\"].astype(\"float64\")\n",
    "combined[\"log CPI\"] = np.log(combined[\"CPI\"])\n",
    "combined[\"ZORI\"] = combined[\"ZORI\"].astype(\"float64\")\n",
    "combined[\"log ZORI\"] = np.log(combined[\"ZORI\"])\n",
    "\n",
    "sns.lineplot(data=combined,x=combined.index,y=\"log CPI\", color='tab:blue', label='log CPI')\n",
    "plt.ylim([5.6, 6.1])\n",
    "plt.legend(loc='upper left')\n",
    "\n",
    "ax2 = plt.twinx()\n",
    "sns.lineplot(data=combined,x=combined.index,y=\"log ZORI\", color='tab:orange', ax=ax2, label='log ZORI')\n",
    "ax2.set_ylim([7.2, 7.7])\n",
    "ax2.legend(loc='lower right')\n",
    "plt.title(\"US CPI vs ZORI (Logged)\");"
   ]
  },
  {
   "cell_type": "code",
   "execution_count": 81,
   "id": "b8023512",
   "metadata": {
    "deletable": false,
    "editable": false
   },
   "outputs": [
    {
     "data": {
      "text/html": [
       "<p><strong><pre style='display: inline;'>q3_1</pre></strong> passed! 🌈</p>"
      ],
      "text/plain": [
       "q3_1 results: All test cases passed!"
      ]
     },
     "execution_count": 81,
     "metadata": {},
     "output_type": "execute_result"
    }
   ],
   "source": [
    "grader.check(\"q3_1\")"
   ]
  },
  {
   "cell_type": "markdown",
   "id": "0738e591",
   "metadata": {},
   "source": [
    "**Congrats on making it to the end of the lab!**"
   ]
  },
  {
   "cell_type": "markdown",
   "id": "90803403",
   "metadata": {
    "deletable": false,
    "editable": false
   },
   "source": [
    "## Submission\n",
    "\n",
    "Make sure you have run all cells in your notebook in order before running the cell below, so that all images/graphs appear in the output. The cell below will generate a zip file for you to submit. **Please save before exporting!**"
   ]
  },
  {
   "cell_type": "code",
   "execution_count": 82,
   "id": "6e3cf66f",
   "metadata": {
    "deletable": false,
    "editable": false
   },
   "outputs": [
    {
     "name": "stdout",
     "output_type": "stream",
     "text": [
      "Running your submission against local test cases...\n",
      "\n",
      "\n",
      "Your submission received the following results when run against available test cases:\n",
      "\n",
      "    q1_2 results: All test cases passed!\n",
      "\n",
      "    q1_3 results: All test cases passed!\n",
      "\n",
      "    q2_1 results: All test cases passed!\n",
      "\n",
      "    q3_1 results: All test cases passed!\n"
     ]
    },
    {
     "data": {
      "text/html": [
       "\n",
       "                    <p>\n",
       "                        Your submission has been exported. Click\n",
       "                        <a href=\"lab09_2025_04_10T20_22_19_933123.zip\" download=\"lab09_2025_04_10T20_22_19_933123.zip\" target=\"_blank\">here</a> to download\n",
       "                        the zip file.\n",
       "                    </p>\n",
       "                "
      ],
      "text/plain": [
       "<IPython.core.display.HTML object>"
      ]
     },
     "metadata": {},
     "output_type": "display_data"
    }
   ],
   "source": [
    "# Save your notebook first, then run this cell to export your submission.\n",
    "grader.export(run_tests=True)"
   ]
  },
  {
   "cell_type": "markdown",
   "id": "ff6686d9",
   "metadata": {},
   "source": [
    " "
   ]
  }
 ],
 "metadata": {
  "kernelspec": {
   "display_name": "Python 3 (ipykernel)",
   "language": "python",
   "name": "python3"
  },
  "language_info": {
   "codemirror_mode": {
    "name": "ipython",
    "version": 3
   },
   "file_extension": ".py",
   "mimetype": "text/x-python",
   "name": "python",
   "nbconvert_exporter": "python",
   "pygments_lexer": "ipython3",
   "version": "3.11.12"
  },
  "otter": {
   "OK_FORMAT": true,
   "export_pdf_failure_message": "PDF did not generate, please submit screenshots for question 1.1.",
   "require_no_pdf_confirmation": true,
   "tests": {
    "q1_2": {
     "name": "q1_2",
     "points": null,
     "suites": [
      {
       "cases": [
        {
         "code": ">>> assert zillow.shape == (90, 2)\n",
         "hidden": false,
         "locked": false
        },
        {
         "code": ">>> assert np.all(zillow.columns == ['DATE', 'ZORI'])\n",
         "hidden": false,
         "locked": false
        },
        {
         "code": ">>> assert zillow['DATE'].iloc[0] == pd.to_datetime('2015-03-31', format='%Y-%m-%d')\n",
         "hidden": false,
         "locked": false
        },
        {
         "code": ">>> assert np.isclose(zillow['ZORI'].iloc[0], 1370.3018057532663)\n",
         "hidden": false,
         "locked": false
        }
       ],
       "scored": true,
       "setup": "",
       "teardown": "",
       "type": "doctest"
      }
     ]
    },
    "q1_3": {
     "name": "q1_3",
     "points": null,
     "suites": [
      {
       "cases": [
        {
         "code": ">>> assert train.shape == (81, 1)\n",
         "hidden": false,
         "locked": false
        },
        {
         "code": ">>> assert test.shape == (9, 1)\n",
         "hidden": false,
         "locked": false
        },
        {
         "code": ">>> assert np.isclose(train['CPI'].mean(), 320.21020987654316)\n",
         "hidden": false,
         "locked": false
        },
        {
         "code": ">>> assert np.isclose(test['CPI'].mean(), 366.08233333333334)\n",
         "hidden": false,
         "locked": false
        }
       ],
       "scored": true,
       "setup": "",
       "teardown": "",
       "type": "doctest"
      }
     ]
    },
    "q2_1": {
     "name": "q2_1",
     "points": null,
     "suites": [
      {
       "cases": [
        {
         "code": ">>> assert q2_1 == 1 or q2_1 == 2\n",
         "hidden": false,
         "locked": false
        }
       ],
       "scored": true,
       "setup": "",
       "teardown": "",
       "type": "doctest"
      }
     ]
    },
    "q3_1": {
     "name": "q3_1",
     "points": 2,
     "suites": [
      {
       "cases": [
        {
         "code": ">>> assert combined.shape == (90, 4)\n",
         "hidden": false,
         "locked": false
        },
        {
         "code": ">>> assert np.allclose(combined['log CPI'].iloc[1:4:8], 5.649837)\n",
         "hidden": false,
         "locked": false
        },
        {
         "code": ">>> assert np.allclose(combined['log ZORI'].iloc[1:4:8], 7.231266)\n",
         "hidden": false,
         "locked": false
        }
       ],
       "scored": true,
       "setup": "",
       "teardown": "",
       "type": "doctest"
      }
     ]
    }
   }
  }
 },
 "nbformat": 4,
 "nbformat_minor": 5
}
