{
 "cells": [
  {
   "cell_type": "code",
   "execution_count": 1,
   "id": "6e952840",
   "metadata": {
    "deletable": false,
    "editable": false
   },
   "outputs": [],
   "source": [
    "# Initialize Otter\n",
    "import otter\n",
    "grader = otter.Notebook(\"lab01.ipynb\")"
   ]
  },
  {
   "cell_type": "code",
   "execution_count": 2,
   "id": "08da1ca7",
   "metadata": {
    "editable": true,
    "slideshow": {
     "slide_type": ""
    },
    "tags": []
   },
   "outputs": [],
   "source": [
    "import pandas as pd\n",
    "import numpy as np\n",
    "from datetime import date\n",
    "import matplotlib.pyplot as plt\n",
    "%matplotlib inline"
   ]
  },
  {
   "cell_type": "markdown",
   "id": "f33e08f3-4338-4f2f-a91d-cf253efc5e3f",
   "metadata": {},
   "source": [
    "# Lab 1: Using Pandas"
   ]
  },
  {
   "cell_type": "markdown",
   "id": "155f898f",
   "metadata": {
    "editable": true,
    "slideshow": {
     "slide_type": ""
    },
    "tags": []
   },
   "source": [
    "*This lab is heavily inspired by [Data 198 Module 2](https://github.com/ds-modules/DATA-198-SP21/blob/main/module_2/module2.ipynb) and [Data 88E Lab 9](https://github.com/data-88e/fa22-dev/blob/main/lab/lab09/lab09.ipynb).*\n",
    "\n",
    "The `pandas` module is a powerful library for manipulating and analyzing data. In this lab, you will use what you learned in lecture, as well as the `pandas` documentation, to manipulate and analyze some example datasets."
   ]
  },
  {
   "cell_type": "markdown",
   "id": "b4064518",
   "metadata": {
    "editable": true,
    "slideshow": {
     "slide_type": ""
    },
    "tags": []
   },
   "source": [
    "### Learning Objectives\n",
    "\n",
    "By the end of this lab, you should be able to work with datasets with basic Pandas methods, including\n",
    "- Read a `.csv` file into a `pandas` dataframe\n",
    "- Select certain columns from a dataframe\n",
    "- Filter a dataframe\n",
    "- Use the `pandas` documentation to complete a certain data manipulation task (e.g. a join)"
   ]
  },
  {
   "cell_type": "markdown",
   "id": "dd44882b",
   "metadata": {
    "editable": true,
    "slideshow": {
     "slide_type": ""
    },
    "tags": []
   },
   "source": [
    "----\n",
    "\n",
    "## Price Data over Time"
   ]
  },
  {
   "cell_type": "markdown",
   "id": "80ea8f2d",
   "metadata": {
    "editable": true,
    "slideshow": {
     "slide_type": ""
    },
    "tags": []
   },
   "source": [
    "We begin by importing an example dataset that tells us the price of some good over time."
   ]
  },
  {
   "cell_type": "markdown",
   "id": "c19e5588",
   "metadata": {
    "deletable": false,
    "editable": false
   },
   "source": [
    "**Question 1.1:** Import the data from the `prices.csv` file into a DataFrame named `prices_raw`."
   ]
  },
  {
   "cell_type": "code",
   "execution_count": 3,
   "id": "70606507",
   "metadata": {
    "tags": []
   },
   "outputs": [
    {
     "data": {
      "text/html": [
       "<div>\n",
       "<style scoped>\n",
       "    .dataframe tbody tr th:only-of-type {\n",
       "        vertical-align: middle;\n",
       "    }\n",
       "\n",
       "    .dataframe tbody tr th {\n",
       "        vertical-align: top;\n",
       "    }\n",
       "\n",
       "    .dataframe thead th {\n",
       "        text-align: right;\n",
       "    }\n",
       "</style>\n",
       "<table border=\"1\" class=\"dataframe\">\n",
       "  <thead>\n",
       "    <tr style=\"text-align: right;\">\n",
       "      <th></th>\n",
       "      <th>year</th>\n",
       "      <th>month</th>\n",
       "      <th>price</th>\n",
       "    </tr>\n",
       "  </thead>\n",
       "  <tbody>\n",
       "    <tr>\n",
       "      <th>0</th>\n",
       "      <td>2003.0</td>\n",
       "      <td>1.0</td>\n",
       "      <td>100.52</td>\n",
       "    </tr>\n",
       "    <tr>\n",
       "      <th>1</th>\n",
       "      <td>2003.0</td>\n",
       "      <td>2.0</td>\n",
       "      <td>100.71</td>\n",
       "    </tr>\n",
       "    <tr>\n",
       "      <th>2</th>\n",
       "      <td>2003.0</td>\n",
       "      <td>3.0</td>\n",
       "      <td>100.95</td>\n",
       "    </tr>\n",
       "    <tr>\n",
       "      <th>3</th>\n",
       "      <td>2003.0</td>\n",
       "      <td>4.0</td>\n",
       "      <td>101.29</td>\n",
       "    </tr>\n",
       "    <tr>\n",
       "      <th>4</th>\n",
       "      <td>2003.0</td>\n",
       "      <td>5.0</td>\n",
       "      <td>101.38</td>\n",
       "    </tr>\n",
       "    <tr>\n",
       "      <th>...</th>\n",
       "      <td>...</td>\n",
       "      <td>...</td>\n",
       "      <td>...</td>\n",
       "    </tr>\n",
       "    <tr>\n",
       "      <th>103</th>\n",
       "      <td>2011.0</td>\n",
       "      <td>8.0</td>\n",
       "      <td>119.96</td>\n",
       "    </tr>\n",
       "    <tr>\n",
       "      <th>104</th>\n",
       "      <td>2011.0</td>\n",
       "      <td>9.0</td>\n",
       "      <td>120.06</td>\n",
       "    </tr>\n",
       "    <tr>\n",
       "      <th>105</th>\n",
       "      <td>2011.0</td>\n",
       "      <td>10.0</td>\n",
       "      <td>120.27</td>\n",
       "    </tr>\n",
       "    <tr>\n",
       "      <th>106</th>\n",
       "      <td>2011.0</td>\n",
       "      <td>11.0</td>\n",
       "      <td>120.39</td>\n",
       "    </tr>\n",
       "    <tr>\n",
       "      <th>107</th>\n",
       "      <td>2011.0</td>\n",
       "      <td>12.0</td>\n",
       "      <td>120.53</td>\n",
       "    </tr>\n",
       "  </tbody>\n",
       "</table>\n",
       "<p>108 rows × 3 columns</p>\n",
       "</div>"
      ],
      "text/plain": [
       "       year  month   price\n",
       "0    2003.0    1.0  100.52\n",
       "1    2003.0    2.0  100.71\n",
       "2    2003.0    3.0  100.95\n",
       "3    2003.0    4.0  101.29\n",
       "4    2003.0    5.0  101.38\n",
       "..      ...    ...     ...\n",
       "103  2011.0    8.0  119.96\n",
       "104  2011.0    9.0  120.06\n",
       "105  2011.0   10.0  120.27\n",
       "106  2011.0   11.0  120.39\n",
       "107  2011.0   12.0  120.53\n",
       "\n",
       "[108 rows x 3 columns]"
      ]
     },
     "execution_count": 3,
     "metadata": {},
     "output_type": "execute_result"
    }
   ],
   "source": [
    "prices_raw = pd.read_csv('prices.csv')\n",
    "prices_raw"
   ]
  },
  {
   "cell_type": "code",
   "execution_count": 4,
   "id": "1d12fd4f",
   "metadata": {
    "deletable": false,
    "editable": false
   },
   "outputs": [
    {
     "data": {
      "text/html": [
       "<p><strong><pre style='display: inline;'>q1_1</pre></strong> passed! 🚀</p>"
      ],
      "text/plain": [
       "q1_1 results: All test cases passed!"
      ]
     },
     "execution_count": 4,
     "metadata": {},
     "output_type": "execute_result"
    }
   ],
   "source": [
    "grader.check(\"q1_1\")"
   ]
  },
  {
   "cell_type": "markdown",
   "id": "88d63f02",
   "metadata": {},
   "source": [
    "First, we want to add a `date` row to this table that contains the date of each entry as a [Python date object](https://docs.python.org/3/library/datetime.html#datetime.date). Using Python date objects allows us to manipulate dates and times conveniently (for example, they make sorting by dates very easy). Below, we've defined a function that, given a row, tells us the date of that row based on its `year` and `month`:"
   ]
  },
  {
   "cell_type": "code",
   "execution_count": 5,
   "id": "60e44f70",
   "metadata": {},
   "outputs": [],
   "source": [
    "def date_of_row(row):\n",
    "    return date(int(row['year']), int(row['month']), 1)"
   ]
  },
  {
   "cell_type": "markdown",
   "id": "00079d17",
   "metadata": {},
   "source": [
    "As an example, let's see what this function returns when applied to the first row:"
   ]
  },
  {
   "cell_type": "code",
   "execution_count": 6,
   "id": "0860ae9b",
   "metadata": {},
   "outputs": [
    {
     "data": {
      "text/plain": [
       "datetime.date(2003, 1, 1)"
      ]
     },
     "execution_count": 6,
     "metadata": {},
     "output_type": "execute_result"
    }
   ],
   "source": [
    "date_of_row(prices_raw.iloc[0])"
   ]
  },
  {
   "cell_type": "markdown",
   "id": "23a3559c",
   "metadata": {},
   "source": [
    "This looks like what we're looking for. So, how do we apply it to every row in the table? \n",
    "\n",
    "Let's look into the `apply` function. Read the [documentation](https://pandas.pydata.org/docs/reference/api/pandas.DataFrame.apply.html)."
   ]
  },
  {
   "cell_type": "markdown",
   "id": "01ef1dfe",
   "metadata": {
    "deletable": false,
    "editable": false
   },
   "source": [
    "<!-- BEGIN QUESTION -->\n",
    "\n",
    "**Question 1.2:** What is the `func` argument in the documentation? What should we pass for the `func` argument in this case?"
   ]
  },
  {
   "cell_type": "markdown",
   "id": "2925c695",
   "metadata": {},
   "source": [
    "the func argument in the documentation stands for function which applies said function to each column or row. What we should pass for the func argument in this case is the function \"date_of_row\""
   ]
  },
  {
   "cell_type": "markdown",
   "id": "d382caa6",
   "metadata": {
    "deletable": false,
    "editable": false
   },
   "source": [
    "<!-- END QUESTION -->\n",
    "\n",
    "<!-- BEGIN QUESTION -->\n",
    "\n",
    "**Question 1.3:** What is the `axis` argument? What should we pass for the `axis` argument in this case?"
   ]
  },
  {
   "cell_type": "markdown",
   "id": "76aef75a",
   "metadata": {},
   "source": [
    "The axis argument represents indexes or columns. 0 for index and 1 for columns. you can also type them in strings respectively for example, 'index', or 'columns'. Based on what you typed it will apply the function to either each index or each column. What we should pass for the axis argument in this case is 1. This is because 'date_of_row' takes in rows as an argument and not columns."
   ]
  },
  {
   "cell_type": "markdown",
   "id": "fc1efcb1",
   "metadata": {
    "deletable": false,
    "editable": false
   },
   "source": [
    "<!-- END QUESTION -->\n",
    "\n",
    "**Question 1.4:** Now, construct a `date_column` using the `apply` function. "
   ]
  },
  {
   "cell_type": "code",
   "execution_count": 7,
   "id": "da357f1c",
   "metadata": {
    "tags": []
   },
   "outputs": [
    {
     "data": {
      "text/plain": [
       "0      2003-01-01\n",
       "1      2003-02-01\n",
       "2      2003-03-01\n",
       "3      2003-04-01\n",
       "4      2003-05-01\n",
       "          ...    \n",
       "103    2011-08-01\n",
       "104    2011-09-01\n",
       "105    2011-10-01\n",
       "106    2011-11-01\n",
       "107    2011-12-01\n",
       "Length: 108, dtype: object"
      ]
     },
     "execution_count": 7,
     "metadata": {},
     "output_type": "execute_result"
    }
   ],
   "source": [
    "date_column = prices_raw.apply(date_of_row, 1)\n",
    "date_column"
   ]
  },
  {
   "cell_type": "code",
   "execution_count": 8,
   "id": "01625dc5",
   "metadata": {
    "deletable": false,
    "editable": false
   },
   "outputs": [
    {
     "data": {
      "text/html": [
       "<p><strong><pre style='display: inline;'>q1_4</pre></strong> passed! 🙌</p>"
      ],
      "text/plain": [
       "q1_4 results: All test cases passed!"
      ]
     },
     "execution_count": 8,
     "metadata": {},
     "output_type": "execute_result"
    }
   ],
   "source": [
    "grader.check(\"q1_4\")"
   ]
  },
  {
   "cell_type": "markdown",
   "id": "32137e0f",
   "metadata": {
    "deletable": false,
    "editable": false
   },
   "source": [
    "**Question 1.5:** Now we want to add the dates as a new column to `prices_raw`. Construct `prices_raw_with_date`, a copy of the DataFrame `prices_raw`, as well as a `date` column in our new DataFrame with the values from `date_column`."
   ]
  },
  {
   "cell_type": "code",
   "execution_count": 9,
   "id": "8fad1820",
   "metadata": {
    "tags": []
   },
   "outputs": [
    {
     "data": {
      "text/html": [
       "<div>\n",
       "<style scoped>\n",
       "    .dataframe tbody tr th:only-of-type {\n",
       "        vertical-align: middle;\n",
       "    }\n",
       "\n",
       "    .dataframe tbody tr th {\n",
       "        vertical-align: top;\n",
       "    }\n",
       "\n",
       "    .dataframe thead th {\n",
       "        text-align: right;\n",
       "    }\n",
       "</style>\n",
       "<table border=\"1\" class=\"dataframe\">\n",
       "  <thead>\n",
       "    <tr style=\"text-align: right;\">\n",
       "      <th></th>\n",
       "      <th>year</th>\n",
       "      <th>month</th>\n",
       "      <th>price</th>\n",
       "      <th>date</th>\n",
       "    </tr>\n",
       "  </thead>\n",
       "  <tbody>\n",
       "    <tr>\n",
       "      <th>0</th>\n",
       "      <td>2003.0</td>\n",
       "      <td>1.0</td>\n",
       "      <td>100.52</td>\n",
       "      <td>2003-01-01</td>\n",
       "    </tr>\n",
       "    <tr>\n",
       "      <th>1</th>\n",
       "      <td>2003.0</td>\n",
       "      <td>2.0</td>\n",
       "      <td>100.71</td>\n",
       "      <td>2003-02-01</td>\n",
       "    </tr>\n",
       "    <tr>\n",
       "      <th>2</th>\n",
       "      <td>2003.0</td>\n",
       "      <td>3.0</td>\n",
       "      <td>100.95</td>\n",
       "      <td>2003-03-01</td>\n",
       "    </tr>\n",
       "    <tr>\n",
       "      <th>3</th>\n",
       "      <td>2003.0</td>\n",
       "      <td>4.0</td>\n",
       "      <td>101.29</td>\n",
       "      <td>2003-04-01</td>\n",
       "    </tr>\n",
       "    <tr>\n",
       "      <th>4</th>\n",
       "      <td>2003.0</td>\n",
       "      <td>5.0</td>\n",
       "      <td>101.38</td>\n",
       "      <td>2003-05-01</td>\n",
       "    </tr>\n",
       "    <tr>\n",
       "      <th>...</th>\n",
       "      <td>...</td>\n",
       "      <td>...</td>\n",
       "      <td>...</td>\n",
       "      <td>...</td>\n",
       "    </tr>\n",
       "    <tr>\n",
       "      <th>103</th>\n",
       "      <td>2011.0</td>\n",
       "      <td>8.0</td>\n",
       "      <td>119.96</td>\n",
       "      <td>2011-08-01</td>\n",
       "    </tr>\n",
       "    <tr>\n",
       "      <th>104</th>\n",
       "      <td>2011.0</td>\n",
       "      <td>9.0</td>\n",
       "      <td>120.06</td>\n",
       "      <td>2011-09-01</td>\n",
       "    </tr>\n",
       "    <tr>\n",
       "      <th>105</th>\n",
       "      <td>2011.0</td>\n",
       "      <td>10.0</td>\n",
       "      <td>120.27</td>\n",
       "      <td>2011-10-01</td>\n",
       "    </tr>\n",
       "    <tr>\n",
       "      <th>106</th>\n",
       "      <td>2011.0</td>\n",
       "      <td>11.0</td>\n",
       "      <td>120.39</td>\n",
       "      <td>2011-11-01</td>\n",
       "    </tr>\n",
       "    <tr>\n",
       "      <th>107</th>\n",
       "      <td>2011.0</td>\n",
       "      <td>12.0</td>\n",
       "      <td>120.53</td>\n",
       "      <td>2011-12-01</td>\n",
       "    </tr>\n",
       "  </tbody>\n",
       "</table>\n",
       "<p>108 rows × 4 columns</p>\n",
       "</div>"
      ],
      "text/plain": [
       "       year  month   price        date\n",
       "0    2003.0    1.0  100.52  2003-01-01\n",
       "1    2003.0    2.0  100.71  2003-02-01\n",
       "2    2003.0    3.0  100.95  2003-03-01\n",
       "3    2003.0    4.0  101.29  2003-04-01\n",
       "4    2003.0    5.0  101.38  2003-05-01\n",
       "..      ...    ...     ...         ...\n",
       "103  2011.0    8.0  119.96  2011-08-01\n",
       "104  2011.0    9.0  120.06  2011-09-01\n",
       "105  2011.0   10.0  120.27  2011-10-01\n",
       "106  2011.0   11.0  120.39  2011-11-01\n",
       "107  2011.0   12.0  120.53  2011-12-01\n",
       "\n",
       "[108 rows x 4 columns]"
      ]
     },
     "execution_count": 9,
     "metadata": {},
     "output_type": "execute_result"
    }
   ],
   "source": [
    "prices_raw_with_date = prices_raw.copy() # make a copy of prices_raw\n",
    "prices_raw_with_date['date'] = date_column\n",
    "prices_raw_with_date"
   ]
  },
  {
   "cell_type": "code",
   "execution_count": 10,
   "id": "42efb969",
   "metadata": {
    "deletable": false,
    "editable": false
   },
   "outputs": [
    {
     "data": {
      "text/html": [
       "<p><strong><pre style='display: inline;'>q1_5</pre></strong> passed! 🎉</p>"
      ],
      "text/plain": [
       "q1_5 results: All test cases passed!"
      ]
     },
     "execution_count": 10,
     "metadata": {},
     "output_type": "execute_result"
    }
   ],
   "source": [
    "grader.check(\"q1_5\")"
   ]
  },
  {
   "cell_type": "markdown",
   "id": "0b0fc765",
   "metadata": {
    "deletable": false,
    "editable": false
   },
   "source": [
    "**Question 1.6:** Create a new table, `prices`, that contains only the `date` and `price` columns from the `prices_raw_with_date` table."
   ]
  },
  {
   "cell_type": "code",
   "execution_count": 11,
   "id": "798dee49",
   "metadata": {
    "tags": []
   },
   "outputs": [
    {
     "data": {
      "text/html": [
       "<div>\n",
       "<style scoped>\n",
       "    .dataframe tbody tr th:only-of-type {\n",
       "        vertical-align: middle;\n",
       "    }\n",
       "\n",
       "    .dataframe tbody tr th {\n",
       "        vertical-align: top;\n",
       "    }\n",
       "\n",
       "    .dataframe thead th {\n",
       "        text-align: right;\n",
       "    }\n",
       "</style>\n",
       "<table border=\"1\" class=\"dataframe\">\n",
       "  <thead>\n",
       "    <tr style=\"text-align: right;\">\n",
       "      <th></th>\n",
       "      <th>date</th>\n",
       "      <th>price</th>\n",
       "    </tr>\n",
       "  </thead>\n",
       "  <tbody>\n",
       "    <tr>\n",
       "      <th>0</th>\n",
       "      <td>2003-01-01</td>\n",
       "      <td>100.52</td>\n",
       "    </tr>\n",
       "    <tr>\n",
       "      <th>1</th>\n",
       "      <td>2003-02-01</td>\n",
       "      <td>100.71</td>\n",
       "    </tr>\n",
       "    <tr>\n",
       "      <th>2</th>\n",
       "      <td>2003-03-01</td>\n",
       "      <td>100.95</td>\n",
       "    </tr>\n",
       "    <tr>\n",
       "      <th>3</th>\n",
       "      <td>2003-04-01</td>\n",
       "      <td>101.29</td>\n",
       "    </tr>\n",
       "    <tr>\n",
       "      <th>4</th>\n",
       "      <td>2003-05-01</td>\n",
       "      <td>101.38</td>\n",
       "    </tr>\n",
       "    <tr>\n",
       "      <th>...</th>\n",
       "      <td>...</td>\n",
       "      <td>...</td>\n",
       "    </tr>\n",
       "    <tr>\n",
       "      <th>103</th>\n",
       "      <td>2011-08-01</td>\n",
       "      <td>119.96</td>\n",
       "    </tr>\n",
       "    <tr>\n",
       "      <th>104</th>\n",
       "      <td>2011-09-01</td>\n",
       "      <td>120.06</td>\n",
       "    </tr>\n",
       "    <tr>\n",
       "      <th>105</th>\n",
       "      <td>2011-10-01</td>\n",
       "      <td>120.27</td>\n",
       "    </tr>\n",
       "    <tr>\n",
       "      <th>106</th>\n",
       "      <td>2011-11-01</td>\n",
       "      <td>120.39</td>\n",
       "    </tr>\n",
       "    <tr>\n",
       "      <th>107</th>\n",
       "      <td>2011-12-01</td>\n",
       "      <td>120.53</td>\n",
       "    </tr>\n",
       "  </tbody>\n",
       "</table>\n",
       "<p>108 rows × 2 columns</p>\n",
       "</div>"
      ],
      "text/plain": [
       "           date   price\n",
       "0    2003-01-01  100.52\n",
       "1    2003-02-01  100.71\n",
       "2    2003-03-01  100.95\n",
       "3    2003-04-01  101.29\n",
       "4    2003-05-01  101.38\n",
       "..          ...     ...\n",
       "103  2011-08-01  119.96\n",
       "104  2011-09-01  120.06\n",
       "105  2011-10-01  120.27\n",
       "106  2011-11-01  120.39\n",
       "107  2011-12-01  120.53\n",
       "\n",
       "[108 rows x 2 columns]"
      ]
     },
     "execution_count": 11,
     "metadata": {},
     "output_type": "execute_result"
    }
   ],
   "source": [
    "prices = prices_raw_with_date[['date','price']]\n",
    "prices"
   ]
  },
  {
   "cell_type": "code",
   "execution_count": 12,
   "id": "26e67325",
   "metadata": {
    "deletable": false,
    "editable": false
   },
   "outputs": [
    {
     "data": {
      "text/html": [
       "<p><strong><pre style='display: inline;'>q1_6</pre></strong> passed! 🙌</p>"
      ],
      "text/plain": [
       "q1_6 results: All test cases passed!"
      ]
     },
     "execution_count": 12,
     "metadata": {},
     "output_type": "execute_result"
    }
   ],
   "source": [
    "grader.check(\"q1_6\")"
   ]
  },
  {
   "cell_type": "markdown",
   "id": "8decd6d2",
   "metadata": {
    "deletable": false,
    "editable": false
   },
   "source": [
    "**Question 1.7:** Now, we can filter the dataframe like we did in lecture. For example, we could get rows where the price is strictly between 105 and 115 (exclusive). Put all of these rows in a new dataframe, `filtered_prices`."
   ]
  },
  {
   "cell_type": "code",
   "execution_count": 13,
   "id": "277eeed3",
   "metadata": {
    "tags": []
   },
   "outputs": [
    {
     "data": {
      "text/html": [
       "<div>\n",
       "<style scoped>\n",
       "    .dataframe tbody tr th:only-of-type {\n",
       "        vertical-align: middle;\n",
       "    }\n",
       "\n",
       "    .dataframe tbody tr th {\n",
       "        vertical-align: top;\n",
       "    }\n",
       "\n",
       "    .dataframe thead th {\n",
       "        text-align: right;\n",
       "    }\n",
       "</style>\n",
       "<table border=\"1\" class=\"dataframe\">\n",
       "  <thead>\n",
       "    <tr style=\"text-align: right;\">\n",
       "      <th></th>\n",
       "      <th>date</th>\n",
       "      <th>price</th>\n",
       "    </tr>\n",
       "  </thead>\n",
       "  <tbody>\n",
       "    <tr>\n",
       "      <th>19</th>\n",
       "      <td>2004-08-01</td>\n",
       "      <td>105.04</td>\n",
       "    </tr>\n",
       "    <tr>\n",
       "      <th>20</th>\n",
       "      <td>2004-09-01</td>\n",
       "      <td>105.20</td>\n",
       "    </tr>\n",
       "    <tr>\n",
       "      <th>21</th>\n",
       "      <td>2004-10-01</td>\n",
       "      <td>105.63</td>\n",
       "    </tr>\n",
       "    <tr>\n",
       "      <th>22</th>\n",
       "      <td>2004-11-01</td>\n",
       "      <td>105.81</td>\n",
       "    </tr>\n",
       "    <tr>\n",
       "      <th>23</th>\n",
       "      <td>2004-12-01</td>\n",
       "      <td>105.93</td>\n",
       "    </tr>\n",
       "  </tbody>\n",
       "</table>\n",
       "</div>"
      ],
      "text/plain": [
       "          date   price\n",
       "19  2004-08-01  105.04\n",
       "20  2004-09-01  105.20\n",
       "21  2004-10-01  105.63\n",
       "22  2004-11-01  105.81\n",
       "23  2004-12-01  105.93"
      ]
     },
     "execution_count": 13,
     "metadata": {},
     "output_type": "execute_result"
    }
   ],
   "source": [
    "filtered_prices = prices[(prices['price'] > 105) & (prices['price'] < 115)]\n",
    "filtered_prices.head()"
   ]
  },
  {
   "cell_type": "code",
   "execution_count": 14,
   "id": "14108897",
   "metadata": {
    "deletable": false,
    "editable": false
   },
   "outputs": [
    {
     "data": {
      "text/html": [
       "<p><strong><pre style='display: inline;'>q1_7</pre></strong> passed! ✨</p>"
      ],
      "text/plain": [
       "q1_7 results: All test cases passed!"
      ]
     },
     "execution_count": 14,
     "metadata": {},
     "output_type": "execute_result"
    }
   ],
   "source": [
    "grader.check(\"q1_7\")"
   ]
  },
  {
   "cell_type": "markdown",
   "id": "c4bca9bd-f0d9-4880-9039-053daf0efce0",
   "metadata": {
    "deletable": false,
    "editable": false
   },
   "source": [
    "**Question 1.8:** How many rows and columns are in `filtered_prices_subset`? Assign `dims` to a tuple (ex. (1, 3) is a tuple of length 2) containing the dimensions of `filtered_prices_subset`."
   ]
  },
  {
   "cell_type": "code",
   "execution_count": 15,
   "id": "ee4f7e05-cdc3-4123-9bae-23db00be2be0",
   "metadata": {
    "tags": []
   },
   "outputs": [
    {
     "data": {
      "text/plain": [
       "(43, 2)"
      ]
     },
     "execution_count": 15,
     "metadata": {},
     "output_type": "execute_result"
    }
   ],
   "source": [
    "dims = filtered_prices.shape\n",
    "dims"
   ]
  },
  {
   "cell_type": "code",
   "execution_count": 16,
   "id": "de2876e5",
   "metadata": {
    "deletable": false,
    "editable": false
   },
   "outputs": [
    {
     "data": {
      "text/html": [
       "<p><strong><pre style='display: inline;'>q1_8</pre></strong> passed! 🎉</p>"
      ],
      "text/plain": [
       "q1_8 results: All test cases passed!"
      ]
     },
     "execution_count": 16,
     "metadata": {},
     "output_type": "execute_result"
    }
   ],
   "source": [
    "grader.check(\"q1_8\")"
   ]
  },
  {
   "cell_type": "markdown",
   "id": "6b624577",
   "metadata": {
    "deletable": false,
    "editable": false
   },
   "source": [
    "**Question 1.9:** Make a new dataframe that contains just the first 5 rows of `filtered_prices` and assign it to `filtered_prices_subset`. \n",
    "\n",
    "Hint: Should you use `.loc` or `.iloc` here?"
   ]
  },
  {
   "cell_type": "code",
   "execution_count": 17,
   "id": "7c5f51ba",
   "metadata": {
    "tags": []
   },
   "outputs": [
    {
     "data": {
      "text/html": [
       "<div>\n",
       "<style scoped>\n",
       "    .dataframe tbody tr th:only-of-type {\n",
       "        vertical-align: middle;\n",
       "    }\n",
       "\n",
       "    .dataframe tbody tr th {\n",
       "        vertical-align: top;\n",
       "    }\n",
       "\n",
       "    .dataframe thead th {\n",
       "        text-align: right;\n",
       "    }\n",
       "</style>\n",
       "<table border=\"1\" class=\"dataframe\">\n",
       "  <thead>\n",
       "    <tr style=\"text-align: right;\">\n",
       "      <th></th>\n",
       "      <th>date</th>\n",
       "      <th>price</th>\n",
       "    </tr>\n",
       "  </thead>\n",
       "  <tbody>\n",
       "    <tr>\n",
       "      <th>19</th>\n",
       "      <td>2004-08-01</td>\n",
       "      <td>105.04</td>\n",
       "    </tr>\n",
       "    <tr>\n",
       "      <th>20</th>\n",
       "      <td>2004-09-01</td>\n",
       "      <td>105.20</td>\n",
       "    </tr>\n",
       "    <tr>\n",
       "      <th>21</th>\n",
       "      <td>2004-10-01</td>\n",
       "      <td>105.63</td>\n",
       "    </tr>\n",
       "    <tr>\n",
       "      <th>22</th>\n",
       "      <td>2004-11-01</td>\n",
       "      <td>105.81</td>\n",
       "    </tr>\n",
       "    <tr>\n",
       "      <th>23</th>\n",
       "      <td>2004-12-01</td>\n",
       "      <td>105.93</td>\n",
       "    </tr>\n",
       "  </tbody>\n",
       "</table>\n",
       "</div>"
      ],
      "text/plain": [
       "          date   price\n",
       "19  2004-08-01  105.04\n",
       "20  2004-09-01  105.20\n",
       "21  2004-10-01  105.63\n",
       "22  2004-11-01  105.81\n",
       "23  2004-12-01  105.93"
      ]
     },
     "execution_count": 17,
     "metadata": {},
     "output_type": "execute_result"
    }
   ],
   "source": [
    "filtered_prices_subset = filtered_prices.iloc[:5]\n",
    "filtered_prices_subset"
   ]
  },
  {
   "cell_type": "code",
   "execution_count": 18,
   "id": "d8006842",
   "metadata": {
    "deletable": false,
    "editable": false
   },
   "outputs": [
    {
     "data": {
      "text/html": [
       "<p><strong><pre style='display: inline;'>q1_9</pre></strong> passed! 🚀</p>"
      ],
      "text/plain": [
       "q1_9 results: All test cases passed!"
      ]
     },
     "execution_count": 18,
     "metadata": {},
     "output_type": "execute_result"
    }
   ],
   "source": [
    "grader.check(\"q1_9\")"
   ]
  },
  {
   "cell_type": "markdown",
   "id": "4c4006fd",
   "metadata": {},
   "source": [
    "Now, let's visualize how the price changes over time. We're using [Matplotlib](https://matplotlib.org/) to produce this plot; you will learn more about this later in the course."
   ]
  },
  {
   "cell_type": "code",
   "execution_count": 19,
   "id": "647cd797",
   "metadata": {},
   "outputs": [
    {
     "data": {
      "image/png": "[encoded data removed]",
      "text/plain": [
       "<Figure size 640x480 with 1 Axes>"
      ]
     },
     "metadata": {},
     "output_type": "display_data"
    }
   ],
   "source": [
    "plt.plot(filtered_prices['price'])\n",
    "plt.xlabel(\"Time\")\n",
    "plt.ylabel(\"Prices\")\n",
    "plt.title(\"Prices changes over time\");"
   ]
  },
  {
   "cell_type": "markdown",
   "id": "0ba0fd4b",
   "metadata": {
    "deletable": false,
    "editable": false
   },
   "source": [
    "**Question 1.10:** The x-axis doesn't tell us much here. By reindexing the dataframe to the `date` column, we can make the x-axis more clear. Use `.set_index` to change the index of `filtered_prices` to be the `date` column and then replot the graph.\n",
    "\n",
    "P.S. We are only able to get a meaningful x-axis because the `date` column only contains Python datetime objects!\n",
    "\n",
    "P.S. There are other ways to plot the graph with `date` as x, but here we specifically are asking to reindex. "
   ]
  },
  {
   "cell_type": "code",
   "execution_count": 20,
   "id": "d2faae88",
   "metadata": {
    "tags": []
   },
   "outputs": [
    {
     "data": {
      "image/png": "[encoded data removed]",
      "text/plain": [
       "<Figure size 640x480 with 1 Axes>"
      ]
     },
     "metadata": {},
     "output_type": "display_data"
    }
   ],
   "source": [
    "reindexed_filtered_prices = filtered_prices.set_index('date')\n",
    "plt.plot(reindexed_filtered_prices['price']); # This line replots the graph"
   ]
  },
  {
   "cell_type": "code",
   "execution_count": 21,
   "id": "90ca0c93",
   "metadata": {
    "deletable": false,
    "editable": false
   },
   "outputs": [
    {
     "data": {
      "text/html": [
       "<p><strong><pre style='display: inline;'>q1_10</pre></strong> passed! 🌈</p>"
      ],
      "text/plain": [
       "q1_10 results: All test cases passed!"
      ]
     },
     "execution_count": 21,
     "metadata": {},
     "output_type": "execute_result"
    }
   ],
   "source": [
    "grader.check(\"q1_10\")"
   ]
  },
  {
   "cell_type": "markdown",
   "id": "bc37f0a6-ccaa-4f4b-b0a8-04991ab16843",
   "metadata": {
    "deletable": false,
    "editable": false
   },
   "source": [
    "While looking at raw prices can be helpful, it is often more informative to adjust for inflation and consider the real price of the good over time. Let's say (hypothetically of course) you know that for each month in `reindexed_filtered_prices`, inflation grew by roughly 0.1%. \n",
    "\n",
    "**Question 1.11:** Create a dataframe `real_cost` which has the date as the index and 3 columns. The `price` column should be the same as in `reindexed_filtered_prices`, `deflator` should represent the [GDP deflator](https://www.khanacademy.org/economics-finance-domain/ap-macroeconomics/economic-iondicators-and-the-business-cycle/real-vs-nominal-gdp/v/gdp-deflator) (with the deflator for the first month being 100, the deflator for the second month being 100.1, etc.), and `real price` should be the inflation-adjusted price. You can see what the first 5 rows of the resulting DataFrame should look like by running the cell below.\n",
    "\n",
    "*Hint:* Consider using a list comprehension combined with a NumPy method for the `inflation` column.\n"
   ]
  },
  {
   "cell_type": "code",
   "execution_count": 22,
   "id": "79909edd-4ca0-4af1-a498-444690fef591",
   "metadata": {
    "deletable": false,
    "editable": false
   },
   "outputs": [
    {
     "data": {
      "text/html": [
       "<div>\n",
       "<style scoped>\n",
       "    .dataframe tbody tr th:only-of-type {\n",
       "        vertical-align: middle;\n",
       "    }\n",
       "\n",
       "    .dataframe tbody tr th {\n",
       "        vertical-align: top;\n",
       "    }\n",
       "\n",
       "    .dataframe thead th {\n",
       "        text-align: right;\n",
       "    }\n",
       "</style>\n",
       "<table border=\"1\" class=\"dataframe\">\n",
       "  <thead>\n",
       "    <tr style=\"text-align: right;\">\n",
       "      <th></th>\n",
       "      <th>price</th>\n",
       "      <th>deflator</th>\n",
       "      <th>real price</th>\n",
       "    </tr>\n",
       "    <tr>\n",
       "      <th>date</th>\n",
       "      <th></th>\n",
       "      <th></th>\n",
       "      <th></th>\n",
       "    </tr>\n",
       "  </thead>\n",
       "  <tbody>\n",
       "    <tr>\n",
       "      <th>2004-08-01</th>\n",
       "      <td>105.04</td>\n",
       "      <td>100.0000</td>\n",
       "      <td>105.0400</td>\n",
       "    </tr>\n",
       "    <tr>\n",
       "      <th>2004-09-01</th>\n",
       "      <td>105.20</td>\n",
       "      <td>100.1000</td>\n",
       "      <td>105.0949</td>\n",
       "    </tr>\n",
       "    <tr>\n",
       "      <th>2004-10-01</th>\n",
       "      <td>105.63</td>\n",
       "      <td>100.2001</td>\n",
       "      <td>105.4191</td>\n",
       "    </tr>\n",
       "    <tr>\n",
       "      <th>2004-11-01</th>\n",
       "      <td>105.81</td>\n",
       "      <td>100.3003</td>\n",
       "      <td>105.4932</td>\n",
       "    </tr>\n",
       "    <tr>\n",
       "      <th>2004-12-01</th>\n",
       "      <td>105.93</td>\n",
       "      <td>100.4006</td>\n",
       "      <td>105.5073</td>\n",
       "    </tr>\n",
       "  </tbody>\n",
       "</table>\n",
       "</div>"
      ],
      "text/plain": [
       "             price  deflator  real price\n",
       "date                                    \n",
       "2004-08-01  105.04  100.0000    105.0400\n",
       "2004-09-01  105.20  100.1000    105.0949\n",
       "2004-10-01  105.63  100.2001    105.4191\n",
       "2004-11-01  105.81  100.3003    105.4932\n",
       "2004-12-01  105.93  100.4006    105.5073"
      ]
     },
     "execution_count": 22,
     "metadata": {},
     "output_type": "execute_result"
    }
   ],
   "source": [
    "first_5_rows = {\n",
    "    'date': ['2004-08-01', '2004-09-01', '2004-10-01', '2004-11-01', '2004-12-01'],\n",
    "    'price': [105.04, 105.20, 105.63, 105.81, 105.93],\n",
    "    'deflator': [100.0000, 100.1000, 100.2001, 100.3003, 100.4006],\n",
    "    'real price': [105.0400, 105.0949, 105.4191, 105.4932, 105.5073]\n",
    "}\n",
    "\n",
    "pd.DataFrame(first_5_rows).set_index('date')"
   ]
  },
  {
   "cell_type": "code",
   "execution_count": 23,
   "id": "09374acc-cf32-4d2f-8b5e-9ff57861aa32",
   "metadata": {
    "tags": []
   },
   "outputs": [
    {
     "data": {
      "text/html": [
       "<div>\n",
       "<style scoped>\n",
       "    .dataframe tbody tr th:only-of-type {\n",
       "        vertical-align: middle;\n",
       "    }\n",
       "\n",
       "    .dataframe tbody tr th {\n",
       "        vertical-align: top;\n",
       "    }\n",
       "\n",
       "    .dataframe thead th {\n",
       "        text-align: right;\n",
       "    }\n",
       "</style>\n",
       "<table border=\"1\" class=\"dataframe\">\n",
       "  <thead>\n",
       "    <tr style=\"text-align: right;\">\n",
       "      <th></th>\n",
       "      <th>price</th>\n",
       "      <th>deflator</th>\n",
       "      <th>real price</th>\n",
       "    </tr>\n",
       "    <tr>\n",
       "      <th>date</th>\n",
       "      <th></th>\n",
       "      <th></th>\n",
       "      <th></th>\n",
       "    </tr>\n",
       "  </thead>\n",
       "  <tbody>\n",
       "    <tr>\n",
       "      <th>2004-08-01</th>\n",
       "      <td>105.04</td>\n",
       "      <td>100.000000</td>\n",
       "      <td>105.040000</td>\n",
       "    </tr>\n",
       "    <tr>\n",
       "      <th>2004-09-01</th>\n",
       "      <td>105.20</td>\n",
       "      <td>100.100000</td>\n",
       "      <td>105.094905</td>\n",
       "    </tr>\n",
       "    <tr>\n",
       "      <th>2004-10-01</th>\n",
       "      <td>105.63</td>\n",
       "      <td>100.200100</td>\n",
       "      <td>105.419056</td>\n",
       "    </tr>\n",
       "    <tr>\n",
       "      <th>2004-11-01</th>\n",
       "      <td>105.81</td>\n",
       "      <td>100.300300</td>\n",
       "      <td>105.493204</td>\n",
       "    </tr>\n",
       "    <tr>\n",
       "      <th>2004-12-01</th>\n",
       "      <td>105.93</td>\n",
       "      <td>100.400600</td>\n",
       "      <td>105.507337</td>\n",
       "    </tr>\n",
       "    <tr>\n",
       "      <th>2005-01-01</th>\n",
       "      <td>106.08</td>\n",
       "      <td>100.501001</td>\n",
       "      <td>105.551187</td>\n",
       "    </tr>\n",
       "    <tr>\n",
       "      <th>2005-02-01</th>\n",
       "      <td>106.43</td>\n",
       "      <td>100.601502</td>\n",
       "      <td>105.793649</td>\n",
       "    </tr>\n",
       "    <tr>\n",
       "      <th>2005-03-01</th>\n",
       "      <td>106.57</td>\n",
       "      <td>100.702104</td>\n",
       "      <td>105.826985</td>\n",
       "    </tr>\n",
       "    <tr>\n",
       "      <th>2005-04-01</th>\n",
       "      <td>106.72</td>\n",
       "      <td>100.802806</td>\n",
       "      <td>105.870069</td>\n",
       "    </tr>\n",
       "    <tr>\n",
       "      <th>2005-05-01</th>\n",
       "      <td>107.13</td>\n",
       "      <td>100.903608</td>\n",
       "      <td>106.170633</td>\n",
       "    </tr>\n",
       "    <tr>\n",
       "      <th>2005-06-01</th>\n",
       "      <td>107.25</td>\n",
       "      <td>101.004512</td>\n",
       "      <td>106.183375</td>\n",
       "    </tr>\n",
       "    <tr>\n",
       "      <th>2005-07-01</th>\n",
       "      <td>107.53</td>\n",
       "      <td>101.105517</td>\n",
       "      <td>106.354236</td>\n",
       "    </tr>\n",
       "    <tr>\n",
       "      <th>2005-08-01</th>\n",
       "      <td>107.72</td>\n",
       "      <td>101.206622</td>\n",
       "      <td>106.435723</td>\n",
       "    </tr>\n",
       "    <tr>\n",
       "      <th>2005-09-01</th>\n",
       "      <td>107.82</td>\n",
       "      <td>101.307829</td>\n",
       "      <td>106.428103</td>\n",
       "    </tr>\n",
       "    <tr>\n",
       "      <th>2005-10-01</th>\n",
       "      <td>107.87</td>\n",
       "      <td>101.409137</td>\n",
       "      <td>106.371086</td>\n",
       "    </tr>\n",
       "    <tr>\n",
       "      <th>2005-11-01</th>\n",
       "      <td>108.15</td>\n",
       "      <td>101.510546</td>\n",
       "      <td>106.540655</td>\n",
       "    </tr>\n",
       "    <tr>\n",
       "      <th>2005-12-01</th>\n",
       "      <td>108.27</td>\n",
       "      <td>101.612056</td>\n",
       "      <td>106.552317</td>\n",
       "    </tr>\n",
       "    <tr>\n",
       "      <th>2006-01-01</th>\n",
       "      <td>108.49</td>\n",
       "      <td>101.713668</td>\n",
       "      <td>106.662164</td>\n",
       "    </tr>\n",
       "    <tr>\n",
       "      <th>2006-02-01</th>\n",
       "      <td>108.76</td>\n",
       "      <td>101.815382</td>\n",
       "      <td>106.820795</td>\n",
       "    </tr>\n",
       "    <tr>\n",
       "      <th>2006-03-01</th>\n",
       "      <td>109.02</td>\n",
       "      <td>101.917197</td>\n",
       "      <td>106.969190</td>\n",
       "    </tr>\n",
       "    <tr>\n",
       "      <th>2006-04-01</th>\n",
       "      <td>109.28</td>\n",
       "      <td>102.019114</td>\n",
       "      <td>107.117181</td>\n",
       "    </tr>\n",
       "    <tr>\n",
       "      <th>2006-05-01</th>\n",
       "      <td>109.43</td>\n",
       "      <td>102.121134</td>\n",
       "      <td>107.157056</td>\n",
       "    </tr>\n",
       "    <tr>\n",
       "      <th>2006-06-01</th>\n",
       "      <td>109.69</td>\n",
       "      <td>102.223255</td>\n",
       "      <td>107.304351</td>\n",
       "    </tr>\n",
       "    <tr>\n",
       "      <th>2006-07-01</th>\n",
       "      <td>109.82</td>\n",
       "      <td>102.325478</td>\n",
       "      <td>107.324199</td>\n",
       "    </tr>\n",
       "    <tr>\n",
       "      <th>2006-08-01</th>\n",
       "      <td>110.18</td>\n",
       "      <td>102.427803</td>\n",
       "      <td>107.568449</td>\n",
       "    </tr>\n",
       "    <tr>\n",
       "      <th>2006-09-01</th>\n",
       "      <td>110.27</td>\n",
       "      <td>102.530231</td>\n",
       "      <td>107.548767</td>\n",
       "    </tr>\n",
       "    <tr>\n",
       "      <th>2006-10-01</th>\n",
       "      <td>110.64</td>\n",
       "      <td>102.632762</td>\n",
       "      <td>107.801835</td>\n",
       "    </tr>\n",
       "    <tr>\n",
       "      <th>2006-11-01</th>\n",
       "      <td>110.92</td>\n",
       "      <td>102.735394</td>\n",
       "      <td>107.966685</td>\n",
       "    </tr>\n",
       "    <tr>\n",
       "      <th>2006-12-01</th>\n",
       "      <td>111.06</td>\n",
       "      <td>102.838130</td>\n",
       "      <td>107.994963</td>\n",
       "    </tr>\n",
       "    <tr>\n",
       "      <th>2007-01-01</th>\n",
       "      <td>111.21</td>\n",
       "      <td>102.940968</td>\n",
       "      <td>108.032790</td>\n",
       "    </tr>\n",
       "    <tr>\n",
       "      <th>2007-02-01</th>\n",
       "      <td>111.66</td>\n",
       "      <td>103.043909</td>\n",
       "      <td>108.361573</td>\n",
       "    </tr>\n",
       "    <tr>\n",
       "      <th>2007-03-01</th>\n",
       "      <td>111.80</td>\n",
       "      <td>103.146953</td>\n",
       "      <td>108.389048</td>\n",
       "    </tr>\n",
       "    <tr>\n",
       "      <th>2007-04-01</th>\n",
       "      <td>112.12</td>\n",
       "      <td>103.250100</td>\n",
       "      <td>108.590694</td>\n",
       "    </tr>\n",
       "    <tr>\n",
       "      <th>2007-05-01</th>\n",
       "      <td>112.28</td>\n",
       "      <td>103.353350</td>\n",
       "      <td>108.637021</td>\n",
       "    </tr>\n",
       "    <tr>\n",
       "      <th>2007-06-01</th>\n",
       "      <td>112.67</td>\n",
       "      <td>103.456703</td>\n",
       "      <td>108.905462</td>\n",
       "    </tr>\n",
       "    <tr>\n",
       "      <th>2007-07-01</th>\n",
       "      <td>112.81</td>\n",
       "      <td>103.560160</td>\n",
       "      <td>108.931852</td>\n",
       "    </tr>\n",
       "    <tr>\n",
       "      <th>2007-08-01</th>\n",
       "      <td>113.10</td>\n",
       "      <td>103.663720</td>\n",
       "      <td>109.102780</td>\n",
       "    </tr>\n",
       "    <tr>\n",
       "      <th>2007-09-01</th>\n",
       "      <td>113.22</td>\n",
       "      <td>103.767384</td>\n",
       "      <td>109.109429</td>\n",
       "    </tr>\n",
       "    <tr>\n",
       "      <th>2007-10-01</th>\n",
       "      <td>113.35</td>\n",
       "      <td>103.871151</td>\n",
       "      <td>109.125584</td>\n",
       "    </tr>\n",
       "    <tr>\n",
       "      <th>2007-11-01</th>\n",
       "      <td>113.83</td>\n",
       "      <td>103.975022</td>\n",
       "      <td>109.478217</td>\n",
       "    </tr>\n",
       "    <tr>\n",
       "      <th>2007-12-01</th>\n",
       "      <td>114.02</td>\n",
       "      <td>104.078997</td>\n",
       "      <td>109.551401</td>\n",
       "    </tr>\n",
       "    <tr>\n",
       "      <th>2008-01-01</th>\n",
       "      <td>114.59</td>\n",
       "      <td>104.183076</td>\n",
       "      <td>109.989073</td>\n",
       "    </tr>\n",
       "    <tr>\n",
       "      <th>2008-02-01</th>\n",
       "      <td>114.74</td>\n",
       "      <td>104.287259</td>\n",
       "      <td>110.023028</td>\n",
       "    </tr>\n",
       "  </tbody>\n",
       "</table>\n",
       "</div>"
      ],
      "text/plain": [
       "             price    deflator  real price\n",
       "date                                      \n",
       "2004-08-01  105.04  100.000000  105.040000\n",
       "2004-09-01  105.20  100.100000  105.094905\n",
       "2004-10-01  105.63  100.200100  105.419056\n",
       "2004-11-01  105.81  100.300300  105.493204\n",
       "2004-12-01  105.93  100.400600  105.507337\n",
       "2005-01-01  106.08  100.501001  105.551187\n",
       "2005-02-01  106.43  100.601502  105.793649\n",
       "2005-03-01  106.57  100.702104  105.826985\n",
       "2005-04-01  106.72  100.802806  105.870069\n",
       "2005-05-01  107.13  100.903608  106.170633\n",
       "2005-06-01  107.25  101.004512  106.183375\n",
       "2005-07-01  107.53  101.105517  106.354236\n",
       "2005-08-01  107.72  101.206622  106.435723\n",
       "2005-09-01  107.82  101.307829  106.428103\n",
       "2005-10-01  107.87  101.409137  106.371086\n",
       "2005-11-01  108.15  101.510546  106.540655\n",
       "2005-12-01  108.27  101.612056  106.552317\n",
       "2006-01-01  108.49  101.713668  106.662164\n",
       "2006-02-01  108.76  101.815382  106.820795\n",
       "2006-03-01  109.02  101.917197  106.969190\n",
       "2006-04-01  109.28  102.019114  107.117181\n",
       "2006-05-01  109.43  102.121134  107.157056\n",
       "2006-06-01  109.69  102.223255  107.304351\n",
       "2006-07-01  109.82  102.325478  107.324199\n",
       "2006-08-01  110.18  102.427803  107.568449\n",
       "2006-09-01  110.27  102.530231  107.548767\n",
       "2006-10-01  110.64  102.632762  107.801835\n",
       "2006-11-01  110.92  102.735394  107.966685\n",
       "2006-12-01  111.06  102.838130  107.994963\n",
       "2007-01-01  111.21  102.940968  108.032790\n",
       "2007-02-01  111.66  103.043909  108.361573\n",
       "2007-03-01  111.80  103.146953  108.389048\n",
       "2007-04-01  112.12  103.250100  108.590694\n",
       "2007-05-01  112.28  103.353350  108.637021\n",
       "2007-06-01  112.67  103.456703  108.905462\n",
       "2007-07-01  112.81  103.560160  108.931852\n",
       "2007-08-01  113.10  103.663720  109.102780\n",
       "2007-09-01  113.22  103.767384  109.109429\n",
       "2007-10-01  113.35  103.871151  109.125584\n",
       "2007-11-01  113.83  103.975022  109.478217\n",
       "2007-12-01  114.02  104.078997  109.551401\n",
       "2008-01-01  114.59  104.183076  109.989073\n",
       "2008-02-01  114.74  104.287259  110.023028"
      ]
     },
     "execution_count": 23,
     "metadata": {},
     "output_type": "execute_result"
    }
   ],
   "source": [
    "real_cost = reindexed_filtered_prices.copy()\n",
    "real_cost['deflator'] = [100 * (1 + 0.001) ** x for x in range(len(real_cost))]\n",
    "real_cost['real price'] = real_cost['price'] / (real_cost['deflator'] / 100)\n",
    "real_cost"
   ]
  },
  {
   "cell_type": "code",
   "execution_count": 24,
   "id": "f3434cdd",
   "metadata": {
    "deletable": false,
    "editable": false
   },
   "outputs": [
    {
     "data": {
      "text/html": [
       "<p><strong><pre style='display: inline;'>q1_11</pre></strong> passed! 🍀</p>"
      ],
      "text/plain": [
       "q1_11 results: All test cases passed!"
      ]
     },
     "execution_count": 24,
     "metadata": {},
     "output_type": "execute_result"
    }
   ],
   "source": [
    "grader.check(\"q1_11\")"
   ]
  },
  {
   "cell_type": "markdown",
   "id": "187fdb9e-0454-43a3-9c61-a63ab5b650ef",
   "metadata": {
    "deletable": false,
    "editable": false
   },
   "source": [
    "<!-- BEGIN QUESTION -->\n",
    "\n",
    "**Question 1.12:** How do the real cost and nominal cost change over time?"
   ]
  },
  {
   "cell_type": "markdown",
   "id": "317dffd8",
   "metadata": {},
   "source": []
  },
  {
   "cell_type": "markdown",
   "id": "cd64e0b9-9b21-4801-aa79-0950a25a9021",
   "metadata": {
    "deletable": false,
    "editable": false
   },
   "source": [
    "<!-- END QUESTION -->\n",
    "\n",
    "Let us now plot the real cost over time."
   ]
  },
  {
   "cell_type": "code",
   "execution_count": 25,
   "id": "074dd371-b965-4bf4-917d-e554469fafbc",
   "metadata": {},
   "outputs": [
    {
     "data": {
      "image/png": "[encoded data removed]",
      "text/plain": [
       "<Figure size 640x480 with 1 Axes>"
      ]
     },
     "metadata": {},
     "output_type": "display_data"
    }
   ],
   "source": [
    "plt.plot(real_cost['real price']);"
   ]
  },
  {
   "cell_type": "markdown",
   "id": "ed177b81-73e6-453d-9483-c7a7d7fd16a4",
   "metadata": {},
   "source": [
    "Going back to the dataframe `prices`, which dates had the most expensive prices?"
   ]
  },
  {
   "cell_type": "markdown",
   "id": "a9a8afd2-b363-4081-93af-3dbd9cf8297c",
   "metadata": {
    "deletable": false,
    "editable": false
   },
   "source": [
    "**Question 1.13:** Sort the dataframe `prices` by the `price` column, in descending order. Notice how we expect you to sort the dataframe itself, not assign the sorted dataframe to a new variable. You should be able to do this in one line of code."
   ]
  },
  {
   "cell_type": "code",
   "execution_count": 26,
   "id": "84139121-1d99-43dc-8fb9-2b4898e6b93d",
   "metadata": {
    "tags": []
   },
   "outputs": [
    {
     "data": {
      "text/html": [
       "<div>\n",
       "<style scoped>\n",
       "    .dataframe tbody tr th:only-of-type {\n",
       "        vertical-align: middle;\n",
       "    }\n",
       "\n",
       "    .dataframe tbody tr th {\n",
       "        vertical-align: top;\n",
       "    }\n",
       "\n",
       "    .dataframe thead th {\n",
       "        text-align: right;\n",
       "    }\n",
       "</style>\n",
       "<table border=\"1\" class=\"dataframe\">\n",
       "  <thead>\n",
       "    <tr style=\"text-align: right;\">\n",
       "      <th></th>\n",
       "      <th>date</th>\n",
       "      <th>price</th>\n",
       "    </tr>\n",
       "  </thead>\n",
       "  <tbody>\n",
       "    <tr>\n",
       "      <th>107</th>\n",
       "      <td>2011-12-01</td>\n",
       "      <td>120.53</td>\n",
       "    </tr>\n",
       "    <tr>\n",
       "      <th>106</th>\n",
       "      <td>2011-11-01</td>\n",
       "      <td>120.39</td>\n",
       "    </tr>\n",
       "    <tr>\n",
       "      <th>105</th>\n",
       "      <td>2011-10-01</td>\n",
       "      <td>120.27</td>\n",
       "    </tr>\n",
       "    <tr>\n",
       "      <th>104</th>\n",
       "      <td>2011-09-01</td>\n",
       "      <td>120.06</td>\n",
       "    </tr>\n",
       "    <tr>\n",
       "      <th>103</th>\n",
       "      <td>2011-08-01</td>\n",
       "      <td>119.96</td>\n",
       "    </tr>\n",
       "    <tr>\n",
       "      <th>...</th>\n",
       "      <td>...</td>\n",
       "      <td>...</td>\n",
       "    </tr>\n",
       "    <tr>\n",
       "      <th>4</th>\n",
       "      <td>2003-05-01</td>\n",
       "      <td>101.38</td>\n",
       "    </tr>\n",
       "    <tr>\n",
       "      <th>3</th>\n",
       "      <td>2003-04-01</td>\n",
       "      <td>101.29</td>\n",
       "    </tr>\n",
       "    <tr>\n",
       "      <th>2</th>\n",
       "      <td>2003-03-01</td>\n",
       "      <td>100.95</td>\n",
       "    </tr>\n",
       "    <tr>\n",
       "      <th>1</th>\n",
       "      <td>2003-02-01</td>\n",
       "      <td>100.71</td>\n",
       "    </tr>\n",
       "    <tr>\n",
       "      <th>0</th>\n",
       "      <td>2003-01-01</td>\n",
       "      <td>100.52</td>\n",
       "    </tr>\n",
       "  </tbody>\n",
       "</table>\n",
       "<p>108 rows × 2 columns</p>\n",
       "</div>"
      ],
      "text/plain": [
       "           date   price\n",
       "107  2011-12-01  120.53\n",
       "106  2011-11-01  120.39\n",
       "105  2011-10-01  120.27\n",
       "104  2011-09-01  120.06\n",
       "103  2011-08-01  119.96\n",
       "..          ...     ...\n",
       "4    2003-05-01  101.38\n",
       "3    2003-04-01  101.29\n",
       "2    2003-03-01  100.95\n",
       "1    2003-02-01  100.71\n",
       "0    2003-01-01  100.52\n",
       "\n",
       "[108 rows x 2 columns]"
      ]
     },
     "execution_count": 26,
     "metadata": {},
     "output_type": "execute_result"
    }
   ],
   "source": [
    "prices = prices.sort_values(by='price',ascending = False)\n",
    "prices"
   ]
  },
  {
   "cell_type": "code",
   "execution_count": 27,
   "id": "3ea83286",
   "metadata": {
    "deletable": false,
    "editable": false
   },
   "outputs": [
    {
     "data": {
      "text/html": [
       "<p><strong><pre style='display: inline;'>q1_13</pre></strong> passed! ✨</p>"
      ],
      "text/plain": [
       "q1_13 results: All test cases passed!"
      ]
     },
     "execution_count": 27,
     "metadata": {},
     "output_type": "execute_result"
    }
   ],
   "source": [
    "grader.check(\"q1_13\")"
   ]
  },
  {
   "cell_type": "markdown",
   "id": "9a7264e3-086f-4f8b-b9b7-783591ee020c",
   "metadata": {
    "deletable": false,
    "editable": false
   },
   "source": [
    "**Question 1.14:** Just for fun, let us rename the columns of `prices` to have correct capitalization. `date` should become `Date` and `price` should become `Price`."
   ]
  },
  {
   "cell_type": "code",
   "execution_count": 32,
   "id": "bcef799a-b7de-4701-bcb9-4cf44f634186",
   "metadata": {
    "tags": []
   },
   "outputs": [
    {
     "data": {
      "text/html": [
       "<div>\n",
       "<style scoped>\n",
       "    .dataframe tbody tr th:only-of-type {\n",
       "        vertical-align: middle;\n",
       "    }\n",
       "\n",
       "    .dataframe tbody tr th {\n",
       "        vertical-align: top;\n",
       "    }\n",
       "\n",
       "    .dataframe thead th {\n",
       "        text-align: right;\n",
       "    }\n",
       "</style>\n",
       "<table border=\"1\" class=\"dataframe\">\n",
       "  <thead>\n",
       "    <tr style=\"text-align: right;\">\n",
       "      <th></th>\n",
       "      <th>Date</th>\n",
       "      <th>Price</th>\n",
       "    </tr>\n",
       "  </thead>\n",
       "  <tbody>\n",
       "    <tr>\n",
       "      <th>107</th>\n",
       "      <td>2011-12-01</td>\n",
       "      <td>120.53</td>\n",
       "    </tr>\n",
       "    <tr>\n",
       "      <th>106</th>\n",
       "      <td>2011-11-01</td>\n",
       "      <td>120.39</td>\n",
       "    </tr>\n",
       "    <tr>\n",
       "      <th>105</th>\n",
       "      <td>2011-10-01</td>\n",
       "      <td>120.27</td>\n",
       "    </tr>\n",
       "    <tr>\n",
       "      <th>104</th>\n",
       "      <td>2011-09-01</td>\n",
       "      <td>120.06</td>\n",
       "    </tr>\n",
       "    <tr>\n",
       "      <th>103</th>\n",
       "      <td>2011-08-01</td>\n",
       "      <td>119.96</td>\n",
       "    </tr>\n",
       "    <tr>\n",
       "      <th>...</th>\n",
       "      <td>...</td>\n",
       "      <td>...</td>\n",
       "    </tr>\n",
       "    <tr>\n",
       "      <th>4</th>\n",
       "      <td>2003-05-01</td>\n",
       "      <td>101.38</td>\n",
       "    </tr>\n",
       "    <tr>\n",
       "      <th>3</th>\n",
       "      <td>2003-04-01</td>\n",
       "      <td>101.29</td>\n",
       "    </tr>\n",
       "    <tr>\n",
       "      <th>2</th>\n",
       "      <td>2003-03-01</td>\n",
       "      <td>100.95</td>\n",
       "    </tr>\n",
       "    <tr>\n",
       "      <th>1</th>\n",
       "      <td>2003-02-01</td>\n",
       "      <td>100.71</td>\n",
       "    </tr>\n",
       "    <tr>\n",
       "      <th>0</th>\n",
       "      <td>2003-01-01</td>\n",
       "      <td>100.52</td>\n",
       "    </tr>\n",
       "  </tbody>\n",
       "</table>\n",
       "<p>108 rows × 2 columns</p>\n",
       "</div>"
      ],
      "text/plain": [
       "           Date   Price\n",
       "107  2011-12-01  120.53\n",
       "106  2011-11-01  120.39\n",
       "105  2011-10-01  120.27\n",
       "104  2011-09-01  120.06\n",
       "103  2011-08-01  119.96\n",
       "..          ...     ...\n",
       "4    2003-05-01  101.38\n",
       "3    2003-04-01  101.29\n",
       "2    2003-03-01  100.95\n",
       "1    2003-02-01  100.71\n",
       "0    2003-01-01  100.52\n",
       "\n",
       "[108 rows x 2 columns]"
      ]
     },
     "execution_count": 32,
     "metadata": {},
     "output_type": "execute_result"
    }
   ],
   "source": [
    "prices = prices.rename(columns = {'date': 'Date', 'price': 'Price'})\n",
    "prices"
   ]
  },
  {
   "cell_type": "code",
   "execution_count": 33,
   "id": "ad70c7d1",
   "metadata": {
    "deletable": false,
    "editable": false
   },
   "outputs": [
    {
     "data": {
      "text/html": [
       "<p><strong><pre style='display: inline;'>q1_14</pre></strong> passed! 🙌</p>"
      ],
      "text/plain": [
       "q1_14 results: All test cases passed!"
      ]
     },
     "execution_count": 33,
     "metadata": {},
     "output_type": "execute_result"
    }
   ],
   "source": [
    "grader.check(\"q1_14\")"
   ]
  },
  {
   "cell_type": "markdown",
   "id": "6500d92e-c204-46ef-8087-ed256fefbe3a",
   "metadata": {},
   "source": [
    "## Pre-Semester Survey"
   ]
  },
  {
   "cell_type": "markdown",
   "id": "fe871fd9-c4c0-4647-a54e-81be9db85a8b",
   "metadata": {
    "deletable": false,
    "editable": false
   },
   "source": [
    "**Question 2:** Please fill out the [pre-semester survey](https://docs.google.com/forms/d/e/1FAIpQLSeLp78xHmUOro5Rkxg9glTIQwaxMiucS0_agMxBbyoegcYxKw/viewform?usp=sharing) to help us get to know you better! Similar to the feedback, at the end of the Google form, you should see a codeword. Assign the codeword to the variable `codeword_survey` below. \n",
    "\n",
    "**Note:** This question is worth 3 points, we strongly recommend you do not skip it."
   ]
  },
  {
   "cell_type": "code",
   "execution_count": 34,
   "id": "c72a631a-335b-4230-aeed-ab198ae9db04",
   "metadata": {
    "tags": []
   },
   "outputs": [],
   "source": [
    "codeword_survey = \"excited\""
   ]
  },
  {
   "cell_type": "code",
   "execution_count": 35,
   "id": "7d28e449",
   "metadata": {
    "deletable": false,
    "editable": false
   },
   "outputs": [
    {
     "data": {
      "text/html": [
       "<p><strong><pre style='display: inline;'>q2</pre></strong> passed! 🍀</p>"
      ],
      "text/plain": [
       "q2 results: All test cases passed!"
      ]
     },
     "execution_count": 35,
     "metadata": {},
     "output_type": "execute_result"
    }
   ],
   "source": [
    "grader.check(\"q2\")"
   ]
  },
  {
   "cell_type": "markdown",
   "id": "a563b2e9-7c35-47aa-8ee1-7ca179b42bc9",
   "metadata": {},
   "source": [
    "**Congratulations**, you are finished with lab 1 of econ 148!"
   ]
  },
  {
   "cell_type": "markdown",
   "id": "ec1f6361",
   "metadata": {
    "deletable": false,
    "editable": false
   },
   "source": [
    "## Submission\n",
    "\n",
    "Make sure you have run all cells in your notebook in order before running the cell below, so that all images/graphs appear in the output. The cell below will generate a zip file for you to submit. **Please save before exporting!**"
   ]
  },
  {
   "cell_type": "code",
   "execution_count": null,
   "id": "f927b555",
   "metadata": {
    "deletable": false,
    "editable": false
   },
   "outputs": [
    {
     "name": "stdout",
     "output_type": "stream",
     "text": [
      "Running your submission against local test cases...\n",
      "\n"
     ]
    }
   ],
   "source": [
    "# Save your notebook first, then run this cell to export your submission.\n",
    "grader.export(run_tests=True)"
   ]
  },
  {
   "cell_type": "markdown",
   "id": "5816f287",
   "metadata": {},
   "source": [
    " "
   ]
  }
 ],
 "metadata": {
  "kernelspec": {
   "display_name": "Python 3 (ipykernel)",
   "language": "python",
   "name": "python3"
  },
  "language_info": {
   "codemirror_mode": {
    "name": "ipython",
    "version": 3
   },
   "file_extension": ".py",
   "mimetype": "text/x-python",
   "name": "python",
   "nbconvert_exporter": "python",
   "pygments_lexer": "ipython3",
   "version": "3.11.11"
  },
  "otter": {
   "OK_FORMAT": true,
   "export_pdf_failure_message": "PDF did not generate, please submit screenshots for questions 1.2, 1.3 and 1.12",
   "require_no_pdf_confirmation": true,
   "tests": {
    "q1_1": {
     "name": "q1_1",
     "points": 2,
     "suites": [
      {
       "cases": [
        {
         "code": ">>> assert prices_raw.iloc[4]['price'] == 101.38\n",
         "hidden": false,
         "locked": false
        },
        {
         "code": ">>> assert prices_raw.shape == (108, 3)\n",
         "hidden": false,
         "locked": false
        }
       ],
       "scored": true,
       "setup": "",
       "teardown": "",
       "type": "doctest"
      }
     ]
    },
    "q1_10": {
     "name": "q1_10",
     "points": 1,
     "suites": [
      {
       "cases": [
        {
         "code": ">>> assert reindexed_filtered_prices.index[4].year == 2004 and reindexed_filtered_prices.index[4].month == 12 and (reindexed_filtered_prices.index[4].day == 1)\n",
         "hidden": false,
         "locked": false
        }
       ],
       "scored": true,
       "setup": "",
       "teardown": "",
       "type": "doctest"
      }
     ]
    },
    "q1_11": {
     "name": "q1_11",
     "points": 2,
     "suites": [
      {
       "cases": [
        {
         "code": ">>> assert np.isclose(real_cost['deflator'].iloc[2], 100.2001)\n",
         "hidden": false,
         "locked": false
        },
        {
         "code": ">>> assert np.isclose(real_cost['real price'].iloc[2], 105.41905646800755)\n",
         "hidden": false,
         "locked": false
        }
       ],
       "scored": true,
       "setup": "",
       "teardown": "",
       "type": "doctest"
      }
     ]
    },
    "q1_13": {
     "name": "q1_13",
     "points": 1,
     "suites": [
      {
       "cases": [
        {
         "code": ">>> assert prices.iloc[2, 1] == 120.27\n",
         "hidden": false,
         "locked": false
        },
        {
         "code": ">>> assert prices.iloc[6, 1] == 119.62\n",
         "hidden": false,
         "locked": false
        }
       ],
       "scored": true,
       "setup": "",
       "teardown": "",
       "type": "doctest"
      }
     ]
    },
    "q1_14": {
     "name": "q1_14",
     "points": 1,
     "suites": [
      {
       "cases": [
        {
         "code": ">>> assert 'Date' in prices.columns\n",
         "hidden": false,
         "locked": false
        },
        {
         "code": ">>> assert 'Price' in prices.columns\n",
         "hidden": false,
         "locked": false
        }
       ],
       "scored": true,
       "setup": "",
       "teardown": "",
       "type": "doctest"
      }
     ]
    },
    "q1_4": {
     "name": "q1_4",
     "points": 2,
     "suites": [
      {
       "cases": [
        {
         "code": ">>> assert date_column[4].year == 2003 and date_column[4].month == 5 and (date_column[4].day == 1)\n",
         "hidden": false,
         "locked": false
        }
       ],
       "scored": true,
       "setup": "",
       "teardown": "",
       "type": "doctest"
      }
     ]
    },
    "q1_5": {
     "name": "q1_5",
     "points": 2,
     "suites": [
      {
       "cases": [
        {
         "code": ">>> assert prices_raw_with_date.iloc[4]['date'].year == 2003 and prices_raw_with_date.iloc[4]['date'].month == 5 and (prices_raw_with_date.iloc[4]['date'].day == 1)\n",
         "hidden": false,
         "locked": false
        }
       ],
       "scored": true,
       "setup": "",
       "teardown": "",
       "type": "doctest"
      }
     ]
    },
    "q1_6": {
     "name": "q1_6",
     "points": 2,
     "suites": [
      {
       "cases": [
        {
         "code": ">>> assert prices.iloc[:, 0][4].year == 2003 and prices.iloc[:, 0][4].month == 5 and (prices.iloc[:, 0][4].day == 1) and (prices.iloc[:, 1][4] == 101.38)\n",
         "hidden": false,
         "locked": false
        }
       ],
       "scored": true,
       "setup": "",
       "teardown": "",
       "type": "doctest"
      }
     ]
    },
    "q1_7": {
     "name": "q1_7",
     "points": 2,
     "suites": [
      {
       "cases": [
        {
         "code": ">>> assert filtered_prices.iloc[4].date.year == 2004 and filtered_prices.iloc[4].date.month == 12 and (filtered_prices.iloc[4].date.day == 1) and (filtered_prices.iloc[4].price == 105.93)\n",
         "hidden": false,
         "locked": false
        }
       ],
       "scored": true,
       "setup": "",
       "teardown": "",
       "type": "doctest"
      }
     ]
    },
    "q1_8": {
     "name": "q1_8",
     "points": 1,
     "suites": [
      {
       "cases": [
        {
         "code": ">>> assert dims[0] == 43\n",
         "hidden": false,
         "locked": false
        },
        {
         "code": ">>> assert dims[1] == 2\n",
         "hidden": false,
         "locked": false
        },
        {
         "code": ">>> assert type(dims) == tuple\n",
         "hidden": false,
         "locked": false
        }
       ],
       "scored": true,
       "setup": "",
       "teardown": "",
       "type": "doctest"
      }
     ]
    },
    "q1_9": {
     "name": "q1_9",
     "points": 2,
     "suites": [
      {
       "cases": [
        {
         "code": ">>> assert filtered_prices_subset.iloc[4].date.year == 2004 and filtered_prices_subset.iloc[4].date.month == 12 and (filtered_prices_subset.iloc[4].date.day == 1) and (filtered_prices_subset.iloc[4].price == 105.93)\n",
         "hidden": false,
         "locked": false
        }
       ],
       "scored": true,
       "setup": "",
       "teardown": "",
       "type": "doctest"
      }
     ]
    },
    "q2": {
     "name": "q2",
     "points": 3,
     "suites": [
      {
       "cases": [
        {
         "code": ">>> assert sum([ord(c) for c in codeword_survey]) ^ 966984 == 967598\n",
         "hidden": false,
         "locked": false
        }
       ],
       "scored": true,
       "setup": "",
       "teardown": "",
       "type": "doctest"
      }
     ]
    }
   }
  },
  "toc": {
   "base_numbering": 1
  }
 },
 "nbformat": 4,
 "nbformat_minor": 5
}
